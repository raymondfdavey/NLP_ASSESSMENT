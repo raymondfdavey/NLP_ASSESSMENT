{
 "cells": [
  {
   "cell_type": "code",
   "execution_count": 2,
   "metadata": {},
   "outputs": [
    {
     "ename": "ImportError",
     "evalue": "cannot import name 'confusion_matrix' from 'sklearn.metrics' (unknown location)",
     "output_type": "error",
     "traceback": [
      "\u001b[1;31m---------------------------------------------------------------------------\u001b[0m",
      "\u001b[1;31mImportError\u001b[0m                               Traceback (most recent call last)",
      "Cell \u001b[1;32mIn[2], line 4\u001b[0m\n\u001b[0;32m      2\u001b[0m \u001b[38;5;28;01mimport\u001b[39;00m \u001b[38;5;21;01mjson\u001b[39;00m\n\u001b[0;32m      3\u001b[0m \u001b[38;5;28;01mimport\u001b[39;00m \u001b[38;5;21;01mnumpy\u001b[39;00m \u001b[38;5;28;01mas\u001b[39;00m \u001b[38;5;21;01mnp\u001b[39;00m\n\u001b[1;32m----> 4\u001b[0m \u001b[38;5;28;01mfrom\u001b[39;00m \u001b[38;5;21;01msklearn\u001b[39;00m\u001b[38;5;21;01m.\u001b[39;00m\u001b[38;5;21;01mmetrics\u001b[39;00m \u001b[38;5;28;01mimport\u001b[39;00m confusion_matrix, classification_report, ConfusionMatrixDisplay\n\u001b[0;32m      5\u001b[0m \u001b[38;5;28;01mimport\u001b[39;00m \u001b[38;5;21;01mmatplotlib\u001b[39;00m\u001b[38;5;21;01m.\u001b[39;00m\u001b[38;5;21;01mpyplot\u001b[39;00m \u001b[38;5;28;01mas\u001b[39;00m \u001b[38;5;21;01mplt\u001b[39;00m\n\u001b[0;32m      7\u001b[0m \u001b[38;5;66;03m# Directory containing the JSON files\u001b[39;00m\n",
      "\u001b[1;31mImportError\u001b[0m: cannot import name 'confusion_matrix' from 'sklearn.metrics' (unknown location)"
     ]
    }
   ],
   "source": [
    "import os\n",
    "import json\n",
    "import numpy as np\n",
    "from sklearn.metrics import confusion_matrix, classification_report, ConfusionMatrixDisplay\n",
    "import matplotlib.pyplot as plt\n",
    "\n",
    "# Directory containing the JSON files\n",
    "results_dir = './results'\n",
    "\n",
    "\n",
    "def plot(results_dir, type = None):\n",
    "    # Loop through each file in the directory\n",
    "    for filename in os.listdir(results_dir):\n",
    "        if filename.endswith('.json'):\n",
    "            if type != None:\n",
    "                if type not in filename:\n",
    "                    continue\n",
    "            # Load the data from the JSON file\n",
    "            with open(os.path.join(results_dir, filename), 'r') as file:\n",
    "                data = json.load(file)\n",
    "\n",
    "            # Extract the relevant data from the loaded JSON\n",
    "            model_id = data['model_id']\n",
    "            train_acc_list = data['train_accuracy']\n",
    "            train_loss_list = data['train_loss']\n",
    "            val_acc_list = data['val_accuracy']\n",
    "            val_loss_list = data['val_loss']\n",
    "            lr = data['hyperparameters']['learning_rate']\n",
    "            epochs = data['hyperparameters']['num_epochs']\n",
    "            batch_size = data['hyperparameters']['batch_size']\n",
    "            max_len = data['hyperparameters']['max_len']\n",
    "            # n_classes = data['results']['classes']\n",
    "            best_val_acc = data['results']['best_acc']\n",
    "            best_epoch = data['results']['best_acc_epoch']\n",
    "            cm = np.array(data['results']['confusion_matrix'])  # Convert to NumPy array\n",
    "\n",
    "            # # Plot the confusion matrix\n",
    "            # disp = ConfusionMatrixDisplay(confusion_matrix=cm)\n",
    "            # disp.plot()\n",
    "            # plt.title(f'Confusion Matrix for Model {model_id}')\n",
    "            # plt.show()\n",
    "\n",
    "            # # Print the classification report\n",
    "            # report = data['results']['classification_report']\n",
    "            # print(f'Classification Report for Model {model_id}:')\n",
    "            # print(report)\n",
    "\n",
    "            fig, ax = plt.subplots()\n",
    "            ax.plot(train_acc_list, label='Training Accuracy')\n",
    "            ax.plot(val_acc_list, label='Validation Accuracy')\n",
    "            ax.set_xlabel('Epoch')\n",
    "            ax.set_ylabel('Accuracy')\n",
    "            ax.set_title(f'Accuracy for lr {lr}, batch size {batch_size}, max len {max_len}, best ac: {best_val_acc:.2f}')\n",
    "            ax.legend()\n",
    "            ax.set_ylim(0, 1)  # Set y-axis limits from 0 to 1 for accuracy\n",
    "\n",
    "            # Add faint grid\n",
    "            ax.set_axisbelow(True)\n",
    "            ax.grid(True, linestyle='--', linewidth=0.5, alpha=0.3)\n",
    "            # Display best accuracy in a box on the graph\n",
    "            best_acc_text = f'Best Accuracy: {best_val_acc:.2f}'\n",
    "            plt.text(0.05, 0.95, best_acc_text, transform=ax.transAxes, bbox=dict(facecolor='white', alpha=0.5))\n",
    "\n",
    "            plt.tight_layout()\n",
    "            plt.show()\n",
    "            # # Plot the training and validation loss\n",
    "            # plt.figure()\n",
    "            # plt.plot(train_loss_list, label='Training Loss')\n",
    "            # plt.plot(val_loss_list, label='Validation Loss')\n",
    "            # plt.xlabel('Epoch')\n",
    "            # plt.ylabel('Loss')\n",
    "            # plt.title(f'Loss for Model {model_id}')\n",
    "            # plt.legend()\n",
    "            # plt.grid(True, linestyle='--', linewidth=0.5, alpha=0.3)  # Add faint grid\n",
    "            # plt.ylim(0, 1)  # Set y-axis limits from 0 to 1 for accuracy\n",
    "\n",
    "            # plt.show()"
   ]
  },
  {
   "cell_type": "code",
   "execution_count": 3,
   "metadata": {},
   "outputs": [
    {
     "ename": "NameError",
     "evalue": "name 'plot' is not defined",
     "output_type": "error",
     "traceback": [
      "\u001b[1;31m---------------------------------------------------------------------------\u001b[0m",
      "\u001b[1;31mNameError\u001b[0m                                 Traceback (most recent call last)",
      "Cell \u001b[1;32mIn[3], line 1\u001b[0m\n\u001b[1;32m----> 1\u001b[0m plot(results_dir, \u001b[38;5;28mtype\u001b[39m \u001b[38;5;241m=\u001b[39m \u001b[38;5;124m'\u001b[39m\u001b[38;5;124mmulti\u001b[39m\u001b[38;5;124m'\u001b[39m)\n",
      "\u001b[1;31mNameError\u001b[0m: name 'plot' is not defined"
     ]
    }
   ],
   "source": [
    "plot(results_dir, type = 'multi')"
   ]
  },
  {
   "cell_type": "code",
   "execution_count": null,
   "metadata": {},
   "outputs": [],
   "source": []
  },
  {
   "cell_type": "code",
   "execution_count": null,
   "metadata": {},
   "outputs": [],
   "source": []
  }
 ],
 "metadata": {
  "kernelspec": {
   "display_name": "base",
   "language": "python",
   "name": "python3"
  },
  "language_info": {
   "codemirror_mode": {
    "name": "ipython",
    "version": 3
   },
   "file_extension": ".py",
   "mimetype": "text/x-python",
   "name": "python",
   "nbconvert_exporter": "python",
   "pygments_lexer": "ipython3",
   "version": "3.11.9"
  }
 },
 "nbformat": 4,
 "nbformat_minor": 2
}
