{
 "cells": [
  {
   "cell_type": "code",
   "execution_count": null,
   "metadata": {},
   "outputs": [],
   "source": [
    "import pandas as pd\n",
    "from gensim.models import KeyedVectors\n",
    "import seaborn as sns\n",
    "import matplotlib.pyplot as plt\n",
    "import pandas as pd\n",
    "from nltk.corpus import wordnet as wn, wordnet_ic as wn_ic, lin_thesaurus as lin\n",
    "import operator\n",
    "import nltk\n",
    "\n",
    "nltk.download()\n",
    "\n",
    "brown_ic = wn_ic.ic(\"ic-brown.dat\")\n",
    "# filename = \"../../GoogleNews-vectors-negative300.bin\"\n",
    "# filename = \"//ad.susx.ac.uk/ITS/Teaching/Departments/Informatics/AdvancedNLP/GoogleNews-vectors-negative300.bin\"\n",
    "\n",
    "# mymodel = KeyedVectors.load_word2vec_format(\n",
    "#     filename, binary=True, limit=600000)"
   ]
  }
 ],
 "metadata": {
  "language_info": {
   "name": "python"
  }
 },
 "nbformat": 4,
 "nbformat_minor": 2
}
