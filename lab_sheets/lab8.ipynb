{
 "cells": [
  {
   "cell_type": "code",
   "execution_count": 248,
   "metadata": {},
   "outputs": [
    {
     "name": "stderr",
     "output_type": "stream",
     "text": [
      "[nltk_data] Downloading package punkt to C:\\nltk_data...\n",
      "[nltk_data]   Package punkt is already up-to-date!\n"
     ]
    }
   ],
   "source": [
    "import os\n",
    "import nltk \n",
    "nltk.download('punkt')\n",
    "from nltk.tokenize import word_tokenize\n",
    "import string\n",
    "from nltk.probability import FreqDist\n"
   ]
  },
  {
   "cell_type": "code",
   "execution_count": 249,
   "metadata": {},
   "outputs": [],
   "source": [
    "path=\"../lab8resources\"\n",
    "\n",
    "en_gold=\"HarryPotter-en.txt\"\n",
    "fr_gold=\"HarryPotter-fr.txt\"\n",
    "en_fr_machine=\"HarryPotter-google-en2fr.txt\"\n",
    "fr_en_machine=\"HarryPotter-google-fr2en.txt\"\n",
    "stupid_en = \"stupid-en.txt\"\n",
    "stupid_fr = \"stupid-fr.txt\"\n",
    "\n",
    "filepaths = [en_gold, fr_gold, en_fr_machine, fr_en_machine, stupid_en,stupid_fr]"
   ]
  },
  {
   "cell_type": "code",
   "execution_count": 250,
   "metadata": {},
   "outputs": [
    {
     "name": "stdout",
     "output_type": "stream",
     "text": [
      "done\n"
     ]
    }
   ],
   "source": [
    "files_sents = []\n",
    "\n",
    "for path in filepaths:\n",
    "    with open(path, encoding='utf-8-sig') as instream:\n",
    "        text=instream.readlines()\n",
    "        files_sents.append(text)\n",
    "print('done')\n"
   ]
  },
  {
   "cell_type": "code",
   "execution_count": 251,
   "metadata": {},
   "outputs": [],
   "source": [
    "files_sents_split = []\n",
    "\n",
    "for sents in files_sents:\n",
    "    new_sents=[]\n",
    "    \n",
    "    for sent in sents:\n",
    "\n",
    "        sent = sent.split()\n",
    "\n",
    "        new_sent = []\n",
    "        \n",
    "        for word in sent:\n",
    "            if word[-1] == '.':\n",
    "                new_word = word [:-1]\n",
    "                if len(new_word) != 0:\n",
    "                    new_sent.append(new_word)\n",
    "            else:\n",
    "                if len(word) != 0:\n",
    "                    new_sent.append(word)\n",
    "        if len(new_sent) != 0:\n",
    "            \n",
    "            new_sents.append(new_sent)\n",
    "    \n",
    "    files_sents_split.append(new_sents)\n",
    "                \n",
    "            \n",
    "             "
   ]
  },
  {
   "cell_type": "code",
   "execution_count": 252,
   "metadata": {},
   "outputs": [
    {
     "name": "stdout",
     "output_type": "stream",
     "text": [
      "['Mr and Mrs Dursley, of number four, Privet Drive, were proud to say that they were perfectly normal, thank you very much.  \\n', 'They were the last people you’d expect to be involved in anything strange or mysterious.\\n', 'They just didn’t hold with such nonsense.\\n', 'Mr Dursley was the director of a firm called Grunnings, which made drills.\\n', 'He was a big, beefy man with hardly any nect, although he did have a very large moustache.  \\n', 'Mrs Dursley was thin and blonde and had nearly twice the usual amount of neck, which came in useful as she spent so much of her time craning over garden fences, spying on her neighbours.\\n', 'The Dursleys had a small son called Dudley and in their opinion there was no finer boy anywhere.\\n', 'The Dursleys had everything they wanted. \\n', 'But they also had a secret, and their greatest fear was that somebody would discover it.']\n",
      "['Mr et Mrs Dursley, qui habitaient au 4, Privet Drive, avaient toujours affirmé avec la plus grande fierté qu’ils étaient parfaitement normaux, merci pour eux.  \\n', 'Jamais quiconque n’aurait imagine qu’ils puissant se trouver impliqués dans quoi que ce soit d’étrange ou de mystérieux. \\n', 'Ils n’avaient pas de temps à perdre avec des sornettes.\\n', 'Mr Dursley dirigeait la Grunnings, une entreprise qui fabriquait des perceuses.  \\n', 'C’était un homme grand et massif, qui n’avait pratiquement pas de cou, mais possédait en revanche une moustache de belle taille.  \\n', 'Mrs Dursley, quant à elle, étail mince et blonde et disposait d’un cou deux fois plus long que la moyenne, ce qui lui était fort utile pour espionner ses voisins en regardant pardessus les clôtures des jardins.  \\n', 'Les Dursley avaient un petit garcon prénommé Dudley et c’était à leurs yeux le plus bel enfant du monde.\\n', 'Les Dursley avaient tout ce qu’ils voulaient.\\n', 'La seule chose indésirable qu’ils possédaient, c’était un secret dont ils craignaient plus que tout qu’on le découvre un jour.']\n",
      "[\"M. et Mme Dursley, du numéro quatre, Privet Drive, étaient fiers de dire qu'ils étaient parfaitement normaux, merci beaucoup.\\n\", 'C’étaient les dernières personnes auxquelles on s’attendrait à être impliquées dans quelque chose d’étrange ou de mystérieux.\\n', 'Ils n’ont tout simplement pas supporté de telles absurdités.\\n', \"M. Dursley était le directeur d'une entreprise appelée Grunnings, qui fabriquait des perceuses.\\n\", \"C'était un homme grand et costaud, sans presque aucun mérite, même s'il avait une très grosse moustache.\\n\", \"Mme Dursley était mince et blonde et avait presque deux fois plus de cou que d'habitude, ce qui était utile car elle passait une grande partie de son temps à se pencher par-dessus les clôtures du jardin, à espionner ses voisins.\\n\", \"Les Dursley avaient un petit fils appelé Dudley et, à leur avis, il n'y avait pas de plus beau garçon nulle part.\\n\", \"Les Dursley avaient tout ce qu'ils voulaient.\\n\", 'Mais ils avaient aussi un secret, et leur plus grande crainte était que quelqu’un le découvre.']\n",
      "['Mr and Mrs Dursley, who lived at 4 Privet Drive, had always claimed with the greatest pride that they were perfectly normal, thank you for them.\\n', 'No one would have ever imagined that they could find themselves involved in anything strange or mysterious.\\n', 'They had no time to waste on nonsense.\\n', 'Mr Dursley ran Grunnings, a company which manufactured drilling machines.\\n', 'He was a tall and massive man, who had practically no neck, but did have a good-sized mustache.\\n', 'Mrs Dursley, on the other hand, was slim and fair and had a neck twice as long as average, which was very useful for spying on her neighbors by peering over garden fences.\\n', 'The Dursleys had a little boy named Dudley and in their eyes he was the most beautiful child in the world.\\n', 'The Dursleys had everything they wanted.\\n', 'The only unwanted thing they had was a secret that they feared more than anything would one day be discovered.']\n",
      "['to.\\n', 'the the the the the.\\n', 'just.\\n', 'Dursley.\\n', 'beefy beefy beefy.\\n', 'the the the.\\n', 'and and.\\n', 'they they they.\\n', 'and.']\n",
      "['Dursley Dursley Dursley Dursley Dursley Dursley Dursley.\\n', 'Dursley Dursley Dursley Dursley Dursley.\\n', 'Dursley Dursley Dursley Dursley Dursley Dursley Dursley.\\n', 'Dursley Dursley Dursley Dursley.\\n', 'Dursley Dursley Dursley.\\n', 'Dursley Dursley Dursley.\\n', 'Dursley Dursley Dursley Dursley Dursley.\\n', 'Dursley Dursley.\\n', 'Dursley.']\n"
     ]
    }
   ],
   "source": [
    "for sents in files_sents:\n",
    "    print(sents)\n"
   ]
  },
  {
   "cell_type": "code",
   "execution_count": 253,
   "metadata": {},
   "outputs": [
    {
     "name": "stdout",
     "output_type": "stream",
     "text": [
      "[['Mr', 'and', 'Mrs', 'Dursley,', 'of', 'number', 'four,', 'Privet', 'Drive,', 'were', 'proud', 'to', 'say', 'that', 'they', 'were', 'perfectly', 'normal,', 'thank', 'you', 'very', 'much'], ['They', 'were', 'the', 'last', 'people', 'you’d', 'expect', 'to', 'be', 'involved', 'in', 'anything', 'strange', 'or', 'mysterious'], ['They', 'just', 'didn’t', 'hold', 'with', 'such', 'nonsense'], ['Mr', 'Dursley', 'was', 'the', 'director', 'of', 'a', 'firm', 'called', 'Grunnings,', 'which', 'made', 'drills'], ['He', 'was', 'a', 'big,', 'beefy', 'man', 'with', 'hardly', 'any', 'nect,', 'although', 'he', 'did', 'have', 'a', 'very', 'large', 'moustache'], ['Mrs', 'Dursley', 'was', 'thin', 'and', 'blonde', 'and', 'had', 'nearly', 'twice', 'the', 'usual', 'amount', 'of', 'neck,', 'which', 'came', 'in', 'useful', 'as', 'she', 'spent', 'so', 'much', 'of', 'her', 'time', 'craning', 'over', 'garden', 'fences,', 'spying', 'on', 'her', 'neighbours'], ['The', 'Dursleys', 'had', 'a', 'small', 'son', 'called', 'Dudley', 'and', 'in', 'their', 'opinion', 'there', 'was', 'no', 'finer', 'boy', 'anywhere'], ['The', 'Dursleys', 'had', 'everything', 'they', 'wanted'], ['But', 'they', 'also', 'had', 'a', 'secret,', 'and', 'their', 'greatest', 'fear', 'was', 'that', 'somebody', 'would', 'discover', 'it']]\n",
      "[['Mr', 'et', 'Mrs', 'Dursley,', 'qui', 'habitaient', 'au', '4,', 'Privet', 'Drive,', 'avaient', 'toujours', 'affirmé', 'avec', 'la', 'plus', 'grande', 'fierté', 'qu’ils', 'étaient', 'parfaitement', 'normaux,', 'merci', 'pour', 'eux'], ['Jamais', 'quiconque', 'n’aurait', 'imagine', 'qu’ils', 'puissant', 'se', 'trouver', 'impliqués', 'dans', 'quoi', 'que', 'ce', 'soit', 'd’étrange', 'ou', 'de', 'mystérieux'], ['Ils', 'n’avaient', 'pas', 'de', 'temps', 'à', 'perdre', 'avec', 'des', 'sornettes'], ['Mr', 'Dursley', 'dirigeait', 'la', 'Grunnings,', 'une', 'entreprise', 'qui', 'fabriquait', 'des', 'perceuses'], ['C’était', 'un', 'homme', 'grand', 'et', 'massif,', 'qui', 'n’avait', 'pratiquement', 'pas', 'de', 'cou,', 'mais', 'possédait', 'en', 'revanche', 'une', 'moustache', 'de', 'belle', 'taille'], ['Mrs', 'Dursley,', 'quant', 'à', 'elle,', 'étail', 'mince', 'et', 'blonde', 'et', 'disposait', 'd’un', 'cou', 'deux', 'fois', 'plus', 'long', 'que', 'la', 'moyenne,', 'ce', 'qui', 'lui', 'était', 'fort', 'utile', 'pour', 'espionner', 'ses', 'voisins', 'en', 'regardant', 'pardessus', 'les', 'clôtures', 'des', 'jardins'], ['Les', 'Dursley', 'avaient', 'un', 'petit', 'garcon', 'prénommé', 'Dudley', 'et', 'c’était', 'à', 'leurs', 'yeux', 'le', 'plus', 'bel', 'enfant', 'du', 'monde'], ['Les', 'Dursley', 'avaient', 'tout', 'ce', 'qu’ils', 'voulaient'], ['La', 'seule', 'chose', 'indésirable', 'qu’ils', 'possédaient,', 'c’était', 'un', 'secret', 'dont', 'ils', 'craignaient', 'plus', 'que', 'tout', 'qu’on', 'le', 'découvre', 'un', 'jour']]\n",
      "[['M', 'et', 'Mme', 'Dursley,', 'du', 'numéro', 'quatre,', 'Privet', 'Drive,', 'étaient', 'fiers', 'de', 'dire', \"qu'ils\", 'étaient', 'parfaitement', 'normaux,', 'merci', 'beaucoup'], ['C’étaient', 'les', 'dernières', 'personnes', 'auxquelles', 'on', 's’attendrait', 'à', 'être', 'impliquées', 'dans', 'quelque', 'chose', 'd’étrange', 'ou', 'de', 'mystérieux'], ['Ils', 'n’ont', 'tout', 'simplement', 'pas', 'supporté', 'de', 'telles', 'absurdités'], ['M', 'Dursley', 'était', 'le', 'directeur', \"d'une\", 'entreprise', 'appelée', 'Grunnings,', 'qui', 'fabriquait', 'des', 'perceuses'], [\"C'était\", 'un', 'homme', 'grand', 'et', 'costaud,', 'sans', 'presque', 'aucun', 'mérite,', 'même', \"s'il\", 'avait', 'une', 'très', 'grosse', 'moustache'], ['Mme', 'Dursley', 'était', 'mince', 'et', 'blonde', 'et', 'avait', 'presque', 'deux', 'fois', 'plus', 'de', 'cou', 'que', \"d'habitude,\", 'ce', 'qui', 'était', 'utile', 'car', 'elle', 'passait', 'une', 'grande', 'partie', 'de', 'son', 'temps', 'à', 'se', 'pencher', 'par-dessus', 'les', 'clôtures', 'du', 'jardin,', 'à', 'espionner', 'ses', 'voisins'], ['Les', 'Dursley', 'avaient', 'un', 'petit', 'fils', 'appelé', 'Dudley', 'et,', 'à', 'leur', 'avis,', 'il', \"n'y\", 'avait', 'pas', 'de', 'plus', 'beau', 'garçon', 'nulle', 'part'], ['Les', 'Dursley', 'avaient', 'tout', 'ce', \"qu'ils\", 'voulaient'], ['Mais', 'ils', 'avaient', 'aussi', 'un', 'secret,', 'et', 'leur', 'plus', 'grande', 'crainte', 'était', 'que', 'quelqu’un', 'le', 'découvre']]\n",
      "[['Mr', 'and', 'Mrs', 'Dursley,', 'who', 'lived', 'at', '4', 'Privet', 'Drive,', 'had', 'always', 'claimed', 'with', 'the', 'greatest', 'pride', 'that', 'they', 'were', 'perfectly', 'normal,', 'thank', 'you', 'for', 'them'], ['No', 'one', 'would', 'have', 'ever', 'imagined', 'that', 'they', 'could', 'find', 'themselves', 'involved', 'in', 'anything', 'strange', 'or', 'mysterious'], ['They', 'had', 'no', 'time', 'to', 'waste', 'on', 'nonsense'], ['Mr', 'Dursley', 'ran', 'Grunnings,', 'a', 'company', 'which', 'manufactured', 'drilling', 'machines'], ['He', 'was', 'a', 'tall', 'and', 'massive', 'man,', 'who', 'had', 'practically', 'no', 'neck,', 'but', 'did', 'have', 'a', 'good-sized', 'mustache'], ['Mrs', 'Dursley,', 'on', 'the', 'other', 'hand,', 'was', 'slim', 'and', 'fair', 'and', 'had', 'a', 'neck', 'twice', 'as', 'long', 'as', 'average,', 'which', 'was', 'very', 'useful', 'for', 'spying', 'on', 'her', 'neighbors', 'by', 'peering', 'over', 'garden', 'fences'], ['The', 'Dursleys', 'had', 'a', 'little', 'boy', 'named', 'Dudley', 'and', 'in', 'their', 'eyes', 'he', 'was', 'the', 'most', 'beautiful', 'child', 'in', 'the', 'world'], ['The', 'Dursleys', 'had', 'everything', 'they', 'wanted'], ['The', 'only', 'unwanted', 'thing', 'they', 'had', 'was', 'a', 'secret', 'that', 'they', 'feared', 'more', 'than', 'anything', 'would', 'one', 'day', 'be', 'discovered']]\n",
      "[['to'], ['the', 'the', 'the', 'the', 'the'], ['just'], ['Dursley'], ['beefy', 'beefy', 'beefy'], ['the', 'the', 'the'], ['and', 'and'], ['they', 'they', 'they'], ['and']]\n",
      "[['Dursley', 'Dursley', 'Dursley', 'Dursley', 'Dursley', 'Dursley', 'Dursley'], ['Dursley', 'Dursley', 'Dursley', 'Dursley', 'Dursley'], ['Dursley', 'Dursley', 'Dursley', 'Dursley', 'Dursley', 'Dursley', 'Dursley'], ['Dursley', 'Dursley', 'Dursley', 'Dursley'], ['Dursley', 'Dursley', 'Dursley'], ['Dursley', 'Dursley', 'Dursley'], ['Dursley', 'Dursley', 'Dursley', 'Dursley', 'Dursley'], ['Dursley', 'Dursley'], ['Dursley']]\n"
     ]
    }
   ],
   "source": [
    "for sents in files_sents_split:\n",
    "    print(sents)\n",
    "    \n",
    "en_gold, fr_gold, en_fr_machine, fr_en_machine, stupid_en, stupid_fr = files_sents_split\n",
    "    \n"
   ]
  },
  {
   "cell_type": "code",
   "execution_count": 254,
   "metadata": {},
   "outputs": [
    {
     "data": {
      "text/plain": [
       "['Mr',\n",
       " 'and',\n",
       " 'Mrs',\n",
       " 'Dursley,',\n",
       " 'of',\n",
       " 'number',\n",
       " 'four,',\n",
       " 'Privet',\n",
       " 'Drive,',\n",
       " 'were',\n",
       " 'proud',\n",
       " 'to',\n",
       " 'say',\n",
       " 'that',\n",
       " 'they',\n",
       " 'were',\n",
       " 'perfectly',\n",
       " 'normal,',\n",
       " 'thank',\n",
       " 'you',\n",
       " 'very',\n",
       " 'much']"
      ]
     },
     "execution_count": 254,
     "metadata": {},
     "output_type": "execute_result"
    }
   ],
   "source": [
    "en_gold[0]"
   ]
  },
  {
   "cell_type": "code",
   "execution_count": 259,
   "metadata": {},
   "outputs": [],
   "source": [
    "def sentence_precision_unigram(machine_sent, gold_sent):\n",
    "    if len(machine_sent) == 0 or len(gold_sent) == 0:\n",
    "        print('returning 0')\n",
    "        return 0\n",
    "    word_counts_machine = FreqDist(machine_sent)\n",
    "    word_counts_gold = FreqDist(gold_sent)\n",
    "\n",
    "    count = 0\n",
    "    for word, word_count in word_counts_machine.items():\n",
    "        if word in word_counts_gold.keys():\n",
    "            count += word_count\n",
    "    \n",
    "    machine_precision = count/len(machine_sent) \n",
    "    return machine_precision\n",
    "\n",
    "def sentence_precision_modified_unigram(machine_sent, gold_sent):\n",
    "    if len(machine_sent) == 0 or len(gold_sent) == 0:\n",
    "        print('returning 0')\n",
    "        return 0\n",
    "    \n",
    "    count = 0\n",
    "    \n",
    "    word_counts_machine = FreqDist(machine_sent)\n",
    "    word_counts_gold = FreqDist(gold_sent)\n",
    "\n",
    "    \n",
    "    for word in word_counts_machine.keys():\n",
    "        if word in word_counts_gold.keys():\n",
    "            count += min([word_counts_machine[word], word_counts_gold[word]])\n",
    "    \n",
    "        \n",
    "    machine_precision = count/len(machine_sent) \n",
    "    \n",
    "    return machine_precision\n",
    "       \n",
    "def whole_translation_precision_unigram(machine_translation_sents, gold_translation_sents):\n",
    "    total_sum = 0\n",
    "    for i, machine_sentence in enumerate(machine_translation_sents):\n",
    "        sentence_precision = sentence_precision_unigram(machine_sentence, gold_translation_sents[i])\n",
    "        total_sum += sentence_precision\n",
    "    \n",
    "    average_precision = total_sum / len(machine_translation_sents)\n",
    "    return average_precision\n",
    "        \n",
    "def whole_translation_precision_modified_unigram(machine_translation_sents, gold_translation_sents):\n",
    "    total_sum = 0\n",
    "    for i, machine_sentence in enumerate(machine_translation_sents):\n",
    "        sentence_precision = sentence_precision_modified_unigram(machine_sentence, gold_translation_sents[i])\n",
    "        total_sum += sentence_precision\n",
    "    \n",
    "    average_precision = total_sum / len(machine_translation_sents)\n",
    "    return average_precision\n"
   ]
  },
  {
   "cell_type": "code",
   "execution_count": 268,
   "metadata": {},
   "outputs": [
    {
     "name": "stdout",
     "output_type": "stream",
     "text": [
      "the\n",
      "ball\n",
      "was\n",
      "truly\n",
      "disgusting\n",
      "it\n",
      "really\n",
      "was\n",
      "a\n",
      "sight\n"
     ]
    }
   ],
   "source": [
    "sent = [\"the\", \"ball\", \"was\", \"truly\", \"disgusting\", \"it\", \"really\", \"was\", \"a\", \"sight\", \"to\", \"fear\"]\n",
    "\n",
    "def make_n_grams(n, tokenised_sentence):\n",
    "    new_sent = []\n",
    "    \n",
    "    for i in range(len(tokenised_sentence)-n+1):\n",
    "        print(tokenised_sentence[i])\n",
    "        \n",
    "make_n_grams(3, sent)\n",
    "    \n"
   ]
  },
  {
   "cell_type": "code",
   "execution_count": 260,
   "metadata": {},
   "outputs": [
    {
     "name": "stdout",
     "output_type": "stream",
     "text": [
      "0.45561247206456\n",
      "0.4839487310075545\n",
      "1.0\n",
      "0.3333333333333333\n"
     ]
    }
   ],
   "source": [
    "\n",
    "print(whole_translation_precision_unigram(en_fr_machine, fr_gold))\n",
    "print(whole_translation_precision_unigram(fr_en_machine, en_gold))\n",
    "print(whole_translation_precision_unigram(stupid_en, en_gold))\n",
    "print(whole_translation_precision_unigram(stupid_fr, fr_gold))\n",
    "\n",
    "\n",
    "    "
   ]
  },
  {
   "cell_type": "code",
   "execution_count": 261,
   "metadata": {},
   "outputs": [
    {
     "name": "stdout",
     "output_type": "stream",
     "text": [
      "0.4443444646476437\n",
      "0.46300116005998354\n",
      "0.6333333333333333\n",
      "0.10555555555555556\n"
     ]
    }
   ],
   "source": [
    "print(whole_translation_precision_modified_unigram(en_fr_machine, fr_gold))\n",
    "print(whole_translation_precision_modified_unigram(fr_en_machine, en_gold))\n",
    "print(whole_translation_precision_modified_unigram(stupid_en, en_gold))\n",
    "print(whole_translation_precision_modified_unigram(stupid_fr, fr_gold))"
   ]
  },
  {
   "cell_type": "code",
   "execution_count": null,
   "metadata": {},
   "outputs": [],
   "source": []
  },
  {
   "cell_type": "code",
   "execution_count": null,
   "metadata": {},
   "outputs": [],
   "source": []
  }
 ],
 "metadata": {
  "kernelspec": {
   "display_name": "Python 3",
   "language": "python",
   "name": "python3"
  },
  "language_info": {
   "codemirror_mode": {
    "name": "ipython",
    "version": 3
   },
   "file_extension": ".py",
   "mimetype": "text/x-python",
   "name": "python",
   "nbconvert_exporter": "python",
   "pygments_lexer": "ipython3",
   "version": "3.11.4"
  }
 },
 "nbformat": 4,
 "nbformat_minor": 2
}
