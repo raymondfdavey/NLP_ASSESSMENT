{
 "cells": [
  {
   "cell_type": "code",
   "execution_count": 1,
   "metadata": {},
   "outputs": [
    {
     "name": "stderr",
     "output_type": "stream",
     "text": [
      "c:\\ProgramData\\anaconda3\\Lib\\site-packages\\transformers\\utils\\generic.py:311: UserWarning: torch.utils._pytree._register_pytree_node is deprecated. Please use torch.utils._pytree.register_pytree_node instead.\n",
      "  torch.utils._pytree._register_pytree_node(\n"
     ]
    },
    {
     "name": "stdout",
     "output_type": "stream",
     "text": [
      "cuda\n"
     ]
    },
    {
     "name": "stderr",
     "output_type": "stream",
     "text": [
      "[nltk_data] Downloading package punkt to\n",
      "[nltk_data]     C:\\Users\\rd81\\AppData\\Roaming\\nltk_data...\n",
      "[nltk_data]   Package punkt is already up-to-date!\n"
     ]
    }
   ],
   "source": [
    "from transformers import BertForSequenceClassification\n",
    "import torch\n",
    "from tqdm import tqdm\n",
    "from torchvision import datasets\n",
    "from torch.utils.data import DataLoader\n",
    "from torch import nn\n",
    "from torch.nn import functional as F\n",
    "import importlib\n",
    "\n",
    "from utils import *\n",
    "\n",
    "device = 'cuda' if torch.cuda.is_available() else 'cpu'\n",
    "print(device)"
   ]
  },
  {
   "cell_type": "code",
   "execution_count": 2,
   "metadata": {},
   "outputs": [],
   "source": [
    "n_labels = 2\n",
    "\n",
    "epochs = 12\n",
    "lr = 0.00001\n",
    "manual_loss= False\n",
    "batch_sizes = 16\n",
    "max_len = 100\n",
    "\n",
    "loss = 'cross_ent'\n",
    "\n",
    "run_data = {}"
   ]
  },
  {
   "cell_type": "code",
   "execution_count": 3,
   "metadata": {},
   "outputs": [],
   "source": [
    "# to test\n",
    "\n",
    "# pick a set of params and then run all the models and pick the best performing one on val and the test and val"
   ]
  },
  {
   "cell_type": "code",
   "execution_count": 4,
   "metadata": {},
   "outputs": [],
   "source": [
    "include_dev=False\n",
    "batch_size_train = 16\n",
    "batch_size_test = 16\n",
    "batch_size_dev = 16\n",
    "\n",
    "if include_dev:\n",
    "    train_df, val_df, test_df = get_processed_data(dev=True)\n",
    "    \n",
    "    train_df= get_cols_for_bert(train_df, 'prop')\n",
    "    val_df= get_cols_for_bert(val_df, 'prop')\n",
    "    test_df= get_cols_for_bert(test_df, 'prop')\n",
    "    \n",
    "    train_input_embeddings_labelled = format_and_tokenise_from_df(train_df, max_len=64)\n",
    "    val_input_embeddings_labelled = format_and_tokenise_from_df(val_df, max_len=64)\n",
    "    test_input_embeddings_labelled = format_and_tokenise_from_df(test_df, max_len=64)\n",
    "    \n",
    "    train_dataset = CustomPropagandaDataset(train_input_embeddings_labelled)\n",
    "    test_dataset = CustomPropagandaDataset(test_input_embeddings_labelled)\n",
    "    val_dataset = CustomPropagandaDataset(val_input_embeddings_labelled)\n",
    "    \n",
    "\n",
    "\n",
    "    train_dataloader = DataLoader(train_dataset, batch_size=batch_size_train, shuffle=True)\n",
    "    test_dataloader = DataLoader(test_dataset, batch_size=batch_size_test, shuffle=True)\n",
    "    val_dataloader = DataLoader(val_dataset, batch_size=batch_size_dev, shuffle=True)\n",
    "    \n",
    "    \n",
    "else:\n",
    "    train_df, val_df = get_processed_data(dev=False)\n",
    "    \n",
    "    train_df= get_cols_for_bert(train_df, 'prop')\n",
    "    val_df= get_cols_for_bert(val_df, 'prop')\n",
    "    \n",
    "    train_input_embeddings_labelled = format_and_tokenise_from_df(train_df, max_len=64)\n",
    "    val_input_embeddings_labelled = format_and_tokenise_from_df(val_df, max_len=64)\n",
    "    \n",
    "    train_dataset = CustomPropagandaDataset(train_input_embeddings_labelled)\n",
    "    val_dataset = CustomPropagandaDataset(val_input_embeddings_labelled)\n",
    "    \n",
    "    train_dataloader = DataLoader(train_dataset, batch_size=batch_size_train, shuffle=True)\n",
    "    val_dataloader = DataLoader(val_dataset, batch_size=batch_size_dev, shuffle=True)\n",
    "    \n",
    "def plot_training(train_losses, train_accuracy, val_losses, val_accuracy):\n",
    "    epochs = range(1, len(train_losses) + 1)\n",
    "\n",
    "    plt.figure(figsize=(12, 5))\n",
    "\n",
    "    plt.subplot(1, 2, 1)\n",
    "    plt.plot(epochs, train_losses, 'b-', label='Training loss')\n",
    "    plt.plot(epochs, val_losses, 'r-', label='Validation loss')\n",
    "    plt.title('Training and Validation Loss')\n",
    "    plt.xlabel('Epochs')\n",
    "    plt.xticks(epochs)  # Set x-axis ticks to only be at each epoch\n",
    "\n",
    "    plt.ylabel('Loss')\n",
    "    plt.legend()\n",
    "\n",
    "    plt.subplot(1, 2, 2)\n",
    "    plt.plot(epochs, train_accuracy, 'b-', label='Training Accuracy')\n",
    "    plt.plot(epochs, val_accuracy, 'r-', label='Validation Accuracy')\n",
    "    plt.title('Training and Validation Accuracy')\n",
    "    plt.xlabel('Epochs')\n",
    "    plt.ylabel('Accuracy')\n",
    "    plt.xticks(epochs)  # Set x-axis ticks to only be at each epoch\n",
    "\n",
    "    plt.ylim(0, 1)  # This sets the y-axis to be between 0 and 1\n",
    "\n",
    "    plt.legend()\n",
    "\n",
    "    plt.tight_layout()\n",
    "    plt.show()\n"
   ]
  },
  {
   "cell_type": "code",
   "execution_count": 5,
   "metadata": {},
   "outputs": [
    {
     "name": "stderr",
     "output_type": "stream",
     "text": [
      "Some weights of BertForSequenceClassification were not initialized from the model checkpoint at bert-base-uncased and are newly initialized: ['classifier.bias', 'classifier.weight']\n",
      "You should probably TRAIN this model on a down-stream task to be able to use it for predictions and inference.\n",
      "                                                 \r"
     ]
    },
    {
     "name": "stdout",
     "output_type": "stream",
     "text": [
      "TRAIN: Epoch [1/12] Loss: 0.6788904897868633 Acc: 0.58125\n"
     ]
    },
    {
     "name": "stderr",
     "output_type": "stream",
     "text": [
      "                                               \r"
     ]
    },
    {
     "name": "stdout",
     "output_type": "stream",
     "text": [
      "VAL: Epoch [1/12] Loss: 0.6586317211389542 Acc: 0.6203125\n"
     ]
    },
    {
     "name": "stderr",
     "output_type": "stream",
     "text": [
      "                                                 \r"
     ]
    },
    {
     "name": "stdout",
     "output_type": "stream",
     "text": [
      "TRAIN: Epoch [2/12] Loss: 0.6439442753791809 Acc: 0.632421875\n"
     ]
    },
    {
     "name": "stderr",
     "output_type": "stream",
     "text": [
      "                                               \r"
     ]
    },
    {
     "name": "stdout",
     "output_type": "stream",
     "text": [
      "VAL: Epoch [2/12] Loss: 0.6431834474205971 Acc: 0.6328125\n"
     ]
    },
    {
     "name": "stderr",
     "output_type": "stream",
     "text": [
      "                                                 \r"
     ]
    },
    {
     "name": "stdout",
     "output_type": "stream",
     "text": [
      "TRAIN: Epoch [3/12] Loss: 0.5946080718189478 Acc: 0.683984375\n"
     ]
    },
    {
     "name": "stderr",
     "output_type": "stream",
     "text": [
      "                                               \r"
     ]
    },
    {
     "name": "stdout",
     "output_type": "stream",
     "text": [
      "VAL: Epoch [3/12] Loss: 0.6933319114148617 Acc: 0.603125\n"
     ]
    },
    {
     "name": "stderr",
     "output_type": "stream",
     "text": [
      "                                                 \r"
     ]
    },
    {
     "name": "stdout",
     "output_type": "stream",
     "text": [
      "TRAIN: Epoch [4/12] Loss: 0.5040782360360027 Acc: 0.757421875\n"
     ]
    },
    {
     "name": "stderr",
     "output_type": "stream",
     "text": [
      "                                               \r"
     ]
    },
    {
     "name": "stdout",
     "output_type": "stream",
     "text": [
      "VAL: Epoch [4/12] Loss: 0.7043907821178437 Acc: 0.640625\n"
     ]
    },
    {
     "name": "stderr",
     "output_type": "stream",
     "text": [
      "                                                 \r"
     ]
    },
    {
     "name": "stdout",
     "output_type": "stream",
     "text": [
      "TRAIN: Epoch [5/12] Loss: 0.35003895410336555 Acc: 0.8484375\n"
     ]
    },
    {
     "name": "stderr",
     "output_type": "stream",
     "text": [
      "                                               \r"
     ]
    },
    {
     "name": "stdout",
     "output_type": "stream",
     "text": [
      "VAL: Epoch [5/12] Loss: 0.7470230050384998 Acc: 0.6578125\n"
     ]
    },
    {
     "name": "stderr",
     "output_type": "stream",
     "text": [
      "                                                 \r"
     ]
    },
    {
     "name": "stdout",
     "output_type": "stream",
     "text": [
      "TRAIN: Epoch [6/12] Loss: 0.25261010725516825 Acc: 0.905859375\n"
     ]
    },
    {
     "name": "stderr",
     "output_type": "stream",
     "text": [
      "                                               \r"
     ]
    },
    {
     "name": "stdout",
     "output_type": "stream",
     "text": [
      "VAL: Epoch [6/12] Loss: 0.8080524064600467 Acc: 0.65625\n"
     ]
    },
    {
     "name": "stderr",
     "output_type": "stream",
     "text": [
      "                                                 \r"
     ]
    },
    {
     "name": "stdout",
     "output_type": "stream",
     "text": [
      "TRAIN: Epoch [7/12] Loss: 0.17435716798063366 Acc: 0.93515625\n"
     ]
    },
    {
     "name": "stderr",
     "output_type": "stream",
     "text": [
      "                                               \r"
     ]
    },
    {
     "name": "stdout",
     "output_type": "stream",
     "text": [
      "VAL: Epoch [7/12] Loss: 1.169163841754198 Acc: 0.6390625\n"
     ]
    },
    {
     "name": "stderr",
     "output_type": "stream",
     "text": [
      "                                                 \r"
     ]
    },
    {
     "name": "stdout",
     "output_type": "stream",
     "text": [
      "TRAIN: Epoch [8/12] Loss: 0.11826658089412376 Acc: 0.9625\n"
     ]
    },
    {
     "name": "stderr",
     "output_type": "stream",
     "text": [
      "                                               \r"
     ]
    },
    {
     "name": "stdout",
     "output_type": "stream",
     "text": [
      "VAL: Epoch [8/12] Loss: 1.166452345997095 Acc: 0.6609375\n"
     ]
    },
    {
     "name": "stderr",
     "output_type": "stream",
     "text": [
      "                                                 \r"
     ]
    },
    {
     "name": "stdout",
     "output_type": "stream",
     "text": [
      "TRAIN: Epoch [9/12] Loss: 0.08264216333627701 Acc: 0.974609375\n"
     ]
    },
    {
     "name": "stderr",
     "output_type": "stream",
     "text": [
      "                                               \r"
     ]
    },
    {
     "name": "stdout",
     "output_type": "stream",
     "text": [
      "VAL: Epoch [9/12] Loss: 1.2137273967266082 Acc: 0.66875\n"
     ]
    },
    {
     "name": "stderr",
     "output_type": "stream",
     "text": [
      "                                                 \r"
     ]
    },
    {
     "name": "stdout",
     "output_type": "stream",
     "text": [
      "TRAIN: Epoch [10/12] Loss: 0.09673492427100427 Acc: 0.969140625\n"
     ]
    },
    {
     "name": "stderr",
     "output_type": "stream",
     "text": [
      "                                               \r"
     ]
    },
    {
     "name": "stdout",
     "output_type": "stream",
     "text": [
      "VAL: Epoch [10/12] Loss: 1.2413247719407081 Acc: 0.6484375\n"
     ]
    },
    {
     "name": "stderr",
     "output_type": "stream",
     "text": [
      "                                                 \r"
     ]
    },
    {
     "name": "stdout",
     "output_type": "stream",
     "text": [
      "TRAIN: Epoch [11/12] Loss: 0.06047598171280697 Acc: 0.98046875\n"
     ]
    },
    {
     "name": "stderr",
     "output_type": "stream",
     "text": [
      "                                               \r"
     ]
    },
    {
     "name": "stdout",
     "output_type": "stream",
     "text": [
      "VAL: Epoch [11/12] Loss: 1.4501310214400291 Acc: 0.6515625\n"
     ]
    },
    {
     "name": "stderr",
     "output_type": "stream",
     "text": [
      "                                                 \r"
     ]
    },
    {
     "name": "stdout",
     "output_type": "stream",
     "text": [
      "TRAIN: Epoch [12/12] Loss: 0.040180680579214825 Acc: 0.98828125\n"
     ]
    },
    {
     "name": "stderr",
     "output_type": "stream",
     "text": [
      "                                               \r"
     ]
    },
    {
     "name": "stdout",
     "output_type": "stream",
     "text": [
      "VAL: Epoch [12/12] Loss: 1.3621693588793278 Acc: 0.6546875\n"
     ]
    },
    {
     "data": {
      "image/png": "[encoded data removed]",
      "text/plain": [
       "<Figure size 1200x500 with 2 Axes>"
      ]
     },
     "metadata": {},
     "output_type": "display_data"
    }
   ],
   "source": [
    "model = BertForSequenceClassification.from_pretrained('bert-base-uncased', num_labels=n_labels)\n",
    "optimizer = torch.optim.Adam(params=model.parameters(), lr=lr)\n",
    "criterion = nn.CrossEntropyLoss()\n",
    "\n",
    "train_losses = []\n",
    "train_accuracy = []\n",
    "val_losses = []\n",
    "val_accuracy = []\n",
    "\n",
    "model.to(device)\n",
    "\n",
    "for epoch in range(epochs):\n",
    "    train_running_losses = []\n",
    "    train_total = 0\n",
    "    train_correct = 0\n",
    "    \n",
    "    model.train()\n",
    "    for batch in tqdm(train_dataloader, leave=False):\n",
    "        batch = {k: v.to(device) for k, v in batch.items()}\n",
    "        outputs = model(**batch)\n",
    "        \n",
    "        if manual_loss:\n",
    "            loss = criterion(outputs.logits, batch['labels'])\n",
    "        else:\n",
    "            loss = outputs.loss\n",
    "        \n",
    "        loss.backward()\n",
    "        optimizer.step()\n",
    "        optimizer.zero_grad()\n",
    "        \n",
    "        _, indices = torch.max(outputs['logits'], dim=1)\n",
    "        predicted_labels = indices\n",
    "        train_total += batch['labels'].size(0)\n",
    "        train_correct += (predicted_labels == batch['labels']).sum().item()\n",
    "        train_running_losses.append(loss.item())\n",
    "    \n",
    "    train_losses.append(sum(train_running_losses) / len(train_running_losses))\n",
    "    train_accuracy.append(train_correct / train_total)\n",
    "    print(f'TRAIN: Epoch [{epoch+1}/{epochs}] Loss: {sum(train_running_losses)/len(train_running_losses)} Acc: {train_correct/train_total}')\n",
    "    \n",
    "    model.eval()\n",
    "    with torch.no_grad():\n",
    "        val_running_losses = []\n",
    "        val_total = 0\n",
    "        val_correct = 0\n",
    "        \n",
    "        for batch in tqdm(val_dataloader, leave=False):\n",
    "            batch = {k: v.to(device) for k, v in batch.items()}\n",
    "            outputs = model(**batch)\n",
    "            loss = outputs.loss\n",
    "            \n",
    "            _, indices = torch.max(outputs['logits'], dim=1)\n",
    "            predicted_labels = indices\n",
    "            \n",
    "            val_total += batch['labels'].size(0)\n",
    "            val_correct += (predicted_labels == batch['labels']).sum().item()\n",
    "            val_running_losses.append(loss.item())\n",
    "        \n",
    "        val_losses.append(sum(val_running_losses) / len(val_running_losses))\n",
    "        val_accuracy.append(val_correct / val_total)\n",
    "        print(f'VAL: Epoch [{epoch+1}/{epochs}] Loss: {sum(val_running_losses)/len(val_running_losses)} Acc: {val_correct/val_total}')\n",
    "    \n",
    "    if include_dev:\n",
    "        print('TESTING...')\n",
    "        test_losses = []\n",
    "        test_accuracy = []\n",
    "        \n",
    "        model.eval()\n",
    "        with torch.no_grad():\n",
    "            test_running_losses = []\n",
    "            test_total = 0\n",
    "            test_correct = 0\n",
    "            \n",
    "            for batch in test_dataloader:\n",
    "                batch = {k: v.to(device) for k, v in batch.items()}\n",
    "                outputs = model(**batch)\n",
    "                loss = outputs.loss\n",
    "                \n",
    "                _, indices = torch.max(outputs['logits'], dim=1)\n",
    "                predicted_labels = indices\n",
    "                \n",
    "                test_total += batch['labels'].size(0)\n",
    "                test_correct += (predicted_labels == batch['labels']).sum().item()\n",
    "                test_running_losses.append(loss.item())\n",
    "            \n",
    "            test_losses.append(sum(test_running_losses) / len(test_running_losses))\n",
    "            test_accuracy.append(test_correct / test_total)\n",
    "            print(f'TEST: Epoch [{epoch+1}/{epochs}] Loss: {sum(test_running_losses)/len(test_running_losses)} Acc: {test_correct/test_total}')\n",
    " \n",
    "plot_training(train_losses, train_accuracy, val_losses, val_accuracy)"
   ]
  },
  {
   "cell_type": "code",
   "execution_count": 6,
   "metadata": {},
   "outputs": [
    {
     "name": "stderr",
     "output_type": "stream",
     "text": [
      "Some weights of BertForSequenceClassification were not initialized from the model checkpoint at bert-base-uncased and are newly initialized: ['classifier.bias', 'classifier.weight']\n",
      "You should probably TRAIN this model on a down-stream task to be able to use it for predictions and inference.\n",
      "                                                 \r"
     ]
    },
    {
     "name": "stdout",
     "output_type": "stream",
     "text": [
      "TRAIN: Epoch [1/12] Loss: 0.668034341931343 Acc: 0.607421875\n"
     ]
    },
    {
     "name": "stderr",
     "output_type": "stream",
     "text": [
      "                                               \r"
     ]
    },
    {
     "name": "stdout",
     "output_type": "stream",
     "text": [
      "VAL: Epoch [1/12] Loss: 0.6714630804955959 Acc: 0.6\n"
     ]
    },
    {
     "name": "stderr",
     "output_type": "stream",
     "text": [
      "                                                 \r"
     ]
    },
    {
     "name": "stdout",
     "output_type": "stream",
     "text": [
      "TRAIN: Epoch [2/12] Loss: 0.6446111727505922 Acc: 0.632421875\n"
     ]
    },
    {
     "name": "stderr",
     "output_type": "stream",
     "text": [
      "                                               \r"
     ]
    },
    {
     "name": "stdout",
     "output_type": "stream",
     "text": [
      "VAL: Epoch [2/12] Loss: 0.6401666909456253 Acc: 0.65\n"
     ]
    },
    {
     "name": "stderr",
     "output_type": "stream",
     "text": [
      "                                                 \r"
     ]
    },
    {
     "name": "stdout",
     "output_type": "stream",
     "text": [
      "TRAIN: Epoch [3/12] Loss: 0.5956137884408236 Acc: 0.696875\n"
     ]
    },
    {
     "name": "stderr",
     "output_type": "stream",
     "text": [
      "                                               \r"
     ]
    },
    {
     "name": "stdout",
     "output_type": "stream",
     "text": [
      "VAL: Epoch [3/12] Loss: 0.6203937292098999 Acc: 0.64375\n"
     ]
    },
    {
     "name": "stderr",
     "output_type": "stream",
     "text": [
      "                                                 \r"
     ]
    },
    {
     "name": "stdout",
     "output_type": "stream",
     "text": [
      "TRAIN: Epoch [4/12] Loss: 0.49813607782125474 Acc: 0.774609375\n"
     ]
    },
    {
     "name": "stderr",
     "output_type": "stream",
     "text": [
      "                                               \r"
     ]
    },
    {
     "name": "stdout",
     "output_type": "stream",
     "text": [
      "VAL: Epoch [4/12] Loss: 0.6206680200994015 Acc: 0.659375\n"
     ]
    },
    {
     "name": "stderr",
     "output_type": "stream",
     "text": [
      "                                                 \r"
     ]
    },
    {
     "name": "stdout",
     "output_type": "stream",
     "text": [
      "TRAIN: Epoch [5/12] Loss: 0.37381204441189764 Acc: 0.8390625\n"
     ]
    },
    {
     "name": "stderr",
     "output_type": "stream",
     "text": [
      "                                               \r"
     ]
    },
    {
     "name": "stdout",
     "output_type": "stream",
     "text": [
      "VAL: Epoch [5/12] Loss: 0.7081414796411991 Acc: 0.6546875\n"
     ]
    },
    {
     "name": "stderr",
     "output_type": "stream",
     "text": [
      "                                                 \r"
     ]
    },
    {
     "name": "stdout",
     "output_type": "stream",
     "text": [
      "TRAIN: Epoch [6/12] Loss: 0.24693117521237581 Acc: 0.904296875\n"
     ]
    },
    {
     "name": "stderr",
     "output_type": "stream",
     "text": [
      "                                               \r"
     ]
    },
    {
     "name": "stdout",
     "output_type": "stream",
     "text": [
      "VAL: Epoch [6/12] Loss: 0.7860933564603328 Acc: 0.6765625\n"
     ]
    },
    {
     "name": "stderr",
     "output_type": "stream",
     "text": [
      "                                                 \r"
     ]
    },
    {
     "name": "stdout",
     "output_type": "stream",
     "text": [
      "TRAIN: Epoch [7/12] Loss: 0.16622183753643185 Acc: 0.9375\n"
     ]
    },
    {
     "name": "stderr",
     "output_type": "stream",
     "text": [
      "                                               \r"
     ]
    },
    {
     "name": "stdout",
     "output_type": "stream",
     "text": [
      "VAL: Epoch [7/12] Loss: 1.154088656976819 Acc: 0.6484375\n"
     ]
    },
    {
     "name": "stderr",
     "output_type": "stream",
     "text": [
      "                                                 \r"
     ]
    },
    {
     "name": "stdout",
     "output_type": "stream",
     "text": [
      "TRAIN: Epoch [8/12] Loss: 0.09996161732706241 Acc: 0.96015625\n"
     ]
    },
    {
     "name": "stderr",
     "output_type": "stream",
     "text": [
      "                                               \r"
     ]
    },
    {
     "name": "stdout",
     "output_type": "stream",
     "text": [
      "VAL: Epoch [8/12] Loss: 1.0661523953080176 Acc: 0.678125\n"
     ]
    },
    {
     "name": "stderr",
     "output_type": "stream",
     "text": [
      "                                                 \r"
     ]
    },
    {
     "name": "stdout",
     "output_type": "stream",
     "text": [
      "TRAIN: Epoch [9/12] Loss: 0.09957138043828309 Acc: 0.96484375\n"
     ]
    },
    {
     "name": "stderr",
     "output_type": "stream",
     "text": [
      "                                               \r"
     ]
    },
    {
     "name": "stdout",
     "output_type": "stream",
     "text": [
      "VAL: Epoch [9/12] Loss: 1.2968250773847103 Acc: 0.6765625\n"
     ]
    },
    {
     "name": "stderr",
     "output_type": "stream",
     "text": [
      "                                                 \r"
     ]
    },
    {
     "name": "stdout",
     "output_type": "stream",
     "text": [
      "TRAIN: Epoch [10/12] Loss: 0.04558290154018323 Acc: 0.984375\n"
     ]
    },
    {
     "name": "stderr",
     "output_type": "stream",
     "text": [
      "                                               \r"
     ]
    },
    {
     "name": "stdout",
     "output_type": "stream",
     "text": [
      "VAL: Epoch [10/12] Loss: 1.2599281340837478 Acc: 0.65\n"
     ]
    },
    {
     "name": "stderr",
     "output_type": "stream",
     "text": [
      "                                                 \r"
     ]
    },
    {
     "name": "stdout",
     "output_type": "stream",
     "text": [
      "TRAIN: Epoch [11/12] Loss: 0.05053264899615897 Acc: 0.98359375\n"
     ]
    },
    {
     "name": "stderr",
     "output_type": "stream",
     "text": [
      "                                               \r"
     ]
    },
    {
     "name": "stdout",
     "output_type": "stream",
     "text": [
      "VAL: Epoch [11/12] Loss: 1.2139640919864179 Acc: 0.6515625\n"
     ]
    },
    {
     "name": "stderr",
     "output_type": "stream",
     "text": [
      "                                                 \r"
     ]
    },
    {
     "name": "stdout",
     "output_type": "stream",
     "text": [
      "TRAIN: Epoch [12/12] Loss: 0.03618409291593707 Acc: 0.989453125\n"
     ]
    },
    {
     "name": "stderr",
     "output_type": "stream",
     "text": [
      "                                               \r"
     ]
    },
    {
     "name": "stdout",
     "output_type": "stream",
     "text": [
      "VAL: Epoch [12/12] Loss: 1.5163823798298837 Acc: 0.6734375\n"
     ]
    },
    {
     "data": {
      "image/png": "[encoded data removed]",
      "text/plain": [
       "<Figure size 1200x500 with 2 Axes>"
      ]
     },
     "metadata": {},
     "output_type": "display_data"
    }
   ],
   "source": [
    "# using binary class specific settings:\n",
    "model = BertForSequenceClassification.from_pretrained('bert-base-uncased', num_labels=n_labels)\n",
    "optimizer = torch.optim.Adam(params=model.parameters(), lr=lr)\n",
    "criterion = nn.BCEWithLogitsLoss()\n",
    "\n",
    "train_losses = []\n",
    "train_accuracy = []\n",
    "val_losses = []\n",
    "val_accuracy = []\n",
    "\n",
    "model.to(device)\n",
    "\n",
    "for epoch in range(epochs):\n",
    "    train_running_losses = []\n",
    "    train_total = 0\n",
    "    train_correct = 0\n",
    "    \n",
    "    model.train()\n",
    "    for batch in tqdm(train_dataloader, leave=False):\n",
    "        batch = {k: v.to(device) for k, v in batch.items()}\n",
    "        outputs = model(**batch)\n",
    "        \n",
    "        if manual_loss:\n",
    "            loss = criterion(outputs.logits.view(-1), batch['labels'].float())\n",
    "        else:\n",
    "            loss = outputs.loss\n",
    "        \n",
    "        optimizer.zero_grad()\n",
    "        loss.backward()\n",
    "        optimizer.step()\n",
    "        \n",
    "        predicted_labels = outputs.logits.argmax(dim=1)\n",
    "        train_total += batch['labels'].size(0)\n",
    "        train_correct += (predicted_labels == batch['labels']).sum().item()\n",
    "        train_running_losses.append(loss.item())\n",
    "    \n",
    "    train_losses.append(sum(train_running_losses) / len(train_running_losses))\n",
    "    train_accuracy.append(train_correct / train_total)\n",
    "    print(f'TRAIN: Epoch [{epoch+1}/{epochs}] Loss: {sum(train_running_losses)/len(train_running_losses)} Acc: {train_correct/train_total}')\n",
    "    \n",
    "    model.eval()\n",
    "    with torch.no_grad():\n",
    "        val_running_losses = []\n",
    "        val_total = 0\n",
    "        val_correct = 0\n",
    "        \n",
    "        for batch in tqdm(val_dataloader, leave=False):\n",
    "            batch = {k: v.to(device) for k, v in batch.items()}\n",
    "            outputs = model(**batch)\n",
    "            loss = outputs.loss\n",
    "            \n",
    "            predicted_labels = outputs.logits.argmax(dim=1)\n",
    "            \n",
    "            val_total += batch['labels'].size(0)\n",
    "            val_correct += (predicted_labels == batch['labels']).sum().item()\n",
    "            val_running_losses.append(loss.item())\n",
    "        \n",
    "        val_losses.append(sum(val_running_losses) / len(val_running_losses))\n",
    "        val_accuracy.append(val_correct / val_total)\n",
    "        print(f'VAL: Epoch [{epoch+1}/{epochs}] Loss: {sum(val_running_losses)/len(val_running_losses)} Acc: {val_correct/val_total}')\n",
    "    \n",
    "    if include_dev:\n",
    "        print('TESTING...')\n",
    "        test_losses = []\n",
    "        test_accuracy = []\n",
    "        \n",
    "        model.eval()\n",
    "        with torch.no_grad():\n",
    "            test_running_losses = []\n",
    "            test_total = 0\n",
    "            test_correct = 0\n",
    "            \n",
    "            for batch in test_dataloader:\n",
    "                batch = {k: v.to(device) for k, v in batch.items()}\n",
    "                outputs = model(**batch)\n",
    "                loss = outputs.loss\n",
    "                \n",
    "                predicted_labels = outputs.logits.argmax(dim=1)\n",
    "                \n",
    "                test_total += batch['labels'].size(0)\n",
    "                test_correct += (predicted_labels == batch['labels']).sum().item()\n",
    "                test_running_losses.append(loss.item())\n",
    "            \n",
    "            test_losses.append(sum(test_running_losses) / len(test_running_losses))\n",
    "            test_accuracy.append(test_correct / test_total)\n",
    "            print(f'TEST: Epoch [{epoch+1}/{epochs}] Loss: {sum(test_running_losses)/len(test_running_losses)} Acc: {test_correct/test_total}')\n",
    "            \n",
    "plot_training(train_losses, train_accuracy, val_losses, val_accuracy)"
   ]
  },
  {
   "cell_type": "code",
   "execution_count": 7,
   "metadata": {},
   "outputs": [
    {
     "name": "stderr",
     "output_type": "stream",
     "text": [
      "                                                 \r"
     ]
    },
    {
     "name": "stdout",
     "output_type": "stream",
     "text": [
      "TRAIN: Epoch [1/12] Loss: 0.6840397004038096 Acc: 0.548046875\n"
     ]
    },
    {
     "name": "stderr",
     "output_type": "stream",
     "text": [
      "                                               \r"
     ]
    },
    {
     "name": "stdout",
     "output_type": "stream",
     "text": [
      "VAL: Epoch [1/12] Loss: 0.6656122401356697 Acc: 0.571875\n"
     ]
    },
    {
     "name": "stderr",
     "output_type": "stream",
     "text": [
      "                                                 \r"
     ]
    },
    {
     "name": "stdout",
     "output_type": "stream",
     "text": [
      "TRAIN: Epoch [2/12] Loss: 0.66269860137254 Acc: 0.600390625\n"
     ]
    },
    {
     "name": "stderr",
     "output_type": "stream",
     "text": [
      "                                               \r"
     ]
    },
    {
     "name": "stdout",
     "output_type": "stream",
     "text": [
      "VAL: Epoch [2/12] Loss: 0.6540285274386406 Acc: 0.6265625\n"
     ]
    },
    {
     "name": "stderr",
     "output_type": "stream",
     "text": [
      "                                                 \r"
     ]
    },
    {
     "name": "stdout",
     "output_type": "stream",
     "text": [
      "TRAIN: Epoch [3/12] Loss: 0.6620131636038422 Acc: 0.61171875\n"
     ]
    },
    {
     "name": "stderr",
     "output_type": "stream",
     "text": [
      "                                               \r"
     ]
    },
    {
     "name": "stdout",
     "output_type": "stream",
     "text": [
      "VAL: Epoch [3/12] Loss: 0.6431932426989079 Acc: 0.6328125\n"
     ]
    },
    {
     "name": "stderr",
     "output_type": "stream",
     "text": [
      "                                                 \r"
     ]
    },
    {
     "name": "stdout",
     "output_type": "stream",
     "text": [
      "TRAIN: Epoch [4/12] Loss: 0.6421731205657124 Acc: 0.636328125\n"
     ]
    },
    {
     "name": "stderr",
     "output_type": "stream",
     "text": [
      "                                               \r"
     ]
    },
    {
     "name": "stdout",
     "output_type": "stream",
     "text": [
      "VAL: Epoch [4/12] Loss: 0.6350597187876701 Acc: 0.64375\n"
     ]
    },
    {
     "name": "stderr",
     "output_type": "stream",
     "text": [
      "                                                 \r"
     ]
    },
    {
     "name": "stdout",
     "output_type": "stream",
     "text": [
      "TRAIN: Epoch [5/12] Loss: 0.5912784239277243 Acc: 0.696484375\n"
     ]
    },
    {
     "name": "stderr",
     "output_type": "stream",
     "text": [
      "                                               \r"
     ]
    },
    {
     "name": "stdout",
     "output_type": "stream",
     "text": [
      "VAL: Epoch [5/12] Loss: 0.6127740614116192 Acc: 0.6671875\n"
     ]
    },
    {
     "name": "stderr",
     "output_type": "stream",
     "text": [
      "                                                 \r"
     ]
    },
    {
     "name": "stdout",
     "output_type": "stream",
     "text": [
      "TRAIN: Epoch [6/12] Loss: 0.49269067458808424 Acc: 0.7671875\n"
     ]
    },
    {
     "name": "stderr",
     "output_type": "stream",
     "text": [
      "                                               \r"
     ]
    },
    {
     "name": "stdout",
     "output_type": "stream",
     "text": [
      "VAL: Epoch [6/12] Loss: 0.6166141651570797 Acc: 0.68125\n"
     ]
    },
    {
     "name": "stderr",
     "output_type": "stream",
     "text": [
      "                                                 \r"
     ]
    },
    {
     "name": "stdout",
     "output_type": "stream",
     "text": [
      "TRAIN: Epoch [7/12] Loss: 0.34874654598534105 Acc: 0.8609375\n"
     ]
    },
    {
     "name": "stderr",
     "output_type": "stream",
     "text": [
      "                                               \r"
     ]
    },
    {
     "name": "stdout",
     "output_type": "stream",
     "text": [
      "VAL: Epoch [7/12] Loss: 0.6932690270245075 Acc: 0.671875\n"
     ]
    },
    {
     "name": "stderr",
     "output_type": "stream",
     "text": [
      "                                                 \r"
     ]
    },
    {
     "name": "stdout",
     "output_type": "stream",
     "text": [
      "TRAIN: Epoch [8/12] Loss: 0.2388269007205963 Acc: 0.911328125\n"
     ]
    },
    {
     "name": "stderr",
     "output_type": "stream",
     "text": [
      "                                               \r"
     ]
    },
    {
     "name": "stdout",
     "output_type": "stream",
     "text": [
      "VAL: Epoch [8/12] Loss: 0.8658045962452888 Acc: 0.665625\n"
     ]
    },
    {
     "name": "stderr",
     "output_type": "stream",
     "text": [
      "                                                 \r"
     ]
    },
    {
     "name": "stdout",
     "output_type": "stream",
     "text": [
      "TRAIN: Epoch [9/12] Loss: 0.15504370096605272 Acc: 0.948046875\n"
     ]
    },
    {
     "name": "stderr",
     "output_type": "stream",
     "text": [
      "                                               \r"
     ]
    },
    {
     "name": "stdout",
     "output_type": "stream",
     "text": [
      "VAL: Epoch [9/12] Loss: 1.2236308328807355 Acc: 0.625\n"
     ]
    },
    {
     "name": "stderr",
     "output_type": "stream",
     "text": [
      "                                                 \r"
     ]
    },
    {
     "name": "stdout",
     "output_type": "stream",
     "text": [
      "TRAIN: Epoch [10/12] Loss: 0.1287789208930917 Acc: 0.9515625\n"
     ]
    },
    {
     "name": "stderr",
     "output_type": "stream",
     "text": [
      "                                               \r"
     ]
    },
    {
     "name": "stdout",
     "output_type": "stream",
     "text": [
      "VAL: Epoch [10/12] Loss: 1.003816683590412 Acc: 0.6625\n"
     ]
    },
    {
     "name": "stderr",
     "output_type": "stream",
     "text": [
      "                                                 \r"
     ]
    },
    {
     "name": "stdout",
     "output_type": "stream",
     "text": [
      "TRAIN: Epoch [11/12] Loss: 0.08907036123564467 Acc: 0.97421875\n"
     ]
    },
    {
     "name": "stderr",
     "output_type": "stream",
     "text": [
      "                                               \r"
     ]
    },
    {
     "name": "stdout",
     "output_type": "stream",
     "text": [
      "VAL: Epoch [11/12] Loss: 1.0944314870983363 Acc: 0.6546875\n"
     ]
    },
    {
     "name": "stderr",
     "output_type": "stream",
     "text": [
      "                                                 \r"
     ]
    },
    {
     "name": "stdout",
     "output_type": "stream",
     "text": [
      "TRAIN: Epoch [12/12] Loss: 0.07408369309268892 Acc: 0.976171875\n"
     ]
    },
    {
     "name": "stderr",
     "output_type": "stream",
     "text": [
      "                                               \r"
     ]
    },
    {
     "name": "stdout",
     "output_type": "stream",
     "text": [
      "VAL: Epoch [12/12] Loss: 1.1286551743745803 Acc: 0.6484375\n"
     ]
    },
    {
     "data": {
      "image/png": "[encoded data removed]",
      "text/plain": [
       "<Figure size 1200x500 with 2 Axes>"
      ]
     },
     "metadata": {},
     "output_type": "display_data"
    }
   ],
   "source": [
    "model = BertClassifier(num_classes=n_labels)\n",
    "optimizer = torch.optim.Adam(params=model.parameters(), lr=lr)\n",
    "criterion = nn.CrossEntropyLoss()\n",
    "train_losses = []\n",
    "train_accuracy = []\n",
    "val_losses = []\n",
    "val_accuracy = []\n",
    "\n",
    "model.to(device)\n",
    "\n",
    "for epoch in range(epochs):\n",
    "    train_running_losses = []\n",
    "    train_total = 0\n",
    "    train_correct = 0\n",
    "    \n",
    "    model.train()\n",
    "    for batch in tqdm(train_dataloader, leave=False):\n",
    "        batch = {k: v.to(device) for k, v in batch.items()}\n",
    "        outputs = model(batch['input_ids'], batch['attention_mask'])\n",
    "        batch_loss = criterion(outputs, batch['labels'].long())\n",
    "        train_running_losses.append(batch_loss.item())\n",
    "        \n",
    "        acc = (outputs.argmax(dim=1) == batch['labels']).sum().item()\n",
    "        train_correct += acc\n",
    "        train_total += len(batch['input_ids'])\n",
    "        \n",
    "        optimizer.zero_grad()\n",
    "        batch_loss.backward()\n",
    "        optimizer.step()\n",
    "    \n",
    "    train_losses.append(sum(train_running_losses) / len(train_running_losses))\n",
    "    train_accuracy.append(train_correct / train_total)\n",
    "    print(f'TRAIN: Epoch [{epoch + 1}/{epochs}] Loss: {sum(train_running_losses) / len(train_running_losses)} Acc: {train_correct / train_total}')\n",
    "    \n",
    "    model.eval()\n",
    "    with torch.no_grad():\n",
    "        val_running_losses = []\n",
    "        val_total = 0\n",
    "        val_correct = 0\n",
    "        \n",
    "        for batch in tqdm(val_dataloader, leave=False):\n",
    "            batch = {k: v.to(device) for k, v in batch.items()}\n",
    "            outputs = model(batch['input_ids'], batch['attention_mask'])\n",
    "            batch_loss = criterion(outputs, batch['labels'].long())\n",
    "            val_running_losses.append(batch_loss.item())\n",
    "            \n",
    "            acc = (outputs.argmax(dim=1) == batch['labels']).sum().item()\n",
    "            val_correct += acc\n",
    "            val_total += len(batch['input_ids'])\n",
    "        \n",
    "        val_losses.append(sum(val_running_losses) / len(val_running_losses))\n",
    "        val_accuracy.append(val_correct / val_total)\n",
    "        print(f'VAL: Epoch [{epoch + 1}/{epochs}] Loss: {sum(val_running_losses) / len(val_running_losses)} Acc: {val_correct / val_total}')\n",
    "\n",
    "if include_dev:\n",
    "    print('TESTING')\n",
    "    model.eval()\n",
    "    with torch.no_grad():\n",
    "        test_running_losses = []\n",
    "        test_total = 0\n",
    "        test_correct = 0\n",
    "        for batch in test_dataloader:\n",
    "            batch = {k: v.to(device) for k, v in batch.items()}\n",
    "            outputs = model(batch['input_ids'], batch['attention_mask'])\n",
    "            batch_loss=criterion(outputs,batch['labels'].long())\n",
    "            \n",
    "            \n",
    "            test_total+=len(batch['input_ids'])\n",
    "            \n",
    "            \n",
    "            acc=(outputs.argmax(dim=1)==batch['labels']).sum().item()\n",
    "            test_correct+=acc\n",
    "\n",
    "\n",
    "\n",
    "            test_running_losses.append(batch_loss.item())\n",
    "\n",
    "        test_losses.append(sum(test_running_losses)/len(test_running_losses))\n",
    "        test_accuracy.append(test_correct/test_total)\n",
    "\n",
    "    print(f'TEST: Epoch [{epoch + 1}/{epochs}] Loss: {sum(test_running_losses)/len(test_running_losses)} Acc: {test_correct/test_total}')\n",
    "plot_training(train_losses, train_accuracy, val_losses, val_accuracy)"
   ]
  },
  {
   "cell_type": "code",
   "execution_count": 8,
   "metadata": {},
   "outputs": [
    {
     "name": "stderr",
     "output_type": "stream",
     "text": [
      "                                                 \r"
     ]
    },
    {
     "name": "stdout",
     "output_type": "stream",
     "text": [
      "TRAIN: Epoch [1/12] Loss: 0.6928375825285912 Acc: 0.50703125\n"
     ]
    },
    {
     "name": "stderr",
     "output_type": "stream",
     "text": [
      "                                               \r"
     ]
    },
    {
     "name": "stdout",
     "output_type": "stream",
     "text": [
      "VAL: Epoch [1/12] Loss: 0.6872401252388954 Acc: 0.6140625\n"
     ]
    },
    {
     "name": "stderr",
     "output_type": "stream",
     "text": [
      "                                                 \r"
     ]
    },
    {
     "name": "stdout",
     "output_type": "stream",
     "text": [
      "TRAIN: Epoch [2/12] Loss: 0.6774702917784452 Acc: 0.61015625\n"
     ]
    },
    {
     "name": "stderr",
     "output_type": "stream",
     "text": [
      "                                               \r"
     ]
    },
    {
     "name": "stdout",
     "output_type": "stream",
     "text": [
      "VAL: Epoch [2/12] Loss: 0.6716835871338844 Acc: 0.628125\n"
     ]
    },
    {
     "name": "stderr",
     "output_type": "stream",
     "text": [
      "                                                 \r"
     ]
    },
    {
     "name": "stdout",
     "output_type": "stream",
     "text": [
      "TRAIN: Epoch [3/12] Loss: 0.662690793350339 Acc: 0.63359375\n"
     ]
    },
    {
     "name": "stderr",
     "output_type": "stream",
     "text": [
      "                                               \r"
     ]
    },
    {
     "name": "stdout",
     "output_type": "stream",
     "text": [
      "VAL: Epoch [3/12] Loss: 0.6589634835720062 Acc: 0.621875\n"
     ]
    },
    {
     "name": "stderr",
     "output_type": "stream",
     "text": [
      "                                                 \r"
     ]
    },
    {
     "name": "stdout",
     "output_type": "stream",
     "text": [
      "TRAIN: Epoch [4/12] Loss: 0.642702867090702 Acc: 0.6609375\n"
     ]
    },
    {
     "name": "stderr",
     "output_type": "stream",
     "text": [
      "                                               \r"
     ]
    },
    {
     "name": "stdout",
     "output_type": "stream",
     "text": [
      "VAL: Epoch [4/12] Loss: 0.6621029630303383 Acc: 0.60625\n"
     ]
    },
    {
     "name": "stderr",
     "output_type": "stream",
     "text": [
      "                                                 \r"
     ]
    },
    {
     "name": "stdout",
     "output_type": "stream",
     "text": [
      "TRAIN: Epoch [5/12] Loss: 0.6210170639678836 Acc: 0.690625\n"
     ]
    },
    {
     "name": "stderr",
     "output_type": "stream",
     "text": [
      "                                               \r"
     ]
    },
    {
     "name": "stdout",
     "output_type": "stream",
     "text": [
      "VAL: Epoch [5/12] Loss: 0.7048458978533745 Acc: 0.5671875\n"
     ]
    },
    {
     "name": "stderr",
     "output_type": "stream",
     "text": [
      "                                                 \r"
     ]
    },
    {
     "name": "stdout",
     "output_type": "stream",
     "text": [
      "TRAIN: Epoch [6/12] Loss: 0.5937637988477945 Acc: 0.726171875\n"
     ]
    },
    {
     "name": "stderr",
     "output_type": "stream",
     "text": [
      "                                               \r"
     ]
    },
    {
     "name": "stdout",
     "output_type": "stream",
     "text": [
      "VAL: Epoch [6/12] Loss: 0.6531563505530358 Acc: 0.634375\n"
     ]
    },
    {
     "name": "stderr",
     "output_type": "stream",
     "text": [
      "                                                 \r"
     ]
    },
    {
     "name": "stdout",
     "output_type": "stream",
     "text": [
      "TRAIN: Epoch [7/12] Loss: 0.5531927201896906 Acc: 0.769140625\n"
     ]
    },
    {
     "name": "stderr",
     "output_type": "stream",
     "text": [
      "                                               \r"
     ]
    },
    {
     "name": "stdout",
     "output_type": "stream",
     "text": [
      "VAL: Epoch [7/12] Loss: 0.6327591471374034 Acc: 0.665625\n"
     ]
    },
    {
     "name": "stderr",
     "output_type": "stream",
     "text": [
      "                                                 \r"
     ]
    },
    {
     "name": "stdout",
     "output_type": "stream",
     "text": [
      "TRAIN: Epoch [8/12] Loss: 0.5268130552023649 Acc: 0.795703125\n"
     ]
    },
    {
     "name": "stderr",
     "output_type": "stream",
     "text": [
      "                                               \r"
     ]
    },
    {
     "name": "stdout",
     "output_type": "stream",
     "text": [
      "VAL: Epoch [8/12] Loss: 0.6157613337039948 Acc: 0.6875\n"
     ]
    },
    {
     "name": "stderr",
     "output_type": "stream",
     "text": [
      "                                                 \r"
     ]
    },
    {
     "name": "stdout",
     "output_type": "stream",
     "text": [
      "TRAIN: Epoch [9/12] Loss: 0.4915252786129713 Acc: 0.83046875\n"
     ]
    },
    {
     "name": "stderr",
     "output_type": "stream",
     "text": [
      "                                               \r"
     ]
    },
    {
     "name": "stdout",
     "output_type": "stream",
     "text": [
      "VAL: Epoch [9/12] Loss: 0.6146183922886849 Acc: 0.6890625\n"
     ]
    },
    {
     "name": "stderr",
     "output_type": "stream",
     "text": [
      "                                                 \r"
     ]
    },
    {
     "name": "stdout",
     "output_type": "stream",
     "text": [
      "TRAIN: Epoch [10/12] Loss: 0.4646534912288189 Acc: 0.860546875\n"
     ]
    },
    {
     "name": "stderr",
     "output_type": "stream",
     "text": [
      "                                               \r"
     ]
    },
    {
     "name": "stdout",
     "output_type": "stream",
     "text": [
      "VAL: Epoch [10/12] Loss: 0.648902852088213 Acc: 0.6546875\n"
     ]
    },
    {
     "name": "stderr",
     "output_type": "stream",
     "text": [
      "                                                 \r"
     ]
    },
    {
     "name": "stdout",
     "output_type": "stream",
     "text": [
      "TRAIN: Epoch [11/12] Loss: 0.4573596762493253 Acc: 0.863671875\n"
     ]
    },
    {
     "name": "stderr",
     "output_type": "stream",
     "text": [
      "                                               \r"
     ]
    },
    {
     "name": "stdout",
     "output_type": "stream",
     "text": [
      "VAL: Epoch [11/12] Loss: 0.6556538298726082 Acc: 0.65\n"
     ]
    },
    {
     "name": "stderr",
     "output_type": "stream",
     "text": [
      "                                                 \r"
     ]
    },
    {
     "name": "stdout",
     "output_type": "stream",
     "text": [
      "TRAIN: Epoch [12/12] Loss: 0.4614076489582658 Acc: 0.85703125\n"
     ]
    },
    {
     "name": "stderr",
     "output_type": "stream",
     "text": [
      "                                               \r"
     ]
    },
    {
     "name": "stdout",
     "output_type": "stream",
     "text": [
      "VAL: Epoch [12/12] Loss: 0.6919141829013824 Acc: 0.615625\n"
     ]
    },
    {
     "data": {
      "image/png": "[encoded data removed]",
      "text/plain": [
       "<Figure size 1200x500 with 2 Axes>"
      ]
     },
     "metadata": {},
     "output_type": "display_data"
    }
   ],
   "source": [
    "class BertClassifier_2(nn.Module):\n",
    "    def __init__(self, dropout=0.5, num_classes=2):\n",
    "        super().__init__()\n",
    "        self.bert = BertModel.from_pretrained('bert-base-uncased')\n",
    "        self.dropout = nn.Dropout(dropout)\n",
    "        self.linear_1 = nn.Linear(768, 128)\n",
    "        self.relu=nn.ReLU()\n",
    "        self.linear_2 = nn.Linear(128, num_classes)\n",
    "\n",
    "        if num_classes == 2:\n",
    "            self.activation = nn.Sigmoid()\n",
    "        else:\n",
    "            self.activation = nn.Softmax(dim=1)\n",
    "\n",
    "    def forward(self, input_id, mask):\n",
    "        last_hidden_layer, pooled_output = self.bert(input_ids=input_id, attention_mask=mask, return_dict=False)\n",
    "        dropout_output = self.dropout(pooled_output)\n",
    "        linear_output_1 = self.linear_1(dropout_output)\n",
    "        relu_applied = self.relu(linear_output_1)\n",
    "        dropout_l = self.dropout(relu_applied)\n",
    "        linear_output_2 = self.linear_2(dropout_l)\n",
    "        final_layer = self.activation(linear_output_2)\n",
    "        return final_layer\n",
    "    \n",
    "    \n",
    "model=BertClassifier_2(num_classes=n_labels)\n",
    "optimizer = torch.optim.Adam(params=model.parameters(), lr=lr)\n",
    "criterion = nn.CrossEntropyLoss()\n",
    "train_losses = []\n",
    "train_accuracy = []\n",
    "val_losses = []\n",
    "val_accuracy = []\n",
    "\n",
    "model.to(device)\n",
    "\n",
    "for epoch in range(epochs):\n",
    "    train_running_losses = []\n",
    "    train_total = 0\n",
    "    train_correct = 0\n",
    "    \n",
    "    model.train()\n",
    "    for batch in tqdm(train_dataloader, leave=False):\n",
    "        batch = {k: v.to(device) for k, v in batch.items()}\n",
    "        outputs = model(batch['input_ids'], batch['attention_mask'])\n",
    "        batch_loss = criterion(outputs, batch['labels'].long())\n",
    "        train_running_losses.append(batch_loss.item())\n",
    "        \n",
    "        acc = (outputs.argmax(dim=1) == batch['labels']).sum().item()\n",
    "        train_correct += acc\n",
    "        train_total += len(batch['input_ids'])\n",
    "        \n",
    "        optimizer.zero_grad()\n",
    "        batch_loss.backward()\n",
    "        optimizer.step()\n",
    "    \n",
    "    train_losses.append(sum(train_running_losses) / len(train_running_losses))\n",
    "    train_accuracy.append(train_correct / train_total)\n",
    "    print(f'TRAIN: Epoch [{epoch + 1}/{epochs}] Loss: {sum(train_running_losses) / len(train_running_losses)} Acc: {train_correct / train_total}')\n",
    "    \n",
    "    model.eval()\n",
    "    with torch.no_grad():\n",
    "        val_running_losses = []\n",
    "        val_total = 0\n",
    "        val_correct = 0\n",
    "        \n",
    "        for batch in tqdm(val_dataloader, leave=False):\n",
    "            batch = {k: v.to(device) for k, v in batch.items()}\n",
    "            outputs = model(batch['input_ids'], batch['attention_mask'])\n",
    "            batch_loss = criterion(outputs, batch['labels'].long())\n",
    "            val_running_losses.append(batch_loss.item())\n",
    "            \n",
    "            acc = (outputs.argmax(dim=1) == batch['labels']).sum().item()\n",
    "            val_correct += acc\n",
    "            val_total += len(batch['input_ids'])\n",
    "        \n",
    "        val_losses.append(sum(val_running_losses) / len(val_running_losses))\n",
    "        val_accuracy.append(val_correct / val_total)\n",
    "        print(f'VAL: Epoch [{epoch + 1}/{epochs}] Loss: {sum(val_running_losses) / len(val_running_losses)} Acc: {val_correct / val_total}')\n",
    "\n",
    "plot_training(train_losses, train_accuracy, val_losses, val_accuracy)"
   ]
  },
  {
   "cell_type": "code",
   "execution_count": null,
   "metadata": {},
   "outputs": [],
   "source": []
  },
  {
   "cell_type": "code",
   "execution_count": null,
   "metadata": {},
   "outputs": [],
   "source": []
  }
 ],
 "metadata": {
  "kernelspec": {
   "display_name": "Python 3",
   "language": "python",
   "name": "python3"
  },
  "language_info": {
   "codemirror_mode": {
    "name": "ipython",
    "version": 3
   },
   "file_extension": ".py",
   "mimetype": "text/x-python",
   "name": "python",
   "nbconvert_exporter": "python",
   "pygments_lexer": "ipython3",
   "version": "3.11.4"
  }
 },
 "nbformat": 4,
 "nbformat_minor": 2
}
