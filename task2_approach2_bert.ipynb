{
  "cells": [
    {
      "cell_type": "code",
      "execution_count": 1,
      "metadata": {
        "id": "gdWHfLCaVsr7"
      },
      "outputs": [
        {
          "name": "stderr",
          "output_type": "stream",
          "text": [
            "2024-05-02 09:04:30.061420: I tensorflow/core/platform/cpu_feature_guard.cc:210] This TensorFlow binary is optimized to use available CPU instructions in performance-critical operations.\n",
            "To enable the following instructions: AVX2 FMA, in other operations, rebuild TensorFlow with the appropriate compiler flags.\n"
          ]
        },
        {
          "name": "stdout",
          "output_type": "stream",
          "text": [
            "cpu\n"
          ]
        },
        {
          "name": "stderr",
          "output_type": "stream",
          "text": [
            "[nltk_data] Downloading package punkt to /Users/rfd/nltk_data...\n",
            "[nltk_data]   Package punkt is already up-to-date!\n"
          ]
        }
      ],
      "source": [
        "from transformers import BertTokenizer, BertForSequenceClassification\n",
        "import torch\n",
        "from tqdm import tqdm\n",
        "from torchvision import datasets\n",
        "from torch.utils.data import DataLoader\n",
        "from torch import nn\n",
        "from torch.nn import functional as F\n",
        "\n",
        "from utils import *\n",
        "\n",
        "device = 'cuda' if torch.cuda.is_available() else 'cpu'\n",
        "print(device)"
      ]
    },
    {
      "cell_type": "code",
      "execution_count": 2,
      "metadata": {
        "id": "JVGC1qIDVsr9"
      },
      "outputs": [],
      "source": [
        "epochs = 3\n",
        "lr = 0.1\n",
        "n_labels = 9\n",
        "manual_loss= False"
      ]
    },
    {
      "cell_type": "code",
      "execution_count": 3,
      "metadata": {},
      "outputs": [],
      "source": [
        "label_to_id = {'flag_waving': 0, 'exaggeration,minimisation': 1, 'causal_oversimplification': 2, 'name_calling,labeling': 3, 'repetition': 4, 'doubt': 5, 'not_propaganda': 6, 'loaded_language': 7, 'appeal_to_fear_prejudice': 8}\n",
        "id_to_label = {0: 'flag_waving', 1: 'exaggeration,minimisation', 2: 'causal_oversimplification', 3: 'name_calling,labeling', 4: 'repetition', 5: 'doubt', 6: 'not_propaganda', 7: 'loaded_language', 8: 'appeal_to_fear_prejudice'}\n"
      ]
    },
    {
      "cell_type": "code",
      "execution_count": 4,
      "metadata": {
        "id": "CXNJDNOBVssA"
      },
      "outputs": [
        {
          "name": "stdout",
          "output_type": "stream",
          "text": [
            "2560\n",
            "2560\n",
            "[6, 6, 0, 6, 6]\n",
            "['he', 'won’t make things any worse than they are for President Trump.', 'American people', 'and', 'Location: Westerville, Ohio']\n",
            "640\n",
            "640\n",
            "[6, 2, 8, 6, 4]\n",
            "['according to a UN estimate.', 'the country would not last long without an outside high IQ elite to run the country', 'gets Earl Warren and Sen. Richard Russel to join the Warren Commission by telling them that the assassination could lead to World War III', 'You', 'infidels']\n"
          ]
        }
      ],
      "source": [
        "include_dev=False\n",
        "tokenizer = BertTokenizer.from_pretrained('bert-base-cased')\n",
        "batch_size_train = 8\n",
        "batch_size_test = 8\n",
        "batch_size_dev = 8\n",
        "\n",
        "if include_dev:\n",
        "    train_df, val_df, test_df = get_processed_data(dev=True)\n",
        "\n",
        "    train_df= get_cols_for_bert(train_df, 'snip')\n",
        "    val_df= get_cols_for_bert(val_df, 'snip')\n",
        "    test_df= get_cols_for_bert(test_df, 'snip')\n",
        "\n",
        "    train_input_embeddings_labelled = format_and_tokenise_from_df(train_df, tokenizer, task='snip', max_len=64)\n",
        "    val_input_embeddings_labelled = format_and_tokenise_from_df(val_df, tokenizer, task='snip', max_len=64)\n",
        "    test_input_embeddings_labelled = format_and_tokenise_from_df(test_df, tokenizer, task='snip', max_len=64)\n",
        "\n",
        "    train_dataset = CustomPropagandaDataset(train_input_embeddings_labelled)\n",
        "    test_dataset = CustomPropagandaDataset(test_input_embeddings_labelled)\n",
        "    val_dataset = CustomPropagandaDataset(val_input_embeddings_labelled)\n",
        "\n",
        "\n",
        "\n",
        "    train_dataloader = DataLoader(train_dataset, batch_size=batch_size_train, shuffle=True)\n",
        "    test_dataloader = DataLoader(test_dataset, batch_size=batch_size_test, shuffle=True)\n",
        "    val_dataloader = DataLoader(val_dataset, batch_size=batch_size_dev, shuffle=True)\n",
        "\n",
        "\n",
        "else:\n",
        "    train_df, val_df = get_processed_data(dev=False)\n",
        "\n",
        "    train_df= get_cols_for_bert(train_df, 'snip')\n",
        "    val_df= get_cols_for_bert(val_df, 'snip')\n",
        "\n",
        "    train_input_embeddings_labelled = format_and_tokenise_from_df(train_df, tokenizer, task='snip', max_len=64)\n",
        "    val_input_embeddings_labelled = format_and_tokenise_from_df(val_df, tokenizer, task='snip', max_len=64)\n",
        "\n",
        "    train_dataset = CustomPropagandaDataset(train_input_embeddings_labelled)\n",
        "    val_dataset = CustomPropagandaDataset(val_input_embeddings_labelled)\n",
        "\n",
        "    train_dataloader = DataLoader(train_dataset, batch_size=batch_size_train, shuffle=True)\n",
        "    val_dataloader = DataLoader(val_dataset, batch_size=batch_size_dev, shuffle=True)\n",
        "\n",
        "\n"
      ]
    },
    {
      "cell_type": "code",
      "execution_count": 6,
      "metadata": {
        "id": "jSq4a21UVssB"
      },
      "outputs": [
        {
          "name": "stderr",
          "output_type": "stream",
          "text": [
            "Some weights of the model checkpoint at bert-base-uncased were not used when initializing BertForSequenceClassification: ['cls.predictions.transform.dense.weight', 'cls.predictions.transform.dense.bias', 'cls.seq_relationship.weight', 'cls.predictions.bias', 'cls.predictions.transform.LayerNorm.weight', 'cls.predictions.transform.LayerNorm.bias', 'cls.seq_relationship.bias']\n",
            "- This IS expected if you are initializing BertForSequenceClassification from the checkpoint of a model trained on another task or with another architecture (e.g. initializing a BertForSequenceClassification model from a BertForPreTraining model).\n",
            "- This IS NOT expected if you are initializing BertForSequenceClassification from the checkpoint of a model that you expect to be exactly identical (initializing a BertForSequenceClassification model from a BertForSequenceClassification model).\n",
            "Some weights of BertForSequenceClassification were not initialized from the model checkpoint at bert-base-uncased and are newly initialized: ['classifier.bias', 'classifier.weight']\n",
            "You should probably TRAIN this model on a down-stream task to be able to use it for predictions and inference.\n",
            "  2%|▎         | 8/320 [01:56<1:15:40, 14.55s/it]\n"
          ]
        },
        {
          "ename": "KeyboardInterrupt",
          "evalue": "",
          "output_type": "error",
          "traceback": [
            "\u001b[0;31m---------------------------------------------------------------------------\u001b[0m",
            "\u001b[0;31mKeyboardInterrupt\u001b[0m                         Traceback (most recent call last)",
            "Cell \u001b[0;32mIn[6], line 27\u001b[0m\n\u001b[1;32m     24\u001b[0m \u001b[38;5;28;01melse\u001b[39;00m:\n\u001b[1;32m     25\u001b[0m     loss \u001b[38;5;241m=\u001b[39m outputs\u001b[38;5;241m.\u001b[39mloss\n\u001b[0;32m---> 27\u001b[0m \u001b[43mloss\u001b[49m\u001b[38;5;241;43m.\u001b[39;49m\u001b[43mbackward\u001b[49m\u001b[43m(\u001b[49m\u001b[43m)\u001b[49m\n\u001b[1;32m     28\u001b[0m optimizer\u001b[38;5;241m.\u001b[39mstep()\n\u001b[1;32m     29\u001b[0m optimizer\u001b[38;5;241m.\u001b[39mzero_grad()\n",
            "File \u001b[0;32m/Library/Frameworks/Python.framework/Versions/3.11/lib/python3.11/site-packages/torch/_tensor.py:522\u001b[0m, in \u001b[0;36mTensor.backward\u001b[0;34m(self, gradient, retain_graph, create_graph, inputs)\u001b[0m\n\u001b[1;32m    512\u001b[0m \u001b[38;5;28;01mif\u001b[39;00m has_torch_function_unary(\u001b[38;5;28mself\u001b[39m):\n\u001b[1;32m    513\u001b[0m     \u001b[38;5;28;01mreturn\u001b[39;00m handle_torch_function(\n\u001b[1;32m    514\u001b[0m         Tensor\u001b[38;5;241m.\u001b[39mbackward,\n\u001b[1;32m    515\u001b[0m         (\u001b[38;5;28mself\u001b[39m,),\n\u001b[0;32m   (...)\u001b[0m\n\u001b[1;32m    520\u001b[0m         inputs\u001b[38;5;241m=\u001b[39minputs,\n\u001b[1;32m    521\u001b[0m     )\n\u001b[0;32m--> 522\u001b[0m \u001b[43mtorch\u001b[49m\u001b[38;5;241;43m.\u001b[39;49m\u001b[43mautograd\u001b[49m\u001b[38;5;241;43m.\u001b[39;49m\u001b[43mbackward\u001b[49m\u001b[43m(\u001b[49m\n\u001b[1;32m    523\u001b[0m \u001b[43m    \u001b[49m\u001b[38;5;28;43mself\u001b[39;49m\u001b[43m,\u001b[49m\u001b[43m \u001b[49m\u001b[43mgradient\u001b[49m\u001b[43m,\u001b[49m\u001b[43m \u001b[49m\u001b[43mretain_graph\u001b[49m\u001b[43m,\u001b[49m\u001b[43m \u001b[49m\u001b[43mcreate_graph\u001b[49m\u001b[43m,\u001b[49m\u001b[43m \u001b[49m\u001b[43minputs\u001b[49m\u001b[38;5;241;43m=\u001b[39;49m\u001b[43minputs\u001b[49m\n\u001b[1;32m    524\u001b[0m \u001b[43m\u001b[49m\u001b[43m)\u001b[49m\n",
            "File \u001b[0;32m/Library/Frameworks/Python.framework/Versions/3.11/lib/python3.11/site-packages/torch/autograd/__init__.py:266\u001b[0m, in \u001b[0;36mbackward\u001b[0;34m(tensors, grad_tensors, retain_graph, create_graph, grad_variables, inputs)\u001b[0m\n\u001b[1;32m    261\u001b[0m     retain_graph \u001b[38;5;241m=\u001b[39m create_graph\n\u001b[1;32m    263\u001b[0m \u001b[38;5;66;03m# The reason we repeat the same comment below is that\u001b[39;00m\n\u001b[1;32m    264\u001b[0m \u001b[38;5;66;03m# some Python versions print out the first line of a multi-line function\u001b[39;00m\n\u001b[1;32m    265\u001b[0m \u001b[38;5;66;03m# calls in the traceback and some print out the last line\u001b[39;00m\n\u001b[0;32m--> 266\u001b[0m \u001b[43mVariable\u001b[49m\u001b[38;5;241;43m.\u001b[39;49m\u001b[43m_execution_engine\u001b[49m\u001b[38;5;241;43m.\u001b[39;49m\u001b[43mrun_backward\u001b[49m\u001b[43m(\u001b[49m\u001b[43m  \u001b[49m\u001b[38;5;66;43;03m# Calls into the C++ engine to run the backward pass\u001b[39;49;00m\n\u001b[1;32m    267\u001b[0m \u001b[43m    \u001b[49m\u001b[43mtensors\u001b[49m\u001b[43m,\u001b[49m\n\u001b[1;32m    268\u001b[0m \u001b[43m    \u001b[49m\u001b[43mgrad_tensors_\u001b[49m\u001b[43m,\u001b[49m\n\u001b[1;32m    269\u001b[0m \u001b[43m    \u001b[49m\u001b[43mretain_graph\u001b[49m\u001b[43m,\u001b[49m\n\u001b[1;32m    270\u001b[0m \u001b[43m    \u001b[49m\u001b[43mcreate_graph\u001b[49m\u001b[43m,\u001b[49m\n\u001b[1;32m    271\u001b[0m \u001b[43m    \u001b[49m\u001b[43minputs\u001b[49m\u001b[43m,\u001b[49m\n\u001b[1;32m    272\u001b[0m \u001b[43m    \u001b[49m\u001b[43mallow_unreachable\u001b[49m\u001b[38;5;241;43m=\u001b[39;49m\u001b[38;5;28;43;01mTrue\u001b[39;49;00m\u001b[43m,\u001b[49m\n\u001b[1;32m    273\u001b[0m \u001b[43m    \u001b[49m\u001b[43maccumulate_grad\u001b[49m\u001b[38;5;241;43m=\u001b[39;49m\u001b[38;5;28;43;01mTrue\u001b[39;49;00m\u001b[43m,\u001b[49m\n\u001b[1;32m    274\u001b[0m \u001b[43m\u001b[49m\u001b[43m)\u001b[49m\n",
            "\u001b[0;31mKeyboardInterrupt\u001b[0m: "
          ]
        }
      ],
      "source": [
        "model = BertForSequenceClassification.from_pretrained('bert-base-uncased', num_labels=n_labels)\n",
        "optimizer = torch.optim.Adam(params=model.parameters(), lr=lr)\n",
        "criterion = nn.CrossEntropyLoss()\n",
        "\n",
        "train_losses = []\n",
        "train_accuracy = []\n",
        "val_losses = []\n",
        "val_accuracy = []\n",
        "\n",
        "model.to(device)\n",
        "\n",
        "for epoch in range(epochs):\n",
        "    train_running_losses = []\n",
        "    train_total = 0\n",
        "    train_correct = 0\n",
        "    \n",
        "    model.train()\n",
        "    for batch in tqdm(train_dataloader):\n",
        "        batch = {k: v.to(device) for k, v in batch.items()}\n",
        "        outputs = model(**batch)\n",
        "        \n",
        "        if manual_loss:\n",
        "            loss = criterion(outputs.logits, batch['labels'])\n",
        "        else:\n",
        "            loss = outputs.loss\n",
        "        \n",
        "        loss.backward()\n",
        "        optimizer.step()\n",
        "        optimizer.zero_grad()\n",
        "        \n",
        "        _, predicted_labels = torch.max(outputs.logits, dim=1)\n",
        "        train_total += batch['labels'].size(0)\n",
        "        train_correct += (predicted_labels == batch['labels']).sum().item()\n",
        "        train_running_losses.append(loss.item())\n",
        "    \n",
        "    train_losses.append(sum(train_running_losses) / len(train_running_losses))\n",
        "    train_accuracy.append(train_correct / train_total)\n",
        "    print(f'TRAIN: Epoch [{epoch+1}/{epochs}] Loss: {sum(train_running_losses)/len(train_running_losses)} Acc: {train_correct/train_total}')\n",
        "    \n",
        "    model.eval()\n",
        "    with torch.no_grad():\n",
        "        val_running_losses = []\n",
        "        val_total = 0\n",
        "        val_correct = 0\n",
        "        \n",
        "        for batch in tqdm(val_dataloader):\n",
        "            batch = {k: v.to(device) for k, v in batch.items()}\n",
        "            outputs = model(**batch)\n",
        "            loss = outputs.loss\n",
        "            \n",
        "            _, predicted_labels = torch.max(outputs.logits, dim=1)\n",
        "            val_total += batch['labels'].size(0)\n",
        "            val_correct += (predicted_labels == batch['labels']).sum().item()\n",
        "            val_running_losses.append(loss.item())\n",
        "        \n",
        "        val_losses.append(sum(val_running_losses) / len(val_running_losses))\n",
        "        val_accuracy.append(val_correct / val_total)\n",
        "        print(f'VAL: Epoch [{epoch+1}/{epochs}] Loss: {sum(val_running_losses)/len(val_running_losses)} Acc: {val_correct/val_total}')\n",
        "    \n",
        "    if include_dev:\n",
        "        print('TESTING...')\n",
        "        test_losses = []\n",
        "        test_accuracy = []\n",
        "        \n",
        "        model.eval()\n",
        "        with torch.no_grad():\n",
        "            test_running_losses = []\n",
        "            test_total = 0\n",
        "            test_correct = 0\n",
        "            \n",
        "            for batch in test_dataloader:\n",
        "                batch = {k: v.to(device) for k, v in batch.items()}\n",
        "                outputs = model(**batch)\n",
        "                loss = outputs.loss\n",
        "                \n",
        "                _, predicted_labels = torch.max(outputs.logits, dim=1)\n",
        "                test_total += batch['labels'].size(0)\n",
        "                test_correct += (predicted_labels == batch['labels']).sum().item()\n",
        "                test_running_losses.append(loss.item())\n",
        "            \n",
        "            test_losses.append(sum(test_running_losses) / len(test_running_losses))\n",
        "            test_accuracy.append(test_correct / test_total)\n",
        "            print(f'TEST: Epoch [{epoch+1}/{epochs}] Loss: {sum(test_running_losses)/len(test_running_losses)} Acc: {test_correct/test_total}')"
      ]
    },
    {
      "cell_type": "code",
      "execution_count": null,
      "metadata": {},
      "outputs": [],
      "source": []
    }
  ],
  "metadata": {
    "colab": {
      "provenance": []
    },
    "kernelspec": {
      "display_name": "Python 3",
      "language": "python",
      "name": "python3"
    },
    "language_info": {
      "codemirror_mode": {
        "name": "ipython",
        "version": 3
      },
      "file_extension": ".py",
      "mimetype": "text/x-python",
      "name": "python",
      "nbconvert_exporter": "python",
      "pygments_lexer": "ipython3",
      "version": "3.11.8"
    }
  },
  "nbformat": 4,
  "nbformat_minor": 0
}
