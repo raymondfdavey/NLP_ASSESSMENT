{
  "cells": [
    {
      "cell_type": "code",
      "execution_count": 1,
      "metadata": {
        "id": "gdWHfLCaVsr7"
      },
      "outputs": [
        {
          "name": "stderr",
          "output_type": "stream",
          "text": [
            "c:\\ProgramData\\anaconda3\\Lib\\site-packages\\transformers\\utils\\generic.py:311: UserWarning: torch.utils._pytree._register_pytree_node is deprecated. Please use torch.utils._pytree.register_pytree_node instead.\n",
            "  torch.utils._pytree._register_pytree_node(\n"
          ]
        },
        {
          "name": "stdout",
          "output_type": "stream",
          "text": [
            "cuda\n"
          ]
        },
        {
          "name": "stderr",
          "output_type": "stream",
          "text": [
            "[nltk_data] Downloading package punkt to\n",
            "[nltk_data]     C:\\Users\\rd81\\AppData\\Roaming\\nltk_data...\n",
            "[nltk_data]   Package punkt is already up-to-date!\n"
          ]
        }
      ],
      "source": [
        "from transformers import BertTokenizer, BertForSequenceClassification\n",
        "import torch\n",
        "from tqdm import tqdm\n",
        "from torchvision import datasets\n",
        "from torch.utils.data import DataLoader\n",
        "from torch import nn\n",
        "from torch.nn import functional as F\n",
        "\n",
        "from utils import *\n",
        "\n",
        "device = 'cuda' if torch.cuda.is_available() else 'cpu'\n",
        "print(device)"
      ]
    },
    {
      "cell_type": "code",
      "execution_count": 2,
      "metadata": {
        "id": "JVGC1qIDVsr9"
      },
      "outputs": [],
      "source": [
        "epochs = 20\n",
        "lr = 0.00001\n",
        "n_labels = 9\n",
        "manual_loss= False"
      ]
    },
    {
      "cell_type": "code",
      "execution_count": 3,
      "metadata": {},
      "outputs": [],
      "source": [
        "label_to_id = {'flag_waving': 0, 'exaggeration,minimisation': 1, 'causal_oversimplification': 2, 'name_calling,labeling': 3, 'repetition': 4, 'doubt': 5, 'not_propaganda': 6, 'loaded_language': 7, 'appeal_to_fear_prejudice': 8}\n",
        "id_to_label = {0: 'flag_waving', 1: 'exaggeration,minimisation', 2: 'causal_oversimplification', 3: 'name_calling,labeling', 4: 'repetition', 5: 'doubt', 6: 'not_propaganda', 7: 'loaded_language', 8: 'appeal_to_fear_prejudice'}\n"
      ]
    },
    {
      "cell_type": "code",
      "execution_count": 4,
      "metadata": {
        "id": "CXNJDNOBVssA"
      },
      "outputs": [],
      "source": [
        "include_dev=False\n",
        "tokenizer = BertTokenizer.from_pretrained('bert-base-cased')\n",
        "batch_size_train = 16\n",
        "batch_size_test = 16\n",
        "batch_size_dev = 16\n",
        "\n",
        "if include_dev:\n",
        "    train_df, val_df, test_df = get_processed_data(dev=True)\n",
        "\n",
        "    train_df= get_cols_for_bert(train_df, 'snip')\n",
        "    val_df= get_cols_for_bert(val_df, 'snip')\n",
        "    test_df= get_cols_for_bert(test_df, 'snip')\n",
        "\n",
        "    train_input_embeddings_labelled = format_and_tokenise_from_df(train_df,task='snip', max_len=64)\n",
        "    val_input_embeddings_labelled = format_and_tokenise_from_df(val_df,task='snip', max_len=64)\n",
        "    test_input_embeddings_labelled = format_and_tokenise_from_df(test_df,task='snip', max_len=64)\n",
        "\n",
        "    train_dataset = CustomPropagandaDataset(train_input_embeddings_labelled)\n",
        "    test_dataset = CustomPropagandaDataset(test_input_embeddings_labelled)\n",
        "    val_dataset = CustomPropagandaDataset(val_input_embeddings_labelled)\n",
        "\n",
        "\n",
        "\n",
        "    train_dataloader = DataLoader(train_dataset, batch_size=batch_size_train, shuffle=True)\n",
        "    test_dataloader = DataLoader(test_dataset, batch_size=batch_size_test, shuffle=True)\n",
        "    val_dataloader = DataLoader(val_dataset, batch_size=batch_size_dev, shuffle=True)\n",
        "\n",
        "\n",
        "else:\n",
        "    train_df, val_df = get_processed_data(dev=False)\n",
        "\n",
        "    train_df= get_cols_for_bert(train_df, 'snip')\n",
        "    val_df= get_cols_for_bert(val_df, 'snip')\n",
        "\n",
        "    train_input_embeddings_labelled = format_and_tokenise_from_df(train_df,task='snip', max_len=64)\n",
        "    val_input_embeddings_labelled = format_and_tokenise_from_df(val_df,task='snip', max_len=64)\n",
        "\n",
        "    train_dataset = CustomPropagandaDataset(train_input_embeddings_labelled)\n",
        "    val_dataset = CustomPropagandaDataset(val_input_embeddings_labelled)\n",
        "\n",
        "    train_dataloader = DataLoader(train_dataset, batch_size=batch_size_train, shuffle=True)\n",
        "    val_dataloader = DataLoader(val_dataset, batch_size=batch_size_dev, shuffle=True)\n",
        "\n",
        "\n"
      ]
    },
    {
      "cell_type": "code",
      "execution_count": 5,
      "metadata": {},
      "outputs": [],
      "source": [
        "def plot_training(train_losses, train_accuracy, val_losses, val_accuracy):\n",
        "    epochs = range(1, len(train_losses) + 1)\n",
        "\n",
        "    plt.figure(figsize=(12, 5))\n",
        "\n",
        "    plt.subplot(1, 2, 1)\n",
        "    plt.plot(epochs, train_losses, 'b-', label='Training loss')\n",
        "    plt.plot(epochs, val_losses, 'r-', label='Validation loss')\n",
        "    plt.title('Training and Validation Loss')\n",
        "    plt.xlabel('Epochs')\n",
        "    plt.xticks(epochs)  # Set x-axis ticks to only be at each epoch\n",
        "\n",
        "    plt.ylabel('Loss')\n",
        "    plt.legend()\n",
        "\n",
        "    plt.subplot(1, 2, 2)\n",
        "    plt.plot(epochs, train_accuracy, 'b-', label='Training Accuracy')\n",
        "    plt.plot(epochs, val_accuracy, 'r-', label='Validation Accuracy')\n",
        "    plt.title('Training and Validation Accuracy')\n",
        "    plt.xlabel('Epochs')\n",
        "    plt.ylabel('Accuracy')\n",
        "    plt.xticks(epochs)  # Set x-axis ticks to only be at each epoch\n",
        "\n",
        "    plt.ylim(0, 1)  # This sets the y-axis to be between 0 and 1\n",
        "\n",
        "    plt.legend()\n",
        "\n",
        "    plt.tight_layout()\n",
        "    plt.show()\n"
      ]
    },
    {
      "cell_type": "code",
      "execution_count": 6,
      "metadata": {
        "id": "jSq4a21UVssB"
      },
      "outputs": [
        {
          "name": "stderr",
          "output_type": "stream",
          "text": [
            "Some weights of BertForSequenceClassification were not initialized from the model checkpoint at bert-base-uncased and are newly initialized: ['classifier.weight', 'classifier.bias']\n",
            "You should probably TRAIN this model on a down-stream task to be able to use it for predictions and inference.\n",
            "                                                 \r"
          ]
        },
        {
          "name": "stdout",
          "output_type": "stream",
          "text": [
            "TRAIN: Epoch [1/20] Loss: 1.7140112832188605 Acc: 0.474609375\n"
          ]
        },
        {
          "name": "stderr",
          "output_type": "stream",
          "text": [
            "                                               \r"
          ]
        },
        {
          "name": "stdout",
          "output_type": "stream",
          "text": [
            "VAL: Epoch [1/20] Loss: 1.51250878572464 Acc: 0.5171875\n"
          ]
        },
        {
          "name": "stderr",
          "output_type": "stream",
          "text": [
            "                                                 \r"
          ]
        },
        {
          "name": "stdout",
          "output_type": "stream",
          "text": [
            "TRAIN: Epoch [2/20] Loss: 1.519931048899889 Acc: 0.50234375\n"
          ]
        },
        {
          "name": "stderr",
          "output_type": "stream",
          "text": [
            "                                               \r"
          ]
        },
        {
          "name": "stdout",
          "output_type": "stream",
          "text": [
            "VAL: Epoch [2/20] Loss: 1.4253534987568854 Acc: 0.525\n"
          ]
        },
        {
          "name": "stderr",
          "output_type": "stream",
          "text": [
            "                                                 \r"
          ]
        },
        {
          "name": "stdout",
          "output_type": "stream",
          "text": [
            "TRAIN: Epoch [3/20] Loss: 1.415590974316001 Acc: 0.52265625\n"
          ]
        },
        {
          "name": "stderr",
          "output_type": "stream",
          "text": [
            "                                               \r"
          ]
        },
        {
          "name": "stdout",
          "output_type": "stream",
          "text": [
            "VAL: Epoch [3/20] Loss: 1.3859452098608016 Acc: 0.540625\n"
          ]
        },
        {
          "name": "stderr",
          "output_type": "stream",
          "text": [
            "                                                 \r"
          ]
        },
        {
          "name": "stdout",
          "output_type": "stream",
          "text": [
            "TRAIN: Epoch [4/20] Loss: 1.2850731659680605 Acc: 0.56015625\n"
          ]
        },
        {
          "name": "stderr",
          "output_type": "stream",
          "text": [
            "                                               \r"
          ]
        },
        {
          "name": "stdout",
          "output_type": "stream",
          "text": [
            "VAL: Epoch [4/20] Loss: 1.3975176617503167 Acc: 0.5359375\n"
          ]
        },
        {
          "name": "stderr",
          "output_type": "stream",
          "text": [
            "                                                 \r"
          ]
        },
        {
          "name": "stdout",
          "output_type": "stream",
          "text": [
            "TRAIN: Epoch [5/20] Loss: 1.1445394838228822 Acc: 0.615625\n"
          ]
        },
        {
          "name": "stderr",
          "output_type": "stream",
          "text": [
            "                                               \r"
          ]
        },
        {
          "name": "stdout",
          "output_type": "stream",
          "text": [
            "VAL: Epoch [5/20] Loss: 1.408643615245819 Acc: 0.5453125\n"
          ]
        },
        {
          "name": "stderr",
          "output_type": "stream",
          "text": [
            "                                                 \r"
          ]
        },
        {
          "name": "stdout",
          "output_type": "stream",
          "text": [
            "TRAIN: Epoch [6/20] Loss: 1.010892061330378 Acc: 0.64921875\n"
          ]
        },
        {
          "name": "stderr",
          "output_type": "stream",
          "text": [
            "                                               \r"
          ]
        },
        {
          "name": "stdout",
          "output_type": "stream",
          "text": [
            "VAL: Epoch [6/20] Loss: 1.4089184924960136 Acc: 0.5078125\n"
          ]
        },
        {
          "name": "stderr",
          "output_type": "stream",
          "text": [
            "                                                 \r"
          ]
        },
        {
          "name": "stdout",
          "output_type": "stream",
          "text": [
            "TRAIN: Epoch [7/20] Loss: 0.8732948126271367 Acc: 0.709765625\n"
          ]
        },
        {
          "name": "stderr",
          "output_type": "stream",
          "text": [
            "                                               \r"
          ]
        },
        {
          "name": "stdout",
          "output_type": "stream",
          "text": [
            "VAL: Epoch [7/20] Loss: 1.4092733949422835 Acc: 0.5390625\n"
          ]
        },
        {
          "name": "stderr",
          "output_type": "stream",
          "text": [
            "                                                 \r"
          ]
        },
        {
          "name": "stdout",
          "output_type": "stream",
          "text": [
            "TRAIN: Epoch [8/20] Loss: 0.7736055843532086 Acc: 0.742578125\n"
          ]
        },
        {
          "name": "stderr",
          "output_type": "stream",
          "text": [
            "                                               \r"
          ]
        },
        {
          "name": "stdout",
          "output_type": "stream",
          "text": [
            "VAL: Epoch [8/20] Loss: 1.5074885919690133 Acc: 0.5703125\n"
          ]
        },
        {
          "name": "stderr",
          "output_type": "stream",
          "text": [
            "                                                 \r"
          ]
        },
        {
          "name": "stdout",
          "output_type": "stream",
          "text": [
            "TRAIN: Epoch [9/20] Loss: 0.6872950118035078 Acc: 0.7703125\n"
          ]
        },
        {
          "name": "stderr",
          "output_type": "stream",
          "text": [
            "                                               \r"
          ]
        },
        {
          "name": "stdout",
          "output_type": "stream",
          "text": [
            "VAL: Epoch [9/20] Loss: 1.5437636867165565 Acc: 0.5609375\n"
          ]
        },
        {
          "name": "stderr",
          "output_type": "stream",
          "text": [
            "                                                 \r"
          ]
        },
        {
          "name": "stdout",
          "output_type": "stream",
          "text": [
            "TRAIN: Epoch [10/20] Loss: 0.5545179074630141 Acc: 0.82578125\n"
          ]
        },
        {
          "name": "stderr",
          "output_type": "stream",
          "text": [
            "                                               \r"
          ]
        },
        {
          "name": "stdout",
          "output_type": "stream",
          "text": [
            "VAL: Epoch [10/20] Loss: 1.5496003866195678 Acc: 0.546875\n"
          ]
        },
        {
          "name": "stderr",
          "output_type": "stream",
          "text": [
            "                                                 \r"
          ]
        },
        {
          "name": "stdout",
          "output_type": "stream",
          "text": [
            "TRAIN: Epoch [11/20] Loss: 0.4817517320625484 Acc: 0.86015625\n"
          ]
        },
        {
          "name": "stderr",
          "output_type": "stream",
          "text": [
            "                                               \r"
          ]
        },
        {
          "name": "stdout",
          "output_type": "stream",
          "text": [
            "VAL: Epoch [11/20] Loss: 1.602755604684353 Acc: 0.575\n"
          ]
        },
        {
          "name": "stderr",
          "output_type": "stream",
          "text": [
            "                                                 \r"
          ]
        },
        {
          "name": "stdout",
          "output_type": "stream",
          "text": [
            "TRAIN: Epoch [12/20] Loss: 0.40421776408329607 Acc: 0.8796875\n"
          ]
        },
        {
          "name": "stderr",
          "output_type": "stream",
          "text": [
            "                                               \r"
          ]
        },
        {
          "name": "stdout",
          "output_type": "stream",
          "text": [
            "VAL: Epoch [12/20] Loss: 1.6480315431952477 Acc: 0.546875\n"
          ]
        },
        {
          "name": "stderr",
          "output_type": "stream",
          "text": [
            "                                                 \r"
          ]
        },
        {
          "name": "stdout",
          "output_type": "stream",
          "text": [
            "TRAIN: Epoch [13/20] Loss: 0.3594974994659424 Acc: 0.905859375\n"
          ]
        },
        {
          "name": "stderr",
          "output_type": "stream",
          "text": [
            "                                               \r"
          ]
        },
        {
          "name": "stdout",
          "output_type": "stream",
          "text": [
            "VAL: Epoch [13/20] Loss: 1.7216187939047813 Acc: 0.5640625\n"
          ]
        },
        {
          "name": "stderr",
          "output_type": "stream",
          "text": [
            "                                                 \r"
          ]
        },
        {
          "name": "stdout",
          "output_type": "stream",
          "text": [
            "TRAIN: Epoch [14/20] Loss: 0.27774802343919874 Acc: 0.9296875\n"
          ]
        },
        {
          "name": "stderr",
          "output_type": "stream",
          "text": [
            "                                               \r"
          ]
        },
        {
          "name": "stdout",
          "output_type": "stream",
          "text": [
            "VAL: Epoch [14/20] Loss: 1.7760648012161255 Acc: 0.575\n"
          ]
        },
        {
          "name": "stderr",
          "output_type": "stream",
          "text": [
            "                                                 \r"
          ]
        },
        {
          "name": "stdout",
          "output_type": "stream",
          "text": [
            "TRAIN: Epoch [15/20] Loss: 0.2085819581290707 Acc: 0.949609375\n"
          ]
        },
        {
          "name": "stderr",
          "output_type": "stream",
          "text": [
            "                                               \r"
          ]
        },
        {
          "name": "stdout",
          "output_type": "stream",
          "text": [
            "VAL: Epoch [15/20] Loss: 1.7633993595838546 Acc: 0.5859375\n"
          ]
        },
        {
          "name": "stderr",
          "output_type": "stream",
          "text": [
            "                                                 \r"
          ]
        },
        {
          "name": "stdout",
          "output_type": "stream",
          "text": [
            "TRAIN: Epoch [16/20] Loss: 0.19045813996344804 Acc: 0.952734375\n"
          ]
        },
        {
          "name": "stderr",
          "output_type": "stream",
          "text": [
            "                                               \r"
          ]
        },
        {
          "name": "stdout",
          "output_type": "stream",
          "text": [
            "VAL: Epoch [16/20] Loss: 1.8887063920497895 Acc: 0.5671875\n"
          ]
        },
        {
          "name": "stderr",
          "output_type": "stream",
          "text": [
            "                                                 \r"
          ]
        },
        {
          "name": "stdout",
          "output_type": "stream",
          "text": [
            "TRAIN: Epoch [17/20] Loss: 0.14984517993871121 Acc: 0.963671875\n"
          ]
        },
        {
          "name": "stderr",
          "output_type": "stream",
          "text": [
            "                                               \r"
          ]
        },
        {
          "name": "stdout",
          "output_type": "stream",
          "text": [
            "VAL: Epoch [17/20] Loss: 1.955192206799984 Acc: 0.5578125\n"
          ]
        },
        {
          "name": "stderr",
          "output_type": "stream",
          "text": [
            "                                                 \r"
          ]
        },
        {
          "name": "stdout",
          "output_type": "stream",
          "text": [
            "TRAIN: Epoch [18/20] Loss: 0.13414206879679114 Acc: 0.9671875\n"
          ]
        },
        {
          "name": "stderr",
          "output_type": "stream",
          "text": [
            "                                               \r"
          ]
        },
        {
          "name": "stdout",
          "output_type": "stream",
          "text": [
            "VAL: Epoch [18/20] Loss: 1.96391304731369 Acc: 0.56875\n"
          ]
        },
        {
          "name": "stderr",
          "output_type": "stream",
          "text": [
            "                                                 \r"
          ]
        },
        {
          "name": "stdout",
          "output_type": "stream",
          "text": [
            "TRAIN: Epoch [19/20] Loss: 0.09584961064392701 Acc: 0.9796875\n"
          ]
        },
        {
          "name": "stderr",
          "output_type": "stream",
          "text": [
            "                                               \r"
          ]
        },
        {
          "name": "stdout",
          "output_type": "stream",
          "text": [
            "VAL: Epoch [19/20] Loss: 2.0429761692881585 Acc: 0.5765625\n"
          ]
        },
        {
          "name": "stderr",
          "output_type": "stream",
          "text": [
            "                                                 \r"
          ]
        },
        {
          "name": "stdout",
          "output_type": "stream",
          "text": [
            "TRAIN: Epoch [20/20] Loss: 0.08870038740569726 Acc: 0.9796875\n"
          ]
        },
        {
          "name": "stderr",
          "output_type": "stream",
          "text": [
            "                                               \r"
          ]
        },
        {
          "name": "stdout",
          "output_type": "stream",
          "text": [
            "VAL: Epoch [20/20] Loss: 2.080919674038887 Acc: 0.5453125\n"
          ]
        },
        {
          "data": {
            "image/png": "[encoded data removed]",
            "text/plain": [
              "<Figure size 1200x500 with 2 Axes>"
            ]
          },
          "metadata": {},
          "output_type": "display_data"
        }
      ],
      "source": [
        "model = BertForSequenceClassification.from_pretrained('bert-base-uncased', num_labels=n_labels)\n",
        "optimizer = torch.optim.Adam(params=model.parameters(), lr=lr)\n",
        "criterion = nn.CrossEntropyLoss()\n",
        "\n",
        "train_losses = []\n",
        "train_accuracy = []\n",
        "val_losses = []\n",
        "val_accuracy = []\n",
        "\n",
        "model.to(device)\n",
        "\n",
        "for epoch in range(epochs):\n",
        "    train_running_losses = []\n",
        "    train_total = 0\n",
        "    train_correct = 0\n",
        "    \n",
        "    model.train()\n",
        "    for batch in tqdm(train_dataloader, leave=False):\n",
        "        batch = {k: v.to(device) for k, v in batch.items()}\n",
        "        outputs = model(**batch)\n",
        "        \n",
        "        if manual_loss:\n",
        "            loss = criterion(outputs.logits, batch['labels'])\n",
        "        else:\n",
        "            loss = outputs.loss\n",
        "        \n",
        "        optimizer.zero_grad()\n",
        "        loss.backward()\n",
        "        optimizer.step()\n",
        "        \n",
        "        _, predicted_labels = torch.max(outputs.logits, dim=1)\n",
        "        train_total += batch['labels'].size(0)\n",
        "        train_correct += (predicted_labels == batch['labels']).sum().item()\n",
        "        train_running_losses.append(loss.item())\n",
        "    \n",
        "    train_losses.append(sum(train_running_losses) / len(train_running_losses))\n",
        "    train_accuracy.append(train_correct / train_total)\n",
        "    print(f'TRAIN: Epoch [{epoch+1}/{epochs}] Loss: {sum(train_running_losses)/len(train_running_losses)} Acc: {train_correct/train_total}')\n",
        "    \n",
        "    model.eval()\n",
        "    with torch.no_grad():\n",
        "        val_running_losses = []\n",
        "        val_total = 0\n",
        "        val_correct = 0\n",
        "        \n",
        "        for batch in tqdm(val_dataloader, leave=False):\n",
        "            batch = {k: v.to(device) for k, v in batch.items()}\n",
        "            outputs = model(**batch)\n",
        "            loss = outputs.loss\n",
        "            \n",
        "            _, predicted_labels = torch.max(outputs.logits, dim=1)\n",
        "            val_total += batch['labels'].size(0)\n",
        "            val_correct += (predicted_labels == batch['labels']).sum().item()\n",
        "            val_running_losses.append(loss.item())\n",
        "        \n",
        "        val_losses.append(sum(val_running_losses) / len(val_running_losses))\n",
        "        val_accuracy.append(val_correct / val_total)\n",
        "        print(f'VAL: Epoch [{epoch+1}/{epochs}] Loss: {sum(val_running_losses)/len(val_running_losses)} Acc: {val_correct/val_total}')\n",
        "    \n",
        "    if include_dev:\n",
        "        print('TESTING...')\n",
        "        test_losses = []\n",
        "        test_accuracy = []\n",
        "        \n",
        "        model.eval()\n",
        "        with torch.no_grad():\n",
        "            test_running_losses = []\n",
        "            test_total = 0\n",
        "            test_correct = 0\n",
        "            \n",
        "            for batch in test_dataloader:\n",
        "                batch = {k: v.to(device) for k, v in batch.items()}\n",
        "                outputs = model(**batch)\n",
        "                loss = outputs.loss\n",
        "                \n",
        "                _, predicted_labels = torch.max(outputs.logits, dim=1)\n",
        "                test_total += batch['labels'].size(0)\n",
        "                test_correct += (predicted_labels == batch['labels']).sum().item()\n",
        "                test_running_losses.append(loss.item())\n",
        "            \n",
        "            test_losses.append(sum(test_running_losses) / len(test_running_losses))\n",
        "            test_accuracy.append(test_correct / test_total)\n",
        "            print(f'TEST: Epoch [{epoch+1}/{epochs}] Loss: {sum(test_running_losses)/len(test_running_losses)} Acc: {test_correct/test_total}')\n",
        "\n",
        "plot_training(train_losses, train_accuracy, val_losses, val_accuracy)"
      ]
    },
    {
      "cell_type": "code",
      "execution_count": null,
      "metadata": {},
      "outputs": [],
      "source": []
    }
  ],
  "metadata": {
    "colab": {
      "provenance": []
    },
    "kernelspec": {
      "display_name": "Python 3",
      "language": "python",
      "name": "python3"
    },
    "language_info": {
      "codemirror_mode": {
        "name": "ipython",
        "version": 3
      },
      "file_extension": ".py",
      "mimetype": "text/x-python",
      "name": "python",
      "nbconvert_exporter": "python",
      "pygments_lexer": "ipython3",
      "version": "3.11.4"
    }
  },
  "nbformat": 4,
  "nbformat_minor": 0
}
