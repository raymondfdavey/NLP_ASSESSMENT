{
  "cells": [
    {
      "cell_type": "code",
      "execution_count": 15,
      "metadata": {
        "colab": {
          "base_uri": "https://localhost:8080/"
        },
        "id": "-CoZ4DzaGrqL",
        "outputId": "a117f485-8e50-4281-d6dc-4d0ea59bd91d"
      },
      "outputs": [
        {
          "name": "stdout",
          "output_type": "stream",
          "text": [
            "IN COLAB:  False\n"
          ]
        }
      ],
      "source": [
        "try :\n",
        "  from google.colab import drive\n",
        "  IN_COLAB = True\n",
        "except:\n",
        "  IN_COLAB = False\n",
        "print('IN COLAB: ', IN_COLAB)"
      ]
    },
    {
      "cell_type": "code",
      "execution_count": 16,
      "metadata": {},
      "outputs": [],
      "source": [
        "import os\n",
        "import pandas as pd\n",
        "from torch.utils.data import DataLoader, Dataset\n",
        "from transformers import BertModel, BertTokenizer, BertForSequenceClassification\n",
        "import torch\n",
        "import numpy as np\n",
        "from torch import nn\n",
        "from tqdm import tqdm\n",
        "import matplotlib.pyplot as plt\n",
        "from sklearn.metrics import confusion_matrix, classification_report, ConfusionMatrixDisplay\n",
        "import json\n",
        "import uuid\n"
      ]
    },
    {
      "cell_type": "code",
      "execution_count": 17,
      "metadata": {
        "id": "VzEQ55q1Mgrw"
      },
      "outputs": [],
      "source": [
        "parentdir = \"./propaganda_dataset_v2\"\n",
        "train_file= \"propaganda_train.tsv\"\n",
        "val_file= \"propaganda_val.tsv\"\n",
        "\n",
        "train_path=os.path.join(parentdir,train_file)\n",
        "val_path=os.path.join(parentdir,val_file)\n",
        "\n",
        "if IN_COLAB:\n",
        "  train_path = '/content/propaganda_train.tsv'\n",
        "  val_path = '/content/propaganda_val.tsv'\n",
        "\n",
        "train_df=pd.read_csv(train_path,delimiter=\"\\t\",quotechar='|')\n",
        "val_df=pd.read_csv(val_path,delimiter=\"\\t\",quotechar='|')\n"
      ]
    },
    {
      "cell_type": "code",
      "execution_count": 18,
      "metadata": {
        "colab": {
          "base_uri": "https://localhost:8080/",
          "height": 423
        },
        "id": "-nIK7dgEGWdC",
        "outputId": "889358e7-6bb4-407f-b3b3-421c487105df"
      },
      "outputs": [
        {
          "data": {
            "text/html": [
              "<div>\n",
              "<style scoped>\n",
              "    .dataframe tbody tr th:only-of-type {\n",
              "        vertical-align: middle;\n",
              "    }\n",
              "\n",
              "    .dataframe tbody tr th {\n",
              "        vertical-align: top;\n",
              "    }\n",
              "\n",
              "    .dataframe thead th {\n",
              "        text-align: right;\n",
              "    }\n",
              "</style>\n",
              "<table border=\"1\" class=\"dataframe\">\n",
              "  <thead>\n",
              "    <tr style=\"text-align: right;\">\n",
              "      <th></th>\n",
              "      <th>label</th>\n",
              "      <th>tagged_in_context</th>\n",
              "      <th>propaganda</th>\n",
              "      <th>original_without_snip_tags</th>\n",
              "    </tr>\n",
              "  </thead>\n",
              "  <tbody>\n",
              "    <tr>\n",
              "      <th>0</th>\n",
              "      <td>not_propaganda</td>\n",
              "      <td>On average, between 300 and 600 infections are...</td>\n",
              "      <td>0</td>\n",
              "      <td>On average, between 300 and 600 infections are...</td>\n",
              "    </tr>\n",
              "    <tr>\n",
              "      <th>1</th>\n",
              "      <td>causal_oversimplification</td>\n",
              "      <td>Mostly because &lt;BOS&gt; the country would not las...</td>\n",
              "      <td>1</td>\n",
              "      <td>Mostly because  the country would not last lon...</td>\n",
              "    </tr>\n",
              "    <tr>\n",
              "      <th>2</th>\n",
              "      <td>appeal_to_fear_prejudice</td>\n",
              "      <td>Lyndon Johnson &lt;BOS&gt; gets Earl Warren and Sen....</td>\n",
              "      <td>1</td>\n",
              "      <td>Lyndon Johnson  gets Earl Warren and Sen. Rich...</td>\n",
              "    </tr>\n",
              "    <tr>\n",
              "      <th>3</th>\n",
              "      <td>not_propaganda</td>\n",
              "      <td>&lt;BOS&gt; You &lt;EOS&gt; may opt out at anytime.</td>\n",
              "      <td>0</td>\n",
              "      <td>You  may opt out at anytime.</td>\n",
              "    </tr>\n",
              "    <tr>\n",
              "      <th>4</th>\n",
              "      <td>repetition</td>\n",
              "      <td>It must be exacted from him directly in order ...</td>\n",
              "      <td>1</td>\n",
              "      <td>It must be exacted from him directly in order ...</td>\n",
              "    </tr>\n",
              "    <tr>\n",
              "      <th>...</th>\n",
              "      <td>...</td>\n",
              "      <td>...</td>\n",
              "      <td>...</td>\n",
              "      <td>...</td>\n",
              "    </tr>\n",
              "    <tr>\n",
              "      <th>635</th>\n",
              "      <td>not_propaganda</td>\n",
              "      <td>NewsCatholic Church, &lt;BOS&gt; Family, Marriage &lt;E...</td>\n",
              "      <td>0</td>\n",
              "      <td>NewsCatholic Church,  Family, Marriage</td>\n",
              "    </tr>\n",
              "    <tr>\n",
              "      <th>636</th>\n",
              "      <td>not_propaganda</td>\n",
              "      <td>Remember our saying, modern day fairy &lt;BOS&gt; ta...</td>\n",
              "      <td>0</td>\n",
              "      <td>Remember our saying, modern day fairy  tales s...</td>\n",
              "    </tr>\n",
              "    <tr>\n",
              "      <th>637</th>\n",
              "      <td>not_propaganda</td>\n",
              "      <td>Why &lt;BOS&gt; not &lt;EOS&gt; open up to Iran with massi...</td>\n",
              "      <td>0</td>\n",
              "      <td>Why  not  open up to Iran with massive amounts...</td>\n",
              "    </tr>\n",
              "    <tr>\n",
              "      <th>638</th>\n",
              "      <td>flag_waving</td>\n",
              "      <td>&lt;BOS&gt; He also sang an Islamic State fight song...</td>\n",
              "      <td>1</td>\n",
              "      <td>He also sang an Islamic State fight song and ...</td>\n",
              "    </tr>\n",
              "    <tr>\n",
              "      <th>639</th>\n",
              "      <td>causal_oversimplification</td>\n",
              "      <td>We hear again, as we did incessantly from the ...</td>\n",
              "      <td>1</td>\n",
              "      <td>We hear again, as we did incessantly from the ...</td>\n",
              "    </tr>\n",
              "  </tbody>\n",
              "</table>\n",
              "<p>640 rows × 4 columns</p>\n",
              "</div>"
            ],
            "text/plain": [
              "                         label  \\\n",
              "0               not_propaganda   \n",
              "1    causal_oversimplification   \n",
              "2     appeal_to_fear_prejudice   \n",
              "3               not_propaganda   \n",
              "4                   repetition   \n",
              "..                         ...   \n",
              "635             not_propaganda   \n",
              "636             not_propaganda   \n",
              "637             not_propaganda   \n",
              "638                flag_waving   \n",
              "639  causal_oversimplification   \n",
              "\n",
              "                                     tagged_in_context  propaganda  \\\n",
              "0    On average, between 300 and 600 infections are...           0   \n",
              "1    Mostly because <BOS> the country would not las...           1   \n",
              "2    Lyndon Johnson <BOS> gets Earl Warren and Sen....           1   \n",
              "3             <BOS> You <EOS> may opt out at anytime.            0   \n",
              "4    It must be exacted from him directly in order ...           1   \n",
              "..                                                 ...         ...   \n",
              "635  NewsCatholic Church, <BOS> Family, Marriage <E...           0   \n",
              "636  Remember our saying, modern day fairy <BOS> ta...           0   \n",
              "637  Why <BOS> not <EOS> open up to Iran with massi...           0   \n",
              "638  <BOS> He also sang an Islamic State fight song...           1   \n",
              "639  We hear again, as we did incessantly from the ...           1   \n",
              "\n",
              "                            original_without_snip_tags  \n",
              "0    On average, between 300 and 600 infections are...  \n",
              "1    Mostly because  the country would not last lon...  \n",
              "2    Lyndon Johnson  gets Earl Warren and Sen. Rich...  \n",
              "3                        You  may opt out at anytime.   \n",
              "4    It must be exacted from him directly in order ...  \n",
              "..                                                 ...  \n",
              "635           NewsCatholic Church,  Family, Marriage    \n",
              "636  Remember our saying, modern day fairy  tales s...  \n",
              "637  Why  not  open up to Iran with massive amounts...  \n",
              "638   He also sang an Islamic State fight song and ...  \n",
              "639  We hear again, as we did incessantly from the ...  \n",
              "\n",
              "[640 rows x 4 columns]"
            ]
          },
          "execution_count": 18,
          "metadata": {},
          "output_type": "execute_result"
        }
      ],
      "source": [
        "def transform_binaryify(row):\n",
        "    new_value = 0 if row['label'] == 'not_propaganda' else 1\n",
        "    return new_value\n",
        "\n",
        "def transform_strip_tag(row):\n",
        "    sent = row['tagged_in_context']\n",
        "    cleaned_string = sent.replace(\"<BOS>\", \"\")\n",
        "    cleaned_string = cleaned_string.replace(\"<EOS>\", \"\")\n",
        "    return cleaned_string\n",
        "\n",
        "\n",
        "train_df['propaganda'] = train_df.apply(transform_binaryify, axis=1)\n",
        "train_df['original_without_snip_tags'] = train_df.apply(transform_strip_tag, axis=1)\n",
        "\n",
        "\n",
        "val_df['propaganda'] = val_df.apply(transform_binaryify, axis=1)\n",
        "val_df['original_without_snip_tags'] = val_df.apply(transform_strip_tag, axis=1)\n",
        "\n",
        "train_df\n",
        "val_df"
      ]
    },
    {
      "cell_type": "code",
      "execution_count": 19,
      "metadata": {
        "id": "yG8AIos5GWdD"
      },
      "outputs": [],
      "source": [
        "class CustomPropagandaDataset_vanilla(Dataset):\n",
        "    def __init__(self,df, max_len):\n",
        "        tokenizer = BertTokenizer.from_pretrained('bert-base-uncased')\n",
        "\n",
        "        self.labels=torch.tensor([label for label in df['propaganda']])\n",
        "        self.texts=[tokenizer(text,padding='max_length',max_length=max_len,truncation=True,return_tensors=\"pt\") for text in df['original_without_snip_tags']]\n",
        "\n",
        "    def classes(self):\n",
        "        return self.labels\n",
        "\n",
        "    def __len__(self):\n",
        "        return len(self.labels)\n",
        "\n",
        "    def get_batch_labels(self,idx):\n",
        "        return np.array(self.labels[idx])\n",
        "\n",
        "    def get_batch_texts(self,idx):\n",
        "        return self.texts[idx]\n",
        "\n",
        "    def __getitem__(self,idx):\n",
        "        batch_texts=self.get_batch_texts(idx)\n",
        "        batch_y=self.get_batch_labels(idx)\n",
        "\n",
        "        return batch_texts,batch_y\n",
        "\n",
        "\n",
        "def prepare_inputs(input1,label,device):\n",
        "  label=label.to(device)\n",
        "  mask=input1['attention_mask'].to(device)\n",
        "  input_id=input1['input_ids'].squeeze(1).to(device)\n",
        "  return (input_id,mask,label)"
      ]
    },
    {
      "cell_type": "code",
      "execution_count": 16,
      "metadata": {},
      "outputs": [],
      "source": [
        "import torch\n",
        "from torch import nn\n",
        "from torchsummary import summary\n",
        "# from transformers import BertModel"
      ]
    },
    {
      "cell_type": "code",
      "execution_count": 20,
      "metadata": {
        "colab": {
          "base_uri": "https://localhost:8080/"
        },
        "id": "ZdILCP_tGWdE",
        "outputId": "21f10011-ce7e-4f57-c752-eb6a687de77a"
      },
      "outputs": [
        {
          "name": "stdout",
          "output_type": "stream",
          "text": [
            "cpu\n"
          ]
        },
        {
          "name": "stderr",
          "output_type": "stream",
          "text": [
            "Some weights of the model checkpoint at bert-base-uncased were not used when initializing BertModel: ['cls.seq_relationship.bias', 'cls.predictions.transform.LayerNorm.weight', 'cls.predictions.bias', 'cls.predictions.transform.dense.bias', 'cls.predictions.transform.LayerNorm.bias', 'cls.seq_relationship.weight', 'cls.predictions.transform.dense.weight']\n",
            "- This IS expected if you are initializing BertModel from the checkpoint of a model trained on another task or with another architecture (e.g. initializing a BertForSequenceClassification model from a BertForPreTraining model).\n",
            "- This IS NOT expected if you are initializing BertModel from the checkpoint of a model that you expect to be exactly identical (initializing a BertForSequenceClassification model from a BertForSequenceClassification model).\n"
          ]
        },
        {
          "name": "stdout",
          "output_type": "stream",
          "text": [
            "bert.embeddings.word_embeddings.weight torch.Size([30522, 768])\n",
            "bert.embeddings.position_embeddings.weight torch.Size([512, 768])\n",
            "bert.embeddings.token_type_embeddings.weight torch.Size([2, 768])\n",
            "bert.embeddings.LayerNorm.weight torch.Size([768])\n",
            "bert.embeddings.LayerNorm.bias torch.Size([768])\n",
            "bert.encoder.layer.0.attention.self.query.weight torch.Size([768, 768])\n",
            "bert.encoder.layer.0.attention.self.query.bias torch.Size([768])\n",
            "bert.encoder.layer.0.attention.self.key.weight torch.Size([768, 768])\n",
            "bert.encoder.layer.0.attention.self.key.bias torch.Size([768])\n",
            "bert.encoder.layer.0.attention.self.value.weight torch.Size([768, 768])\n",
            "bert.encoder.layer.0.attention.self.value.bias torch.Size([768])\n",
            "bert.encoder.layer.0.attention.output.dense.weight torch.Size([768, 768])\n",
            "bert.encoder.layer.0.attention.output.dense.bias torch.Size([768])\n",
            "bert.encoder.layer.0.attention.output.LayerNorm.weight torch.Size([768])\n",
            "bert.encoder.layer.0.attention.output.LayerNorm.bias torch.Size([768])\n",
            "bert.encoder.layer.0.intermediate.dense.weight torch.Size([3072, 768])\n",
            "bert.encoder.layer.0.intermediate.dense.bias torch.Size([3072])\n",
            "bert.encoder.layer.0.output.dense.weight torch.Size([768, 3072])\n",
            "bert.encoder.layer.0.output.dense.bias torch.Size([768])\n",
            "bert.encoder.layer.0.output.LayerNorm.weight torch.Size([768])\n",
            "bert.encoder.layer.0.output.LayerNorm.bias torch.Size([768])\n",
            "bert.encoder.layer.1.attention.self.query.weight torch.Size([768, 768])\n",
            "bert.encoder.layer.1.attention.self.query.bias torch.Size([768])\n",
            "bert.encoder.layer.1.attention.self.key.weight torch.Size([768, 768])\n",
            "bert.encoder.layer.1.attention.self.key.bias torch.Size([768])\n",
            "bert.encoder.layer.1.attention.self.value.weight torch.Size([768, 768])\n",
            "bert.encoder.layer.1.attention.self.value.bias torch.Size([768])\n",
            "bert.encoder.layer.1.attention.output.dense.weight torch.Size([768, 768])\n",
            "bert.encoder.layer.1.attention.output.dense.bias torch.Size([768])\n",
            "bert.encoder.layer.1.attention.output.LayerNorm.weight torch.Size([768])\n",
            "bert.encoder.layer.1.attention.output.LayerNorm.bias torch.Size([768])\n",
            "bert.encoder.layer.1.intermediate.dense.weight torch.Size([3072, 768])\n",
            "bert.encoder.layer.1.intermediate.dense.bias torch.Size([3072])\n",
            "bert.encoder.layer.1.output.dense.weight torch.Size([768, 3072])\n",
            "bert.encoder.layer.1.output.dense.bias torch.Size([768])\n",
            "bert.encoder.layer.1.output.LayerNorm.weight torch.Size([768])\n",
            "bert.encoder.layer.1.output.LayerNorm.bias torch.Size([768])\n",
            "bert.encoder.layer.2.attention.self.query.weight torch.Size([768, 768])\n",
            "bert.encoder.layer.2.attention.self.query.bias torch.Size([768])\n",
            "bert.encoder.layer.2.attention.self.key.weight torch.Size([768, 768])\n",
            "bert.encoder.layer.2.attention.self.key.bias torch.Size([768])\n",
            "bert.encoder.layer.2.attention.self.value.weight torch.Size([768, 768])\n",
            "bert.encoder.layer.2.attention.self.value.bias torch.Size([768])\n",
            "bert.encoder.layer.2.attention.output.dense.weight torch.Size([768, 768])\n",
            "bert.encoder.layer.2.attention.output.dense.bias torch.Size([768])\n",
            "bert.encoder.layer.2.attention.output.LayerNorm.weight torch.Size([768])\n",
            "bert.encoder.layer.2.attention.output.LayerNorm.bias torch.Size([768])\n",
            "bert.encoder.layer.2.intermediate.dense.weight torch.Size([3072, 768])\n",
            "bert.encoder.layer.2.intermediate.dense.bias torch.Size([3072])\n",
            "bert.encoder.layer.2.output.dense.weight torch.Size([768, 3072])\n",
            "bert.encoder.layer.2.output.dense.bias torch.Size([768])\n",
            "bert.encoder.layer.2.output.LayerNorm.weight torch.Size([768])\n",
            "bert.encoder.layer.2.output.LayerNorm.bias torch.Size([768])\n",
            "bert.encoder.layer.3.attention.self.query.weight torch.Size([768, 768])\n",
            "bert.encoder.layer.3.attention.self.query.bias torch.Size([768])\n",
            "bert.encoder.layer.3.attention.self.key.weight torch.Size([768, 768])\n",
            "bert.encoder.layer.3.attention.self.key.bias torch.Size([768])\n",
            "bert.encoder.layer.3.attention.self.value.weight torch.Size([768, 768])\n",
            "bert.encoder.layer.3.attention.self.value.bias torch.Size([768])\n",
            "bert.encoder.layer.3.attention.output.dense.weight torch.Size([768, 768])\n",
            "bert.encoder.layer.3.attention.output.dense.bias torch.Size([768])\n",
            "bert.encoder.layer.3.attention.output.LayerNorm.weight torch.Size([768])\n",
            "bert.encoder.layer.3.attention.output.LayerNorm.bias torch.Size([768])\n",
            "bert.encoder.layer.3.intermediate.dense.weight torch.Size([3072, 768])\n",
            "bert.encoder.layer.3.intermediate.dense.bias torch.Size([3072])\n",
            "bert.encoder.layer.3.output.dense.weight torch.Size([768, 3072])\n",
            "bert.encoder.layer.3.output.dense.bias torch.Size([768])\n",
            "bert.encoder.layer.3.output.LayerNorm.weight torch.Size([768])\n",
            "bert.encoder.layer.3.output.LayerNorm.bias torch.Size([768])\n",
            "bert.encoder.layer.4.attention.self.query.weight torch.Size([768, 768])\n",
            "bert.encoder.layer.4.attention.self.query.bias torch.Size([768])\n",
            "bert.encoder.layer.4.attention.self.key.weight torch.Size([768, 768])\n",
            "bert.encoder.layer.4.attention.self.key.bias torch.Size([768])\n",
            "bert.encoder.layer.4.attention.self.value.weight torch.Size([768, 768])\n",
            "bert.encoder.layer.4.attention.self.value.bias torch.Size([768])\n",
            "bert.encoder.layer.4.attention.output.dense.weight torch.Size([768, 768])\n",
            "bert.encoder.layer.4.attention.output.dense.bias torch.Size([768])\n",
            "bert.encoder.layer.4.attention.output.LayerNorm.weight torch.Size([768])\n",
            "bert.encoder.layer.4.attention.output.LayerNorm.bias torch.Size([768])\n",
            "bert.encoder.layer.4.intermediate.dense.weight torch.Size([3072, 768])\n",
            "bert.encoder.layer.4.intermediate.dense.bias torch.Size([3072])\n",
            "bert.encoder.layer.4.output.dense.weight torch.Size([768, 3072])\n",
            "bert.encoder.layer.4.output.dense.bias torch.Size([768])\n",
            "bert.encoder.layer.4.output.LayerNorm.weight torch.Size([768])\n",
            "bert.encoder.layer.4.output.LayerNorm.bias torch.Size([768])\n",
            "bert.encoder.layer.5.attention.self.query.weight torch.Size([768, 768])\n",
            "bert.encoder.layer.5.attention.self.query.bias torch.Size([768])\n",
            "bert.encoder.layer.5.attention.self.key.weight torch.Size([768, 768])\n",
            "bert.encoder.layer.5.attention.self.key.bias torch.Size([768])\n",
            "bert.encoder.layer.5.attention.self.value.weight torch.Size([768, 768])\n",
            "bert.encoder.layer.5.attention.self.value.bias torch.Size([768])\n",
            "bert.encoder.layer.5.attention.output.dense.weight torch.Size([768, 768])\n",
            "bert.encoder.layer.5.attention.output.dense.bias torch.Size([768])\n",
            "bert.encoder.layer.5.attention.output.LayerNorm.weight torch.Size([768])\n",
            "bert.encoder.layer.5.attention.output.LayerNorm.bias torch.Size([768])\n",
            "bert.encoder.layer.5.intermediate.dense.weight torch.Size([3072, 768])\n",
            "bert.encoder.layer.5.intermediate.dense.bias torch.Size([3072])\n",
            "bert.encoder.layer.5.output.dense.weight torch.Size([768, 3072])\n",
            "bert.encoder.layer.5.output.dense.bias torch.Size([768])\n",
            "bert.encoder.layer.5.output.LayerNorm.weight torch.Size([768])\n",
            "bert.encoder.layer.5.output.LayerNorm.bias torch.Size([768])\n",
            "bert.encoder.layer.6.attention.self.query.weight torch.Size([768, 768])\n",
            "bert.encoder.layer.6.attention.self.query.bias torch.Size([768])\n",
            "bert.encoder.layer.6.attention.self.key.weight torch.Size([768, 768])\n",
            "bert.encoder.layer.6.attention.self.key.bias torch.Size([768])\n",
            "bert.encoder.layer.6.attention.self.value.weight torch.Size([768, 768])\n",
            "bert.encoder.layer.6.attention.self.value.bias torch.Size([768])\n",
            "bert.encoder.layer.6.attention.output.dense.weight torch.Size([768, 768])\n",
            "bert.encoder.layer.6.attention.output.dense.bias torch.Size([768])\n",
            "bert.encoder.layer.6.attention.output.LayerNorm.weight torch.Size([768])\n",
            "bert.encoder.layer.6.attention.output.LayerNorm.bias torch.Size([768])\n",
            "bert.encoder.layer.6.intermediate.dense.weight torch.Size([3072, 768])\n",
            "bert.encoder.layer.6.intermediate.dense.bias torch.Size([3072])\n",
            "bert.encoder.layer.6.output.dense.weight torch.Size([768, 3072])\n",
            "bert.encoder.layer.6.output.dense.bias torch.Size([768])\n",
            "bert.encoder.layer.6.output.LayerNorm.weight torch.Size([768])\n",
            "bert.encoder.layer.6.output.LayerNorm.bias torch.Size([768])\n",
            "bert.encoder.layer.7.attention.self.query.weight torch.Size([768, 768])\n",
            "bert.encoder.layer.7.attention.self.query.bias torch.Size([768])\n",
            "bert.encoder.layer.7.attention.self.key.weight torch.Size([768, 768])\n",
            "bert.encoder.layer.7.attention.self.key.bias torch.Size([768])\n",
            "bert.encoder.layer.7.attention.self.value.weight torch.Size([768, 768])\n",
            "bert.encoder.layer.7.attention.self.value.bias torch.Size([768])\n",
            "bert.encoder.layer.7.attention.output.dense.weight torch.Size([768, 768])\n",
            "bert.encoder.layer.7.attention.output.dense.bias torch.Size([768])\n",
            "bert.encoder.layer.7.attention.output.LayerNorm.weight torch.Size([768])\n",
            "bert.encoder.layer.7.attention.output.LayerNorm.bias torch.Size([768])\n",
            "bert.encoder.layer.7.intermediate.dense.weight torch.Size([3072, 768])\n",
            "bert.encoder.layer.7.intermediate.dense.bias torch.Size([3072])\n",
            "bert.encoder.layer.7.output.dense.weight torch.Size([768, 3072])\n",
            "bert.encoder.layer.7.output.dense.bias torch.Size([768])\n",
            "bert.encoder.layer.7.output.LayerNorm.weight torch.Size([768])\n",
            "bert.encoder.layer.7.output.LayerNorm.bias torch.Size([768])\n",
            "bert.encoder.layer.8.attention.self.query.weight torch.Size([768, 768])\n",
            "bert.encoder.layer.8.attention.self.query.bias torch.Size([768])\n",
            "bert.encoder.layer.8.attention.self.key.weight torch.Size([768, 768])\n",
            "bert.encoder.layer.8.attention.self.key.bias torch.Size([768])\n",
            "bert.encoder.layer.8.attention.self.value.weight torch.Size([768, 768])\n",
            "bert.encoder.layer.8.attention.self.value.bias torch.Size([768])\n",
            "bert.encoder.layer.8.attention.output.dense.weight torch.Size([768, 768])\n",
            "bert.encoder.layer.8.attention.output.dense.bias torch.Size([768])\n",
            "bert.encoder.layer.8.attention.output.LayerNorm.weight torch.Size([768])\n",
            "bert.encoder.layer.8.attention.output.LayerNorm.bias torch.Size([768])\n",
            "bert.encoder.layer.8.intermediate.dense.weight torch.Size([3072, 768])\n",
            "bert.encoder.layer.8.intermediate.dense.bias torch.Size([3072])\n",
            "bert.encoder.layer.8.output.dense.weight torch.Size([768, 3072])\n",
            "bert.encoder.layer.8.output.dense.bias torch.Size([768])\n",
            "bert.encoder.layer.8.output.LayerNorm.weight torch.Size([768])\n",
            "bert.encoder.layer.8.output.LayerNorm.bias torch.Size([768])\n",
            "bert.encoder.layer.9.attention.self.query.weight torch.Size([768, 768])\n",
            "bert.encoder.layer.9.attention.self.query.bias torch.Size([768])\n",
            "bert.encoder.layer.9.attention.self.key.weight torch.Size([768, 768])\n",
            "bert.encoder.layer.9.attention.self.key.bias torch.Size([768])\n",
            "bert.encoder.layer.9.attention.self.value.weight torch.Size([768, 768])\n",
            "bert.encoder.layer.9.attention.self.value.bias torch.Size([768])\n",
            "bert.encoder.layer.9.attention.output.dense.weight torch.Size([768, 768])\n",
            "bert.encoder.layer.9.attention.output.dense.bias torch.Size([768])\n",
            "bert.encoder.layer.9.attention.output.LayerNorm.weight torch.Size([768])\n",
            "bert.encoder.layer.9.attention.output.LayerNorm.bias torch.Size([768])\n",
            "bert.encoder.layer.9.intermediate.dense.weight torch.Size([3072, 768])\n",
            "bert.encoder.layer.9.intermediate.dense.bias torch.Size([3072])\n",
            "bert.encoder.layer.9.output.dense.weight torch.Size([768, 3072])\n",
            "bert.encoder.layer.9.output.dense.bias torch.Size([768])\n",
            "bert.encoder.layer.9.output.LayerNorm.weight torch.Size([768])\n",
            "bert.encoder.layer.9.output.LayerNorm.bias torch.Size([768])\n",
            "bert.encoder.layer.10.attention.self.query.weight torch.Size([768, 768])\n",
            "bert.encoder.layer.10.attention.self.query.bias torch.Size([768])\n",
            "bert.encoder.layer.10.attention.self.key.weight torch.Size([768, 768])\n",
            "bert.encoder.layer.10.attention.self.key.bias torch.Size([768])\n",
            "bert.encoder.layer.10.attention.self.value.weight torch.Size([768, 768])\n",
            "bert.encoder.layer.10.attention.self.value.bias torch.Size([768])\n",
            "bert.encoder.layer.10.attention.output.dense.weight torch.Size([768, 768])\n",
            "bert.encoder.layer.10.attention.output.dense.bias torch.Size([768])\n",
            "bert.encoder.layer.10.attention.output.LayerNorm.weight torch.Size([768])\n",
            "bert.encoder.layer.10.attention.output.LayerNorm.bias torch.Size([768])\n",
            "bert.encoder.layer.10.intermediate.dense.weight torch.Size([3072, 768])\n",
            "bert.encoder.layer.10.intermediate.dense.bias torch.Size([3072])\n",
            "bert.encoder.layer.10.output.dense.weight torch.Size([768, 3072])\n",
            "bert.encoder.layer.10.output.dense.bias torch.Size([768])\n",
            "bert.encoder.layer.10.output.LayerNorm.weight torch.Size([768])\n",
            "bert.encoder.layer.10.output.LayerNorm.bias torch.Size([768])\n",
            "bert.encoder.layer.11.attention.self.query.weight torch.Size([768, 768])\n",
            "bert.encoder.layer.11.attention.self.query.bias torch.Size([768])\n",
            "bert.encoder.layer.11.attention.self.key.weight torch.Size([768, 768])\n",
            "bert.encoder.layer.11.attention.self.key.bias torch.Size([768])\n",
            "bert.encoder.layer.11.attention.self.value.weight torch.Size([768, 768])\n",
            "bert.encoder.layer.11.attention.self.value.bias torch.Size([768])\n",
            "bert.encoder.layer.11.attention.output.dense.weight torch.Size([768, 768])\n",
            "bert.encoder.layer.11.attention.output.dense.bias torch.Size([768])\n",
            "bert.encoder.layer.11.attention.output.LayerNorm.weight torch.Size([768])\n",
            "bert.encoder.layer.11.attention.output.LayerNorm.bias torch.Size([768])\n",
            "bert.encoder.layer.11.intermediate.dense.weight torch.Size([3072, 768])\n",
            "bert.encoder.layer.11.intermediate.dense.bias torch.Size([3072])\n",
            "bert.encoder.layer.11.output.dense.weight torch.Size([768, 3072])\n",
            "bert.encoder.layer.11.output.dense.bias torch.Size([768])\n",
            "bert.encoder.layer.11.output.LayerNorm.weight torch.Size([768])\n",
            "bert.encoder.layer.11.output.LayerNorm.bias torch.Size([768])\n",
            "bert.pooler.dense.weight torch.Size([768, 768])\n",
            "bert.pooler.dense.bias torch.Size([768])\n",
            "linear.weight torch.Size([2, 768])\n",
            "linear.bias torch.Size([2])\n"
          ]
        }
      ],
      "source": [
        "class BertClassifier(nn.Module):\n",
        "    def __init__(self,dropout=0.5,num_classes=2): # num_classes = 8 for multiclass\n",
        "        super().__init__()\n",
        "        self.bert=BertModel.from_pretrained('bert-base-uncased')\n",
        "        self.dropout=nn.Dropout(dropout)\n",
        "        self.linear=nn.Linear(768,num_classes)\n",
        "        self.relu=nn.ReLU()\n",
        "\n",
        "    def forward(self,input_id,mask):\n",
        "        _, x = self.bert(input_ids=input_id,attention_mask=mask,return_dict=False)\n",
        "        x=self.dropout(x)\n",
        "        x=self.linear(x)\n",
        "        x=self.relu(x)\n",
        "        return x\n",
        "\n",
        "device = 'cuda' if torch.cuda.is_available() else 'cpu'\n",
        "print(device)\n",
        "model = BertClassifier()\n",
        "\n",
        "for layer_name, params in model.named_parameters():\n",
        "    print(layer_name, params.shape)\n"
      ]
    },
    {
      "cell_type": "code",
      "execution_count": 22,
      "metadata": {},
      "outputs": [],
      "source": [
        "model = BertForSequenceClassification.from_pretrained('bert-base-uncased', num_labels=n_labels)\n"
      ]
    },
    {
      "cell_type": "code",
      "execution_count": 25,
      "metadata": {
        "colab": {
          "base_uri": "https://localhost:8080/",
          "height": 1000
        },
        "id": "QjqGUgvTGWdF",
        "outputId": "0e23dd8d-18cd-49ff-d1aa-c140a2bee311"
      },
      "outputs": [
        {
          "name": "stderr",
          "output_type": "stream",
          "text": [
            "Some weights of BertForSequenceClassification were not initialized from the model checkpoint at bert-base-uncased and are newly initialized: ['classifier.bias', 'classifier.weight']\n",
            "You should probably TRAIN this model on a down-stream task to be able to use it for predictions and inference.\n",
            "  0%|          | 0/52 [00:00<?, ?it/s]\n"
          ]
        },
        {
          "ename": "TypeError",
          "evalue": "cross_entropy_loss(): argument 'input' (position 1) must be Tensor, not SequenceClassifierOutput",
          "output_type": "error",
          "traceback": [
            "\u001b[1;31m---------------------------------------------------------------------------\u001b[0m",
            "\u001b[1;31mTypeError\u001b[0m                                 Traceback (most recent call last)",
            "Cell \u001b[1;32mIn[25], line 47\u001b[0m\n\u001b[0;32m     43\u001b[0m input_id,mask, train_label\u001b[38;5;241m=\u001b[39mprepare_inputs(train_input,train_label,device)\n\u001b[0;32m     45\u001b[0m output_1\u001b[38;5;241m=\u001b[39mmodel(input_id,mask)\n\u001b[1;32m---> 47\u001b[0m batch_loss_1\u001b[38;5;241m=\u001b[39mcriterion(output_1,train_label\u001b[38;5;241m.\u001b[39mlong())\n\u001b[0;32m     49\u001b[0m total_loss_train \u001b[38;5;241m+\u001b[39m\u001b[38;5;241m=\u001b[39m batch_loss_1\u001b[38;5;241m.\u001b[39mitem()\n\u001b[0;32m     51\u001b[0m acc\u001b[38;5;241m=\u001b[39m(output_1\u001b[38;5;241m.\u001b[39margmax(dim\u001b[38;5;241m=\u001b[39m\u001b[38;5;241m1\u001b[39m)\u001b[38;5;241m==\u001b[39mtrain_label)\u001b[38;5;241m.\u001b[39msum()\u001b[38;5;241m.\u001b[39mitem()\n",
            "File \u001b[1;32mc:\\ProgramData\\Anaconda3\\Lib\\site-packages\\torch\\nn\\modules\\module.py:1511\u001b[0m, in \u001b[0;36mModule._wrapped_call_impl\u001b[1;34m(self, *args, **kwargs)\u001b[0m\n\u001b[0;32m   1509\u001b[0m     \u001b[38;5;28;01mreturn\u001b[39;00m \u001b[38;5;28mself\u001b[39m\u001b[38;5;241m.\u001b[39m_compiled_call_impl(\u001b[38;5;241m*\u001b[39margs, \u001b[38;5;241m*\u001b[39m\u001b[38;5;241m*\u001b[39mkwargs)  \u001b[38;5;66;03m# type: ignore[misc]\u001b[39;00m\n\u001b[0;32m   1510\u001b[0m \u001b[38;5;28;01melse\u001b[39;00m:\n\u001b[1;32m-> 1511\u001b[0m     \u001b[38;5;28;01mreturn\u001b[39;00m \u001b[38;5;28mself\u001b[39m\u001b[38;5;241m.\u001b[39m_call_impl(\u001b[38;5;241m*\u001b[39margs, \u001b[38;5;241m*\u001b[39m\u001b[38;5;241m*\u001b[39mkwargs)\n",
            "File \u001b[1;32mc:\\ProgramData\\Anaconda3\\Lib\\site-packages\\torch\\nn\\modules\\module.py:1520\u001b[0m, in \u001b[0;36mModule._call_impl\u001b[1;34m(self, *args, **kwargs)\u001b[0m\n\u001b[0;32m   1515\u001b[0m \u001b[38;5;66;03m# If we don't have any hooks, we want to skip the rest of the logic in\u001b[39;00m\n\u001b[0;32m   1516\u001b[0m \u001b[38;5;66;03m# this function, and just call forward.\u001b[39;00m\n\u001b[0;32m   1517\u001b[0m \u001b[38;5;28;01mif\u001b[39;00m \u001b[38;5;129;01mnot\u001b[39;00m (\u001b[38;5;28mself\u001b[39m\u001b[38;5;241m.\u001b[39m_backward_hooks \u001b[38;5;129;01mor\u001b[39;00m \u001b[38;5;28mself\u001b[39m\u001b[38;5;241m.\u001b[39m_backward_pre_hooks \u001b[38;5;129;01mor\u001b[39;00m \u001b[38;5;28mself\u001b[39m\u001b[38;5;241m.\u001b[39m_forward_hooks \u001b[38;5;129;01mor\u001b[39;00m \u001b[38;5;28mself\u001b[39m\u001b[38;5;241m.\u001b[39m_forward_pre_hooks\n\u001b[0;32m   1518\u001b[0m         \u001b[38;5;129;01mor\u001b[39;00m _global_backward_pre_hooks \u001b[38;5;129;01mor\u001b[39;00m _global_backward_hooks\n\u001b[0;32m   1519\u001b[0m         \u001b[38;5;129;01mor\u001b[39;00m _global_forward_hooks \u001b[38;5;129;01mor\u001b[39;00m _global_forward_pre_hooks):\n\u001b[1;32m-> 1520\u001b[0m     \u001b[38;5;28;01mreturn\u001b[39;00m forward_call(\u001b[38;5;241m*\u001b[39margs, \u001b[38;5;241m*\u001b[39m\u001b[38;5;241m*\u001b[39mkwargs)\n\u001b[0;32m   1522\u001b[0m \u001b[38;5;28;01mtry\u001b[39;00m:\n\u001b[0;32m   1523\u001b[0m     result \u001b[38;5;241m=\u001b[39m \u001b[38;5;28;01mNone\u001b[39;00m\n",
            "File \u001b[1;32mc:\\ProgramData\\Anaconda3\\Lib\\site-packages\\torch\\nn\\modules\\loss.py:1179\u001b[0m, in \u001b[0;36mCrossEntropyLoss.forward\u001b[1;34m(self, input, target)\u001b[0m\n\u001b[0;32m   1178\u001b[0m \u001b[38;5;28;01mdef\u001b[39;00m \u001b[38;5;21mforward\u001b[39m(\u001b[38;5;28mself\u001b[39m, \u001b[38;5;28minput\u001b[39m: Tensor, target: Tensor) \u001b[38;5;241m-\u001b[39m\u001b[38;5;241m>\u001b[39m Tensor:\n\u001b[1;32m-> 1179\u001b[0m     \u001b[38;5;28;01mreturn\u001b[39;00m F\u001b[38;5;241m.\u001b[39mcross_entropy(\u001b[38;5;28minput\u001b[39m, target, weight\u001b[38;5;241m=\u001b[39m\u001b[38;5;28mself\u001b[39m\u001b[38;5;241m.\u001b[39mweight,\n\u001b[0;32m   1180\u001b[0m                            ignore_index\u001b[38;5;241m=\u001b[39m\u001b[38;5;28mself\u001b[39m\u001b[38;5;241m.\u001b[39mignore_index, reduction\u001b[38;5;241m=\u001b[39m\u001b[38;5;28mself\u001b[39m\u001b[38;5;241m.\u001b[39mreduction,\n\u001b[0;32m   1181\u001b[0m                            label_smoothing\u001b[38;5;241m=\u001b[39m\u001b[38;5;28mself\u001b[39m\u001b[38;5;241m.\u001b[39mlabel_smoothing)\n",
            "File \u001b[1;32mc:\\ProgramData\\Anaconda3\\Lib\\site-packages\\torch\\nn\\functional.py:3059\u001b[0m, in \u001b[0;36mcross_entropy\u001b[1;34m(input, target, weight, size_average, ignore_index, reduce, reduction, label_smoothing)\u001b[0m\n\u001b[0;32m   3057\u001b[0m \u001b[38;5;28;01mif\u001b[39;00m size_average \u001b[38;5;129;01mis\u001b[39;00m \u001b[38;5;129;01mnot\u001b[39;00m \u001b[38;5;28;01mNone\u001b[39;00m \u001b[38;5;129;01mor\u001b[39;00m reduce \u001b[38;5;129;01mis\u001b[39;00m \u001b[38;5;129;01mnot\u001b[39;00m \u001b[38;5;28;01mNone\u001b[39;00m:\n\u001b[0;32m   3058\u001b[0m     reduction \u001b[38;5;241m=\u001b[39m _Reduction\u001b[38;5;241m.\u001b[39mlegacy_get_string(size_average, reduce)\n\u001b[1;32m-> 3059\u001b[0m \u001b[38;5;28;01mreturn\u001b[39;00m torch\u001b[38;5;241m.\u001b[39m_C\u001b[38;5;241m.\u001b[39m_nn\u001b[38;5;241m.\u001b[39mcross_entropy_loss(\u001b[38;5;28minput\u001b[39m, target, weight, _Reduction\u001b[38;5;241m.\u001b[39mget_enum(reduction), ignore_index, label_smoothing)\n",
            "\u001b[1;31mTypeError\u001b[0m: cross_entropy_loss(): argument 'input' (position 1) must be Tensor, not SequenceClassifierOutput"
          ]
        }
      ],
      "source": [
        "# normal model\n",
        "\n",
        "epochs = 16\n",
        "lr = 5e-6\n",
        "bn=50\n",
        "max_len=150\n",
        "n_classes = 2\n",
        "dr = 0.5\n",
        "\n",
        "\n",
        "train_data = CustomPropagandaDataset_vanilla(train_df, max_len)\n",
        "val_data = CustomPropagandaDataset_vanilla(val_df, max_len)\n",
        "\n",
        "train_dataloader=torch.utils.data.DataLoader(train_data,batch_size=bn,shuffle=True)\n",
        "val_dataloader=torch.utils.data.DataLoader(val_data,batch_size=bn)\n",
        "\n",
        "model=BertClassifier(num_classes=n_classes, dropout=dr).to(device)\n",
        "\n",
        "criterion=nn.CrossEntropyLoss()\n",
        "optimizer = torch.optim.Adam(params=model.parameters(), lr=lr)\n",
        "\n",
        "\n",
        "train_acc_list = []\n",
        "train_loss_list = []\n",
        "val_acc_list = []\n",
        "val_loss_list = []\n",
        "\n",
        "best_val_acc = 0\n",
        "best_epoch = 0\n",
        "best_model_state = None\n",
        "\n",
        "model_id = 'bert4seq_'+str(uuid.uuid4())\n",
        "\n",
        "\n",
        "for epoch_num in range(epochs):\n",
        "\n",
        "\n",
        "        total_acc_train=0\n",
        "        total_loss_train=0\n",
        "        model.train()\n",
        "\n",
        "        for train_input,train_label in tqdm(train_dataloader):\n",
        "\n",
        "            input_id,mask, train_label=prepare_inputs(train_input,train_label,device)\n",
        "            \n",
        "\n",
        "            output_1=model(input_id,mask)\n",
        "\n",
        "            batch_loss_1=criterion(output_1,train_label.long())\n",
        "\n",
        "            total_loss_train += batch_loss_1.item()\n",
        "\n",
        "            acc=(output_1.argmax(dim=1)==train_label).sum().item()\n",
        "            total_acc_train+=acc\n",
        "\n",
        "            model.zero_grad()\n",
        "            batch_loss_1.backward()\n",
        "            optimizer.step()\n",
        "\n",
        "        total_acc_val=0\n",
        "        total_loss_val=0\n",
        "\n",
        "        y_true = []\n",
        "        y_pred = []\n",
        "        model.eval()\n",
        "        with torch.no_grad():\n",
        "            for val_input,val_label in val_dataloader:\n",
        "\n",
        "                input_id,mask, val_label=prepare_inputs(val_input,val_label,device)\n",
        "\n",
        "                output_2= model(input_id,mask)\n",
        "\n",
        "                # for scoring\n",
        "                predicted = output_2.argmax(dim=1)\n",
        "                y_true.extend(val_label.cpu().numpy())\n",
        "                y_pred.extend(predicted.cpu().numpy())\n",
        "\n",
        "                batch_loss_2=criterion(output_2,val_label.long())\n",
        "\n",
        "                total_loss_val+=batch_loss_2.item()\n",
        "\n",
        "                acc=(output_2.argmax(dim=1)==val_label).sum().item()\n",
        "                total_acc_val+=acc\n",
        "        \n",
        "        train_acc = total_acc_train / len(train_data)\n",
        "        train_loss = total_loss_train / len(train_data)\n",
        "        val_acc = total_acc_val / len(val_data)\n",
        "        val_loss = total_loss_val / len(val_data)\n",
        "\n",
        "        train_acc_list.append(train_acc)\n",
        "        train_loss_list.append(train_loss)\n",
        "        val_acc_list.append(val_acc)\n",
        "        val_loss_list.append(val_loss)\n",
        "\n",
        "        print(f'Epochs: {epoch_num+1} | Train Loss: {total_loss_train / len(train_data):.3f} | Train Accuracy: {total_acc_train/len(train_data):.3f}')\n",
        "        print(f'Val loss: {total_loss_val/len(val_data):.3f} | Val Accuracy: {total_acc_val / len(val_data):.3f}')\n",
        "        if val_acc > best_val_acc:\n",
        "          best_epoch = epoch_num\n",
        "          y_true_best = y_true.copy()\n",
        "          y_pred_best = y_pred.copy()\n",
        "          best_val_acc = val_acc\n",
        "          best_model_state = model.state_dict()\n",
        "\n",
        "        if epoch_num == epochs-1:\n",
        "            print(f'______{model_id}______')\n",
        "            print(f'LR: {lr} FINAL ACC = {total_acc_val / len(val_data):.3f}')\n",
        "            print(f'LR: {lr} BEST ACC = {best_val_acc:.3f}')\n",
        "            print('____________')\n",
        "\n",
        "# Plot the accuracy and loss curves over epochs\n",
        "epochs_range = range(1, epochs+1)\n",
        "\n",
        "plt.figure(figsize=(12, 6))\n",
        "plt.subplot(1, 2, 1)\n",
        "plt.plot(epochs_range, train_acc_list, label='Training Accuracy')\n",
        "plt.plot(epochs_range, val_acc_list, label='Validation Accuracy')\n",
        "plt.xlabel('Epochs')\n",
        "plt.ylabel('Accuracy')\n",
        "plt.legend(loc='lower right')\n",
        "plt.title('Accuracy Curves')\n",
        "\n",
        "#   plt.subplot(1, 2, 2)\n",
        "#   plt.plot(epochs_range, train_loss_list, label='Training Loss')\n",
        "#   plt.plot(epochs_range, val_loss_list, label='Validation Loss')\n",
        "#   plt.xlabel('Epochs')\n",
        "#   plt.ylabel('Loss')\n",
        "#   plt.legend(loc='upper right')\n",
        "#   plt.title('Loss Curves')\n",
        "plt.title(f'Accuracy for lr {lr}, batch size {bn}, best ac: {best_val_acc:.2f}')\n",
        "\n",
        "plt.tight_layout()\n",
        "plt.show()\n",
        "# analysis of best performing model\n",
        "\n",
        "cm = confusion_matrix(y_true_best, y_pred_best)\n",
        "disp = ConfusionMatrixDisplay(cm)\n",
        "disp.plot()\n",
        "classes = ['Class 0', 'Class 1']  # Replace with your class labels\n",
        "\n",
        "# Compute precision, recall, F1-score, and other metrics for best one\n",
        "report = classification_report(y_true, y_pred, target_names=classes)\n",
        "print('Classification Report:')\n",
        "print(report)\n",
        "results_dict = {\n",
        "  'model_id': model_id,\n",
        "  'train_accuracy': train_acc_list,\n",
        "  'train_loss': train_loss_list,\n",
        "  'val_accuracy': val_acc_list,\n",
        "  'val_loss': val_loss_list,\n",
        "  'hyperparameters': {\n",
        "      'learning_rate': lr,\n",
        "      'num_epochs': epochs,\n",
        "      'batch_size': bn,\n",
        "      'max_len': max_len,\n",
        "      'dropout': dr\n",
        "  },\n",
        "  'results': {\n",
        "      \"classes\": n_classes,\n",
        "      \"last_acc\": val_acc_list[-1],\n",
        "      'best_acc': best_val_acc,\n",
        "      'best_acc_epoch': best_epoch,\n",
        "      'confusion_matrix': cm.tolist(),\n",
        "      'classification_report': report\n",
        "  }\n",
        "}\n",
        "\n",
        "# Save the results dictionary as a JSON file with the model ID\n",
        "results_filename = f'./results/binary_results_{model_id}.json'\n",
        "with open(results_filename, 'w') as f:\n",
        "    json.dump(results_dict, f, indent=4)\n",
        "\n",
        "\n"
      ]
    },
    {
      "cell_type": "code",
      "execution_count": 37,
      "metadata": {
        "id": "df1bck_Dhkk4"
      },
      "outputs": [
        {
          "name": "stderr",
          "output_type": "stream",
          "text": [
            "Some weights of BertForSequenceClassification were not initialized from the model checkpoint at bert-base-uncased and are newly initialized: ['classifier.bias', 'classifier.weight']\n",
            "You should probably TRAIN this model on a down-stream task to be able to use it for predictions and inference.\n",
            "100%|██████████| 52/52 [03:05<00:00,  3.58s/it]\n"
          ]
        },
        {
          "name": "stdout",
          "output_type": "stream",
          "text": [
            "Epochs: 1 | Train Loss: 0.014 | Train Accuracy: 0.593\n",
            "Val loss: 0.012 | Val Accuracy: 0.667\n"
          ]
        },
        {
          "name": "stderr",
          "output_type": "stream",
          "text": [
            "100%|██████████| 52/52 [02:32<00:00,  2.93s/it]\n"
          ]
        },
        {
          "name": "stdout",
          "output_type": "stream",
          "text": [
            "Epochs: 2 | Train Loss: 0.011 | Train Accuracy: 0.738\n",
            "Val loss: 0.011 | Val Accuracy: 0.745\n"
          ]
        },
        {
          "name": "stderr",
          "output_type": "stream",
          "text": [
            "100%|██████████| 52/52 [04:36<00:00,  5.32s/it]\n"
          ]
        },
        {
          "name": "stdout",
          "output_type": "stream",
          "text": [
            "Epochs: 3 | Train Loss: 0.010 | Train Accuracy: 0.785\n",
            "Val loss: 0.011 | Val Accuracy: 0.753\n"
          ]
        },
        {
          "name": "stderr",
          "output_type": "stream",
          "text": [
            "100%|██████████| 52/52 [02:45<00:00,  3.19s/it]\n"
          ]
        },
        {
          "name": "stdout",
          "output_type": "stream",
          "text": [
            "Epochs: 4 | Train Loss: 0.009 | Train Accuracy: 0.818\n",
            "Val loss: 0.010 | Val Accuracy: 0.766\n"
          ]
        },
        {
          "name": "stderr",
          "output_type": "stream",
          "text": [
            "100%|██████████| 52/52 [02:24<00:00,  2.78s/it]\n"
          ]
        },
        {
          "name": "stdout",
          "output_type": "stream",
          "text": [
            "Epochs: 5 | Train Loss: 0.008 | Train Accuracy: 0.856\n",
            "Val loss: 0.011 | Val Accuracy: 0.770\n"
          ]
        },
        {
          "name": "stderr",
          "output_type": "stream",
          "text": [
            "100%|██████████| 52/52 [16:31<00:00, 19.08s/it]   \n"
          ]
        },
        {
          "name": "stdout",
          "output_type": "stream",
          "text": [
            "Epochs: 6 | Train Loss: 0.007 | Train Accuracy: 0.884\n",
            "Val loss: 0.011 | Val Accuracy: 0.767\n"
          ]
        },
        {
          "name": "stderr",
          "output_type": "stream",
          "text": [
            "100%|██████████| 52/52 [01:37<00:00,  1.87s/it]\n"
          ]
        },
        {
          "name": "stdout",
          "output_type": "stream",
          "text": [
            "Epochs: 7 | Train Loss: 0.006 | Train Accuracy: 0.902\n",
            "Val loss: 0.011 | Val Accuracy: 0.770\n"
          ]
        },
        {
          "name": "stderr",
          "output_type": "stream",
          "text": [
            "100%|██████████| 52/52 [01:35<00:00,  1.84s/it]\n"
          ]
        },
        {
          "name": "stdout",
          "output_type": "stream",
          "text": [
            "Epochs: 8 | Train Loss: 0.005 | Train Accuracy: 0.927\n",
            "Val loss: 0.011 | Val Accuracy: 0.766\n"
          ]
        },
        {
          "name": "stderr",
          "output_type": "stream",
          "text": [
            "100%|██████████| 52/52 [01:44<00:00,  2.01s/it]\n"
          ]
        },
        {
          "name": "stdout",
          "output_type": "stream",
          "text": [
            "Epochs: 9 | Train Loss: 0.004 | Train Accuracy: 0.936\n",
            "Val loss: 0.012 | Val Accuracy: 0.775\n"
          ]
        },
        {
          "name": "stderr",
          "output_type": "stream",
          "text": [
            "100%|██████████| 52/52 [01:37<00:00,  1.88s/it]\n"
          ]
        },
        {
          "name": "stdout",
          "output_type": "stream",
          "text": [
            "Epochs: 10 | Train Loss: 0.004 | Train Accuracy: 0.950\n",
            "Val loss: 0.012 | Val Accuracy: 0.787\n"
          ]
        },
        {
          "name": "stderr",
          "output_type": "stream",
          "text": [
            "100%|██████████| 52/52 [01:46<00:00,  2.05s/it]\n"
          ]
        },
        {
          "name": "stdout",
          "output_type": "stream",
          "text": [
            "Epochs: 11 | Train Loss: 0.003 | Train Accuracy: 0.962\n",
            "Val loss: 0.012 | Val Accuracy: 0.789\n"
          ]
        },
        {
          "name": "stderr",
          "output_type": "stream",
          "text": [
            "100%|██████████| 52/52 [01:55<00:00,  2.21s/it]\n"
          ]
        },
        {
          "name": "stdout",
          "output_type": "stream",
          "text": [
            "Epochs: 12 | Train Loss: 0.002 | Train Accuracy: 0.972\n",
            "Val loss: 0.013 | Val Accuracy: 0.759\n"
          ]
        },
        {
          "name": "stderr",
          "output_type": "stream",
          "text": [
            "100%|██████████| 52/52 [01:45<00:00,  2.03s/it]\n"
          ]
        },
        {
          "name": "stdout",
          "output_type": "stream",
          "text": [
            "Epochs: 13 | Train Loss: 0.002 | Train Accuracy: 0.973\n",
            "Val loss: 0.014 | Val Accuracy: 0.781\n"
          ]
        },
        {
          "name": "stderr",
          "output_type": "stream",
          "text": [
            "100%|██████████| 52/52 [01:37<00:00,  1.88s/it]\n"
          ]
        },
        {
          "name": "stdout",
          "output_type": "stream",
          "text": [
            "Epochs: 14 | Train Loss: 0.002 | Train Accuracy: 0.982\n",
            "Val loss: 0.014 | Val Accuracy: 0.780\n"
          ]
        },
        {
          "name": "stderr",
          "output_type": "stream",
          "text": [
            "100%|██████████| 52/52 [01:34<00:00,  1.83s/it]\n"
          ]
        },
        {
          "name": "stdout",
          "output_type": "stream",
          "text": [
            "Epochs: 15 | Train Loss: 0.002 | Train Accuracy: 0.977\n",
            "Val loss: 0.014 | Val Accuracy: 0.781\n"
          ]
        },
        {
          "name": "stderr",
          "output_type": "stream",
          "text": [
            "100%|██████████| 52/52 [02:01<00:00,  2.33s/it]\n"
          ]
        },
        {
          "name": "stdout",
          "output_type": "stream",
          "text": [
            "Epochs: 16 | Train Loss: 0.001 | Train Accuracy: 0.986\n",
            "Val loss: 0.015 | Val Accuracy: 0.791\n"
          ]
        },
        {
          "name": "stderr",
          "output_type": "stream",
          "text": [
            "100%|██████████| 52/52 [01:34<00:00,  1.82s/it]\n"
          ]
        },
        {
          "name": "stdout",
          "output_type": "stream",
          "text": [
            "Epochs: 17 | Train Loss: 0.001 | Train Accuracy: 0.986\n",
            "Val loss: 0.016 | Val Accuracy: 0.777\n"
          ]
        },
        {
          "name": "stderr",
          "output_type": "stream",
          "text": [
            "100%|██████████| 52/52 [02:44<00:00,  3.15s/it]\n"
          ]
        },
        {
          "name": "stdout",
          "output_type": "stream",
          "text": [
            "Epochs: 18 | Train Loss: 0.001 | Train Accuracy: 0.989\n",
            "Val loss: 0.016 | Val Accuracy: 0.778\n"
          ]
        },
        {
          "name": "stderr",
          "output_type": "stream",
          "text": [
            "100%|██████████| 52/52 [04:56<00:00,  5.71s/it]\n"
          ]
        },
        {
          "name": "stdout",
          "output_type": "stream",
          "text": [
            "Epochs: 19 | Train Loss: 0.001 | Train Accuracy: 0.991\n",
            "Val loss: 0.016 | Val Accuracy: 0.780\n"
          ]
        },
        {
          "name": "stderr",
          "output_type": "stream",
          "text": [
            "100%|██████████| 52/52 [09:57<00:00, 11.48s/it]\n"
          ]
        },
        {
          "name": "stdout",
          "output_type": "stream",
          "text": [
            "Epochs: 20 | Train Loss: 0.001 | Train Accuracy: 0.988\n",
            "Val loss: 0.016 | Val Accuracy: 0.783\n",
            "______42008382-f62d-4129-a8fe-5ac18f4ba56d______\n",
            "LR: 5e-06 FINAL ACC = 0.783\n",
            "LR: 5e-06 BEST ACC = 0.791\n",
            "____________\n"
          ]
        },
        {
          "data": {
            "image/png": "[encoded data removed]",
            "text/plain": [
              "<Figure size 1200x600 with 1 Axes>"
            ]
          },
          "metadata": {},
          "output_type": "display_data"
        },
        {
          "name": "stdout",
          "output_type": "stream",
          "text": [
            "Classification Report:\n",
            "              precision    recall  f1-score   support\n",
            "\n",
            "     Class 0       0.80      0.77      0.79       331\n",
            "     Class 1       0.76      0.80      0.78       309\n",
            "\n",
            "    accuracy                           0.78       640\n",
            "   macro avg       0.78      0.78      0.78       640\n",
            "weighted avg       0.78      0.78      0.78       640\n",
            "\n"
          ]
        },
        {
          "data": {
            "image/png": "[encoded data removed]",
            "text/plain": [
              "<Figure size 640x480 with 2 Axes>"
            ]
          },
          "metadata": {},
          "output_type": "display_data"
        }
      ],
      "source": [
        "# BERT4Sequence\n",
        "epochs = 20\n",
        "lr = 1e-6\n",
        "bn=50\n",
        "max_len=150\n",
        "n_classes = 2\n",
        "dr = 0.5\n",
        "\n",
        "\n",
        "for lr in [5e-6]:\n",
        "    train_data = CustomPropagandaDataset_vanilla(train_df, max_len)\n",
        "    val_data = CustomPropagandaDataset_vanilla(val_df, max_len)\n",
        "\n",
        "    train_dataloader=torch.utils.data.DataLoader(train_data,batch_size=bn,shuffle=True)\n",
        "    val_dataloader=torch.utils.data.DataLoader(val_data,batch_size=bn)\n",
        "\n",
        "    model = BertForSequenceClassification.from_pretrained('bert-base-uncased', num_labels=n_classes).to(device)\n",
        "\n",
        "    optimizer = torch.optim.Adam(params=model.parameters(), lr=lr)\n",
        "\n",
        "\n",
        "    train_acc_list = []\n",
        "    train_loss_list = []\n",
        "    val_acc_list = []\n",
        "    val_loss_list = []\n",
        "\n",
        "    best_val_acc = 0\n",
        "    best_epoch = 0\n",
        "    best_model_state = None\n",
        "\n",
        "    model_id = str(uuid.uuid4())\n",
        "\n",
        "\n",
        "    for epoch_num in range(epochs):\n",
        "\n",
        "\n",
        "            total_acc_train=0\n",
        "            total_loss_train=0\n",
        "            model.train()\n",
        "\n",
        "            for train_input,train_label in tqdm(train_dataloader):\n",
        "\n",
        "                input_id,mask, train_label=prepare_inputs(train_input,train_label,device)\n",
        "\n",
        "                output_1=model(input_id,mask, labels=train_label)\n",
        "\n",
        "                batch_loss_1=output_1.loss\n",
        "\n",
        "                total_loss_train += batch_loss_1.item()\n",
        "\n",
        "                acc=(output_1.logits.argmax(dim=1)==train_label).sum().item()\n",
        "                total_acc_train+=acc\n",
        "\n",
        "                model.zero_grad()\n",
        "                batch_loss_1.backward()\n",
        "                optimizer.step()\n",
        "\n",
        "            total_acc_val=0\n",
        "            total_loss_val=0\n",
        "\n",
        "            y_true = []\n",
        "            y_pred = []\n",
        "            model.eval()\n",
        "            with torch.no_grad():\n",
        "                for val_input,val_label in val_dataloader:\n",
        "\n",
        "                    input_id,mask, val_label=prepare_inputs(val_input,val_label,device)\n",
        "\n",
        "                    output_2= model(input_id,mask, labels=val_label)\n",
        "\n",
        "                    # for scoring\n",
        "                    predicted = output_2.logits.argmax(dim=1)\n",
        "                    y_true.extend(val_label.cpu().numpy())\n",
        "                    y_pred.extend(predicted.cpu().numpy())\n",
        "\n",
        "                    # batch_loss_2=criterion(output_2,val_label.long())\n",
        "                    batch_loss_2=output_2.loss\n",
        "\n",
        "                    total_loss_val+=batch_loss_2.item()\n",
        "\n",
        "                    acc=(output_2.logits.argmax(dim=1)==val_label).sum().item()\n",
        "                    total_acc_val+=acc\n",
        "            \n",
        "            train_acc = total_acc_train / len(train_data)\n",
        "            train_loss = total_loss_train / len(train_data)\n",
        "            val_acc = total_acc_val / len(val_data)\n",
        "            val_loss = total_loss_val / len(val_data)\n",
        "\n",
        "            train_acc_list.append(train_acc)\n",
        "            train_loss_list.append(train_loss)\n",
        "            val_acc_list.append(val_acc)\n",
        "            val_loss_list.append(val_loss)\n",
        "\n",
        "            print(f'Epochs: {epoch_num+1} | Train Loss: {total_loss_train / len(train_data):.3f} | Train Accuracy: {total_acc_train/len(train_data):.3f}')\n",
        "            print(f'Val loss: {total_loss_val/len(val_data):.3f} | Val Accuracy: {total_acc_val / len(val_data):.3f}')\n",
        "            if val_acc > best_val_acc:\n",
        "                best_epoch = epoch_num\n",
        "                y_true_best = y_true.copy()\n",
        "                y_pred_best = y_pred.copy()\n",
        "                best_val_acc = val_acc\n",
        "                best_model_state = model.state_dict()\n",
        "\n",
        "            if epoch_num == epochs-1:\n",
        "                print(f'______{model_id}______')\n",
        "                print(f'LR: {lr} FINAL ACC = {total_acc_val / len(val_data):.3f}')\n",
        "                print(f'LR: {lr} BEST ACC = {best_val_acc:.3f}')\n",
        "                print('____________')\n",
        "\n",
        "    # Plot the accuracy and loss curves over epochs\n",
        "    epochs_range = range(1, epochs+1)\n",
        "\n",
        "    plt.figure(figsize=(12, 6))\n",
        "    plt.subplot(1, 2, 1)\n",
        "    plt.plot(epochs_range, train_acc_list, label='Training Accuracy')\n",
        "    plt.plot(epochs_range, val_acc_list, label='Validation Accuracy')\n",
        "    plt.xlabel('Epochs')\n",
        "    plt.ylabel('Accuracy')\n",
        "    plt.legend(loc='lower right')\n",
        "    plt.title('Accuracy Curves')\n",
        "\n",
        "    #   plt.subplot(1, 2, 2)\n",
        "    #   plt.plot(epochs_range, train_loss_list, label='Training Loss')\n",
        "    #   plt.plot(epochs_range, val_loss_list, label='Validation Loss')\n",
        "    #   plt.xlabel('Epochs')\n",
        "    #   plt.ylabel('Loss')\n",
        "    #   plt.legend(loc='upper right')\n",
        "    #   plt.title('Loss Curves')\n",
        "    plt.title(f'Accuracy for lr {lr}, batch size {bn}, best ac: {best_val_acc:.2f}')\n",
        "\n",
        "    plt.tight_layout()\n",
        "    plt.show()\n",
        "    # analysis of best performing model\n",
        "\n",
        "    cm = confusion_matrix(y_true_best, y_pred_best)\n",
        "    disp = ConfusionMatrixDisplay(cm)\n",
        "    disp.plot()\n",
        "    classes = ['Class 0', 'Class 1']  # Replace with your class labels\n",
        "\n",
        "    # Compute precision, recall, F1-score, and other metrics for best one\n",
        "    report = classification_report(y_true, y_pred, target_names=classes)\n",
        "    print('Classification Report:')\n",
        "    print(report)\n",
        "    results_dict = {\n",
        "    'model_id': model_id,\n",
        "    'train_accuracy': train_acc_list,\n",
        "    'train_loss': train_loss_list,\n",
        "    'val_accuracy': val_acc_list,\n",
        "    'val_loss': val_loss_list,\n",
        "    'hyperparameters': {\n",
        "        'learning_rate': lr,\n",
        "        'num_epochs': epochs,\n",
        "        'batch_size': bn,\n",
        "        'max_len': max_len,\n",
        "        'dropout': dr\n",
        "    },\n",
        "    'results': {\n",
        "        \"classes\": n_classes,\n",
        "        \"last_acc\": val_acc_list[-1],\n",
        "        'best_acc': best_val_acc,\n",
        "        'best_acc_epoch': best_epoch,\n",
        "        'confusion_matrix': cm.tolist(),\n",
        "        'classification_report': report\n",
        "    }\n",
        "    }\n",
        "\n",
        "    # Save the results dictionary as a JSON file with the model ID\n",
        "    results_filename = f'./results/bert4seq_binary_results_{model_id}.json'\n",
        "    with open(results_filename, 'w') as f:\n",
        "        json.dump(results_dict, f, indent=4)\n",
        "\n",
        "\n",
        "\n"
      ]
    },
    {
      "cell_type": "code",
      "execution_count": null,
      "metadata": {},
      "outputs": [],
      "source": []
    }
  ],
  "metadata": {
    "accelerator": "GPU",
    "colab": {
      "gpuType": "T4",
      "provenance": []
    },
    "kernelspec": {
      "display_name": "Python 3",
      "name": "python3"
    },
    "language_info": {
      "codemirror_mode": {
        "name": "ipython",
        "version": 3
      },
      "file_extension": ".py",
      "mimetype": "text/x-python",
      "name": "python",
      "nbconvert_exporter": "python",
      "pygments_lexer": "ipython3",
      "version": "3.11.8"
    }
  },
  "nbformat": 4,
  "nbformat_minor": 0
}
