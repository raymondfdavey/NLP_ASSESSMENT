{
 "cells": [
  {
   "cell_type": "markdown",
   "metadata": {},
   "source": [
    "DL - https://drive.google.com/file/d/0B7XkCwpI5KDYNlNUTTlSS21pQmM/edit"
   ]
  },
  {
   "cell_type": "code",
   "execution_count": null,
   "metadata": {},
   "outputs": [],
   "source": [
    "try :\n",
    "  from google.colab import drive\n",
    "  IN_COLAB = True\n",
    "except:\n",
    "  IN_COLAB = False\n",
    "print('IN COLAB: ', IN_COLAB)"
   ]
  },
  {
   "cell_type": "code",
   "execution_count": null,
   "metadata": {},
   "outputs": [],
   "source": [
    "import os\n",
    "import pandas as pd\n",
    "\n",
    "parentdir = \"./propaganda_dataset_v2\"\n",
    "train_file= \"propaganda_train.tsv\"\n",
    "val_file= \"propaganda_val.tsv\"\n",
    "\n",
    "train_path=os.path.join(parentdir,train_file)\n",
    "val_path=os.path.join(parentdir,val_file)\n",
    "\n",
    "if IN_COLAB:\n",
    "  train_path = '/content/propaganda_train.tsv'\n",
    "  val_path = '/content/propaganda_val.tsv'\n",
    "\n",
    "train_df=pd.read_csv(train_path,delimiter=\"\\t\",quotechar='|')\n",
    "val_df=pd.read_csv(val_path,delimiter=\"\\t\",quotechar='|')\n"
   ]
  },
  {
   "cell_type": "code",
   "execution_count": null,
   "metadata": {},
   "outputs": [],
   "source": [
    "def transform_binaryify(row):\n",
    "    new_value = 0 if row['label'] == 'not_propaganda' else 1\n",
    "    return new_value\n",
    "\n",
    "def transform_strip_tag(row):\n",
    "    sent = row['tagged_in_context']\n",
    "    cleaned_string = sent.replace(\"<BOS>\", \"\")\n",
    "    cleaned_string = cleaned_string.replace(\"<EOS>\", \"\")\n",
    "    return cleaned_string\n",
    "\n",
    "\n",
    "train_df['propaganda'] = train_df.apply(transform_binaryify, axis=1)\n",
    "train_df['original_without_snip_tags'] = train_df.apply(transform_strip_tag, axis=1)\n",
    "\n",
    "\n",
    "val_df['propaganda'] = val_df.apply(transform_binaryify, axis=1)\n",
    "val_df['original_without_snip_tags'] = val_df.apply(transform_strip_tag, axis=1)\n",
    "\n",
    "train_df\n",
    "val_df"
   ]
  },
  {
   "cell_type": "code",
   "execution_count": null,
   "metadata": {},
   "outputs": [],
   "source": [
    "# TOKENISE!!!!!!!!!!!!"
   ]
  },
  {
   "cell_type": "code",
   "execution_count": 6,
   "metadata": {},
   "outputs": [],
   "source": [
    "#import gensim library\n",
    "from gensim.models import Word2Vec\n",
    "from gensim.models import KeyedVectors\n",
    "#replace with the path where you have downloaded your model.\n",
    "pretrained_model_path = './GoogleNews-vectors-negative300.bin.gz' \n",
    "#initialise the pre trained model using load_word2vec_format from gensim module.\n",
    "my_model = KeyedVectors.load_word2vec_format(pretrained_model_path, binary=True)\n",
    " "
   ]
  }
 ],
 "metadata": {
  "kernelspec": {
   "display_name": "Python 3",
   "language": "python",
   "name": "python3"
  },
  "language_info": {
   "codemirror_mode": {
    "name": "ipython",
    "version": 3
   },
   "file_extension": ".py",
   "mimetype": "text/x-python",
   "name": "python",
   "nbconvert_exporter": "python",
   "pygments_lexer": "ipython3",
   "version": "3.11.4"
  }
 },
 "nbformat": 4,
 "nbformat_minor": 2
}
