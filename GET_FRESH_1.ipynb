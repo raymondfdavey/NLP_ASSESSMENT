{
  "cells": [
    {
      "cell_type": "code",
      "execution_count": 1,
      "metadata": {
        "colab": {
          "base_uri": "https://localhost:8080/"
        },
        "id": "-CoZ4DzaGrqL",
        "outputId": "f6c0365a-5486-4706-cf7e-40393fcc0e78"
      },
      "outputs": [
        {
          "name": "stdout",
          "output_type": "stream",
          "text": [
            "IN COLAB:  False\n"
          ]
        }
      ],
      "source": [
        "try :\n",
        "  from google.colab import drive\n",
        "  IN_COLAB = True\n",
        "except:\n",
        "  IN_COLAB = False\n",
        "print('IN COLAB: ', IN_COLAB)"
      ]
    },
    {
      "cell_type": "code",
      "execution_count": 2,
      "metadata": {
        "id": "VzEQ55q1Mgrw"
      },
      "outputs": [
        {
          "name": "stderr",
          "output_type": "stream",
          "text": [
            "c:\\ProgramData\\anaconda3\\Lib\\site-packages\\pandas\\core\\arrays\\masked.py:60: UserWarning: Pandas requires version '1.3.6' or newer of 'bottleneck' (version '1.3.5' currently installed).\n",
            "  from pandas.core import (\n"
          ]
        }
      ],
      "source": [
        "import os\n",
        "import pandas as pd\n",
        "\n",
        "parentdir = \"./propaganda_dataset_v2\"\n",
        "train_file= \"propaganda_train.tsv\"\n",
        "val_file= \"propaganda_val.tsv\"\n",
        "\n",
        "train_path=os.path.join(parentdir,train_file)\n",
        "val_path=os.path.join(parentdir,val_file)\n",
        "\n",
        "if IN_COLAB:\n",
        "  train_path = '/content/propaganda_train.tsv'\n",
        "  val_path = '/content/propaganda_val.tsv'\n",
        "\n",
        "train_df=pd.read_csv(train_path,delimiter=\"\\t\",quotechar='|')\n",
        "val_df=pd.read_csv(val_path,delimiter=\"\\t\",quotechar='|')\n"
      ]
    },
    {
      "cell_type": "code",
      "execution_count": 3,
      "metadata": {
        "colab": {
          "base_uri": "https://localhost:8080/",
          "height": 423
        },
        "id": "-nIK7dgEGWdC",
        "outputId": "a1f5c03d-ea97-4ac5-9676-eec983ea0621"
      },
      "outputs": [
        {
          "data": {
            "text/html": [
              "<div>\n",
              "<style scoped>\n",
              "    .dataframe tbody tr th:only-of-type {\n",
              "        vertical-align: middle;\n",
              "    }\n",
              "\n",
              "    .dataframe tbody tr th {\n",
              "        vertical-align: top;\n",
              "    }\n",
              "\n",
              "    .dataframe thead th {\n",
              "        text-align: right;\n",
              "    }\n",
              "</style>\n",
              "<table border=\"1\" class=\"dataframe\">\n",
              "  <thead>\n",
              "    <tr style=\"text-align: right;\">\n",
              "      <th></th>\n",
              "      <th>label</th>\n",
              "      <th>tagged_in_context</th>\n",
              "      <th>propaganda</th>\n",
              "      <th>original_without_snip_tags</th>\n",
              "    </tr>\n",
              "  </thead>\n",
              "  <tbody>\n",
              "    <tr>\n",
              "      <th>0</th>\n",
              "      <td>not_propaganda</td>\n",
              "      <td>On average, between 300 and 600 infections are...</td>\n",
              "      <td>0</td>\n",
              "      <td>On average, between 300 and 600 infections are...</td>\n",
              "    </tr>\n",
              "    <tr>\n",
              "      <th>1</th>\n",
              "      <td>causal_oversimplification</td>\n",
              "      <td>Mostly because &lt;BOS&gt; the country would not las...</td>\n",
              "      <td>1</td>\n",
              "      <td>Mostly because  the country would not last lon...</td>\n",
              "    </tr>\n",
              "    <tr>\n",
              "      <th>2</th>\n",
              "      <td>appeal_to_fear_prejudice</td>\n",
              "      <td>Lyndon Johnson &lt;BOS&gt; gets Earl Warren and Sen....</td>\n",
              "      <td>1</td>\n",
              "      <td>Lyndon Johnson  gets Earl Warren and Sen. Rich...</td>\n",
              "    </tr>\n",
              "    <tr>\n",
              "      <th>3</th>\n",
              "      <td>not_propaganda</td>\n",
              "      <td>&lt;BOS&gt; You &lt;EOS&gt; may opt out at anytime.</td>\n",
              "      <td>0</td>\n",
              "      <td>You  may opt out at anytime.</td>\n",
              "    </tr>\n",
              "    <tr>\n",
              "      <th>4</th>\n",
              "      <td>repetition</td>\n",
              "      <td>It must be exacted from him directly in order ...</td>\n",
              "      <td>1</td>\n",
              "      <td>It must be exacted from him directly in order ...</td>\n",
              "    </tr>\n",
              "    <tr>\n",
              "      <th>...</th>\n",
              "      <td>...</td>\n",
              "      <td>...</td>\n",
              "      <td>...</td>\n",
              "      <td>...</td>\n",
              "    </tr>\n",
              "    <tr>\n",
              "      <th>635</th>\n",
              "      <td>not_propaganda</td>\n",
              "      <td>NewsCatholic Church, &lt;BOS&gt; Family, Marriage &lt;E...</td>\n",
              "      <td>0</td>\n",
              "      <td>NewsCatholic Church,  Family, Marriage</td>\n",
              "    </tr>\n",
              "    <tr>\n",
              "      <th>636</th>\n",
              "      <td>not_propaganda</td>\n",
              "      <td>Remember our saying, modern day fairy &lt;BOS&gt; ta...</td>\n",
              "      <td>0</td>\n",
              "      <td>Remember our saying, modern day fairy  tales s...</td>\n",
              "    </tr>\n",
              "    <tr>\n",
              "      <th>637</th>\n",
              "      <td>not_propaganda</td>\n",
              "      <td>Why &lt;BOS&gt; not &lt;EOS&gt; open up to Iran with massi...</td>\n",
              "      <td>0</td>\n",
              "      <td>Why  not  open up to Iran with massive amounts...</td>\n",
              "    </tr>\n",
              "    <tr>\n",
              "      <th>638</th>\n",
              "      <td>flag_waving</td>\n",
              "      <td>&lt;BOS&gt; He also sang an Islamic State fight song...</td>\n",
              "      <td>1</td>\n",
              "      <td>He also sang an Islamic State fight song and ...</td>\n",
              "    </tr>\n",
              "    <tr>\n",
              "      <th>639</th>\n",
              "      <td>causal_oversimplification</td>\n",
              "      <td>We hear again, as we did incessantly from the ...</td>\n",
              "      <td>1</td>\n",
              "      <td>We hear again, as we did incessantly from the ...</td>\n",
              "    </tr>\n",
              "  </tbody>\n",
              "</table>\n",
              "<p>640 rows × 4 columns</p>\n",
              "</div>"
            ],
            "text/plain": [
              "                         label  \\\n",
              "0               not_propaganda   \n",
              "1    causal_oversimplification   \n",
              "2     appeal_to_fear_prejudice   \n",
              "3               not_propaganda   \n",
              "4                   repetition   \n",
              "..                         ...   \n",
              "635             not_propaganda   \n",
              "636             not_propaganda   \n",
              "637             not_propaganda   \n",
              "638                flag_waving   \n",
              "639  causal_oversimplification   \n",
              "\n",
              "                                     tagged_in_context  propaganda  \\\n",
              "0    On average, between 300 and 600 infections are...           0   \n",
              "1    Mostly because <BOS> the country would not las...           1   \n",
              "2    Lyndon Johnson <BOS> gets Earl Warren and Sen....           1   \n",
              "3             <BOS> You <EOS> may opt out at anytime.            0   \n",
              "4    It must be exacted from him directly in order ...           1   \n",
              "..                                                 ...         ...   \n",
              "635  NewsCatholic Church, <BOS> Family, Marriage <E...           0   \n",
              "636  Remember our saying, modern day fairy <BOS> ta...           0   \n",
              "637  Why <BOS> not <EOS> open up to Iran with massi...           0   \n",
              "638  <BOS> He also sang an Islamic State fight song...           1   \n",
              "639  We hear again, as we did incessantly from the ...           1   \n",
              "\n",
              "                            original_without_snip_tags  \n",
              "0    On average, between 300 and 600 infections are...  \n",
              "1    Mostly because  the country would not last lon...  \n",
              "2    Lyndon Johnson  gets Earl Warren and Sen. Rich...  \n",
              "3                        You  may opt out at anytime.   \n",
              "4    It must be exacted from him directly in order ...  \n",
              "..                                                 ...  \n",
              "635           NewsCatholic Church,  Family, Marriage    \n",
              "636  Remember our saying, modern day fairy  tales s...  \n",
              "637  Why  not  open up to Iran with massive amounts...  \n",
              "638   He also sang an Islamic State fight song and ...  \n",
              "639  We hear again, as we did incessantly from the ...  \n",
              "\n",
              "[640 rows x 4 columns]"
            ]
          },
          "execution_count": 3,
          "metadata": {},
          "output_type": "execute_result"
        }
      ],
      "source": [
        "def transform_binaryify(row):\n",
        "    new_value = 0 if row['label'] == 'not_propaganda' else 1\n",
        "    return new_value\n",
        "\n",
        "def transform_strip_tag(row):\n",
        "    sent = row['tagged_in_context']\n",
        "    cleaned_string = sent.replace(\"<BOS>\", \"\")\n",
        "    cleaned_string = cleaned_string.replace(\"<EOS>\", \"\")\n",
        "    return cleaned_string\n",
        "\n",
        "\n",
        "train_df['propaganda'] = train_df.apply(transform_binaryify, axis=1)\n",
        "train_df['original_without_snip_tags'] = train_df.apply(transform_strip_tag, axis=1)\n",
        "\n",
        "\n",
        "val_df['propaganda'] = val_df.apply(transform_binaryify, axis=1)\n",
        "val_df['original_without_snip_tags'] = val_df.apply(transform_strip_tag, axis=1)\n",
        "\n",
        "train_df\n",
        "val_df"
      ]
    },
    {
      "cell_type": "code",
      "execution_count": 4,
      "metadata": {},
      "outputs": [],
      "source": [
        "# wills\n",
        "epochs = 16\n",
        "lr = 5e-6\n",
        "batch_size=80\n",
        "max_len=150\n",
        "n_classes = 2"
      ]
    },
    {
      "cell_type": "code",
      "execution_count": 5,
      "metadata": {
        "id": "yG8AIos5GWdD"
      },
      "outputs": [],
      "source": [
        "from torch.utils.data import DataLoader, Dataset\n",
        "from transformers import BertModel, BertTokenizer\n",
        "import torch\n",
        "import numpy as np\n",
        "\n",
        "\n",
        "class CustomPropagandaDataset_vanilla(Dataset):\n",
        "    def __init__(self,df, max_len):\n",
        "        tokenizer = BertTokenizer.from_pretrained('bert-base-uncased')\n",
        "\n",
        "        self.labels=torch.tensor([label for label in df['propaganda']])\n",
        "        self.texts=[tokenizer(text,padding='max_length',max_length=max_len,truncation=True,return_tensors=\"pt\") for text in df['original_without_snip_tags']]\n",
        "\n",
        "    def classes(self):\n",
        "        return self.labels\n",
        "\n",
        "    def __len__(self):\n",
        "        return len(self.labels)\n",
        "\n",
        "    def get_batch_labels(self,idx):\n",
        "        return np.array(self.labels[idx])\n",
        "\n",
        "    def get_batch_texts(self,idx):\n",
        "        return self.texts[idx]\n",
        "\n",
        "    def __getitem__(self,idx):\n",
        "        batch_texts=self.get_batch_texts(idx)\n",
        "        batch_y=self.get_batch_labels(idx)\n",
        "\n",
        "        return batch_texts,batch_y\n",
        "\n",
        "\n",
        "def prepare_inputs(input1,label,device):\n",
        "  label=label.to(device)\n",
        "  mask=input1['attention_mask'].to(device)\n",
        "  input_id=input1['input_ids'].squeeze(1).to(device)\n",
        "  return (input_id,mask,label)"
      ]
    },
    {
      "cell_type": "code",
      "execution_count": 6,
      "metadata": {
        "id": "c4GLv76dGWdD"
      },
      "outputs": [],
      "source": [
        "train_data = CustomPropagandaDataset_vanilla(train_df, max_len)\n",
        "val_data = CustomPropagandaDataset_vanilla(val_df, max_len)"
      ]
    },
    {
      "cell_type": "code",
      "execution_count": 7,
      "metadata": {
        "id": "iyLQR068GWdE"
      },
      "outputs": [],
      "source": [
        "train_dataloader=torch.utils.data.DataLoader(train_data,batch_size=batch_size,shuffle=True)\n",
        "val_dataloader=torch.utils.data.DataLoader(val_data,batch_size=batch_size)"
      ]
    },
    {
      "cell_type": "code",
      "execution_count": 8,
      "metadata": {
        "colab": {
          "base_uri": "https://localhost:8080/"
        },
        "id": "ZdILCP_tGWdE",
        "outputId": "2635b394-0dfe-427d-daf5-639bde35517a"
      },
      "outputs": [
        {
          "name": "stdout",
          "output_type": "stream",
          "text": [
            "cuda\n"
          ]
        }
      ],
      "source": [
        "from torch import nn\n",
        "\n",
        "class BertClassifier(nn.Module):\n",
        "\n",
        "    def __init__(self,dropout=0.5,num_classes=2):\n",
        "        super(BertClassifier, self).__init__()\n",
        "\n",
        "        self.bert=BertModel.from_pretrained('bert-base-uncased')\n",
        "        self.dropout=nn.Dropout(dropout)\n",
        "        self.linear=nn.Linear(768,num_classes)\n",
        "        self.relu=nn.ReLU()\n",
        "\n",
        "    def forward(self,input_id,mask):\n",
        "\n",
        "        _, pooled_output = self.bert(input_ids=input_id,attention_mask=mask,return_dict=False)\n",
        "        dropout_output=self.dropout(pooled_output)\n",
        "        linear_output=self.linear(dropout_output)\n",
        "        final_layer=self.relu(linear_output)\n",
        "\n",
        "        return final_layer\n",
        "\n",
        "device = 'cuda' if torch.cuda.is_available() else 'cpu'\n",
        "print(device)"
      ]
    },
    {
      "cell_type": "code",
      "execution_count": 9,
      "metadata": {
        "colab": {
          "base_uri": "https://localhost:8080/",
          "height": 832
        },
        "id": "QjqGUgvTGWdF",
        "outputId": "bb3606b5-2128-4c7c-8d86-eb0f5521e352"
      },
      "outputs": [
        {
          "name": "stderr",
          "output_type": "stream",
          "text": [
            "100%|██████████| 32/32 [00:34<00:00,  1.09s/it]\n"
          ]
        },
        {
          "name": "stdout",
          "output_type": "stream",
          "text": [
            "Epochs: 1 | Train Loss: 0.009 | Train Accuracy: 0.521\n",
            "Val loss: 0.008 | Val Accuracy: 0.606\n"
          ]
        },
        {
          "name": "stderr",
          "output_type": "stream",
          "text": [
            "100%|██████████| 32/32 [00:33<00:00,  1.05s/it]\n"
          ]
        },
        {
          "name": "stdout",
          "output_type": "stream",
          "text": [
            "Epochs: 2 | Train Loss: 0.008 | Train Accuracy: 0.607\n",
            "Val loss: 0.008 | Val Accuracy: 0.611\n"
          ]
        },
        {
          "name": "stderr",
          "output_type": "stream",
          "text": [
            "100%|██████████| 32/32 [10:28<00:00, 19.64s/it]\n"
          ]
        },
        {
          "name": "stdout",
          "output_type": "stream",
          "text": [
            "Epochs: 3 | Train Loss: 0.008 | Train Accuracy: 0.692\n",
            "Val loss: 0.008 | Val Accuracy: 0.673\n"
          ]
        },
        {
          "name": "stderr",
          "output_type": "stream",
          "text": [
            "100%|██████████| 32/32 [09:42<00:00, 18.22s/it]\n"
          ]
        },
        {
          "name": "stdout",
          "output_type": "stream",
          "text": [
            "Epochs: 4 | Train Loss: 0.007 | Train Accuracy: 0.732\n",
            "Val loss: 0.007 | Val Accuracy: 0.733\n"
          ]
        },
        {
          "name": "stderr",
          "output_type": "stream",
          "text": [
            "100%|██████████| 32/32 [09:25<00:00, 17.68s/it]\n"
          ]
        },
        {
          "name": "stdout",
          "output_type": "stream",
          "text": [
            "Epochs: 5 | Train Loss: 0.007 | Train Accuracy: 0.768\n",
            "Val loss: 0.007 | Val Accuracy: 0.755\n"
          ]
        },
        {
          "name": "stderr",
          "output_type": "stream",
          "text": [
            "100%|██████████| 32/32 [05:20<00:00, 10.03s/it]\n"
          ]
        },
        {
          "name": "stdout",
          "output_type": "stream",
          "text": [
            "Epochs: 6 | Train Loss: 0.006 | Train Accuracy: 0.805\n",
            "Val loss: 0.007 | Val Accuracy: 0.741\n"
          ]
        },
        {
          "name": "stderr",
          "output_type": "stream",
          "text": [
            "100%|██████████| 32/32 [04:07<00:00,  7.73s/it]\n"
          ]
        },
        {
          "name": "stdout",
          "output_type": "stream",
          "text": [
            "Epochs: 7 | Train Loss: 0.006 | Train Accuracy: 0.826\n",
            "Val loss: 0.006 | Val Accuracy: 0.761\n"
          ]
        },
        {
          "name": "stderr",
          "output_type": "stream",
          "text": [
            "100%|██████████| 32/32 [04:36<00:00,  8.64s/it]\n"
          ]
        },
        {
          "ename": "KeyboardInterrupt",
          "evalue": "",
          "output_type": "error",
          "traceback": [
            "\u001b[1;31m---------------------------------------------------------------------------\u001b[0m",
            "\u001b[1;31mKeyboardInterrupt\u001b[0m                         Traceback (most recent call last)",
            "Cell \u001b[1;32mIn[9], line 65\u001b[0m\n\u001b[0;32m     63\u001b[0m \u001b[38;5;66;03m# for scoring\u001b[39;00m\n\u001b[0;32m     64\u001b[0m predicted \u001b[38;5;241m=\u001b[39m output_2\u001b[38;5;241m.\u001b[39margmax(dim\u001b[38;5;241m=\u001b[39m\u001b[38;5;241m1\u001b[39m)\n\u001b[1;32m---> 65\u001b[0m y_true\u001b[38;5;241m.\u001b[39mextend(val_label\u001b[38;5;241m.\u001b[39mcpu()\u001b[38;5;241m.\u001b[39mnumpy())\n\u001b[0;32m     66\u001b[0m y_pred\u001b[38;5;241m.\u001b[39mextend(predicted\u001b[38;5;241m.\u001b[39mcpu()\u001b[38;5;241m.\u001b[39mnumpy())\n\u001b[0;32m     68\u001b[0m batch_loss_2\u001b[38;5;241m=\u001b[39mcriterion(output_2,val_label\u001b[38;5;241m.\u001b[39mlong())\n",
            "\u001b[1;31mKeyboardInterrupt\u001b[0m: "
          ]
        }
      ],
      "source": [
        "from tqdm import tqdm\n",
        "import matplotlib.pyplot as plt\n",
        "from sklearn.metrics import confusion_matrix, classification_report, ConfusionMatrixDisplay\n",
        "import json\n",
        "import uuid\n",
        "\n",
        "\n",
        "\n",
        "model=BertClassifier(num_classes=n_classes).to(device)\n",
        "criterion=nn.CrossEntropyLoss()\n",
        "optimizer = torch.optim.Adam(params=model.parameters(), lr=lr)\n",
        "\n",
        "\n",
        "train_acc_list = []\n",
        "train_loss_list = []\n",
        "val_acc_list = []\n",
        "val_loss_list = []\n",
        "\n",
        "best_val_acc = 0\n",
        "best_epoch = 0\n",
        "best_model_state = None\n",
        "\n",
        "model_id = str(uuid.uuid4())\n",
        "\n",
        "\n",
        "for epoch_num in range(epochs):\n",
        "\n",
        "\n",
        "        total_acc_train=0\n",
        "        total_loss_train=0\n",
        "        model.train()\n",
        "        \n",
        "        for train_input,train_label in tqdm(train_dataloader):\n",
        "\n",
        "            input_id,mask, train_label=prepare_inputs(train_input,train_label,device)\n",
        "\n",
        "            output_1=model(input_id,mask)\n",
        "            \n",
        "            batch_loss_1=criterion(output_1,train_label.long())\n",
        "\n",
        "            total_loss_train += batch_loss_1.item()\n",
        "\n",
        "            acc=(output_1.argmax(dim=1)==train_label).sum().item()\n",
        "            total_acc_train+=acc\n",
        "\n",
        "            model.zero_grad()\n",
        "            batch_loss_1.backward()\n",
        "            optimizer.step()\n",
        "\n",
        "        total_acc_val=0\n",
        "        total_loss_val=0\n",
        "\n",
        "        y_true = []\n",
        "        y_pred = []\n",
        "        model.eval()\n",
        "        with torch.no_grad():\n",
        "            for val_input,val_label in val_dataloader:\n",
        "\n",
        "                input_id,mask, val_label=prepare_inputs(val_input,val_label,device)\n",
        "\n",
        "                output_2= model(input_id,mask)\n",
        "\n",
        "                # for scoring\n",
        "                predicted = output_2.argmax(dim=1)\n",
        "                y_true.extend(val_label.cpu().numpy())\n",
        "                y_pred.extend(predicted.cpu().numpy())\n",
        "\n",
        "                batch_loss_2=criterion(output_2,val_label.long())\n",
        "\n",
        "                total_loss_val+=batch_loss_2.item()\n",
        "\n",
        "                acc=(output_2.argmax(dim=1)==val_label).sum().item()\n",
        "                total_acc_val+=acc\n",
        "                \n",
        "            train_acc = total_acc_train / len(train_data)\n",
        "\n",
        "        train_loss = total_loss_train / len(train_data)\n",
        "        val_acc = total_acc_val / len(val_data)\n",
        "        val_loss = total_loss_val / len(val_data)\n",
        "\n",
        "        train_acc_list.append(train_acc)\n",
        "        train_loss_list.append(train_loss)\n",
        "        val_acc_list.append(val_acc)\n",
        "        val_loss_list.append(val_loss)\n",
        "\n",
        "        print(f'Epochs: {epoch_num+1} | Train Loss: {total_loss_train / len(train_data):.3f} | Train Accuracy: {total_acc_train/len(train_data):.3f}')\n",
        "        print(f'Val loss: {total_loss_val/len(val_data):.3f} | Val Accuracy: {total_acc_val / len(val_data):.3f}')\n",
        "        if val_acc > best_val_acc:\n",
        "          best_epoch = epoch_num\n",
        "          y_true_best = y_true.copy()\n",
        "          y_pred_best = y_pred.copy()\n",
        "          best_val_acc = val_acc\n",
        "          best_model_state = model.state_dict()\n",
        "\n",
        "        if epoch_num == epochs-1:\n",
        "            print(f'______{model_id}______')\n",
        "            print(f'LR: {lr} FINAL ACC = {total_acc_val / len(val_data):.3f}')\n",
        "            print(f'LR: {lr} BEST ACC = {best_val_acc:.3f}')\n",
        "            print('____________')\n",
        "\n",
        "# Plot the accuracy and loss curves over epochs\n",
        "epochs_range = range(1, epochs+1)\n",
        "\n",
        "plt.figure(figsize=(12, 6))\n",
        "plt.subplot(1, 2, 1)\n",
        "plt.plot(epochs_range, train_acc_list, label='Training Accuracy')\n",
        "plt.plot(epochs_range, val_acc_list, label='Validation Accuracy')\n",
        "plt.xlabel('Epochs')\n",
        "plt.ylabel('Accuracy')\n",
        "plt.legend(loc='lower right')\n",
        "plt.title('Accuracy Curves')\n",
        "\n",
        "plt.subplot(1, 2, 2)\n",
        "plt.plot(epochs_range, train_loss_list, label='Training Loss')\n",
        "plt.plot(epochs_range, val_loss_list, label='Validation Loss')\n",
        "plt.xlabel('Epochs')\n",
        "plt.ylabel('Loss')\n",
        "plt.legend(loc='upper right')\n",
        "plt.title('Loss Curves')\n",
        "\n",
        "plt.tight_layout()\n",
        "plt.show()"
      ]
    },
    {
      "cell_type": "code",
      "execution_count": null,
      "metadata": {
        "colab": {
          "base_uri": "https://localhost:8080/",
          "height": 780
        },
        "id": "If80yq-kMKeR",
        "outputId": "3b31129b-a270-436e-bf25-9d71260d5290"
      },
      "outputs": [
        {
          "name": "stdout",
          "output_type": "stream",
          "text": [
            "Classification Report:\n",
            "              precision    recall  f1-score   support\n",
            "\n",
            "     Class 0       0.76      0.87      0.81       331\n",
            "     Class 1       0.83      0.70      0.76       309\n",
            "\n",
            "    accuracy                           0.79       640\n",
            "   macro avg       0.80      0.79      0.79       640\n",
            "weighted avg       0.79      0.79      0.79       640\n",
            "\n"
          ]
        },
        {
          "data": {
            "image/png": "[encoded data removed]",
            "text/plain": [
              "<Figure size 640x480 with 2 Axes>"
            ]
          },
          "metadata": {},
          "output_type": "display_data"
        }
      ],
      "source": [
        "# analysis of best performing model\n",
        "\n",
        "cm = confusion_matrix(y_true_best, y_pred_best)\n",
        "disp = ConfusionMatrixDisplay(cm)\n",
        "disp.plot()\n",
        "classes = ['Class 0', 'Class 1']  # Replace with your class labels\n",
        "\n",
        "# Compute precision, recall, F1-score, and other metrics for best one\n",
        "report = classification_report(y_true, y_pred, target_names=classes)\n",
        "print('Classification Report:')\n",
        "print(report)\n"
      ]
    },
    {
      "cell_type": "code",
      "execution_count": null,
      "metadata": {
        "id": "Qdx00aLrVUAn"
      },
      "outputs": [],
      "source": [
        "results_dict = {\n",
        "    'model_id': model_id,\n",
        "    'train_accuracy': train_acc_list,\n",
        "    'train_loss': train_loss_list,\n",
        "    'val_accuracy': val_acc_list,\n",
        "    'val_loss': val_loss_list,\n",
        "    'hyperparameters': {\n",
        "        'learning_rate': lr,\n",
        "        'num_epochs': epochs,\n",
        "        'batch_size': batch_size,\n",
        "        'max_len': max_len\n",
        "    },\n",
        "    'results': {\n",
        "        \"classes\": n_classes,\n",
        "        \"last_acc\": val_acc_list[-1],\n",
        "        'best_acc': best_val_acc,\n",
        "        'best_acc_epoch': best_epoch,\n",
        "        'confusion_matrix': cm.tolist(),\n",
        "        'classification_report': report\n",
        "    }\n",
        "}\n",
        "\n",
        "# Save the results dictionary as a JSON file with the model ID\n",
        "results_filename = f'./results/binary_results_{model_id}.json'\n",
        "with open(results_filename, 'w') as f:\n",
        "    json.dump(results_dict, f, indent=4)\n",
        "\n",
        "# Save the best model state with the model ID\n",
        "model_filename = f'./results/binary_best_model_{model_id}.pth'\n",
        "torch.save(best_model_state, model_filename)"
      ]
    },
    {
      "cell_type": "code",
      "execution_count": null,
      "metadata": {},
      "outputs": [],
      "source": []
    }
  ],
  "metadata": {
    "accelerator": "GPU",
    "colab": {
      "gpuType": "T4",
      "provenance": []
    },
    "kernelspec": {
      "display_name": "Python 3",
      "name": "python3"
    },
    "language_info": {
      "codemirror_mode": {
        "name": "ipython",
        "version": 3
      },
      "file_extension": ".py",
      "mimetype": "text/x-python",
      "name": "python",
      "nbconvert_exporter": "python",
      "pygments_lexer": "ipython3",
      "version": "3.11.4"
    }
  },
  "nbformat": 4,
  "nbformat_minor": 0
}
