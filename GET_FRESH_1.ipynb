{
  "cells": [
    {
      "cell_type": "code",
      "execution_count": 1,
      "metadata": {
        "colab": {
          "base_uri": "https://localhost:8080/"
        },
        "id": "-CoZ4DzaGrqL",
        "outputId": "a117f485-8e50-4281-d6dc-4d0ea59bd91d"
      },
      "outputs": [
        {
          "name": "stdout",
          "output_type": "stream",
          "text": [
            "IN COLAB:  True\n"
          ]
        }
      ],
      "source": [
        "try :\n",
        "  from google.colab import drive\n",
        "  IN_COLAB = True\n",
        "except:\n",
        "  IN_COLAB = False\n",
        "print('IN COLAB: ', IN_COLAB)"
      ]
    },
    {
      "cell_type": "code",
      "execution_count": 2,
      "metadata": {
        "id": "VzEQ55q1Mgrw"
      },
      "outputs": [],
      "source": [
        "import os\n",
        "import pandas as pd\n",
        "\n",
        "parentdir = \"./propaganda_dataset_v2\"\n",
        "train_file= \"propaganda_train.tsv\"\n",
        "val_file= \"propaganda_val.tsv\"\n",
        "\n",
        "train_path=os.path.join(parentdir,train_file)\n",
        "val_path=os.path.join(parentdir,val_file)\n",
        "\n",
        "if IN_COLAB:\n",
        "  train_path = '/content/propaganda_train.tsv'\n",
        "  val_path = '/content/propaganda_val.tsv'\n",
        "\n",
        "train_df=pd.read_csv(train_path,delimiter=\"\\t\",quotechar='|')\n",
        "val_df=pd.read_csv(val_path,delimiter=\"\\t\",quotechar='|')\n"
      ]
    },
    {
      "cell_type": "code",
      "execution_count": 3,
      "metadata": {
        "colab": {
          "base_uri": "https://localhost:8080/",
          "height": 423
        },
        "id": "-nIK7dgEGWdC",
        "outputId": "889358e7-6bb4-407f-b3b3-421c487105df"
      },
      "outputs": [
        {
          "data": {
            "application/vnd.google.colaboratory.intrinsic+json": {
              "summary": "{\n  \"name\": \"val_df\",\n  \"rows\": 640,\n  \"fields\": [\n    {\n      \"column\": \"label\",\n      \"properties\": {\n        \"dtype\": \"category\",\n        \"num_unique_values\": 9,\n        \"samples\": [\n          \"doubt\",\n          \"causal_oversimplification\",\n          \"loaded_language\"\n        ],\n        \"semantic_type\": \"\",\n        \"description\": \"\"\n      }\n    },\n    {\n      \"column\": \"tagged_in_context\",\n      \"properties\": {\n        \"dtype\": \"string\",\n        \"num_unique_values\": 640,\n        \"samples\": [\n          \"That did not hinder other outlets to add to its <BOS> smear <EOS>. \",\n          \"<BOS> And only one force in the region has the power to reverse the present outcome of Syria's civil war--the United States <EOS>. \",\n          \"To <BOS> achieve that and hold onto power the prime minister, 54, has used methods that critics have called authoritarian, and picked fights with EU partners, especially in the West. <EOS> \"\n        ],\n        \"semantic_type\": \"\",\n        \"description\": \"\"\n      }\n    },\n    {\n      \"column\": \"propaganda\",\n      \"properties\": {\n        \"dtype\": \"number\",\n        \"std\": 0,\n        \"min\": 0,\n        \"max\": 1,\n        \"num_unique_values\": 2,\n        \"samples\": [\n          1,\n          0\n        ],\n        \"semantic_type\": \"\",\n        \"description\": \"\"\n      }\n    },\n    {\n      \"column\": \"original_without_snip_tags\",\n      \"properties\": {\n        \"dtype\": \"string\",\n        \"num_unique_values\": 640,\n        \"samples\": [\n          \"That did not hinder other outlets to add to its  smear . \",\n          \" And only one force in the region has the power to reverse the present outcome of Syria's civil war--the United States . \"\n        ],\n        \"semantic_type\": \"\",\n        \"description\": \"\"\n      }\n    }\n  ]\n}",
              "type": "dataframe",
              "variable_name": "val_df"
            },
            "text/html": [
              "\n",
              "  <div id=\"df-844a338b-5934-4fe1-9e86-b3418011b016\" class=\"colab-df-container\">\n",
              "    <div>\n",
              "<style scoped>\n",
              "    .dataframe tbody tr th:only-of-type {\n",
              "        vertical-align: middle;\n",
              "    }\n",
              "\n",
              "    .dataframe tbody tr th {\n",
              "        vertical-align: top;\n",
              "    }\n",
              "\n",
              "    .dataframe thead th {\n",
              "        text-align: right;\n",
              "    }\n",
              "</style>\n",
              "<table border=\"1\" class=\"dataframe\">\n",
              "  <thead>\n",
              "    <tr style=\"text-align: right;\">\n",
              "      <th></th>\n",
              "      <th>label</th>\n",
              "      <th>tagged_in_context</th>\n",
              "      <th>propaganda</th>\n",
              "      <th>original_without_snip_tags</th>\n",
              "    </tr>\n",
              "  </thead>\n",
              "  <tbody>\n",
              "    <tr>\n",
              "      <th>0</th>\n",
              "      <td>not_propaganda</td>\n",
              "      <td>On average, between 300 and 600 infections are...</td>\n",
              "      <td>0</td>\n",
              "      <td>On average, between 300 and 600 infections are...</td>\n",
              "    </tr>\n",
              "    <tr>\n",
              "      <th>1</th>\n",
              "      <td>causal_oversimplification</td>\n",
              "      <td>Mostly because &lt;BOS&gt; the country would not las...</td>\n",
              "      <td>1</td>\n",
              "      <td>Mostly because  the country would not last lon...</td>\n",
              "    </tr>\n",
              "    <tr>\n",
              "      <th>2</th>\n",
              "      <td>appeal_to_fear_prejudice</td>\n",
              "      <td>Lyndon Johnson &lt;BOS&gt; gets Earl Warren and Sen....</td>\n",
              "      <td>1</td>\n",
              "      <td>Lyndon Johnson  gets Earl Warren and Sen. Rich...</td>\n",
              "    </tr>\n",
              "    <tr>\n",
              "      <th>3</th>\n",
              "      <td>not_propaganda</td>\n",
              "      <td>&lt;BOS&gt; You &lt;EOS&gt; may opt out at anytime.</td>\n",
              "      <td>0</td>\n",
              "      <td>You  may opt out at anytime.</td>\n",
              "    </tr>\n",
              "    <tr>\n",
              "      <th>4</th>\n",
              "      <td>repetition</td>\n",
              "      <td>It must be exacted from him directly in order ...</td>\n",
              "      <td>1</td>\n",
              "      <td>It must be exacted from him directly in order ...</td>\n",
              "    </tr>\n",
              "    <tr>\n",
              "      <th>...</th>\n",
              "      <td>...</td>\n",
              "      <td>...</td>\n",
              "      <td>...</td>\n",
              "      <td>...</td>\n",
              "    </tr>\n",
              "    <tr>\n",
              "      <th>635</th>\n",
              "      <td>not_propaganda</td>\n",
              "      <td>NewsCatholic Church, &lt;BOS&gt; Family, Marriage &lt;E...</td>\n",
              "      <td>0</td>\n",
              "      <td>NewsCatholic Church,  Family, Marriage</td>\n",
              "    </tr>\n",
              "    <tr>\n",
              "      <th>636</th>\n",
              "      <td>not_propaganda</td>\n",
              "      <td>Remember our saying, modern day fairy &lt;BOS&gt; ta...</td>\n",
              "      <td>0</td>\n",
              "      <td>Remember our saying, modern day fairy  tales s...</td>\n",
              "    </tr>\n",
              "    <tr>\n",
              "      <th>637</th>\n",
              "      <td>not_propaganda</td>\n",
              "      <td>Why &lt;BOS&gt; not &lt;EOS&gt; open up to Iran with massi...</td>\n",
              "      <td>0</td>\n",
              "      <td>Why  not  open up to Iran with massive amounts...</td>\n",
              "    </tr>\n",
              "    <tr>\n",
              "      <th>638</th>\n",
              "      <td>flag_waving</td>\n",
              "      <td>&lt;BOS&gt; He also sang an Islamic State fight song...</td>\n",
              "      <td>1</td>\n",
              "      <td>He also sang an Islamic State fight song and ...</td>\n",
              "    </tr>\n",
              "    <tr>\n",
              "      <th>639</th>\n",
              "      <td>causal_oversimplification</td>\n",
              "      <td>We hear again, as we did incessantly from the ...</td>\n",
              "      <td>1</td>\n",
              "      <td>We hear again, as we did incessantly from the ...</td>\n",
              "    </tr>\n",
              "  </tbody>\n",
              "</table>\n",
              "<p>640 rows × 4 columns</p>\n",
              "</div>\n",
              "    <div class=\"colab-df-buttons\">\n",
              "\n",
              "  <div class=\"colab-df-container\">\n",
              "    <button class=\"colab-df-convert\" onclick=\"convertToInteractive('df-844a338b-5934-4fe1-9e86-b3418011b016')\"\n",
              "            title=\"Convert this dataframe to an interactive table.\"\n",
              "            style=\"display:none;\">\n",
              "\n",
              "  <svg xmlns=\"http://www.w3.org/2000/svg\" height=\"24px\" viewBox=\"0 -960 960 960\">\n",
              "    <path d=\"M120-120v-720h720v720H120Zm60-500h600v-160H180v160Zm220 220h160v-160H400v160Zm0 220h160v-160H400v160ZM180-400h160v-160H180v160Zm440 0h160v-160H620v160ZM180-180h160v-160H180v160Zm440 0h160v-160H620v160Z\"/>\n",
              "  </svg>\n",
              "    </button>\n",
              "\n",
              "  <style>\n",
              "    .colab-df-container {\n",
              "      display:flex;\n",
              "      gap: 12px;\n",
              "    }\n",
              "\n",
              "    .colab-df-convert {\n",
              "      background-color: #E8F0FE;\n",
              "      border: none;\n",
              "      border-radius: 50%;\n",
              "      cursor: pointer;\n",
              "      display: none;\n",
              "      fill: #1967D2;\n",
              "      height: 32px;\n",
              "      padding: 0 0 0 0;\n",
              "      width: 32px;\n",
              "    }\n",
              "\n",
              "    .colab-df-convert:hover {\n",
              "      background-color: #E2EBFA;\n",
              "      box-shadow: 0px 1px 2px rgba(60, 64, 67, 0.3), 0px 1px 3px 1px rgba(60, 64, 67, 0.15);\n",
              "      fill: #174EA6;\n",
              "    }\n",
              "\n",
              "    .colab-df-buttons div {\n",
              "      margin-bottom: 4px;\n",
              "    }\n",
              "\n",
              "    [theme=dark] .colab-df-convert {\n",
              "      background-color: #3B4455;\n",
              "      fill: #D2E3FC;\n",
              "    }\n",
              "\n",
              "    [theme=dark] .colab-df-convert:hover {\n",
              "      background-color: #434B5C;\n",
              "      box-shadow: 0px 1px 3px 1px rgba(0, 0, 0, 0.15);\n",
              "      filter: drop-shadow(0px 1px 2px rgba(0, 0, 0, 0.3));\n",
              "      fill: #FFFFFF;\n",
              "    }\n",
              "  </style>\n",
              "\n",
              "    <script>\n",
              "      const buttonEl =\n",
              "        document.querySelector('#df-844a338b-5934-4fe1-9e86-b3418011b016 button.colab-df-convert');\n",
              "      buttonEl.style.display =\n",
              "        google.colab.kernel.accessAllowed ? 'block' : 'none';\n",
              "\n",
              "      async function convertToInteractive(key) {\n",
              "        const element = document.querySelector('#df-844a338b-5934-4fe1-9e86-b3418011b016');\n",
              "        const dataTable =\n",
              "          await google.colab.kernel.invokeFunction('convertToInteractive',\n",
              "                                                    [key], {});\n",
              "        if (!dataTable) return;\n",
              "\n",
              "        const docLinkHtml = 'Like what you see? Visit the ' +\n",
              "          '<a target=\"_blank\" href=https://colab.research.google.com/notebooks/data_table.ipynb>data table notebook</a>'\n",
              "          + ' to learn more about interactive tables.';\n",
              "        element.innerHTML = '';\n",
              "        dataTable['output_type'] = 'display_data';\n",
              "        await google.colab.output.renderOutput(dataTable, element);\n",
              "        const docLink = document.createElement('div');\n",
              "        docLink.innerHTML = docLinkHtml;\n",
              "        element.appendChild(docLink);\n",
              "      }\n",
              "    </script>\n",
              "  </div>\n",
              "\n",
              "\n",
              "<div id=\"df-f1ef051f-eb82-45d9-a937-b6e6ee05c708\">\n",
              "  <button class=\"colab-df-quickchart\" onclick=\"quickchart('df-f1ef051f-eb82-45d9-a937-b6e6ee05c708')\"\n",
              "            title=\"Suggest charts\"\n",
              "            style=\"display:none;\">\n",
              "\n",
              "<svg xmlns=\"http://www.w3.org/2000/svg\" height=\"24px\"viewBox=\"0 0 24 24\"\n",
              "     width=\"24px\">\n",
              "    <g>\n",
              "        <path d=\"M19 3H5c-1.1 0-2 .9-2 2v14c0 1.1.9 2 2 2h14c1.1 0 2-.9 2-2V5c0-1.1-.9-2-2-2zM9 17H7v-7h2v7zm4 0h-2V7h2v10zm4 0h-2v-4h2v4z\"/>\n",
              "    </g>\n",
              "</svg>\n",
              "  </button>\n",
              "\n",
              "<style>\n",
              "  .colab-df-quickchart {\n",
              "      --bg-color: #E8F0FE;\n",
              "      --fill-color: #1967D2;\n",
              "      --hover-bg-color: #E2EBFA;\n",
              "      --hover-fill-color: #174EA6;\n",
              "      --disabled-fill-color: #AAA;\n",
              "      --disabled-bg-color: #DDD;\n",
              "  }\n",
              "\n",
              "  [theme=dark] .colab-df-quickchart {\n",
              "      --bg-color: #3B4455;\n",
              "      --fill-color: #D2E3FC;\n",
              "      --hover-bg-color: #434B5C;\n",
              "      --hover-fill-color: #FFFFFF;\n",
              "      --disabled-bg-color: #3B4455;\n",
              "      --disabled-fill-color: #666;\n",
              "  }\n",
              "\n",
              "  .colab-df-quickchart {\n",
              "    background-color: var(--bg-color);\n",
              "    border: none;\n",
              "    border-radius: 50%;\n",
              "    cursor: pointer;\n",
              "    display: none;\n",
              "    fill: var(--fill-color);\n",
              "    height: 32px;\n",
              "    padding: 0;\n",
              "    width: 32px;\n",
              "  }\n",
              "\n",
              "  .colab-df-quickchart:hover {\n",
              "    background-color: var(--hover-bg-color);\n",
              "    box-shadow: 0 1px 2px rgba(60, 64, 67, 0.3), 0 1px 3px 1px rgba(60, 64, 67, 0.15);\n",
              "    fill: var(--button-hover-fill-color);\n",
              "  }\n",
              "\n",
              "  .colab-df-quickchart-complete:disabled,\n",
              "  .colab-df-quickchart-complete:disabled:hover {\n",
              "    background-color: var(--disabled-bg-color);\n",
              "    fill: var(--disabled-fill-color);\n",
              "    box-shadow: none;\n",
              "  }\n",
              "\n",
              "  .colab-df-spinner {\n",
              "    border: 2px solid var(--fill-color);\n",
              "    border-color: transparent;\n",
              "    border-bottom-color: var(--fill-color);\n",
              "    animation:\n",
              "      spin 1s steps(1) infinite;\n",
              "  }\n",
              "\n",
              "  @keyframes spin {\n",
              "    0% {\n",
              "      border-color: transparent;\n",
              "      border-bottom-color: var(--fill-color);\n",
              "      border-left-color: var(--fill-color);\n",
              "    }\n",
              "    20% {\n",
              "      border-color: transparent;\n",
              "      border-left-color: var(--fill-color);\n",
              "      border-top-color: var(--fill-color);\n",
              "    }\n",
              "    30% {\n",
              "      border-color: transparent;\n",
              "      border-left-color: var(--fill-color);\n",
              "      border-top-color: var(--fill-color);\n",
              "      border-right-color: var(--fill-color);\n",
              "    }\n",
              "    40% {\n",
              "      border-color: transparent;\n",
              "      border-right-color: var(--fill-color);\n",
              "      border-top-color: var(--fill-color);\n",
              "    }\n",
              "    60% {\n",
              "      border-color: transparent;\n",
              "      border-right-color: var(--fill-color);\n",
              "    }\n",
              "    80% {\n",
              "      border-color: transparent;\n",
              "      border-right-color: var(--fill-color);\n",
              "      border-bottom-color: var(--fill-color);\n",
              "    }\n",
              "    90% {\n",
              "      border-color: transparent;\n",
              "      border-bottom-color: var(--fill-color);\n",
              "    }\n",
              "  }\n",
              "</style>\n",
              "\n",
              "  <script>\n",
              "    async function quickchart(key) {\n",
              "      const quickchartButtonEl =\n",
              "        document.querySelector('#' + key + ' button');\n",
              "      quickchartButtonEl.disabled = true;  // To prevent multiple clicks.\n",
              "      quickchartButtonEl.classList.add('colab-df-spinner');\n",
              "      try {\n",
              "        const charts = await google.colab.kernel.invokeFunction(\n",
              "            'suggestCharts', [key], {});\n",
              "      } catch (error) {\n",
              "        console.error('Error during call to suggestCharts:', error);\n",
              "      }\n",
              "      quickchartButtonEl.classList.remove('colab-df-spinner');\n",
              "      quickchartButtonEl.classList.add('colab-df-quickchart-complete');\n",
              "    }\n",
              "    (() => {\n",
              "      let quickchartButtonEl =\n",
              "        document.querySelector('#df-f1ef051f-eb82-45d9-a937-b6e6ee05c708 button');\n",
              "      quickchartButtonEl.style.display =\n",
              "        google.colab.kernel.accessAllowed ? 'block' : 'none';\n",
              "    })();\n",
              "  </script>\n",
              "</div>\n",
              "    </div>\n",
              "  </div>\n"
            ],
            "text/plain": [
              "                         label  \\\n",
              "0               not_propaganda   \n",
              "1    causal_oversimplification   \n",
              "2     appeal_to_fear_prejudice   \n",
              "3               not_propaganda   \n",
              "4                   repetition   \n",
              "..                         ...   \n",
              "635             not_propaganda   \n",
              "636             not_propaganda   \n",
              "637             not_propaganda   \n",
              "638                flag_waving   \n",
              "639  causal_oversimplification   \n",
              "\n",
              "                                     tagged_in_context  propaganda  \\\n",
              "0    On average, between 300 and 600 infections are...           0   \n",
              "1    Mostly because <BOS> the country would not las...           1   \n",
              "2    Lyndon Johnson <BOS> gets Earl Warren and Sen....           1   \n",
              "3             <BOS> You <EOS> may opt out at anytime.            0   \n",
              "4    It must be exacted from him directly in order ...           1   \n",
              "..                                                 ...         ...   \n",
              "635  NewsCatholic Church, <BOS> Family, Marriage <E...           0   \n",
              "636  Remember our saying, modern day fairy <BOS> ta...           0   \n",
              "637  Why <BOS> not <EOS> open up to Iran with massi...           0   \n",
              "638  <BOS> He also sang an Islamic State fight song...           1   \n",
              "639  We hear again, as we did incessantly from the ...           1   \n",
              "\n",
              "                            original_without_snip_tags  \n",
              "0    On average, between 300 and 600 infections are...  \n",
              "1    Mostly because  the country would not last lon...  \n",
              "2    Lyndon Johnson  gets Earl Warren and Sen. Rich...  \n",
              "3                        You  may opt out at anytime.   \n",
              "4    It must be exacted from him directly in order ...  \n",
              "..                                                 ...  \n",
              "635           NewsCatholic Church,  Family, Marriage    \n",
              "636  Remember our saying, modern day fairy  tales s...  \n",
              "637  Why  not  open up to Iran with massive amounts...  \n",
              "638   He also sang an Islamic State fight song and ...  \n",
              "639  We hear again, as we did incessantly from the ...  \n",
              "\n",
              "[640 rows x 4 columns]"
            ]
          },
          "execution_count": 3,
          "metadata": {},
          "output_type": "execute_result"
        }
      ],
      "source": [
        "def transform_binaryify(row):\n",
        "    new_value = 0 if row['label'] == 'not_propaganda' else 1\n",
        "    return new_value\n",
        "\n",
        "def transform_strip_tag(row):\n",
        "    sent = row['tagged_in_context']\n",
        "    cleaned_string = sent.replace(\"<BOS>\", \"\")\n",
        "    cleaned_string = cleaned_string.replace(\"<EOS>\", \"\")\n",
        "    return cleaned_string\n",
        "\n",
        "\n",
        "train_df['propaganda'] = train_df.apply(transform_binaryify, axis=1)\n",
        "train_df['original_without_snip_tags'] = train_df.apply(transform_strip_tag, axis=1)\n",
        "\n",
        "\n",
        "val_df['propaganda'] = val_df.apply(transform_binaryify, axis=1)\n",
        "val_df['original_without_snip_tags'] = val_df.apply(transform_strip_tag, axis=1)\n",
        "\n",
        "train_df\n",
        "val_df"
      ]
    },
    {
      "cell_type": "code",
      "execution_count": 4,
      "metadata": {
        "id": "eOXnHeXPhkk1"
      },
      "outputs": [],
      "source": [
        "# wills\n",
        "epochs = 60\n",
        "lr = 5e-6\n",
        "batch_size=80\n",
        "max_len=150\n",
        "n_classes = 2"
      ]
    },
    {
      "cell_type": "code",
      "execution_count": 5,
      "metadata": {
        "id": "yG8AIos5GWdD"
      },
      "outputs": [],
      "source": [
        "from torch.utils.data import DataLoader, Dataset\n",
        "from transformers import BertModel, BertTokenizer\n",
        "import torch\n",
        "import numpy as np\n",
        "\n",
        "\n",
        "class CustomPropagandaDataset_vanilla(Dataset):\n",
        "    def __init__(self,df, max_len):\n",
        "        tokenizer = BertTokenizer.from_pretrained('bert-base-uncased')\n",
        "\n",
        "        self.labels=torch.tensor([label for label in df['propaganda']])\n",
        "        self.texts=[tokenizer(text,padding='max_length',max_length=max_len,truncation=True,return_tensors=\"pt\") for text in df['original_without_snip_tags']]\n",
        "\n",
        "    def classes(self):\n",
        "        return self.labels\n",
        "\n",
        "    def __len__(self):\n",
        "        return len(self.labels)\n",
        "\n",
        "    def get_batch_labels(self,idx):\n",
        "        return np.array(self.labels[idx])\n",
        "\n",
        "    def get_batch_texts(self,idx):\n",
        "        return self.texts[idx]\n",
        "\n",
        "    def __getitem__(self,idx):\n",
        "        batch_texts=self.get_batch_texts(idx)\n",
        "        batch_y=self.get_batch_labels(idx)\n",
        "\n",
        "        return batch_texts,batch_y\n",
        "\n",
        "\n",
        "def prepare_inputs(input1,label,device):\n",
        "  label=label.to(device)\n",
        "  mask=input1['attention_mask'].to(device)\n",
        "  input_id=input1['input_ids'].squeeze(1).to(device)\n",
        "  return (input_id,mask,label)"
      ]
    },
    {
      "cell_type": "code",
      "execution_count": 6,
      "metadata": {
        "colab": {
          "base_uri": "https://localhost:8080/"
        },
        "id": "c4GLv76dGWdD",
        "outputId": "c30d0512-43aa-4f3b-ba0d-b372e6a0aa21"
      },
      "outputs": [
        {
          "name": "stderr",
          "output_type": "stream",
          "text": [
            "/usr/local/lib/python3.10/dist-packages/huggingface_hub/utils/_token.py:88: UserWarning: \n",
            "The secret `HF_TOKEN` does not exist in your Colab secrets.\n",
            "To authenticate with the Hugging Face Hub, create a token in your settings tab (https://huggingface.co/settings/tokens), set it as secret in your Google Colab and restart your session.\n",
            "You will be able to reuse this secret in all of your notebooks.\n",
            "Please note that authentication is recommended but still optional to access public models or datasets.\n",
            "  warnings.warn(\n"
          ]
        }
      ],
      "source": [
        "train_data = CustomPropagandaDataset_vanilla(train_df, max_len)\n",
        "val_data = CustomPropagandaDataset_vanilla(val_df, max_len)"
      ]
    },
    {
      "cell_type": "code",
      "execution_count": 7,
      "metadata": {
        "id": "iyLQR068GWdE"
      },
      "outputs": [],
      "source": [
        "train_dataloader=torch.utils.data.DataLoader(train_data,batch_size=batch_size,shuffle=True)\n",
        "val_dataloader=torch.utils.data.DataLoader(val_data,batch_size=batch_size)"
      ]
    },
    {
      "cell_type": "code",
      "execution_count": 8,
      "metadata": {
        "colab": {
          "base_uri": "https://localhost:8080/"
        },
        "id": "ZdILCP_tGWdE",
        "outputId": "21f10011-ce7e-4f57-c752-eb6a687de77a"
      },
      "outputs": [
        {
          "name": "stdout",
          "output_type": "stream",
          "text": [
            "cuda\n"
          ]
        }
      ],
      "source": [
        "from torch import nn\n",
        "\n",
        "class BertClassifier(nn.Module):\n",
        "\n",
        "    def __init__(self,dropout=0.5,num_classes=2):\n",
        "        super(BertClassifier, self).__init__()\n",
        "\n",
        "        self.bert=BertModel.from_pretrained('bert-base-uncased')\n",
        "        self.dropout=nn.Dropout(dropout)\n",
        "        self.linear=nn.Linear(768,num_classes)\n",
        "        self.relu=nn.ReLU()\n",
        "\n",
        "    def forward(self,input_id,mask):\n",
        "\n",
        "        _, pooled_output = self.bert(input_ids=input_id,attention_mask=mask,return_dict=False)\n",
        "        dropout_output=self.dropout(pooled_output)\n",
        "        linear_output=self.linear(dropout_output)\n",
        "        final_layer=self.relu(linear_output)\n",
        "\n",
        "        return final_layer\n",
        "\n",
        "device = 'cuda' if torch.cuda.is_available() else 'cpu'\n",
        "print(device)"
      ]
    },
    {
      "cell_type": "code",
      "execution_count": 9,
      "metadata": {
        "colab": {
          "base_uri": "https://localhost:8080/",
          "height": 1000
        },
        "id": "QjqGUgvTGWdF",
        "outputId": "0e23dd8d-18cd-49ff-d1aa-c140a2bee311"
      },
      "outputs": [
        {
          "name": "stdout",
          "output_type": "stream",
          "text": [
            "LR: 5e-07\n"
          ]
        },
        {
          "name": "stderr",
          "output_type": "stream",
          "text": [
            "100%|██████████| 32/32 [00:54<00:00,  1.69s/it]\n"
          ]
        },
        {
          "name": "stdout",
          "output_type": "stream",
          "text": [
            "Epochs: 1 | Train Loss: 0.009 | Train Accuracy: 0.516\n",
            "Val loss: 0.009 | Val Accuracy: 0.497\n"
          ]
        },
        {
          "name": "stderr",
          "output_type": "stream",
          "text": [
            "100%|██████████| 32/32 [00:55<00:00,  1.74s/it]\n"
          ]
        },
        {
          "name": "stdout",
          "output_type": "stream",
          "text": [
            "Epochs: 2 | Train Loss: 0.009 | Train Accuracy: 0.514\n",
            "Val loss: 0.009 | Val Accuracy: 0.505\n"
          ]
        },
        {
          "name": "stderr",
          "output_type": "stream",
          "text": [
            "100%|██████████| 32/32 [00:57<00:00,  1.79s/it]\n"
          ]
        },
        {
          "name": "stdout",
          "output_type": "stream",
          "text": [
            "Epochs: 3 | Train Loss: 0.009 | Train Accuracy: 0.536\n",
            "Val loss: 0.009 | Val Accuracy: 0.514\n"
          ]
        },
        {
          "name": "stderr",
          "output_type": "stream",
          "text": [
            "100%|██████████| 32/32 [00:58<00:00,  1.83s/it]\n"
          ]
        },
        {
          "name": "stdout",
          "output_type": "stream",
          "text": [
            "Epochs: 4 | Train Loss: 0.009 | Train Accuracy: 0.537\n",
            "Val loss: 0.009 | Val Accuracy: 0.523\n"
          ]
        },
        {
          "name": "stderr",
          "output_type": "stream",
          "text": [
            "100%|██████████| 32/32 [00:58<00:00,  1.84s/it]\n"
          ]
        },
        {
          "name": "stdout",
          "output_type": "stream",
          "text": [
            "Epochs: 5 | Train Loss: 0.009 | Train Accuracy: 0.554\n",
            "Val loss: 0.008 | Val Accuracy: 0.534\n"
          ]
        },
        {
          "name": "stderr",
          "output_type": "stream",
          "text": [
            "100%|██████████| 32/32 [00:58<00:00,  1.84s/it]\n"
          ]
        },
        {
          "name": "stdout",
          "output_type": "stream",
          "text": [
            "Epochs: 6 | Train Loss: 0.009 | Train Accuracy: 0.553\n",
            "Val loss: 0.008 | Val Accuracy: 0.547\n"
          ]
        },
        {
          "name": "stderr",
          "output_type": "stream",
          "text": [
            "100%|██████████| 32/32 [00:59<00:00,  1.84s/it]\n"
          ]
        },
        {
          "name": "stdout",
          "output_type": "stream",
          "text": [
            "Epochs: 7 | Train Loss: 0.008 | Train Accuracy: 0.566\n",
            "Val loss: 0.008 | Val Accuracy: 0.575\n"
          ]
        },
        {
          "name": "stderr",
          "output_type": "stream",
          "text": [
            "100%|██████████| 32/32 [00:58<00:00,  1.84s/it]\n"
          ]
        },
        {
          "name": "stdout",
          "output_type": "stream",
          "text": [
            "Epochs: 8 | Train Loss: 0.008 | Train Accuracy: 0.595\n",
            "Val loss: 0.008 | Val Accuracy: 0.591\n"
          ]
        },
        {
          "name": "stderr",
          "output_type": "stream",
          "text": [
            "100%|██████████| 32/32 [00:59<00:00,  1.84s/it]\n"
          ]
        },
        {
          "name": "stdout",
          "output_type": "stream",
          "text": [
            "Epochs: 9 | Train Loss: 0.008 | Train Accuracy: 0.581\n",
            "Val loss: 0.008 | Val Accuracy: 0.605\n"
          ]
        },
        {
          "name": "stderr",
          "output_type": "stream",
          "text": [
            "100%|██████████| 32/32 [00:58<00:00,  1.84s/it]\n"
          ]
        },
        {
          "name": "stdout",
          "output_type": "stream",
          "text": [
            "Epochs: 10 | Train Loss: 0.008 | Train Accuracy: 0.618\n",
            "Val loss: 0.008 | Val Accuracy: 0.613\n"
          ]
        },
        {
          "name": "stderr",
          "output_type": "stream",
          "text": [
            "100%|██████████| 32/32 [00:58<00:00,  1.84s/it]\n"
          ]
        },
        {
          "name": "stdout",
          "output_type": "stream",
          "text": [
            "Epochs: 11 | Train Loss: 0.008 | Train Accuracy: 0.622\n",
            "Val loss: 0.008 | Val Accuracy: 0.627\n"
          ]
        },
        {
          "name": "stderr",
          "output_type": "stream",
          "text": [
            "100%|██████████| 32/32 [00:58<00:00,  1.84s/it]\n"
          ]
        },
        {
          "name": "stdout",
          "output_type": "stream",
          "text": [
            "Epochs: 12 | Train Loss: 0.008 | Train Accuracy: 0.632\n",
            "Val loss: 0.008 | Val Accuracy: 0.633\n"
          ]
        },
        {
          "name": "stderr",
          "output_type": "stream",
          "text": [
            "100%|██████████| 32/32 [00:58<00:00,  1.84s/it]\n"
          ]
        },
        {
          "name": "stdout",
          "output_type": "stream",
          "text": [
            "Epochs: 13 | Train Loss: 0.008 | Train Accuracy: 0.643\n",
            "Val loss: 0.008 | Val Accuracy: 0.639\n"
          ]
        },
        {
          "name": "stderr",
          "output_type": "stream",
          "text": [
            "100%|██████████| 32/32 [00:59<00:00,  1.85s/it]\n"
          ]
        },
        {
          "name": "stdout",
          "output_type": "stream",
          "text": [
            "Epochs: 14 | Train Loss: 0.008 | Train Accuracy: 0.662\n",
            "Val loss: 0.008 | Val Accuracy: 0.642\n"
          ]
        },
        {
          "name": "stderr",
          "output_type": "stream",
          "text": [
            "100%|██████████| 32/32 [00:59<00:00,  1.84s/it]\n"
          ]
        },
        {
          "name": "stdout",
          "output_type": "stream",
          "text": [
            "Epochs: 15 | Train Loss: 0.008 | Train Accuracy: 0.664\n",
            "Val loss: 0.008 | Val Accuracy: 0.658\n"
          ]
        },
        {
          "name": "stderr",
          "output_type": "stream",
          "text": [
            "100%|██████████| 32/32 [00:59<00:00,  1.85s/it]\n"
          ]
        },
        {
          "name": "stdout",
          "output_type": "stream",
          "text": [
            "Epochs: 16 | Train Loss: 0.008 | Train Accuracy: 0.682\n",
            "Val loss: 0.008 | Val Accuracy: 0.645\n"
          ]
        },
        {
          "name": "stderr",
          "output_type": "stream",
          "text": [
            "100%|██████████| 32/32 [00:59<00:00,  1.85s/it]\n"
          ]
        },
        {
          "name": "stdout",
          "output_type": "stream",
          "text": [
            "Epochs: 17 | Train Loss: 0.008 | Train Accuracy: 0.677\n",
            "Val loss: 0.008 | Val Accuracy: 0.670\n"
          ]
        },
        {
          "name": "stderr",
          "output_type": "stream",
          "text": [
            "100%|██████████| 32/32 [00:59<00:00,  1.85s/it]\n"
          ]
        },
        {
          "name": "stdout",
          "output_type": "stream",
          "text": [
            "Epochs: 18 | Train Loss: 0.008 | Train Accuracy: 0.698\n",
            "Val loss: 0.008 | Val Accuracy: 0.670\n"
          ]
        },
        {
          "name": "stderr",
          "output_type": "stream",
          "text": [
            "100%|██████████| 32/32 [00:59<00:00,  1.85s/it]\n"
          ]
        },
        {
          "name": "stdout",
          "output_type": "stream",
          "text": [
            "Epochs: 19 | Train Loss: 0.008 | Train Accuracy: 0.697\n",
            "Val loss: 0.008 | Val Accuracy: 0.684\n"
          ]
        },
        {
          "name": "stderr",
          "output_type": "stream",
          "text": [
            "100%|██████████| 32/32 [00:59<00:00,  1.85s/it]\n"
          ]
        },
        {
          "name": "stdout",
          "output_type": "stream",
          "text": [
            "Epochs: 20 | Train Loss: 0.007 | Train Accuracy: 0.725\n",
            "Val loss: 0.008 | Val Accuracy: 0.698\n"
          ]
        },
        {
          "name": "stderr",
          "output_type": "stream",
          "text": [
            "100%|██████████| 32/32 [00:59<00:00,  1.85s/it]\n"
          ]
        },
        {
          "name": "stdout",
          "output_type": "stream",
          "text": [
            "Epochs: 21 | Train Loss: 0.007 | Train Accuracy: 0.723\n",
            "Val loss: 0.007 | Val Accuracy: 0.688\n"
          ]
        },
        {
          "name": "stderr",
          "output_type": "stream",
          "text": [
            "100%|██████████| 32/32 [00:59<00:00,  1.85s/it]\n"
          ]
        },
        {
          "name": "stdout",
          "output_type": "stream",
          "text": [
            "Epochs: 22 | Train Loss: 0.007 | Train Accuracy: 0.724\n",
            "Val loss: 0.007 | Val Accuracy: 0.698\n"
          ]
        },
        {
          "name": "stderr",
          "output_type": "stream",
          "text": [
            "100%|██████████| 32/32 [00:59<00:00,  1.85s/it]\n"
          ]
        },
        {
          "name": "stdout",
          "output_type": "stream",
          "text": [
            "Epochs: 23 | Train Loss: 0.007 | Train Accuracy: 0.743\n",
            "Val loss: 0.007 | Val Accuracy: 0.697\n"
          ]
        },
        {
          "name": "stderr",
          "output_type": "stream",
          "text": [
            "100%|██████████| 32/32 [00:59<00:00,  1.85s/it]\n"
          ]
        },
        {
          "name": "stdout",
          "output_type": "stream",
          "text": [
            "Epochs: 24 | Train Loss: 0.007 | Train Accuracy: 0.735\n",
            "Val loss: 0.007 | Val Accuracy: 0.703\n"
          ]
        },
        {
          "name": "stderr",
          "output_type": "stream",
          "text": [
            "100%|██████████| 32/32 [00:59<00:00,  1.85s/it]\n"
          ]
        },
        {
          "name": "stdout",
          "output_type": "stream",
          "text": [
            "Epochs: 25 | Train Loss: 0.007 | Train Accuracy: 0.743\n",
            "Val loss: 0.007 | Val Accuracy: 0.703\n"
          ]
        },
        {
          "name": "stderr",
          "output_type": "stream",
          "text": [
            "100%|██████████| 32/32 [00:59<00:00,  1.85s/it]\n"
          ]
        },
        {
          "name": "stdout",
          "output_type": "stream",
          "text": [
            "Epochs: 26 | Train Loss: 0.007 | Train Accuracy: 0.756\n",
            "Val loss: 0.007 | Val Accuracy: 0.713\n"
          ]
        },
        {
          "name": "stderr",
          "output_type": "stream",
          "text": [
            "100%|██████████| 32/32 [00:59<00:00,  1.84s/it]\n"
          ]
        },
        {
          "name": "stdout",
          "output_type": "stream",
          "text": [
            "Epochs: 27 | Train Loss: 0.007 | Train Accuracy: 0.770\n",
            "Val loss: 0.007 | Val Accuracy: 0.713\n"
          ]
        },
        {
          "name": "stderr",
          "output_type": "stream",
          "text": [
            "100%|██████████| 32/32 [00:59<00:00,  1.85s/it]\n"
          ]
        },
        {
          "name": "stdout",
          "output_type": "stream",
          "text": [
            "Epochs: 28 | Train Loss: 0.007 | Train Accuracy: 0.774\n",
            "Val loss: 0.007 | Val Accuracy: 0.728\n"
          ]
        },
        {
          "name": "stderr",
          "output_type": "stream",
          "text": [
            "100%|██████████| 32/32 [00:59<00:00,  1.85s/it]\n"
          ]
        },
        {
          "name": "stdout",
          "output_type": "stream",
          "text": [
            "Epochs: 29 | Train Loss: 0.007 | Train Accuracy: 0.771\n",
            "Val loss: 0.007 | Val Accuracy: 0.716\n"
          ]
        },
        {
          "name": "stderr",
          "output_type": "stream",
          "text": [
            "100%|██████████| 32/32 [00:59<00:00,  1.85s/it]\n"
          ]
        },
        {
          "name": "stdout",
          "output_type": "stream",
          "text": [
            "Epochs: 30 | Train Loss: 0.007 | Train Accuracy: 0.775\n",
            "Val loss: 0.007 | Val Accuracy: 0.727\n"
          ]
        },
        {
          "name": "stderr",
          "output_type": "stream",
          "text": [
            "100%|██████████| 32/32 [00:59<00:00,  1.85s/it]\n"
          ]
        },
        {
          "name": "stdout",
          "output_type": "stream",
          "text": [
            "Epochs: 31 | Train Loss: 0.007 | Train Accuracy: 0.782\n",
            "Val loss: 0.007 | Val Accuracy: 0.722\n"
          ]
        },
        {
          "name": "stderr",
          "output_type": "stream",
          "text": [
            "100%|██████████| 32/32 [00:59<00:00,  1.85s/it]\n"
          ]
        },
        {
          "name": "stdout",
          "output_type": "stream",
          "text": [
            "Epochs: 32 | Train Loss: 0.007 | Train Accuracy: 0.787\n",
            "Val loss: 0.007 | Val Accuracy: 0.727\n"
          ]
        },
        {
          "name": "stderr",
          "output_type": "stream",
          "text": [
            "100%|██████████| 32/32 [00:59<00:00,  1.85s/it]\n"
          ]
        },
        {
          "name": "stdout",
          "output_type": "stream",
          "text": [
            "Epochs: 33 | Train Loss: 0.006 | Train Accuracy: 0.786\n",
            "Val loss: 0.007 | Val Accuracy: 0.738\n"
          ]
        },
        {
          "name": "stderr",
          "output_type": "stream",
          "text": [
            "100%|██████████| 32/32 [00:59<00:00,  1.85s/it]\n"
          ]
        },
        {
          "name": "stdout",
          "output_type": "stream",
          "text": [
            "Epochs: 34 | Train Loss: 0.006 | Train Accuracy: 0.798\n",
            "Val loss: 0.007 | Val Accuracy: 0.738\n"
          ]
        },
        {
          "name": "stderr",
          "output_type": "stream",
          "text": [
            "100%|██████████| 32/32 [00:59<00:00,  1.85s/it]\n"
          ]
        },
        {
          "name": "stdout",
          "output_type": "stream",
          "text": [
            "Epochs: 35 | Train Loss: 0.006 | Train Accuracy: 0.800\n",
            "Val loss: 0.007 | Val Accuracy: 0.731\n"
          ]
        },
        {
          "name": "stderr",
          "output_type": "stream",
          "text": [
            "100%|██████████| 32/32 [00:59<00:00,  1.85s/it]\n"
          ]
        },
        {
          "name": "stdout",
          "output_type": "stream",
          "text": [
            "Epochs: 36 | Train Loss: 0.006 | Train Accuracy: 0.795\n",
            "Val loss: 0.007 | Val Accuracy: 0.745\n"
          ]
        },
        {
          "name": "stderr",
          "output_type": "stream",
          "text": [
            "100%|██████████| 32/32 [00:59<00:00,  1.85s/it]\n"
          ]
        },
        {
          "name": "stdout",
          "output_type": "stream",
          "text": [
            "Epochs: 37 | Train Loss: 0.006 | Train Accuracy: 0.802\n",
            "Val loss: 0.007 | Val Accuracy: 0.742\n"
          ]
        },
        {
          "name": "stderr",
          "output_type": "stream",
          "text": [
            "100%|██████████| 32/32 [00:59<00:00,  1.85s/it]\n"
          ]
        },
        {
          "name": "stdout",
          "output_type": "stream",
          "text": [
            "Epochs: 38 | Train Loss: 0.006 | Train Accuracy: 0.807\n",
            "Val loss: 0.007 | Val Accuracy: 0.736\n"
          ]
        },
        {
          "name": "stderr",
          "output_type": "stream",
          "text": [
            "100%|██████████| 32/32 [00:59<00:00,  1.85s/it]\n"
          ]
        },
        {
          "name": "stdout",
          "output_type": "stream",
          "text": [
            "Epochs: 39 | Train Loss: 0.006 | Train Accuracy: 0.816\n",
            "Val loss: 0.007 | Val Accuracy: 0.739\n"
          ]
        },
        {
          "name": "stderr",
          "output_type": "stream",
          "text": [
            "100%|██████████| 32/32 [00:59<00:00,  1.85s/it]\n"
          ]
        },
        {
          "name": "stdout",
          "output_type": "stream",
          "text": [
            "Epochs: 40 | Train Loss: 0.006 | Train Accuracy: 0.816\n",
            "Val loss: 0.007 | Val Accuracy: 0.742\n"
          ]
        },
        {
          "name": "stderr",
          "output_type": "stream",
          "text": [
            "100%|██████████| 32/32 [00:59<00:00,  1.85s/it]\n"
          ]
        },
        {
          "name": "stdout",
          "output_type": "stream",
          "text": [
            "Epochs: 41 | Train Loss: 0.006 | Train Accuracy: 0.822\n",
            "Val loss: 0.007 | Val Accuracy: 0.742\n"
          ]
        },
        {
          "name": "stderr",
          "output_type": "stream",
          "text": [
            "100%|██████████| 32/32 [00:59<00:00,  1.85s/it]\n"
          ]
        },
        {
          "name": "stdout",
          "output_type": "stream",
          "text": [
            "Epochs: 42 | Train Loss: 0.006 | Train Accuracy: 0.820\n",
            "Val loss: 0.007 | Val Accuracy: 0.750\n"
          ]
        },
        {
          "name": "stderr",
          "output_type": "stream",
          "text": [
            "100%|██████████| 32/32 [00:59<00:00,  1.85s/it]\n"
          ]
        },
        {
          "name": "stdout",
          "output_type": "stream",
          "text": [
            "Epochs: 43 | Train Loss: 0.006 | Train Accuracy: 0.823\n",
            "Val loss: 0.007 | Val Accuracy: 0.755\n"
          ]
        },
        {
          "name": "stderr",
          "output_type": "stream",
          "text": [
            "100%|██████████| 32/32 [00:59<00:00,  1.85s/it]\n"
          ]
        },
        {
          "name": "stdout",
          "output_type": "stream",
          "text": [
            "Epochs: 44 | Train Loss: 0.006 | Train Accuracy: 0.825\n",
            "Val loss: 0.007 | Val Accuracy: 0.753\n"
          ]
        },
        {
          "name": "stderr",
          "output_type": "stream",
          "text": [
            "100%|██████████| 32/32 [00:59<00:00,  1.85s/it]\n"
          ]
        },
        {
          "name": "stdout",
          "output_type": "stream",
          "text": [
            "Epochs: 45 | Train Loss: 0.006 | Train Accuracy: 0.830\n",
            "Val loss: 0.007 | Val Accuracy: 0.747\n"
          ]
        },
        {
          "name": "stderr",
          "output_type": "stream",
          "text": [
            "100%|██████████| 32/32 [00:59<00:00,  1.85s/it]\n"
          ]
        },
        {
          "name": "stdout",
          "output_type": "stream",
          "text": [
            "Epochs: 46 | Train Loss: 0.006 | Train Accuracy: 0.829\n",
            "Val loss: 0.007 | Val Accuracy: 0.750\n"
          ]
        },
        {
          "name": "stderr",
          "output_type": "stream",
          "text": [
            "100%|██████████| 32/32 [00:59<00:00,  1.85s/it]\n"
          ]
        },
        {
          "name": "stdout",
          "output_type": "stream",
          "text": [
            "Epochs: 47 | Train Loss: 0.005 | Train Accuracy: 0.831\n",
            "Val loss: 0.007 | Val Accuracy: 0.758\n"
          ]
        },
        {
          "name": "stderr",
          "output_type": "stream",
          "text": [
            "100%|██████████| 32/32 [00:59<00:00,  1.85s/it]\n"
          ]
        },
        {
          "name": "stdout",
          "output_type": "stream",
          "text": [
            "Epochs: 48 | Train Loss: 0.005 | Train Accuracy: 0.838\n",
            "Val loss: 0.007 | Val Accuracy: 0.750\n"
          ]
        },
        {
          "name": "stderr",
          "output_type": "stream",
          "text": [
            "100%|██████████| 32/32 [00:59<00:00,  1.85s/it]\n"
          ]
        },
        {
          "name": "stdout",
          "output_type": "stream",
          "text": [
            "Epochs: 49 | Train Loss: 0.005 | Train Accuracy: 0.845\n",
            "Val loss: 0.006 | Val Accuracy: 0.762\n"
          ]
        },
        {
          "name": "stderr",
          "output_type": "stream",
          "text": [
            "100%|██████████| 32/32 [00:59<00:00,  1.86s/it]\n"
          ]
        },
        {
          "name": "stdout",
          "output_type": "stream",
          "text": [
            "Epochs: 50 | Train Loss: 0.005 | Train Accuracy: 0.840\n",
            "Val loss: 0.006 | Val Accuracy: 0.759\n"
          ]
        },
        {
          "name": "stderr",
          "output_type": "stream",
          "text": [
            "100%|██████████| 32/32 [00:59<00:00,  1.86s/it]\n"
          ]
        },
        {
          "name": "stdout",
          "output_type": "stream",
          "text": [
            "Epochs: 51 | Train Loss: 0.005 | Train Accuracy: 0.844\n",
            "Val loss: 0.006 | Val Accuracy: 0.761\n"
          ]
        },
        {
          "name": "stderr",
          "output_type": "stream",
          "text": [
            "100%|██████████| 32/32 [00:59<00:00,  1.85s/it]\n"
          ]
        },
        {
          "name": "stdout",
          "output_type": "stream",
          "text": [
            "Epochs: 52 | Train Loss: 0.005 | Train Accuracy: 0.842\n",
            "Val loss: 0.006 | Val Accuracy: 0.759\n"
          ]
        },
        {
          "name": "stderr",
          "output_type": "stream",
          "text": [
            "100%|██████████| 32/32 [00:59<00:00,  1.86s/it]\n"
          ]
        },
        {
          "name": "stdout",
          "output_type": "stream",
          "text": [
            "Epochs: 53 | Train Loss: 0.005 | Train Accuracy: 0.850\n",
            "Val loss: 0.006 | Val Accuracy: 0.767\n"
          ]
        },
        {
          "name": "stderr",
          "output_type": "stream",
          "text": [
            "100%|██████████| 32/32 [00:59<00:00,  1.85s/it]\n"
          ]
        },
        {
          "name": "stdout",
          "output_type": "stream",
          "text": [
            "Epochs: 54 | Train Loss: 0.005 | Train Accuracy: 0.853\n",
            "Val loss: 0.006 | Val Accuracy: 0.766\n"
          ]
        },
        {
          "name": "stderr",
          "output_type": "stream",
          "text": [
            "100%|██████████| 32/32 [00:59<00:00,  1.85s/it]\n"
          ]
        },
        {
          "name": "stdout",
          "output_type": "stream",
          "text": [
            "Epochs: 55 | Train Loss: 0.005 | Train Accuracy: 0.852\n",
            "Val loss: 0.006 | Val Accuracy: 0.764\n"
          ]
        },
        {
          "name": "stderr",
          "output_type": "stream",
          "text": [
            "100%|██████████| 32/32 [00:59<00:00,  1.85s/it]\n"
          ]
        },
        {
          "name": "stdout",
          "output_type": "stream",
          "text": [
            "Epochs: 56 | Train Loss: 0.005 | Train Accuracy: 0.852\n",
            "Val loss: 0.006 | Val Accuracy: 0.769\n"
          ]
        },
        {
          "name": "stderr",
          "output_type": "stream",
          "text": [
            "100%|██████████| 32/32 [00:59<00:00,  1.85s/it]\n"
          ]
        },
        {
          "name": "stdout",
          "output_type": "stream",
          "text": [
            "Epochs: 57 | Train Loss: 0.005 | Train Accuracy: 0.856\n",
            "Val loss: 0.006 | Val Accuracy: 0.758\n"
          ]
        },
        {
          "name": "stderr",
          "output_type": "stream",
          "text": [
            "100%|██████████| 32/32 [00:59<00:00,  1.85s/it]\n"
          ]
        },
        {
          "name": "stdout",
          "output_type": "stream",
          "text": [
            "Epochs: 58 | Train Loss: 0.005 | Train Accuracy: 0.852\n",
            "Val loss: 0.006 | Val Accuracy: 0.773\n"
          ]
        },
        {
          "name": "stderr",
          "output_type": "stream",
          "text": [
            "100%|██████████| 32/32 [00:59<00:00,  1.85s/it]\n"
          ]
        },
        {
          "name": "stdout",
          "output_type": "stream",
          "text": [
            "Epochs: 59 | Train Loss: 0.005 | Train Accuracy: 0.870\n",
            "Val loss: 0.006 | Val Accuracy: 0.772\n"
          ]
        },
        {
          "name": "stderr",
          "output_type": "stream",
          "text": [
            "100%|██████████| 32/32 [00:59<00:00,  1.85s/it]\n"
          ]
        },
        {
          "name": "stdout",
          "output_type": "stream",
          "text": [
            "Epochs: 60 | Train Loss: 0.005 | Train Accuracy: 0.864\n",
            "Val loss: 0.006 | Val Accuracy: 0.766\n",
            "______354aca28-406f-41da-8465-69b55d6dcd8b______\n",
            "LR: 5e-07 FINAL ACC = 0.766\n",
            "LR: 5e-07 BEST ACC = 0.773\n",
            "____________\n"
          ]
        },
        {
          "data": {
            "image/png": "[encoded data removed]",
            "text/plain": [
              "<Figure size 1200x600 with 2 Axes>"
            ]
          },
          "metadata": {},
          "output_type": "display_data"
        },
        {
          "name": "stdout",
          "output_type": "stream",
          "text": [
            "Classification Report:\n",
            "              precision    recall  f1-score   support\n",
            "\n",
            "     Class 0       0.77      0.78      0.77       331\n",
            "     Class 1       0.76      0.75      0.76       309\n",
            "\n",
            "    accuracy                           0.77       640\n",
            "   macro avg       0.77      0.77      0.77       640\n",
            "weighted avg       0.77      0.77      0.77       640\n",
            "\n"
          ]
        },
        {
          "data": {
            "image/png": "[encoded data removed]",
            "text/plain": [
              "<Figure size 640x480 with 2 Axes>"
            ]
          },
          "metadata": {},
          "output_type": "display_data"
        }
      ],
      "source": [
        "from tqdm import tqdm\n",
        "import matplotlib.pyplot as plt\n",
        "from sklearn.metrics import confusion_matrix, classification_report, ConfusionMatrixDisplay\n",
        "import json\n",
        "import uuid\n",
        "\n",
        "# just these two ray\n",
        "lrs = [5e-7]\n",
        "# lrs = [5e-5, 1e-5, 5e-6, 1e-6]\n",
        "\n",
        "for lr in lrs:\n",
        "  print('LR:', lr)\n",
        "  model=BertClassifier(num_classes=n_classes).to(device)\n",
        "  criterion=nn.CrossEntropyLoss()\n",
        "  optimizer = torch.optim.Adam(params=model.parameters(), lr=lr)\n",
        "\n",
        "\n",
        "  train_acc_list = []\n",
        "  train_loss_list = []\n",
        "  val_acc_list = []\n",
        "  val_loss_list = []\n",
        "\n",
        "  best_val_acc = 0\n",
        "  best_epoch = 0\n",
        "  best_model_state = None\n",
        "\n",
        "  model_id = str(uuid.uuid4())\n",
        "\n",
        "\n",
        "  for epoch_num in range(epochs):\n",
        "\n",
        "\n",
        "          total_acc_train=0\n",
        "          total_loss_train=0\n",
        "          model.train()\n",
        "\n",
        "          for train_input,train_label in tqdm(train_dataloader):\n",
        "\n",
        "              input_id,mask, train_label=prepare_inputs(train_input,train_label,device)\n",
        "\n",
        "              output_1=model(input_id,mask)\n",
        "\n",
        "              batch_loss_1=criterion(output_1,train_label.long())\n",
        "\n",
        "              total_loss_train += batch_loss_1.item()\n",
        "\n",
        "              acc=(output_1.argmax(dim=1)==train_label).sum().item()\n",
        "              total_acc_train+=acc\n",
        "\n",
        "              model.zero_grad()\n",
        "              batch_loss_1.backward()\n",
        "              optimizer.step()\n",
        "\n",
        "          total_acc_val=0\n",
        "          total_loss_val=0\n",
        "\n",
        "          y_true = []\n",
        "          y_pred = []\n",
        "          model.eval()\n",
        "          with torch.no_grad():\n",
        "              for val_input,val_label in val_dataloader:\n",
        "\n",
        "                  input_id,mask, val_label=prepare_inputs(val_input,val_label,device)\n",
        "\n",
        "                  output_2= model(input_id,mask)\n",
        "\n",
        "                  # for scoring\n",
        "                  predicted = output_2.argmax(dim=1)\n",
        "                  y_true.extend(val_label.cpu().numpy())\n",
        "                  y_pred.extend(predicted.cpu().numpy())\n",
        "\n",
        "                  batch_loss_2=criterion(output_2,val_label.long())\n",
        "\n",
        "                  total_loss_val+=batch_loss_2.item()\n",
        "\n",
        "                  acc=(output_2.argmax(dim=1)==val_label).sum().item()\n",
        "                  total_acc_val+=acc\n",
        "          \n",
        "          train_acc = total_acc_train / len(train_data)\n",
        "          train_loss = total_loss_train / len(train_data)\n",
        "          val_acc = total_acc_val / len(val_data)\n",
        "          val_loss = total_loss_val / len(val_data)\n",
        "\n",
        "          train_acc_list.append(train_acc)\n",
        "          train_loss_list.append(train_loss)\n",
        "          val_acc_list.append(val_acc)\n",
        "          val_loss_list.append(val_loss)\n",
        "\n",
        "          print(f'Epochs: {epoch_num+1} | Train Loss: {total_loss_train / len(train_data):.3f} | Train Accuracy: {total_acc_train/len(train_data):.3f}')\n",
        "          print(f'Val loss: {total_loss_val/len(val_data):.3f} | Val Accuracy: {total_acc_val / len(val_data):.3f}')\n",
        "          if val_acc > best_val_acc:\n",
        "            best_epoch = epoch_num\n",
        "            y_true_best = y_true.copy()\n",
        "            y_pred_best = y_pred.copy()\n",
        "            best_val_acc = val_acc\n",
        "            best_model_state = model.state_dict()\n",
        "\n",
        "          if epoch_num == epochs-1:\n",
        "              print(f'______{model_id}______')\n",
        "              print(f'LR: {lr} FINAL ACC = {total_acc_val / len(val_data):.3f}')\n",
        "              print(f'LR: {lr} BEST ACC = {best_val_acc:.3f}')\n",
        "              print('____________')\n",
        "\n",
        "  # Plot the accuracy and loss curves over epochs\n",
        "  epochs_range = range(1, epochs+1)\n",
        "\n",
        "  plt.figure(figsize=(12, 6))\n",
        "  plt.subplot(1, 2, 1)\n",
        "  plt.plot(epochs_range, train_acc_list, label='Training Accuracy')\n",
        "  plt.plot(epochs_range, val_acc_list, label='Validation Accuracy')\n",
        "  plt.xlabel('Epochs')\n",
        "  plt.ylabel('Accuracy')\n",
        "  plt.legend(loc='lower right')\n",
        "  plt.title('Accuracy Curves')\n",
        "\n",
        "  plt.subplot(1, 2, 2)\n",
        "  plt.plot(epochs_range, train_loss_list, label='Training Loss')\n",
        "  plt.plot(epochs_range, val_loss_list, label='Validation Loss')\n",
        "  plt.xlabel('Epochs')\n",
        "  plt.ylabel('Loss')\n",
        "  plt.legend(loc='upper right')\n",
        "  plt.title('Loss Curves')\n",
        "\n",
        "  plt.tight_layout()\n",
        "  plt.show()\n",
        "  # analysis of best performing model\n",
        "\n",
        "  cm = confusion_matrix(y_true_best, y_pred_best)\n",
        "  disp = ConfusionMatrixDisplay(cm)\n",
        "  disp.plot()\n",
        "  classes = ['Class 0', 'Class 1']  # Replace with your class labels\n",
        "\n",
        "  # Compute precision, recall, F1-score, and other metrics for best one\n",
        "  report = classification_report(y_true, y_pred, target_names=classes)\n",
        "  print('Classification Report:')\n",
        "  print(report)\n",
        "  results_dict = {\n",
        "    'model_id': model_id,\n",
        "    'train_accuracy': train_acc_list,\n",
        "    'train_loss': train_loss_list,\n",
        "    'val_accuracy': val_acc_list,\n",
        "    'val_loss': val_loss_list,\n",
        "    'hyperparameters': {\n",
        "        'learning_rate': lr,\n",
        "        'num_epochs': epochs,\n",
        "        'batch_size': batch_size,\n",
        "        'max_len': max_len\n",
        "    },\n",
        "    'results': {\n",
        "        \"classes\": n_classes,\n",
        "        \"last_acc\": val_acc_list[-1],\n",
        "        'best_acc': best_val_acc,\n",
        "        'best_acc_epoch': best_epoch,\n",
        "        'confusion_matrix': cm.tolist(),\n",
        "        'classification_report': report\n",
        "    }\n",
        "}\n",
        "\n",
        "  # Save the results dictionary as a JSON file with the model ID\n",
        "  results_filename = f'./results/binary_results_{model_id}.json'\n",
        "  with open(results_filename, 'w') as f:\n",
        "      json.dump(results_dict, f, indent=4)\n",
        "\n",
        "  # Save the best model state with the model ID\n",
        "  model_filename = f'./results/binary_best_model_{model_id}.pth'\n",
        "  torch.save(best_model_state, model_filename)\n"
      ]
    },
    {
      "cell_type": "code",
      "execution_count": 10,
      "metadata": {
        "colab": {
          "base_uri": "https://localhost:8080/",
          "height": 622
        },
        "id": "If80yq-kMKeR",
        "outputId": "6075e179-c3ba-49c2-edce-f585c10b3566"
      },
      "outputs": [
        {
          "name": "stdout",
          "output_type": "stream",
          "text": [
            "Classification Report:\n",
            "              precision    recall  f1-score   support\n",
            "\n",
            "     Class 0       0.77      0.78      0.77       331\n",
            "     Class 1       0.76      0.75      0.76       309\n",
            "\n",
            "    accuracy                           0.77       640\n",
            "   macro avg       0.77      0.77      0.77       640\n",
            "weighted avg       0.77      0.77      0.77       640\n",
            "\n"
          ]
        },
        {
          "data": {
            "image/png": "[encoded data removed]",
            "text/plain": [
              "<Figure size 640x480 with 2 Axes>"
            ]
          },
          "metadata": {},
          "output_type": "display_data"
        }
      ],
      "source": [
        "# analysis of best performing model\n",
        "\n",
        "cm = confusion_matrix(y_true_best, y_pred_best)\n",
        "disp = ConfusionMatrixDisplay(cm)\n",
        "disp.plot()\n",
        "classes = ['Class 0', 'Class 1']  # Replace with your class labels\n",
        "\n",
        "# Compute precision, recall, F1-score, and other metrics for best one\n",
        "report = classification_report(y_true, y_pred, target_names=classes)\n",
        "print('Classification Report:')\n",
        "print(report)\n"
      ]
    },
    {
      "cell_type": "code",
      "execution_count": 11,
      "metadata": {
        "id": "Qdx00aLrVUAn"
      },
      "outputs": [],
      "source": [
        "results_dict = {\n",
        "    'model_id': model_id,\n",
        "    'train_accuracy': train_acc_list,\n",
        "    'train_loss': train_loss_list,\n",
        "    'val_accuracy': val_acc_list,\n",
        "    'val_loss': val_loss_list,\n",
        "    'hyperparameters': {\n",
        "        'learning_rate': lr,\n",
        "        'num_epochs': epochs,\n",
        "        'batch_size': batch_size,\n",
        "        'max_len': max_len\n",
        "    },\n",
        "    'results': {\n",
        "        \"classes\": n_classes,\n",
        "        \"last_acc\": val_acc_list[-1],\n",
        "        'best_acc': best_val_acc,\n",
        "        'best_acc_epoch': best_epoch,\n",
        "        'confusion_matrix': cm.tolist(),\n",
        "        'classification_report': report\n",
        "    }\n",
        "}\n",
        "\n",
        "# Save the results dictionary as a JSON file with the model ID\n",
        "results_filename = f'./results/binary_results_{model_id}.json'\n",
        "with open(results_filename, 'w') as f:\n",
        "    json.dump(results_dict, f, indent=4)\n",
        "\n",
        "# Save the best model state with the model ID\n",
        "model_filename = f'./results/binary_best_model_{model_id}.pth'\n",
        "torch.save(best_model_state, model_filename)"
      ]
    },
    {
      "cell_type": "code",
      "execution_count": 11,
      "metadata": {
        "id": "df1bck_Dhkk4"
      },
      "outputs": [],
      "source": []
    }
  ],
  "metadata": {
    "accelerator": "GPU",
    "colab": {
      "gpuType": "T4",
      "provenance": []
    },
    "kernelspec": {
      "display_name": "Python 3",
      "name": "python3"
    },
    "language_info": {
      "codemirror_mode": {
        "name": "ipython",
        "version": 3
      },
      "file_extension": ".py",
      "mimetype": "text/x-python",
      "name": "python",
      "nbconvert_exporter": "python",
      "pygments_lexer": "ipython3",
      "version": "3.11.4"
    }
  },
  "nbformat": 4,
  "nbformat_minor": 0
}
