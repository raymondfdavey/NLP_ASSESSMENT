{
  "cells": [
    {
      "cell_type": "code",
      "execution_count": 2,
      "metadata": {
        "colab": {
          "base_uri": "https://localhost:8080/"
        },
        "id": "pgQeo85Be63J",
        "outputId": "19496d77-aae0-4146-fbba-986540727017"
      },
      "outputs": [
        {
          "name": "stdout",
          "output_type": "stream",
          "text": [
            "IN COLAB:  False\n"
          ]
        }
      ],
      "source": [
        "try :\n",
        "  from google.colab import drive\n",
        "  IN_COLAB = True\n",
        "except:\n",
        "  IN_COLAB = False\n",
        "print('IN COLAB: ', IN_COLAB)"
      ]
    },
    {
      "cell_type": "code",
      "execution_count": 3,
      "metadata": {},
      "outputs": [],
      "source": [
        "import os\n",
        "import pandas as pd\n",
        "from tqdm import tqdm\n",
        "import matplotlib.pyplot as plt\n",
        "import uuid\n",
        "import re\n",
        "from torch import nn\n",
        "from sklearn.metrics import confusion_matrix, classification_report, ConfusionMatrixDisplay\n",
        "import matplotlib.pyplot as plt\n",
        "import numpy as np\n",
        "import json\n",
        "from torch.utils.data import DataLoader, Dataset\n",
        "from transformers import BertModel, BertTokenizer, BertForSequenceClassification\n",
        "import torch\n",
        "import numpy as np\n",
        "\n"
      ]
    },
    {
      "cell_type": "code",
      "execution_count": 4,
      "metadata": {
        "colab": {
          "base_uri": "https://localhost:8080/",
          "height": 423
        },
        "id": "_jTOE1XIe63K",
        "outputId": "dd0fe981-fd41-4dc5-efea-74b7f142a54c"
      },
      "outputs": [
        {
          "data": {
            "text/html": [
              "<div>\n",
              "<style scoped>\n",
              "    .dataframe tbody tr th:only-of-type {\n",
              "        vertical-align: middle;\n",
              "    }\n",
              "\n",
              "    .dataframe tbody tr th {\n",
              "        vertical-align: top;\n",
              "    }\n",
              "\n",
              "    .dataframe thead th {\n",
              "        text-align: right;\n",
              "    }\n",
              "</style>\n",
              "<table border=\"1\" class=\"dataframe\">\n",
              "  <thead>\n",
              "    <tr style=\"text-align: right;\">\n",
              "      <th></th>\n",
              "      <th>label</th>\n",
              "      <th>tagged_in_context</th>\n",
              "    </tr>\n",
              "  </thead>\n",
              "  <tbody>\n",
              "    <tr>\n",
              "      <th>1</th>\n",
              "      <td>causal_oversimplification</td>\n",
              "      <td>Mostly because &lt;BOS&gt; the country would not las...</td>\n",
              "    </tr>\n",
              "    <tr>\n",
              "      <th>2</th>\n",
              "      <td>appeal_to_fear_prejudice</td>\n",
              "      <td>Lyndon Johnson &lt;BOS&gt; gets Earl Warren and Sen....</td>\n",
              "    </tr>\n",
              "    <tr>\n",
              "      <th>4</th>\n",
              "      <td>repetition</td>\n",
              "      <td>It must be exacted from him directly in order ...</td>\n",
              "    </tr>\n",
              "    <tr>\n",
              "      <th>5</th>\n",
              "      <td>name_calling,labeling</td>\n",
              "      <td>Is it any wonder that priests and laity alike ...</td>\n",
              "    </tr>\n",
              "    <tr>\n",
              "      <th>6</th>\n",
              "      <td>loaded_language</td>\n",
              "      <td>Health workers have been asked to work with co...</td>\n",
              "    </tr>\n",
              "    <tr>\n",
              "      <th>...</th>\n",
              "      <td>...</td>\n",
              "      <td>...</td>\n",
              "    </tr>\n",
              "    <tr>\n",
              "      <th>629</th>\n",
              "      <td>flag_waving</td>\n",
              "      <td>As a result, 58,177 &lt;BOS&gt; Americans &lt;EOS&gt; woul...</td>\n",
              "    </tr>\n",
              "    <tr>\n",
              "      <th>631</th>\n",
              "      <td>flag_waving</td>\n",
              "      <td>&lt;BOS&gt; But if you are a freedom-loving American...</td>\n",
              "    </tr>\n",
              "    <tr>\n",
              "      <th>632</th>\n",
              "      <td>loaded_language</td>\n",
              "      <td>I heard lots of &lt;BOS&gt; gut-wrenching stories &lt;E...</td>\n",
              "    </tr>\n",
              "    <tr>\n",
              "      <th>638</th>\n",
              "      <td>flag_waving</td>\n",
              "      <td>&lt;BOS&gt; He also sang an Islamic State fight song...</td>\n",
              "    </tr>\n",
              "    <tr>\n",
              "      <th>639</th>\n",
              "      <td>causal_oversimplification</td>\n",
              "      <td>We hear again, as we did incessantly from the ...</td>\n",
              "    </tr>\n",
              "  </tbody>\n",
              "</table>\n",
              "<p>309 rows × 2 columns</p>\n",
              "</div>"
            ],
            "text/plain": [
              "                         label  \\\n",
              "1    causal_oversimplification   \n",
              "2     appeal_to_fear_prejudice   \n",
              "4                   repetition   \n",
              "5        name_calling,labeling   \n",
              "6              loaded_language   \n",
              "..                         ...   \n",
              "629                flag_waving   \n",
              "631                flag_waving   \n",
              "632            loaded_language   \n",
              "638                flag_waving   \n",
              "639  causal_oversimplification   \n",
              "\n",
              "                                     tagged_in_context  \n",
              "1    Mostly because <BOS> the country would not las...  \n",
              "2    Lyndon Johnson <BOS> gets Earl Warren and Sen....  \n",
              "4    It must be exacted from him directly in order ...  \n",
              "5    Is it any wonder that priests and laity alike ...  \n",
              "6    Health workers have been asked to work with co...  \n",
              "..                                                 ...  \n",
              "629  As a result, 58,177 <BOS> Americans <EOS> woul...  \n",
              "631  <BOS> But if you are a freedom-loving American...  \n",
              "632  I heard lots of <BOS> gut-wrenching stories <E...  \n",
              "638  <BOS> He also sang an Islamic State fight song...  \n",
              "639  We hear again, as we did incessantly from the ...  \n",
              "\n",
              "[309 rows x 2 columns]"
            ]
          },
          "execution_count": 4,
          "metadata": {},
          "output_type": "execute_result"
        }
      ],
      "source": [
        "parentdir = \"./propaganda_dataset_v2\"\n",
        "train_file= \"propaganda_train.tsv\"\n",
        "val_file= \"propaganda_val.tsv\"\n",
        "\n",
        "train_path=os.path.join(parentdir,train_file)\n",
        "val_path=os.path.join(parentdir,val_file)\n",
        "\n",
        "if IN_COLAB:\n",
        "  train_path = '/content/propaganda_train.tsv'\n",
        "  val_path = '/content/propaganda_val.tsv'\n",
        "\n",
        "train_df=pd.read_csv(train_path,delimiter=\"\\t\",quotechar='|')\n",
        "val_df=pd.read_csv(val_path,delimiter=\"\\t\",quotechar='|')\n",
        "train_df = train_df.drop(train_df[train_df['label'] == 'not_propaganda'].index)\n",
        "val_df = val_df.drop(val_df[val_df['label'] == 'not_propaganda'].index)\n",
        "train_df\n",
        "val_df\n"
      ]
    },
    {
      "cell_type": "code",
      "execution_count": 5,
      "metadata": {
        "colab": {
          "base_uri": "https://localhost:8080/",
          "height": 597
        },
        "id": "pxBKV-woe63L",
        "outputId": "2a982856-633e-461e-863c-98c495e47e29"
      },
      "outputs": [
        {
          "data": {
            "text/html": [
              "<div>\n",
              "<style scoped>\n",
              "    .dataframe tbody tr th:only-of-type {\n",
              "        vertical-align: middle;\n",
              "    }\n",
              "\n",
              "    .dataframe tbody tr th {\n",
              "        vertical-align: top;\n",
              "    }\n",
              "\n",
              "    .dataframe thead th {\n",
              "        text-align: right;\n",
              "    }\n",
              "</style>\n",
              "<table border=\"1\" class=\"dataframe\">\n",
              "  <thead>\n",
              "    <tr style=\"text-align: right;\">\n",
              "      <th></th>\n",
              "      <th>label</th>\n",
              "      <th>tagged_in_context</th>\n",
              "      <th>label_str</th>\n",
              "      <th>extract_no_tags</th>\n",
              "      <th>extract_with_tags</th>\n",
              "    </tr>\n",
              "  </thead>\n",
              "  <tbody>\n",
              "    <tr>\n",
              "      <th>1</th>\n",
              "      <td>causal_oversimplification</td>\n",
              "      <td>Mostly because &lt;BOS&gt; the country would not las...</td>\n",
              "      <td>2</td>\n",
              "      <td>the country would not last long without an out...</td>\n",
              "      <td>&lt;BOS&gt; the country would not last long without ...</td>\n",
              "    </tr>\n",
              "    <tr>\n",
              "      <th>2</th>\n",
              "      <td>appeal_to_fear_prejudice</td>\n",
              "      <td>Lyndon Johnson &lt;BOS&gt; gets Earl Warren and Sen....</td>\n",
              "      <td>7</td>\n",
              "      <td>gets Earl Warren and Sen. Richard Russel to jo...</td>\n",
              "      <td>&lt;BOS&gt; gets Earl Warren and Sen. Richard Russel...</td>\n",
              "    </tr>\n",
              "    <tr>\n",
              "      <th>4</th>\n",
              "      <td>repetition</td>\n",
              "      <td>It must be exacted from him directly in order ...</td>\n",
              "      <td>4</td>\n",
              "      <td>infidels</td>\n",
              "      <td>&lt;BOS&gt; infidels &lt;EOS&gt;</td>\n",
              "    </tr>\n",
              "    <tr>\n",
              "      <th>5</th>\n",
              "      <td>name_calling,labeling</td>\n",
              "      <td>Is it any wonder that priests and laity alike ...</td>\n",
              "      <td>3</td>\n",
              "      <td>the \"gay lifestyle</td>\n",
              "      <td>&lt;BOS&gt; the \"gay lifestyle &lt;EOS&gt;</td>\n",
              "    </tr>\n",
              "    <tr>\n",
              "      <th>6</th>\n",
              "      <td>loaded_language</td>\n",
              "      <td>Health workers have been asked to work with co...</td>\n",
              "      <td>6</td>\n",
              "      <td>devastating communities</td>\n",
              "      <td>&lt;BOS&gt; devastating communities &lt;EOS&gt;</td>\n",
              "    </tr>\n",
              "    <tr>\n",
              "      <th>...</th>\n",
              "      <td>...</td>\n",
              "      <td>...</td>\n",
              "      <td>...</td>\n",
              "      <td>...</td>\n",
              "      <td>...</td>\n",
              "    </tr>\n",
              "    <tr>\n",
              "      <th>629</th>\n",
              "      <td>flag_waving</td>\n",
              "      <td>As a result, 58,177 &lt;BOS&gt; Americans &lt;EOS&gt; woul...</td>\n",
              "      <td>0</td>\n",
              "      <td>Americans</td>\n",
              "      <td>&lt;BOS&gt; Americans &lt;EOS&gt;</td>\n",
              "    </tr>\n",
              "    <tr>\n",
              "      <th>631</th>\n",
              "      <td>flag_waving</td>\n",
              "      <td>&lt;BOS&gt; But if you are a freedom-loving American...</td>\n",
              "      <td>0</td>\n",
              "      <td>But if you are a freedom-loving American</td>\n",
              "      <td>&lt;BOS&gt; But if you are a freedom-loving American...</td>\n",
              "    </tr>\n",
              "    <tr>\n",
              "      <th>632</th>\n",
              "      <td>loaded_language</td>\n",
              "      <td>I heard lots of &lt;BOS&gt; gut-wrenching stories &lt;E...</td>\n",
              "      <td>6</td>\n",
              "      <td>gut-wrenching stories</td>\n",
              "      <td>&lt;BOS&gt; gut-wrenching stories &lt;EOS&gt;</td>\n",
              "    </tr>\n",
              "    <tr>\n",
              "      <th>638</th>\n",
              "      <td>flag_waving</td>\n",
              "      <td>&lt;BOS&gt; He also sang an Islamic State fight song...</td>\n",
              "      <td>0</td>\n",
              "      <td>He also sang an Islamic State fight song and r...</td>\n",
              "      <td>&lt;BOS&gt; He also sang an Islamic State fight song...</td>\n",
              "    </tr>\n",
              "    <tr>\n",
              "      <th>639</th>\n",
              "      <td>causal_oversimplification</td>\n",
              "      <td>We hear again, as we did incessantly from the ...</td>\n",
              "      <td>2</td>\n",
              "      <td>with whom, I guess, she has also no choice but...</td>\n",
              "      <td>&lt;BOS&gt; with whom, I guess, she has also no choi...</td>\n",
              "    </tr>\n",
              "  </tbody>\n",
              "</table>\n",
              "<p>309 rows × 5 columns</p>\n",
              "</div>"
            ],
            "text/plain": [
              "                         label  \\\n",
              "1    causal_oversimplification   \n",
              "2     appeal_to_fear_prejudice   \n",
              "4                   repetition   \n",
              "5        name_calling,labeling   \n",
              "6              loaded_language   \n",
              "..                         ...   \n",
              "629                flag_waving   \n",
              "631                flag_waving   \n",
              "632            loaded_language   \n",
              "638                flag_waving   \n",
              "639  causal_oversimplification   \n",
              "\n",
              "                                     tagged_in_context  label_str  \\\n",
              "1    Mostly because <BOS> the country would not las...          2   \n",
              "2    Lyndon Johnson <BOS> gets Earl Warren and Sen....          7   \n",
              "4    It must be exacted from him directly in order ...          4   \n",
              "5    Is it any wonder that priests and laity alike ...          3   \n",
              "6    Health workers have been asked to work with co...          6   \n",
              "..                                                 ...        ...   \n",
              "629  As a result, 58,177 <BOS> Americans <EOS> woul...          0   \n",
              "631  <BOS> But if you are a freedom-loving American...          0   \n",
              "632  I heard lots of <BOS> gut-wrenching stories <E...          6   \n",
              "638  <BOS> He also sang an Islamic State fight song...          0   \n",
              "639  We hear again, as we did incessantly from the ...          2   \n",
              "\n",
              "                                       extract_no_tags  \\\n",
              "1    the country would not last long without an out...   \n",
              "2    gets Earl Warren and Sen. Richard Russel to jo...   \n",
              "4                                             infidels   \n",
              "5                                   the \"gay lifestyle   \n",
              "6                              devastating communities   \n",
              "..                                                 ...   \n",
              "629                                          Americans   \n",
              "631           But if you are a freedom-loving American   \n",
              "632                              gut-wrenching stories   \n",
              "638  He also sang an Islamic State fight song and r...   \n",
              "639  with whom, I guess, she has also no choice but...   \n",
              "\n",
              "                                     extract_with_tags  \n",
              "1    <BOS> the country would not last long without ...  \n",
              "2    <BOS> gets Earl Warren and Sen. Richard Russel...  \n",
              "4                                 <BOS> infidels <EOS>  \n",
              "5                       <BOS> the \"gay lifestyle <EOS>  \n",
              "6                  <BOS> devastating communities <EOS>  \n",
              "..                                                 ...  \n",
              "629                              <BOS> Americans <EOS>  \n",
              "631  <BOS> But if you are a freedom-loving American...  \n",
              "632                  <BOS> gut-wrenching stories <EOS>  \n",
              "638  <BOS> He also sang an Islamic State fight song...  \n",
              "639  <BOS> with whom, I guess, she has also no choi...  \n",
              "\n",
              "[309 rows x 5 columns]"
            ]
          },
          "execution_count": 5,
          "metadata": {},
          "output_type": "execute_result"
        }
      ],
      "source": [
        "def extract_tagged_section(row):\n",
        "    pattern = r'<BOS>.*?<EOS>'\n",
        "    match = re.search(pattern, row['tagged_in_context'])\n",
        "    return match.group() if match else \"\"\n",
        "\n",
        "def extract_text_inside_tags(row):\n",
        "    pattern = r'<BOS>(.*?)<EOS>'\n",
        "    match = re.search(pattern, row['tagged_in_context'])\n",
        "    return match.group(1).strip() if match else \"\"\n",
        "\n",
        "def transform_multi_label(row):\n",
        "    new_value = label_to_id[row['label']]\n",
        "    return new_value\n",
        "\n",
        "def transform_strip_tag(row):\n",
        "    sent = row['tagged_in_context']\n",
        "    cleaned_string = sent.replace(\"<BOS>\", \"\")\n",
        "    cleaned_string = cleaned_string.replace(\"<EOS>\", \"\")\n",
        "    return cleaned_string\n",
        "\n",
        "\n",
        "label_to_id = {'flag_waving': 0, 'exaggeration,minimisation': 1, 'causal_oversimplification': 2, 'name_calling,labeling': 3, 'repetition': 4, 'doubt': 5, 'loaded_language': 6, 'appeal_to_fear_prejudice': 7}\n",
        "id_to_label = {0: 'flag_waving', 1: 'exaggeration,minimisation', 2: 'causal_oversimplification', 3: 'name_calling,labeling', 4: 'repetition', 5: 'doubt',6: 'loaded_language', 7: 'appeal_to_fear_prejudice'}\n",
        "\n",
        "train_df['label_str'] = train_df.apply(transform_multi_label, axis=1)\n",
        "train_df['extract_no_tags'] = train_df.apply(extract_text_inside_tags, axis=1)\n",
        "train_df['extract_with_tags'] = train_df.apply(extract_tagged_section, axis=1)\n",
        "\n",
        "val_df['label_str'] = val_df.apply(transform_multi_label, axis=1)\n",
        "val_df['extract_no_tags'] = val_df.apply(extract_text_inside_tags, axis=1)\n",
        "val_df['extract_with_tags'] = val_df.apply(extract_tagged_section, axis=1)\n",
        "\n",
        "val_df"
      ]
    },
    {
      "cell_type": "code",
      "execution_count": 6,
      "metadata": {
        "id": "K7bzFnN9e636"
      },
      "outputs": [],
      "source": [
        "class CustomPropagandaDataset_vanilla(Dataset):\n",
        "    def __init__(self,df, max_len, sent_col, target_col):\n",
        "        tokenizer = BertTokenizer.from_pretrained('bert-base-uncased')\n",
        "\n",
        "        self.labels=torch.tensor([label for label in df[target_col]])\n",
        "        # print(self.labels)\n",
        "        self.texts=[tokenizer(text,padding='max_length',max_length=max_len,truncation=True,return_tensors=\"pt\") for text in df[sent_col]]\n",
        "        # print(self.texts)\n",
        "    def classes(self):\n",
        "        return self.labels\n",
        "\n",
        "    def __len__(self):\n",
        "        return len(self.labels)\n",
        "\n",
        "    def get_batch_labels(self,idx):\n",
        "        return np.array(self.labels[idx])\n",
        "\n",
        "    def get_batch_texts(self,idx):\n",
        "        return self.texts[idx]\n",
        "\n",
        "    def __getitem__(self,idx):\n",
        "        batch_texts=self.get_batch_texts(idx)\n",
        "        batch_y=self.get_batch_labels(idx)\n",
        "\n",
        "        return batch_texts,batch_y\n",
        "\n",
        "\n",
        "def prepare_inputs(input1,label,device):\n",
        "  label=label.to(device)\n",
        "  mask=input1['attention_mask'].to(device)\n",
        "  input_id=input1['input_ids'].squeeze(1).to(device)\n",
        "  return (input_id,mask,label)"
      ]
    },
    {
      "cell_type": "code",
      "execution_count": 7,
      "metadata": {
        "colab": {
          "base_uri": "https://localhost:8080/"
        },
        "id": "3PD_sgNxe638",
        "outputId": "91e02be3-5221-4f5f-d700-7f331f75f1c6"
      },
      "outputs": [
        {
          "name": "stdout",
          "output_type": "stream",
          "text": [
            "cuda\n"
          ]
        }
      ],
      "source": [
        "\n",
        "class BertClassifier(nn.Module):\n",
        "\n",
        "    def __init__(self,dropout=0.5,num_classes=8):\n",
        "        super().__init__()\n",
        "\n",
        "        self.bert=BertModel.from_pretrained('bert-base-uncased')\n",
        "        self.dropout=nn.Dropout(dropout)\n",
        "        self.linear=nn.Linear(768,num_classes)\n",
        "        self.relu=nn.ReLU()\n",
        "\n",
        "    def forward(self,input_id,mask):\n",
        "\n",
        "        _, pooled_output = self.bert(input_ids=input_id,attention_mask=mask,return_dict=False)\n",
        "        dropout_output=self.dropout(pooled_output)\n",
        "        linear_output=self.linear(dropout_output)\n",
        "        final_layer=self.relu(linear_output)\n",
        "\n",
        "        return final_layer\n",
        "\n",
        "device = 'cuda' if torch.cuda.is_available() else 'cpu'\n",
        "print(device)"
      ]
    },
    {
      "cell_type": "code",
      "execution_count": 9,
      "metadata": {
        "colab": {
          "base_uri": "https://localhost:8080/",
          "height": 1000
        },
        "id": "ldwpXHKle638",
        "outputId": "79f4a275-9968-405c-9dbb-c2fb3b5da664"
      },
      "outputs": [
        {
          "name": "stderr",
          "output_type": "stream",
          "text": [
            "100%|██████████| 26/26 [00:14<00:00,  1.78it/s]\n"
          ]
        },
        {
          "name": "stdout",
          "output_type": "stream",
          "text": [
            "Epochs: 1 | Train Loss: 0.042 | Train Accuracy: 0.118\n",
            "Val loss: 0.047 | Val Accuracy: 0.146\n"
          ]
        },
        {
          "name": "stderr",
          "output_type": "stream",
          "text": [
            "100%|██████████| 26/26 [00:14<00:00,  1.82it/s]\n"
          ]
        },
        {
          "name": "stdout",
          "output_type": "stream",
          "text": [
            "Epochs: 2 | Train Loss: 0.042 | Train Accuracy: 0.119\n",
            "Val loss: 0.047 | Val Accuracy: 0.146\n"
          ]
        },
        {
          "name": "stderr",
          "output_type": "stream",
          "text": [
            " 35%|███▍      | 9/26 [00:05<00:10,  1.57it/s]\n"
          ]
        },
        {
          "ename": "KeyboardInterrupt",
          "evalue": "",
          "output_type": "error",
          "traceback": [
            "\u001b[1;31m---------------------------------------------------------------------------\u001b[0m",
            "\u001b[1;31mKeyboardInterrupt\u001b[0m                         Traceback (most recent call last)",
            "Cell \u001b[1;32mIn[9], line 57\u001b[0m\n\u001b[0;32m     54\u001b[0m     total_acc_train\u001b[38;5;241m+\u001b[39m\u001b[38;5;241m=\u001b[39macc\n\u001b[0;32m     56\u001b[0m     model\u001b[38;5;241m.\u001b[39mzero_grad()\n\u001b[1;32m---> 57\u001b[0m     batch_loss_1\u001b[38;5;241m.\u001b[39mbackward()\n\u001b[0;32m     58\u001b[0m     optimizer\u001b[38;5;241m.\u001b[39mstep()\n\u001b[0;32m     60\u001b[0m total_acc_val\u001b[38;5;241m=\u001b[39m\u001b[38;5;241m0\u001b[39m\n",
            "File \u001b[1;32mc:\\ProgramData\\Anaconda3\\Lib\\site-packages\\torch\\_tensor.py:522\u001b[0m, in \u001b[0;36mTensor.backward\u001b[1;34m(self, gradient, retain_graph, create_graph, inputs)\u001b[0m\n\u001b[0;32m    512\u001b[0m \u001b[38;5;28;01mif\u001b[39;00m has_torch_function_unary(\u001b[38;5;28mself\u001b[39m):\n\u001b[0;32m    513\u001b[0m     \u001b[38;5;28;01mreturn\u001b[39;00m handle_torch_function(\n\u001b[0;32m    514\u001b[0m         Tensor\u001b[38;5;241m.\u001b[39mbackward,\n\u001b[0;32m    515\u001b[0m         (\u001b[38;5;28mself\u001b[39m,),\n\u001b[1;32m   (...)\u001b[0m\n\u001b[0;32m    520\u001b[0m         inputs\u001b[38;5;241m=\u001b[39minputs,\n\u001b[0;32m    521\u001b[0m     )\n\u001b[1;32m--> 522\u001b[0m torch\u001b[38;5;241m.\u001b[39mautograd\u001b[38;5;241m.\u001b[39mbackward(\n\u001b[0;32m    523\u001b[0m     \u001b[38;5;28mself\u001b[39m, gradient, retain_graph, create_graph, inputs\u001b[38;5;241m=\u001b[39minputs\n\u001b[0;32m    524\u001b[0m )\n",
            "File \u001b[1;32mc:\\ProgramData\\Anaconda3\\Lib\\site-packages\\torch\\autograd\\__init__.py:266\u001b[0m, in \u001b[0;36mbackward\u001b[1;34m(tensors, grad_tensors, retain_graph, create_graph, grad_variables, inputs)\u001b[0m\n\u001b[0;32m    261\u001b[0m     retain_graph \u001b[38;5;241m=\u001b[39m create_graph\n\u001b[0;32m    263\u001b[0m \u001b[38;5;66;03m# The reason we repeat the same comment below is that\u001b[39;00m\n\u001b[0;32m    264\u001b[0m \u001b[38;5;66;03m# some Python versions print out the first line of a multi-line function\u001b[39;00m\n\u001b[0;32m    265\u001b[0m \u001b[38;5;66;03m# calls in the traceback and some print out the last line\u001b[39;00m\n\u001b[1;32m--> 266\u001b[0m Variable\u001b[38;5;241m.\u001b[39m_execution_engine\u001b[38;5;241m.\u001b[39mrun_backward(  \u001b[38;5;66;03m# Calls into the C++ engine to run the backward pass\u001b[39;00m\n\u001b[0;32m    267\u001b[0m     tensors,\n\u001b[0;32m    268\u001b[0m     grad_tensors_,\n\u001b[0;32m    269\u001b[0m     retain_graph,\n\u001b[0;32m    270\u001b[0m     create_graph,\n\u001b[0;32m    271\u001b[0m     inputs,\n\u001b[0;32m    272\u001b[0m     allow_unreachable\u001b[38;5;241m=\u001b[39m\u001b[38;5;28;01mTrue\u001b[39;00m,\n\u001b[0;32m    273\u001b[0m     accumulate_grad\u001b[38;5;241m=\u001b[39m\u001b[38;5;28;01mTrue\u001b[39;00m,\n\u001b[0;32m    274\u001b[0m )\n",
            "\u001b[1;31mKeyboardInterrupt\u001b[0m: "
          ]
        }
      ],
      "source": [
        "\n",
        "# lrs = [1e-6, 5e-7, 1e-7]\n",
        "\n",
        "lrs = [5e-4, 1e-4, 5e-5, 1e-5]\n",
        "epochs = 20\n",
        "bn=50\n",
        "max_len=150\n",
        "n_classes = 8\n",
        "dr = 0.5\n",
        "\n",
        "\n",
        "for lr in lrs:\n",
        "  sent_col = 'extract_no_tags'\n",
        "  target_col = 'label_str'\n",
        "  \n",
        "  train_data = CustomPropagandaDataset_vanilla(train_df, max_len, sent_col, target_col)\n",
        "  val_data = CustomPropagandaDataset_vanilla(val_df, max_len, sent_col, target_col)\n",
        "  \n",
        "  train_dataloader=torch.utils.data.DataLoader(train_data,batch_size=bn,shuffle=True)\n",
        "  val_dataloader=torch.utils.data.DataLoader(val_data,batch_size=bn)\n",
        "    \n",
        "    \n",
        "  model=BertClassifier(num_classes=8)\n",
        "  criterion=nn.CrossEntropyLoss()\n",
        "  optimizer = torch.optim.Adam(params=model.parameters(), lr=lr)\n",
        "\n",
        "\n",
        "  train_acc_list = []\n",
        "  train_loss_list = []\n",
        "  val_acc_list = []\n",
        "  val_loss_list = []\n",
        "\n",
        "  best_val_acc = 0\n",
        "  best_epoch = 0\n",
        "  best_model_state = None\n",
        "\n",
        "  model_id = str(uuid.uuid4())\n",
        "\n",
        "\n",
        "  model.to(device)\n",
        "  for epoch_num in range(epochs):\n",
        "          total_acc_train=0\n",
        "          total_loss_train=0\n",
        "          model.train()\n",
        "          for train_input,train_label in tqdm(train_dataloader):\n",
        "\n",
        "              input_id,mask, train_label=prepare_inputs(train_input,train_label,device)\n",
        "\n",
        "              output_1=model(input_id,mask)\n",
        "\n",
        "              batch_loss_1=criterion(output_1,train_label.long())\n",
        "              total_loss_train +=batch_loss_1.item()\n",
        "\n",
        "              acc=(output_1.argmax(dim=1)==train_label).sum().item()\n",
        "              total_acc_train+=acc\n",
        "\n",
        "              model.zero_grad()\n",
        "              batch_loss_1.backward()\n",
        "              optimizer.step()\n",
        "\n",
        "          total_acc_val=0\n",
        "          total_loss_val=0\n",
        "\n",
        "          y_true = []\n",
        "          y_pred = []\n",
        "          model.eval()\n",
        "          with torch.no_grad():\n",
        "              for val_input,val_label in val_dataloader:\n",
        "\n",
        "                  input_id,mask, val_label=prepare_inputs(val_input,val_label,device)\n",
        "\n",
        "                  output_2= model(input_id,mask)\n",
        "\n",
        "                  # for scoring\n",
        "                  predicted = output_2.argmax(dim=1)\n",
        "                  y_true.extend(val_label.cpu().numpy())\n",
        "                  y_pred.extend(predicted.cpu().numpy())\n",
        "\n",
        "                  batch_loss_2=criterion(output_2,val_label.long())\n",
        "\n",
        "                  total_loss_val+=batch_loss_2.item()\n",
        "\n",
        "                  acc=(output_2.argmax(dim=1)==val_label).sum().item()\n",
        "                  total_acc_val+=acc\n",
        "              train_acc = total_acc_train / len(train_data)\n",
        "\n",
        "          train_loss = total_loss_train / len(train_data)\n",
        "          val_acc = total_acc_val / len(val_data)\n",
        "          val_loss = total_loss_val / len(val_data)\n",
        "\n",
        "          train_acc_list.append(train_acc)\n",
        "          train_loss_list.append(train_loss)\n",
        "          val_acc_list.append(val_acc)\n",
        "          val_loss_list.append(val_loss)\n",
        "\n",
        "          print(f'Epochs: {epoch_num+1} | Train Loss: {total_loss_train / len(train_data):.3f} | Train Accuracy: {total_acc_train/len(train_data):.3f}')\n",
        "          print(f'Val loss: {total_loss_val/len(val_data):.3f} | Val Accuracy: {total_acc_val / len(val_data):.3f}')\n",
        "          if val_acc > best_val_acc:\n",
        "            best_epoch = epoch_num\n",
        "            y_true_best = y_true.copy()\n",
        "            y_pred_best = y_pred.copy()\n",
        "            best_val_acc = val_acc\n",
        "            best_model_state = model.state_dict()\n",
        "\n",
        "          if epoch_num == epochs-1:\n",
        "              print(f'______{model_id}______')\n",
        "              print(f'LR: {lr} FINAL ACC = {total_acc_val / len(val_data):.3f}')\n",
        "              print(f'LR: {lr} BEST ACC = {best_val_acc:.3f}')\n",
        "              print('____________')\n",
        "\n",
        "\n",
        "  # Plot the accuracy and loss curves over epochs\n",
        "  epochs_range = range(1, epochs+1)\n",
        "\n",
        "  plt.figure(figsize=(12, 6))\n",
        "  plt.subplot(1, 2, 1)\n",
        "  plt.plot(epochs_range, train_acc_list, label='Training Accuracy')\n",
        "  plt.plot(epochs_range, val_acc_list, label='Validation Accuracy')\n",
        "  plt.xlabel('Epochs')\n",
        "  plt.ylabel('Accuracy')\n",
        "  plt.legend(loc='lower right')\n",
        "  plt.title('Accuracy Curves')\n",
        "\n",
        "#   plt.subplot(1, 2, 2)\n",
        "#   plt.plot(epochs_range, train_loss_list, label='Training Loss')\n",
        "#   plt.plot(epochs_range, val_loss_list, label='Validation Loss')\n",
        "#   plt.xlabel('Epochs')\n",
        "#   plt.ylabel('Loss')\n",
        "#   plt.legend(loc='upper right')\n",
        "#   plt.title('Loss Curves')\n",
        "  plt.title(f'Accuracy for lr {lr}, batch size {bn}, best ac: {best_val_acc:.2f}')\n",
        "\n",
        "  plt.tight_layout()\n",
        "  plt.show()\n",
        "\n",
        "  # analysis of best performing model\n",
        "  classes = list(id_to_label.values())\n",
        "  cm = confusion_matrix(y_true_best, y_pred_best)\n",
        "\n",
        "  disp = ConfusionMatrixDisplay(cm)\n",
        "  disp.plot()\n",
        "\n",
        "  # Compute precision, recall, F1-score, and other metrics for the best model\n",
        "  report = classification_report(y_true_best, y_pred_best, target_names=classes)\n",
        "  print('Classification Report:')\n",
        "  print(report)\n",
        "\n",
        "\n",
        "  results_dict = {\n",
        "      'model_id': model_id,\n",
        "      'train_accuracy': train_acc_list,\n",
        "      'train_loss': train_loss_list,\n",
        "      'val_accuracy': val_acc_list,\n",
        "      'val_loss': val_loss_list,\n",
        "      'hyperparameters': {\n",
        "          'learning_rate': lr,\n",
        "          'num_epochs': epochs,\n",
        "          'batch_size': bn,\n",
        "          'max_len': max_len,\n",
        "          'dropout': dr\n",
        "\n",
        "      },\n",
        "      'results': {\n",
        "          \"classes\": n_classes,\n",
        "          \"last_acc\": val_acc_list[-1],\n",
        "          'best_acc': best_val_acc,\n",
        "          'best_acc_epoch': best_epoch,\n",
        "          'confusion_matrix': cm.tolist(),\n",
        "          'classification_report': report\n",
        "      }\n",
        "  }\n",
        "\n",
        "\n",
        "  # Save the results dictionary as a JSON file with the model ID\n",
        "  results_filename = f'./results/multiclass_results_{model_id}.json'\n",
        "  with open(results_filename, 'w') as f:\n",
        "      json.dump(results_dict, f, indent=4)\n"
      ]
    },
    {
      "cell_type": "code",
      "execution_count": 11,
      "metadata": {
        "id": "7Z9ftoAZrLfe"
      },
      "outputs": [
        {
          "name": "stderr",
          "output_type": "stream",
          "text": [
            "Some weights of BertForSequenceClassification were not initialized from the model checkpoint at bert-base-uncased and are newly initialized: ['classifier.bias', 'classifier.weight']\n",
            "You should probably TRAIN this model on a down-stream task to be able to use it for predictions and inference.\n",
            "100%|██████████| 52/52 [00:16<00:00,  3.14it/s]\n"
          ]
        },
        {
          "name": "stdout",
          "output_type": "stream",
          "text": [
            "Epochs: 1 | Train Loss: 0.086 | Train Accuracy: 0.136\n",
            "Val loss: 0.089 | Val Accuracy: 0.149\n"
          ]
        },
        {
          "name": "stderr",
          "output_type": "stream",
          "text": [
            "100%|██████████| 52/52 [00:15<00:00,  3.29it/s]\n"
          ]
        },
        {
          "name": "stdout",
          "output_type": "stream",
          "text": [
            "Epochs: 2 | Train Loss: 0.084 | Train Accuracy: 0.161\n",
            "Val loss: 0.088 | Val Accuracy: 0.152\n"
          ]
        },
        {
          "name": "stderr",
          "output_type": "stream",
          "text": [
            "100%|██████████| 52/52 [00:15<00:00,  3.25it/s]\n"
          ]
        },
        {
          "name": "stdout",
          "output_type": "stream",
          "text": [
            "Epochs: 3 | Train Loss: 0.083 | Train Accuracy: 0.192\n",
            "Val loss: 0.086 | Val Accuracy: 0.204\n"
          ]
        },
        {
          "name": "stderr",
          "output_type": "stream",
          "text": [
            "100%|██████████| 52/52 [00:16<00:00,  3.24it/s]\n"
          ]
        },
        {
          "name": "stdout",
          "output_type": "stream",
          "text": [
            "Epochs: 4 | Train Loss: 0.081 | Train Accuracy: 0.249\n",
            "Val loss: 0.084 | Val Accuracy: 0.252\n"
          ]
        },
        {
          "name": "stderr",
          "output_type": "stream",
          "text": [
            "100%|██████████| 52/52 [00:16<00:00,  3.24it/s]\n"
          ]
        },
        {
          "name": "stdout",
          "output_type": "stream",
          "text": [
            "Epochs: 5 | Train Loss: 0.080 | Train Accuracy: 0.260\n",
            "Val loss: 0.083 | Val Accuracy: 0.256\n"
          ]
        },
        {
          "name": "stderr",
          "output_type": "stream",
          "text": [
            "100%|██████████| 52/52 [00:16<00:00,  3.23it/s]\n"
          ]
        },
        {
          "name": "stdout",
          "output_type": "stream",
          "text": [
            "Epochs: 6 | Train Loss: 0.079 | Train Accuracy: 0.269\n",
            "Val loss: 0.082 | Val Accuracy: 0.262\n"
          ]
        },
        {
          "name": "stderr",
          "output_type": "stream",
          "text": [
            "100%|██████████| 52/52 [00:16<00:00,  3.23it/s]\n"
          ]
        },
        {
          "name": "stdout",
          "output_type": "stream",
          "text": [
            "Epochs: 7 | Train Loss: 0.078 | Train Accuracy: 0.289\n",
            "Val loss: 0.081 | Val Accuracy: 0.252\n"
          ]
        },
        {
          "name": "stderr",
          "output_type": "stream",
          "text": [
            "100%|██████████| 52/52 [00:16<00:00,  3.23it/s]\n"
          ]
        },
        {
          "name": "stdout",
          "output_type": "stream",
          "text": [
            "Epochs: 8 | Train Loss: 0.076 | Train Accuracy: 0.317\n",
            "Val loss: 0.080 | Val Accuracy: 0.275\n"
          ]
        },
        {
          "name": "stderr",
          "output_type": "stream",
          "text": [
            "100%|██████████| 52/52 [00:16<00:00,  3.24it/s]\n"
          ]
        },
        {
          "name": "stdout",
          "output_type": "stream",
          "text": [
            "Epochs: 9 | Train Loss: 0.075 | Train Accuracy: 0.333\n",
            "Val loss: 0.078 | Val Accuracy: 0.275\n"
          ]
        },
        {
          "name": "stderr",
          "output_type": "stream",
          "text": [
            "100%|██████████| 52/52 [00:16<00:00,  3.24it/s]\n"
          ]
        },
        {
          "name": "stdout",
          "output_type": "stream",
          "text": [
            "Epochs: 10 | Train Loss: 0.074 | Train Accuracy: 0.332\n",
            "Val loss: 0.078 | Val Accuracy: 0.291\n"
          ]
        },
        {
          "name": "stderr",
          "output_type": "stream",
          "text": [
            "100%|██████████| 52/52 [00:16<00:00,  3.24it/s]\n"
          ]
        },
        {
          "name": "stdout",
          "output_type": "stream",
          "text": [
            "Epochs: 11 | Train Loss: 0.073 | Train Accuracy: 0.377\n",
            "Val loss: 0.077 | Val Accuracy: 0.301\n"
          ]
        },
        {
          "name": "stderr",
          "output_type": "stream",
          "text": [
            "100%|██████████| 52/52 [00:16<00:00,  3.24it/s]\n"
          ]
        },
        {
          "name": "stdout",
          "output_type": "stream",
          "text": [
            "Epochs: 12 | Train Loss: 0.072 | Train Accuracy: 0.374\n",
            "Val loss: 0.076 | Val Accuracy: 0.294\n"
          ]
        },
        {
          "name": "stderr",
          "output_type": "stream",
          "text": [
            "100%|██████████| 52/52 [00:16<00:00,  3.24it/s]\n"
          ]
        },
        {
          "name": "stdout",
          "output_type": "stream",
          "text": [
            "Epochs: 13 | Train Loss: 0.071 | Train Accuracy: 0.380\n",
            "Val loss: 0.075 | Val Accuracy: 0.291\n"
          ]
        },
        {
          "name": "stderr",
          "output_type": "stream",
          "text": [
            "100%|██████████| 52/52 [00:16<00:00,  3.24it/s]\n"
          ]
        },
        {
          "name": "stdout",
          "output_type": "stream",
          "text": [
            "Epochs: 14 | Train Loss: 0.070 | Train Accuracy: 0.412\n",
            "Val loss: 0.074 | Val Accuracy: 0.304\n"
          ]
        },
        {
          "name": "stderr",
          "output_type": "stream",
          "text": [
            "100%|██████████| 52/52 [00:16<00:00,  3.25it/s]\n"
          ]
        },
        {
          "name": "stdout",
          "output_type": "stream",
          "text": [
            "Epochs: 15 | Train Loss: 0.068 | Train Accuracy: 0.414\n",
            "Val loss: 0.073 | Val Accuracy: 0.317\n"
          ]
        },
        {
          "name": "stderr",
          "output_type": "stream",
          "text": [
            "100%|██████████| 52/52 [00:15<00:00,  3.25it/s]\n"
          ]
        },
        {
          "name": "stdout",
          "output_type": "stream",
          "text": [
            "Epochs: 16 | Train Loss: 0.067 | Train Accuracy: 0.435\n",
            "Val loss: 0.073 | Val Accuracy: 0.330\n"
          ]
        },
        {
          "name": "stderr",
          "output_type": "stream",
          "text": [
            "100%|██████████| 52/52 [00:16<00:00,  3.25it/s]\n"
          ]
        },
        {
          "name": "stdout",
          "output_type": "stream",
          "text": [
            "Epochs: 17 | Train Loss: 0.067 | Train Accuracy: 0.428\n",
            "Val loss: 0.072 | Val Accuracy: 0.337\n"
          ]
        },
        {
          "name": "stderr",
          "output_type": "stream",
          "text": [
            "100%|██████████| 52/52 [00:15<00:00,  3.25it/s]\n"
          ]
        },
        {
          "name": "stdout",
          "output_type": "stream",
          "text": [
            "Epochs: 18 | Train Loss: 0.066 | Train Accuracy: 0.449\n",
            "Val loss: 0.071 | Val Accuracy: 0.350\n"
          ]
        },
        {
          "name": "stderr",
          "output_type": "stream",
          "text": [
            "100%|██████████| 52/52 [00:15<00:00,  3.25it/s]\n"
          ]
        },
        {
          "name": "stdout",
          "output_type": "stream",
          "text": [
            "Epochs: 19 | Train Loss: 0.065 | Train Accuracy: 0.471\n",
            "Val loss: 0.071 | Val Accuracy: 0.366\n"
          ]
        },
        {
          "name": "stderr",
          "output_type": "stream",
          "text": [
            "100%|██████████| 52/52 [00:15<00:00,  3.25it/s]\n"
          ]
        },
        {
          "name": "stdout",
          "output_type": "stream",
          "text": [
            "Epochs: 20 | Train Loss: 0.064 | Train Accuracy: 0.477\n",
            "Val loss: 0.070 | Val Accuracy: 0.359\n"
          ]
        },
        {
          "name": "stderr",
          "output_type": "stream",
          "text": [
            "100%|██████████| 52/52 [00:16<00:00,  3.19it/s]\n"
          ]
        },
        {
          "name": "stdout",
          "output_type": "stream",
          "text": [
            "Epochs: 21 | Train Loss: 0.063 | Train Accuracy: 0.486\n",
            "Val loss: 0.069 | Val Accuracy: 0.369\n"
          ]
        },
        {
          "name": "stderr",
          "output_type": "stream",
          "text": [
            "100%|██████████| 52/52 [00:16<00:00,  3.07it/s]\n"
          ]
        },
        {
          "name": "stdout",
          "output_type": "stream",
          "text": [
            "Epochs: 22 | Train Loss: 0.062 | Train Accuracy: 0.482\n",
            "Val loss: 0.069 | Val Accuracy: 0.375\n"
          ]
        },
        {
          "name": "stderr",
          "output_type": "stream",
          "text": [
            "100%|██████████| 52/52 [00:17<00:00,  3.04it/s]\n"
          ]
        },
        {
          "name": "stdout",
          "output_type": "stream",
          "text": [
            "Epochs: 23 | Train Loss: 0.061 | Train Accuracy: 0.515\n",
            "Val loss: 0.068 | Val Accuracy: 0.388\n"
          ]
        },
        {
          "name": "stderr",
          "output_type": "stream",
          "text": [
            "100%|██████████| 52/52 [00:16<00:00,  3.08it/s]\n"
          ]
        },
        {
          "name": "stdout",
          "output_type": "stream",
          "text": [
            "Epochs: 24 | Train Loss: 0.060 | Train Accuracy: 0.524\n",
            "Val loss: 0.068 | Val Accuracy: 0.395\n"
          ]
        },
        {
          "name": "stderr",
          "output_type": "stream",
          "text": [
            "100%|██████████| 52/52 [00:16<00:00,  3.08it/s]\n"
          ]
        },
        {
          "name": "stdout",
          "output_type": "stream",
          "text": [
            "Epochs: 25 | Train Loss: 0.059 | Train Accuracy: 0.550\n",
            "Val loss: 0.067 | Val Accuracy: 0.398\n"
          ]
        },
        {
          "name": "stderr",
          "output_type": "stream",
          "text": [
            "100%|██████████| 52/52 [00:16<00:00,  3.08it/s]\n"
          ]
        },
        {
          "name": "stdout",
          "output_type": "stream",
          "text": [
            "Epochs: 26 | Train Loss: 0.058 | Train Accuracy: 0.568\n",
            "Val loss: 0.066 | Val Accuracy: 0.417\n"
          ]
        },
        {
          "name": "stderr",
          "output_type": "stream",
          "text": [
            "100%|██████████| 52/52 [00:16<00:00,  3.08it/s]\n"
          ]
        },
        {
          "name": "stdout",
          "output_type": "stream",
          "text": [
            "Epochs: 27 | Train Loss: 0.057 | Train Accuracy: 0.579\n",
            "Val loss: 0.066 | Val Accuracy: 0.427\n"
          ]
        },
        {
          "name": "stderr",
          "output_type": "stream",
          "text": [
            "100%|██████████| 52/52 [00:16<00:00,  3.06it/s]\n"
          ]
        },
        {
          "name": "stdout",
          "output_type": "stream",
          "text": [
            "Epochs: 28 | Train Loss: 0.056 | Train Accuracy: 0.594\n",
            "Val loss: 0.065 | Val Accuracy: 0.427\n"
          ]
        },
        {
          "name": "stderr",
          "output_type": "stream",
          "text": [
            "100%|██████████| 52/52 [00:16<00:00,  3.07it/s]\n"
          ]
        },
        {
          "name": "stdout",
          "output_type": "stream",
          "text": [
            "Epochs: 29 | Train Loss: 0.055 | Train Accuracy: 0.596\n",
            "Val loss: 0.064 | Val Accuracy: 0.450\n"
          ]
        },
        {
          "name": "stderr",
          "output_type": "stream",
          "text": [
            "100%|██████████| 52/52 [00:17<00:00,  3.05it/s]\n"
          ]
        },
        {
          "name": "stdout",
          "output_type": "stream",
          "text": [
            "Epochs: 30 | Train Loss: 0.055 | Train Accuracy: 0.610\n",
            "Val loss: 0.064 | Val Accuracy: 0.447\n"
          ]
        },
        {
          "name": "stderr",
          "output_type": "stream",
          "text": [
            "100%|██████████| 52/52 [00:16<00:00,  3.08it/s]\n"
          ]
        },
        {
          "name": "stdout",
          "output_type": "stream",
          "text": [
            "Epochs: 31 | Train Loss: 0.054 | Train Accuracy: 0.629\n",
            "Val loss: 0.063 | Val Accuracy: 0.469\n"
          ]
        },
        {
          "name": "stderr",
          "output_type": "stream",
          "text": [
            "100%|██████████| 52/52 [00:16<00:00,  3.07it/s]\n"
          ]
        },
        {
          "name": "stdout",
          "output_type": "stream",
          "text": [
            "Epochs: 32 | Train Loss: 0.053 | Train Accuracy: 0.644\n",
            "Val loss: 0.062 | Val Accuracy: 0.466\n"
          ]
        },
        {
          "name": "stderr",
          "output_type": "stream",
          "text": [
            "100%|██████████| 52/52 [00:16<00:00,  3.07it/s]\n"
          ]
        },
        {
          "name": "stdout",
          "output_type": "stream",
          "text": [
            "Epochs: 33 | Train Loss: 0.051 | Train Accuracy: 0.648\n",
            "Val loss: 0.061 | Val Accuracy: 0.469\n"
          ]
        },
        {
          "name": "stderr",
          "output_type": "stream",
          "text": [
            "100%|██████████| 52/52 [00:17<00:00,  3.05it/s]\n"
          ]
        },
        {
          "name": "stdout",
          "output_type": "stream",
          "text": [
            "Epochs: 34 | Train Loss: 0.051 | Train Accuracy: 0.666\n",
            "Val loss: 0.061 | Val Accuracy: 0.485\n"
          ]
        },
        {
          "name": "stderr",
          "output_type": "stream",
          "text": [
            "100%|██████████| 52/52 [00:16<00:00,  3.07it/s]\n"
          ]
        },
        {
          "name": "stdout",
          "output_type": "stream",
          "text": [
            "Epochs: 35 | Train Loss: 0.050 | Train Accuracy: 0.669\n",
            "Val loss: 0.060 | Val Accuracy: 0.495\n"
          ]
        },
        {
          "name": "stderr",
          "output_type": "stream",
          "text": [
            "100%|██████████| 52/52 [00:17<00:00,  3.05it/s]\n"
          ]
        },
        {
          "name": "stdout",
          "output_type": "stream",
          "text": [
            "Epochs: 36 | Train Loss: 0.049 | Train Accuracy: 0.682\n",
            "Val loss: 0.059 | Val Accuracy: 0.485\n"
          ]
        },
        {
          "name": "stderr",
          "output_type": "stream",
          "text": [
            "100%|██████████| 52/52 [00:16<00:00,  3.07it/s]\n"
          ]
        },
        {
          "name": "stdout",
          "output_type": "stream",
          "text": [
            "Epochs: 37 | Train Loss: 0.048 | Train Accuracy: 0.692\n",
            "Val loss: 0.059 | Val Accuracy: 0.495\n"
          ]
        },
        {
          "name": "stderr",
          "output_type": "stream",
          "text": [
            "100%|██████████| 52/52 [00:17<00:00,  3.05it/s]\n"
          ]
        },
        {
          "name": "stdout",
          "output_type": "stream",
          "text": [
            "Epochs: 38 | Train Loss: 0.047 | Train Accuracy: 0.718\n",
            "Val loss: 0.058 | Val Accuracy: 0.508\n"
          ]
        },
        {
          "name": "stderr",
          "output_type": "stream",
          "text": [
            "100%|██████████| 52/52 [00:16<00:00,  3.07it/s]\n"
          ]
        },
        {
          "name": "stdout",
          "output_type": "stream",
          "text": [
            "Epochs: 39 | Train Loss: 0.046 | Train Accuracy: 0.719\n",
            "Val loss: 0.058 | Val Accuracy: 0.515\n"
          ]
        },
        {
          "name": "stderr",
          "output_type": "stream",
          "text": [
            "100%|██████████| 52/52 [00:16<00:00,  3.07it/s]\n"
          ]
        },
        {
          "name": "stdout",
          "output_type": "stream",
          "text": [
            "Epochs: 40 | Train Loss: 0.045 | Train Accuracy: 0.732\n",
            "Val loss: 0.057 | Val Accuracy: 0.524\n"
          ]
        },
        {
          "name": "stderr",
          "output_type": "stream",
          "text": [
            "100%|██████████| 52/52 [00:16<00:00,  3.08it/s]\n"
          ]
        },
        {
          "name": "stdout",
          "output_type": "stream",
          "text": [
            "Epochs: 41 | Train Loss: 0.044 | Train Accuracy: 0.743\n",
            "Val loss: 0.056 | Val Accuracy: 0.534\n"
          ]
        },
        {
          "name": "stderr",
          "output_type": "stream",
          "text": [
            "100%|██████████| 52/52 [00:17<00:00,  3.06it/s]\n"
          ]
        },
        {
          "name": "stdout",
          "output_type": "stream",
          "text": [
            "Epochs: 42 | Train Loss: 0.043 | Train Accuracy: 0.769\n",
            "Val loss: 0.056 | Val Accuracy: 0.544\n"
          ]
        },
        {
          "name": "stderr",
          "output_type": "stream",
          "text": [
            "100%|██████████| 52/52 [00:16<00:00,  3.08it/s]\n"
          ]
        },
        {
          "name": "stdout",
          "output_type": "stream",
          "text": [
            "Epochs: 43 | Train Loss: 0.042 | Train Accuracy: 0.750\n",
            "Val loss: 0.055 | Val Accuracy: 0.557\n"
          ]
        },
        {
          "name": "stderr",
          "output_type": "stream",
          "text": [
            "100%|██████████| 52/52 [00:16<00:00,  3.08it/s]\n"
          ]
        },
        {
          "name": "stdout",
          "output_type": "stream",
          "text": [
            "Epochs: 44 | Train Loss: 0.041 | Train Accuracy: 0.764\n",
            "Val loss: 0.055 | Val Accuracy: 0.557\n"
          ]
        },
        {
          "name": "stderr",
          "output_type": "stream",
          "text": [
            "100%|██████████| 52/52 [00:16<00:00,  3.07it/s]\n"
          ]
        },
        {
          "name": "stdout",
          "output_type": "stream",
          "text": [
            "Epochs: 45 | Train Loss: 0.040 | Train Accuracy: 0.775\n",
            "Val loss: 0.054 | Val Accuracy: 0.557\n"
          ]
        },
        {
          "name": "stderr",
          "output_type": "stream",
          "text": [
            "100%|██████████| 52/52 [00:16<00:00,  3.08it/s]\n"
          ]
        },
        {
          "name": "stdout",
          "output_type": "stream",
          "text": [
            "Epochs: 46 | Train Loss: 0.040 | Train Accuracy: 0.771\n",
            "Val loss: 0.054 | Val Accuracy: 0.553\n"
          ]
        },
        {
          "name": "stderr",
          "output_type": "stream",
          "text": [
            "100%|██████████| 52/52 [00:16<00:00,  3.08it/s]\n"
          ]
        },
        {
          "name": "stdout",
          "output_type": "stream",
          "text": [
            "Epochs: 47 | Train Loss: 0.038 | Train Accuracy: 0.792\n",
            "Val loss: 0.053 | Val Accuracy: 0.557\n"
          ]
        },
        {
          "name": "stderr",
          "output_type": "stream",
          "text": [
            "100%|██████████| 52/52 [00:17<00:00,  3.05it/s]\n"
          ]
        },
        {
          "name": "stdout",
          "output_type": "stream",
          "text": [
            "Epochs: 48 | Train Loss: 0.038 | Train Accuracy: 0.799\n",
            "Val loss: 0.053 | Val Accuracy: 0.579\n"
          ]
        },
        {
          "name": "stderr",
          "output_type": "stream",
          "text": [
            "100%|██████████| 52/52 [00:16<00:00,  3.07it/s]\n"
          ]
        },
        {
          "name": "stdout",
          "output_type": "stream",
          "text": [
            "Epochs: 49 | Train Loss: 0.037 | Train Accuracy: 0.805\n",
            "Val loss: 0.052 | Val Accuracy: 0.579\n"
          ]
        },
        {
          "name": "stderr",
          "output_type": "stream",
          "text": [
            "100%|██████████| 52/52 [00:17<00:00,  3.05it/s]\n"
          ]
        },
        {
          "name": "stdout",
          "output_type": "stream",
          "text": [
            "Epochs: 50 | Train Loss: 0.036 | Train Accuracy: 0.793\n",
            "Val loss: 0.052 | Val Accuracy: 0.579\n"
          ]
        },
        {
          "name": "stderr",
          "output_type": "stream",
          "text": [
            "100%|██████████| 52/52 [00:16<00:00,  3.07it/s]\n"
          ]
        },
        {
          "name": "stdout",
          "output_type": "stream",
          "text": [
            "Epochs: 51 | Train Loss: 0.035 | Train Accuracy: 0.817\n",
            "Val loss: 0.052 | Val Accuracy: 0.576\n"
          ]
        },
        {
          "name": "stderr",
          "output_type": "stream",
          "text": [
            "100%|██████████| 52/52 [00:17<00:00,  3.05it/s]\n"
          ]
        },
        {
          "name": "stdout",
          "output_type": "stream",
          "text": [
            "Epochs: 52 | Train Loss: 0.035 | Train Accuracy: 0.819\n",
            "Val loss: 0.051 | Val Accuracy: 0.589\n"
          ]
        },
        {
          "name": "stderr",
          "output_type": "stream",
          "text": [
            "100%|██████████| 52/52 [00:17<00:00,  3.05it/s]\n"
          ]
        },
        {
          "name": "stdout",
          "output_type": "stream",
          "text": [
            "Epochs: 53 | Train Loss: 0.034 | Train Accuracy: 0.816\n",
            "Val loss: 0.051 | Val Accuracy: 0.589\n"
          ]
        },
        {
          "name": "stderr",
          "output_type": "stream",
          "text": [
            "100%|██████████| 52/52 [00:17<00:00,  3.05it/s]\n"
          ]
        },
        {
          "name": "stdout",
          "output_type": "stream",
          "text": [
            "Epochs: 54 | Train Loss: 0.032 | Train Accuracy: 0.841\n",
            "Val loss: 0.050 | Val Accuracy: 0.586\n"
          ]
        },
        {
          "name": "stderr",
          "output_type": "stream",
          "text": [
            "100%|██████████| 52/52 [00:17<00:00,  3.05it/s]\n"
          ]
        },
        {
          "name": "stdout",
          "output_type": "stream",
          "text": [
            "Epochs: 55 | Train Loss: 0.032 | Train Accuracy: 0.846\n",
            "Val loss: 0.050 | Val Accuracy: 0.605\n"
          ]
        },
        {
          "name": "stderr",
          "output_type": "stream",
          "text": [
            "100%|██████████| 52/52 [00:17<00:00,  3.06it/s]\n"
          ]
        },
        {
          "name": "stdout",
          "output_type": "stream",
          "text": [
            "Epochs: 56 | Train Loss: 0.031 | Train Accuracy: 0.847\n",
            "Val loss: 0.050 | Val Accuracy: 0.605\n"
          ]
        },
        {
          "name": "stderr",
          "output_type": "stream",
          "text": [
            "100%|██████████| 52/52 [00:16<00:00,  3.06it/s]\n"
          ]
        },
        {
          "name": "stdout",
          "output_type": "stream",
          "text": [
            "Epochs: 57 | Train Loss: 0.031 | Train Accuracy: 0.848\n",
            "Val loss: 0.050 | Val Accuracy: 0.595\n"
          ]
        },
        {
          "name": "stderr",
          "output_type": "stream",
          "text": [
            "100%|██████████| 52/52 [00:17<00:00,  3.05it/s]\n"
          ]
        },
        {
          "name": "stdout",
          "output_type": "stream",
          "text": [
            "Epochs: 58 | Train Loss: 0.029 | Train Accuracy: 0.854\n",
            "Val loss: 0.049 | Val Accuracy: 0.599\n"
          ]
        },
        {
          "name": "stderr",
          "output_type": "stream",
          "text": [
            "100%|██████████| 52/52 [00:17<00:00,  3.06it/s]\n"
          ]
        },
        {
          "name": "stdout",
          "output_type": "stream",
          "text": [
            "Epochs: 59 | Train Loss: 0.029 | Train Accuracy: 0.859\n",
            "Val loss: 0.049 | Val Accuracy: 0.605\n"
          ]
        },
        {
          "name": "stderr",
          "output_type": "stream",
          "text": [
            "100%|██████████| 52/52 [00:17<00:00,  3.05it/s]\n"
          ]
        },
        {
          "name": "stdout",
          "output_type": "stream",
          "text": [
            "Epochs: 60 | Train Loss: 0.028 | Train Accuracy: 0.866\n",
            "Val loss: 0.049 | Val Accuracy: 0.599\n",
            "______e0fab39b-7665-46a6-9a8b-9fb3607a780f______\n",
            "LR: 1e-06 FINAL ACC = 0.599\n",
            "LR: 1e-06 BEST ACC = 0.605\n",
            "____________\n"
          ]
        },
        {
          "data": {
            "image/png": "[encoded data removed]",
            "text/plain": [
              "<Figure size 1200x600 with 1 Axes>"
            ]
          },
          "metadata": {},
          "output_type": "display_data"
        },
        {
          "name": "stdout",
          "output_type": "stream",
          "text": [
            "Classification Report:\n",
            "                           precision    recall  f1-score   support\n",
            "\n",
            "              flag_waving       0.82      0.69      0.75        45\n",
            "exaggeration,minimisation       0.48      0.53      0.51        30\n",
            "causal_oversimplification       0.61      0.63      0.62        35\n",
            "    name_calling,labeling       0.76      0.74      0.75        34\n",
            "               repetition       0.53      0.42      0.47        40\n",
            "                    doubt       0.62      0.60      0.61        43\n",
            "          loaded_language       0.51      0.59      0.55        39\n",
            " appeal_to_fear_prejudice       0.54      0.63      0.58        43\n",
            "\n",
            "                 accuracy                           0.61       309\n",
            "                macro avg       0.61      0.60      0.60       309\n",
            "             weighted avg       0.61      0.61      0.61       309\n",
            "\n"
          ]
        },
        {
          "data": {
            "image/png": "[encoded data removed]",
            "text/plain": [
              "<Figure size 640x480 with 2 Axes>"
            ]
          },
          "metadata": {},
          "output_type": "display_data"
        }
      ],
      "source": [
        "# BERT4Sequence\n",
        "epochs = 60\n",
        "lr = 1e-6\n",
        "bn=25\n",
        "max_len=150\n",
        "n_classes = 8\n",
        "dr = 0.5\n",
        "\n",
        "\n",
        "for lr in [0.000001]:\n",
        "    sent_col = 'extract_no_tags'\n",
        "    target_col = 'label_str'\n",
        "    \n",
        "    train_data = CustomPropagandaDataset_vanilla(train_df, max_len, sent_col, target_col)\n",
        "    val_data = CustomPropagandaDataset_vanilla(val_df, max_len, sent_col, target_col)\n",
        "    \n",
        "    train_dataloader=torch.utils.data.DataLoader(train_data,batch_size=bn,shuffle=True)\n",
        "    val_dataloader=torch.utils.data.DataLoader(val_data,batch_size=bn)\n",
        "        \n",
        "        \n",
        "    model = BertForSequenceClassification.from_pretrained('bert-base-uncased', num_labels=n_classes).to(device)\n",
        "    optimizer = torch.optim.Adam(params=model.parameters(), lr=lr)\n",
        "\n",
        "\n",
        "    train_acc_list = []\n",
        "    train_loss_list = []\n",
        "    val_acc_list = []\n",
        "    val_loss_list = []\n",
        "\n",
        "    best_val_acc = 0\n",
        "    best_epoch = 0\n",
        "    best_model_state = None\n",
        "\n",
        "    model_id = str(uuid.uuid4())\n",
        "\n",
        "\n",
        "    for epoch_num in range(epochs):\n",
        "\n",
        "\n",
        "            total_acc_train=0\n",
        "            total_loss_train=0\n",
        "            model.train()\n",
        "\n",
        "            for train_input,train_label in tqdm(train_dataloader):\n",
        "\n",
        "                input_id,mask, train_label=prepare_inputs(train_input,train_label,device)\n",
        "\n",
        "                output_1=model(input_id,mask, labels=train_label)\n",
        "\n",
        "                batch_loss_1=output_1.loss\n",
        "\n",
        "                total_loss_train += batch_loss_1.item()\n",
        "\n",
        "                acc=(output_1.logits.argmax(dim=1)==train_label).sum().item()\n",
        "                total_acc_train+=acc\n",
        "\n",
        "                model.zero_grad()\n",
        "                batch_loss_1.backward()\n",
        "                optimizer.step()\n",
        "\n",
        "            total_acc_val=0\n",
        "            total_loss_val=0\n",
        "\n",
        "            y_true = []\n",
        "            y_pred = []\n",
        "            model.eval()\n",
        "            with torch.no_grad():\n",
        "                for val_input,val_label in val_dataloader:\n",
        "\n",
        "                    input_id,mask, val_label=prepare_inputs(val_input,val_label,device)\n",
        "\n",
        "                    output_2= model(input_id,mask, labels=val_label)\n",
        "\n",
        "                    # for scoring\n",
        "                    predicted = output_2.logits.argmax(dim=1)\n",
        "                    y_true.extend(val_label.cpu().numpy())\n",
        "                    y_pred.extend(predicted.cpu().numpy())\n",
        "\n",
        "                    # batch_loss_2=criterion(output_2,val_label.long())\n",
        "                    batch_loss_2=output_2.loss\n",
        "\n",
        "                    total_loss_val+=batch_loss_2.item()\n",
        "\n",
        "                    acc=(output_2.logits.argmax(dim=1)==val_label).sum().item()\n",
        "                    total_acc_val+=acc\n",
        "            \n",
        "            train_acc = total_acc_train / len(train_data)\n",
        "            train_loss = total_loss_train / len(train_data)\n",
        "            val_acc = total_acc_val / len(val_data)\n",
        "            val_loss = total_loss_val / len(val_data)\n",
        "\n",
        "            train_acc_list.append(train_acc)\n",
        "            train_loss_list.append(train_loss)\n",
        "            val_acc_list.append(val_acc)\n",
        "            val_loss_list.append(val_loss)\n",
        "\n",
        "            print(f'Epochs: {epoch_num+1} | Train Loss: {total_loss_train / len(train_data):.3f} | Train Accuracy: {total_acc_train/len(train_data):.3f}')\n",
        "            print(f'Val loss: {total_loss_val/len(val_data):.3f} | Val Accuracy: {total_acc_val / len(val_data):.3f}')\n",
        "            if val_acc > best_val_acc:\n",
        "                best_epoch = epoch_num\n",
        "                y_true_best = y_true.copy()\n",
        "                y_pred_best = y_pred.copy()\n",
        "                best_val_acc = val_acc\n",
        "                best_model_state = model.state_dict()\n",
        "\n",
        "            if epoch_num == epochs-1:\n",
        "                print(f'______{model_id}______')\n",
        "                print(f'LR: {lr} FINAL ACC = {total_acc_val / len(val_data):.3f}')\n",
        "                print(f'LR: {lr} BEST ACC = {best_val_acc:.3f}')\n",
        "                print('____________')\n",
        "                \n",
        "    # Plot the accuracy and loss curves over epochs\n",
        "    epochs_range = range(1, epochs+1)\n",
        "  \n",
        "    plt.figure(figsize=(12, 6))\n",
        "    plt.subplot(1, 2, 1)\n",
        "    plt.plot(epochs_range, train_acc_list, label='Training Accuracy')\n",
        "    plt.plot(epochs_range, val_acc_list, label='Validation Accuracy')\n",
        "    plt.xlabel('Epochs')\n",
        "    plt.ylabel('Accuracy')\n",
        "    plt.legend(loc='lower right')\n",
        "    plt.title('Accuracy Curves')\n",
        "  \n",
        "  #   plt.subplot(1, 2, 2)\n",
        "  #   plt.plot(epochs_range, train_loss_list, label='Training Loss')\n",
        "  #   plt.plot(epochs_range, val_loss_list, label='Validation Loss')\n",
        "  #   plt.xlabel('Epochs')\n",
        "  #   plt.ylabel('Loss')\n",
        "  #   plt.legend(loc='upper right')\n",
        "  #   plt.title('Loss Curves')\n",
        "    plt.title(f'Accuracy for lr {lr}, batch size {bn}, best ac: {best_val_acc:.2f}')\n",
        "  \n",
        "    plt.tight_layout()\n",
        "    plt.show()\n",
        "  \n",
        "    # analysis of best performing model\n",
        "    classes = list(id_to_label.values())\n",
        "    cm = confusion_matrix(y_true_best, y_pred_best)\n",
        "  \n",
        "    disp = ConfusionMatrixDisplay(cm)\n",
        "    disp.plot()\n",
        "  \n",
        "    # Compute precision, recall, F1-score, and other metrics for the best model\n",
        "    report = classification_report(y_true_best, y_pred_best, target_names=classes)\n",
        "    print('Classification Report:')\n",
        "    print(report)\n",
        "  \n",
        "  \n",
        "    results_dict = {\n",
        "        'model_id': model_id,\n",
        "        'train_accuracy': train_acc_list,\n",
        "        'train_loss': train_loss_list,\n",
        "        'val_accuracy': val_acc_list,\n",
        "        'val_loss': val_loss_list,\n",
        "        'hyperparameters': {\n",
        "            'learning_rate': lr,\n",
        "            'num_epochs': epochs,\n",
        "            'batch_size': bn,\n",
        "            'max_len': max_len,\n",
        "            'dropout': dr\n",
        "  \n",
        "        },\n",
        "        'results': {\n",
        "            \"classes\": n_classes,\n",
        "            \"last_acc\": val_acc_list[-1],\n",
        "            'best_acc': best_val_acc,\n",
        "            'best_acc_epoch': best_epoch,\n",
        "            'confusion_matrix': cm.tolist(),\n",
        "            'classification_report': report\n",
        "        }\n",
        "    }\n",
        "    # Save the results dictionary as a JSON file with the model ID\n",
        "    results_filename = f'./results/bert4seq_multiclass_results_{model_id}.json'\n",
        "    with open(results_filename, 'w') as f:\n",
        "        json.dump(results_dict, f, indent=4)\n",
        "  \n",
        "\n"
      ]
    },
    {
      "cell_type": "code",
      "execution_count": null,
      "metadata": {},
      "outputs": [],
      "source": []
    }
  ],
  "metadata": {
    "accelerator": "GPU",
    "colab": {
      "gpuType": "L4",
      "provenance": []
    },
    "kernelspec": {
      "display_name": "Python 3",
      "name": "python3"
    },
    "language_info": {
      "codemirror_mode": {
        "name": "ipython",
        "version": 3
      },
      "file_extension": ".py",
      "mimetype": "text/x-python",
      "name": "python",
      "nbconvert_exporter": "python",
      "pygments_lexer": "ipython3",
      "version": "3.11.9"
    },
    "widgets": {
      "application/vnd.jupyter.widget-state+json": {
        "04ecd1638fd548b88ad9a7459fd7717f": {
          "model_module": "@jupyter-widgets/base",
          "model_module_version": "1.2.0",
          "model_name": "LayoutModel",
          "state": {
            "_model_module": "@jupyter-widgets/base",
            "_model_module_version": "1.2.0",
            "_model_name": "LayoutModel",
            "_view_count": null,
            "_view_module": "@jupyter-widgets/base",
            "_view_module_version": "1.2.0",
            "_view_name": "LayoutView",
            "align_content": null,
            "align_items": null,
            "align_self": null,
            "border": null,
            "bottom": null,
            "display": null,
            "flex": null,
            "flex_flow": null,
            "grid_area": null,
            "grid_auto_columns": null,
            "grid_auto_flow": null,
            "grid_auto_rows": null,
            "grid_column": null,
            "grid_gap": null,
            "grid_row": null,
            "grid_template_areas": null,
            "grid_template_columns": null,
            "grid_template_rows": null,
            "height": null,
            "justify_content": null,
            "justify_items": null,
            "left": null,
            "margin": null,
            "max_height": null,
            "max_width": null,
            "min_height": null,
            "min_width": null,
            "object_fit": null,
            "object_position": null,
            "order": null,
            "overflow": null,
            "overflow_x": null,
            "overflow_y": null,
            "padding": null,
            "right": null,
            "top": null,
            "visibility": null,
            "width": null
          }
        },
        "06a3cec0de744ad8b6a95be3c641ce5b": {
          "model_module": "@jupyter-widgets/base",
          "model_module_version": "1.2.0",
          "model_name": "LayoutModel",
          "state": {
            "_model_module": "@jupyter-widgets/base",
            "_model_module_version": "1.2.0",
            "_model_name": "LayoutModel",
            "_view_count": null,
            "_view_module": "@jupyter-widgets/base",
            "_view_module_version": "1.2.0",
            "_view_name": "LayoutView",
            "align_content": null,
            "align_items": null,
            "align_self": null,
            "border": null,
            "bottom": null,
            "display": null,
            "flex": null,
            "flex_flow": null,
            "grid_area": null,
            "grid_auto_columns": null,
            "grid_auto_flow": null,
            "grid_auto_rows": null,
            "grid_column": null,
            "grid_gap": null,
            "grid_row": null,
            "grid_template_areas": null,
            "grid_template_columns": null,
            "grid_template_rows": null,
            "height": null,
            "justify_content": null,
            "justify_items": null,
            "left": null,
            "margin": null,
            "max_height": null,
            "max_width": null,
            "min_height": null,
            "min_width": null,
            "object_fit": null,
            "object_position": null,
            "order": null,
            "overflow": null,
            "overflow_x": null,
            "overflow_y": null,
            "padding": null,
            "right": null,
            "top": null,
            "visibility": null,
            "width": null
          }
        },
        "0abe5d29961245718ea0b8be69d28f32": {
          "model_module": "@jupyter-widgets/base",
          "model_module_version": "1.2.0",
          "model_name": "LayoutModel",
          "state": {
            "_model_module": "@jupyter-widgets/base",
            "_model_module_version": "1.2.0",
            "_model_name": "LayoutModel",
            "_view_count": null,
            "_view_module": "@jupyter-widgets/base",
            "_view_module_version": "1.2.0",
            "_view_name": "LayoutView",
            "align_content": null,
            "align_items": null,
            "align_self": null,
            "border": null,
            "bottom": null,
            "display": null,
            "flex": null,
            "flex_flow": null,
            "grid_area": null,
            "grid_auto_columns": null,
            "grid_auto_flow": null,
            "grid_auto_rows": null,
            "grid_column": null,
            "grid_gap": null,
            "grid_row": null,
            "grid_template_areas": null,
            "grid_template_columns": null,
            "grid_template_rows": null,
            "height": null,
            "justify_content": null,
            "justify_items": null,
            "left": null,
            "margin": null,
            "max_height": null,
            "max_width": null,
            "min_height": null,
            "min_width": null,
            "object_fit": null,
            "object_position": null,
            "order": null,
            "overflow": null,
            "overflow_x": null,
            "overflow_y": null,
            "padding": null,
            "right": null,
            "top": null,
            "visibility": null,
            "width": null
          }
        },
        "0afc44562e8b4e21806f718bb72506d2": {
          "model_module": "@jupyter-widgets/controls",
          "model_module_version": "1.5.0",
          "model_name": "DescriptionStyleModel",
          "state": {
            "_model_module": "@jupyter-widgets/controls",
            "_model_module_version": "1.5.0",
            "_model_name": "DescriptionStyleModel",
            "_view_count": null,
            "_view_module": "@jupyter-widgets/base",
            "_view_module_version": "1.2.0",
            "_view_name": "StyleView",
            "description_width": ""
          }
        },
        "0cb061fd1f4a4afbbd38fb9bcfdc3c79": {
          "model_module": "@jupyter-widgets/controls",
          "model_module_version": "1.5.0",
          "model_name": "DescriptionStyleModel",
          "state": {
            "_model_module": "@jupyter-widgets/controls",
            "_model_module_version": "1.5.0",
            "_model_name": "DescriptionStyleModel",
            "_view_count": null,
            "_view_module": "@jupyter-widgets/base",
            "_view_module_version": "1.2.0",
            "_view_name": "StyleView",
            "description_width": ""
          }
        },
        "0ef23e230a4040f1ac0b66409098b813": {
          "model_module": "@jupyter-widgets/base",
          "model_module_version": "1.2.0",
          "model_name": "LayoutModel",
          "state": {
            "_model_module": "@jupyter-widgets/base",
            "_model_module_version": "1.2.0",
            "_model_name": "LayoutModel",
            "_view_count": null,
            "_view_module": "@jupyter-widgets/base",
            "_view_module_version": "1.2.0",
            "_view_name": "LayoutView",
            "align_content": null,
            "align_items": null,
            "align_self": null,
            "border": null,
            "bottom": null,
            "display": null,
            "flex": null,
            "flex_flow": null,
            "grid_area": null,
            "grid_auto_columns": null,
            "grid_auto_flow": null,
            "grid_auto_rows": null,
            "grid_column": null,
            "grid_gap": null,
            "grid_row": null,
            "grid_template_areas": null,
            "grid_template_columns": null,
            "grid_template_rows": null,
            "height": null,
            "justify_content": null,
            "justify_items": null,
            "left": null,
            "margin": null,
            "max_height": null,
            "max_width": null,
            "min_height": null,
            "min_width": null,
            "object_fit": null,
            "object_position": null,
            "order": null,
            "overflow": null,
            "overflow_x": null,
            "overflow_y": null,
            "padding": null,
            "right": null,
            "top": null,
            "visibility": null,
            "width": null
          }
        },
        "1c0359f27917484181daefecbf7999e9": {
          "model_module": "@jupyter-widgets/controls",
          "model_module_version": "1.5.0",
          "model_name": "HBoxModel",
          "state": {
            "_dom_classes": [],
            "_model_module": "@jupyter-widgets/controls",
            "_model_module_version": "1.5.0",
            "_model_name": "HBoxModel",
            "_view_count": null,
            "_view_module": "@jupyter-widgets/controls",
            "_view_module_version": "1.5.0",
            "_view_name": "HBoxView",
            "box_style": "",
            "children": [
              "IPY_MODEL_b879027e8a0941709b567656a343d844",
              "IPY_MODEL_c7385080feb144dc8ab90dda05d0c74d",
              "IPY_MODEL_e8793154f214479dbe2059cc917f0d2f"
            ],
            "layout": "IPY_MODEL_2c15716b0dcf46ee9ca643aaa992b72d"
          }
        },
        "206a6f7ce9ec4c93835d78c36d6c793b": {
          "model_module": "@jupyter-widgets/controls",
          "model_module_version": "1.5.0",
          "model_name": "HTMLModel",
          "state": {
            "_dom_classes": [],
            "_model_module": "@jupyter-widgets/controls",
            "_model_module_version": "1.5.0",
            "_model_name": "HTMLModel",
            "_view_count": null,
            "_view_module": "@jupyter-widgets/controls",
            "_view_module_version": "1.5.0",
            "_view_name": "HTMLView",
            "description": "",
            "description_tooltip": null,
            "layout": "IPY_MODEL_04ecd1638fd548b88ad9a7459fd7717f",
            "placeholder": "​",
            "style": "IPY_MODEL_f7e7f76633c04b72969eb1719e259e13",
            "value": "tokenizer.json: 100%"
          }
        },
        "22098ad11168452caf5b1bd8280bbe60": {
          "model_module": "@jupyter-widgets/base",
          "model_module_version": "1.2.0",
          "model_name": "LayoutModel",
          "state": {
            "_model_module": "@jupyter-widgets/base",
            "_model_module_version": "1.2.0",
            "_model_name": "LayoutModel",
            "_view_count": null,
            "_view_module": "@jupyter-widgets/base",
            "_view_module_version": "1.2.0",
            "_view_name": "LayoutView",
            "align_content": null,
            "align_items": null,
            "align_self": null,
            "border": null,
            "bottom": null,
            "display": null,
            "flex": null,
            "flex_flow": null,
            "grid_area": null,
            "grid_auto_columns": null,
            "grid_auto_flow": null,
            "grid_auto_rows": null,
            "grid_column": null,
            "grid_gap": null,
            "grid_row": null,
            "grid_template_areas": null,
            "grid_template_columns": null,
            "grid_template_rows": null,
            "height": null,
            "justify_content": null,
            "justify_items": null,
            "left": null,
            "margin": null,
            "max_height": null,
            "max_width": null,
            "min_height": null,
            "min_width": null,
            "object_fit": null,
            "object_position": null,
            "order": null,
            "overflow": null,
            "overflow_x": null,
            "overflow_y": null,
            "padding": null,
            "right": null,
            "top": null,
            "visibility": null,
            "width": null
          }
        },
        "294077d25dda4bac9a78020eea8b9df1": {
          "model_module": "@jupyter-widgets/controls",
          "model_module_version": "1.5.0",
          "model_name": "HTMLModel",
          "state": {
            "_dom_classes": [],
            "_model_module": "@jupyter-widgets/controls",
            "_model_module_version": "1.5.0",
            "_model_name": "HTMLModel",
            "_view_count": null,
            "_view_module": "@jupyter-widgets/controls",
            "_view_module_version": "1.5.0",
            "_view_name": "HTMLView",
            "description": "",
            "description_tooltip": null,
            "layout": "IPY_MODEL_606ad19b93bc45b0a3dc108cc1f85ed3",
            "placeholder": "​",
            "style": "IPY_MODEL_689cd7ccdda345fbafb662d416d0dc69",
            "value": "config.json: 100%"
          }
        },
        "2a931403b79d41769fefe36222eddf9d": {
          "model_module": "@jupyter-widgets/base",
          "model_module_version": "1.2.0",
          "model_name": "LayoutModel",
          "state": {
            "_model_module": "@jupyter-widgets/base",
            "_model_module_version": "1.2.0",
            "_model_name": "LayoutModel",
            "_view_count": null,
            "_view_module": "@jupyter-widgets/base",
            "_view_module_version": "1.2.0",
            "_view_name": "LayoutView",
            "align_content": null,
            "align_items": null,
            "align_self": null,
            "border": null,
            "bottom": null,
            "display": null,
            "flex": null,
            "flex_flow": null,
            "grid_area": null,
            "grid_auto_columns": null,
            "grid_auto_flow": null,
            "grid_auto_rows": null,
            "grid_column": null,
            "grid_gap": null,
            "grid_row": null,
            "grid_template_areas": null,
            "grid_template_columns": null,
            "grid_template_rows": null,
            "height": null,
            "justify_content": null,
            "justify_items": null,
            "left": null,
            "margin": null,
            "max_height": null,
            "max_width": null,
            "min_height": null,
            "min_width": null,
            "object_fit": null,
            "object_position": null,
            "order": null,
            "overflow": null,
            "overflow_x": null,
            "overflow_y": null,
            "padding": null,
            "right": null,
            "top": null,
            "visibility": null,
            "width": null
          }
        },
        "2c15716b0dcf46ee9ca643aaa992b72d": {
          "model_module": "@jupyter-widgets/base",
          "model_module_version": "1.2.0",
          "model_name": "LayoutModel",
          "state": {
            "_model_module": "@jupyter-widgets/base",
            "_model_module_version": "1.2.0",
            "_model_name": "LayoutModel",
            "_view_count": null,
            "_view_module": "@jupyter-widgets/base",
            "_view_module_version": "1.2.0",
            "_view_name": "LayoutView",
            "align_content": null,
            "align_items": null,
            "align_self": null,
            "border": null,
            "bottom": null,
            "display": null,
            "flex": null,
            "flex_flow": null,
            "grid_area": null,
            "grid_auto_columns": null,
            "grid_auto_flow": null,
            "grid_auto_rows": null,
            "grid_column": null,
            "grid_gap": null,
            "grid_row": null,
            "grid_template_areas": null,
            "grid_template_columns": null,
            "grid_template_rows": null,
            "height": null,
            "justify_content": null,
            "justify_items": null,
            "left": null,
            "margin": null,
            "max_height": null,
            "max_width": null,
            "min_height": null,
            "min_width": null,
            "object_fit": null,
            "object_position": null,
            "order": null,
            "overflow": null,
            "overflow_x": null,
            "overflow_y": null,
            "padding": null,
            "right": null,
            "top": null,
            "visibility": null,
            "width": null
          }
        },
        "2dc2c6f88bda496eb9e342ee31be2664": {
          "model_module": "@jupyter-widgets/controls",
          "model_module_version": "1.5.0",
          "model_name": "HBoxModel",
          "state": {
            "_dom_classes": [],
            "_model_module": "@jupyter-widgets/controls",
            "_model_module_version": "1.5.0",
            "_model_name": "HBoxModel",
            "_view_count": null,
            "_view_module": "@jupyter-widgets/controls",
            "_view_module_version": "1.5.0",
            "_view_name": "HBoxView",
            "box_style": "",
            "children": [
              "IPY_MODEL_294077d25dda4bac9a78020eea8b9df1",
              "IPY_MODEL_5904b9954c4248a288711b8189f511d5",
              "IPY_MODEL_4afeb9e0ef2e441eb4b88a30378a9ce8"
            ],
            "layout": "IPY_MODEL_773e7e611352412cb1d6fc2e2f92ed25"
          }
        },
        "30791c5c03b94526914c9d96fb66315d": {
          "model_module": "@jupyter-widgets/base",
          "model_module_version": "1.2.0",
          "model_name": "LayoutModel",
          "state": {
            "_model_module": "@jupyter-widgets/base",
            "_model_module_version": "1.2.0",
            "_model_name": "LayoutModel",
            "_view_count": null,
            "_view_module": "@jupyter-widgets/base",
            "_view_module_version": "1.2.0",
            "_view_name": "LayoutView",
            "align_content": null,
            "align_items": null,
            "align_self": null,
            "border": null,
            "bottom": null,
            "display": null,
            "flex": null,
            "flex_flow": null,
            "grid_area": null,
            "grid_auto_columns": null,
            "grid_auto_flow": null,
            "grid_auto_rows": null,
            "grid_column": null,
            "grid_gap": null,
            "grid_row": null,
            "grid_template_areas": null,
            "grid_template_columns": null,
            "grid_template_rows": null,
            "height": null,
            "justify_content": null,
            "justify_items": null,
            "left": null,
            "margin": null,
            "max_height": null,
            "max_width": null,
            "min_height": null,
            "min_width": null,
            "object_fit": null,
            "object_position": null,
            "order": null,
            "overflow": null,
            "overflow_x": null,
            "overflow_y": null,
            "padding": null,
            "right": null,
            "top": null,
            "visibility": null,
            "width": null
          }
        },
        "3f6876ad1b2044ae94f9ceea49e55c15": {
          "model_module": "@jupyter-widgets/controls",
          "model_module_version": "1.5.0",
          "model_name": "DescriptionStyleModel",
          "state": {
            "_model_module": "@jupyter-widgets/controls",
            "_model_module_version": "1.5.0",
            "_model_name": "DescriptionStyleModel",
            "_view_count": null,
            "_view_module": "@jupyter-widgets/base",
            "_view_module_version": "1.2.0",
            "_view_name": "StyleView",
            "description_width": ""
          }
        },
        "4afeb9e0ef2e441eb4b88a30378a9ce8": {
          "model_module": "@jupyter-widgets/controls",
          "model_module_version": "1.5.0",
          "model_name": "HTMLModel",
          "state": {
            "_dom_classes": [],
            "_model_module": "@jupyter-widgets/controls",
            "_model_module_version": "1.5.0",
            "_model_name": "HTMLModel",
            "_view_count": null,
            "_view_module": "@jupyter-widgets/controls",
            "_view_module_version": "1.5.0",
            "_view_name": "HTMLView",
            "description": "",
            "description_tooltip": null,
            "layout": "IPY_MODEL_06a3cec0de744ad8b6a95be3c641ce5b",
            "placeholder": "​",
            "style": "IPY_MODEL_0cb061fd1f4a4afbbd38fb9bcfdc3c79",
            "value": " 570/570 [00:00&lt;00:00, 42.3kB/s]"
          }
        },
        "4c9bbfab2e494fedae325a23d6b527e2": {
          "model_module": "@jupyter-widgets/controls",
          "model_module_version": "1.5.0",
          "model_name": "DescriptionStyleModel",
          "state": {
            "_model_module": "@jupyter-widgets/controls",
            "_model_module_version": "1.5.0",
            "_model_name": "DescriptionStyleModel",
            "_view_count": null,
            "_view_module": "@jupyter-widgets/base",
            "_view_module_version": "1.2.0",
            "_view_name": "StyleView",
            "description_width": ""
          }
        },
        "5634a1be8fe24a29941820a2dc32913a": {
          "model_module": "@jupyter-widgets/base",
          "model_module_version": "1.2.0",
          "model_name": "LayoutModel",
          "state": {
            "_model_module": "@jupyter-widgets/base",
            "_model_module_version": "1.2.0",
            "_model_name": "LayoutModel",
            "_view_count": null,
            "_view_module": "@jupyter-widgets/base",
            "_view_module_version": "1.2.0",
            "_view_name": "LayoutView",
            "align_content": null,
            "align_items": null,
            "align_self": null,
            "border": null,
            "bottom": null,
            "display": null,
            "flex": null,
            "flex_flow": null,
            "grid_area": null,
            "grid_auto_columns": null,
            "grid_auto_flow": null,
            "grid_auto_rows": null,
            "grid_column": null,
            "grid_gap": null,
            "grid_row": null,
            "grid_template_areas": null,
            "grid_template_columns": null,
            "grid_template_rows": null,
            "height": null,
            "justify_content": null,
            "justify_items": null,
            "left": null,
            "margin": null,
            "max_height": null,
            "max_width": null,
            "min_height": null,
            "min_width": null,
            "object_fit": null,
            "object_position": null,
            "order": null,
            "overflow": null,
            "overflow_x": null,
            "overflow_y": null,
            "padding": null,
            "right": null,
            "top": null,
            "visibility": null,
            "width": null
          }
        },
        "5904b9954c4248a288711b8189f511d5": {
          "model_module": "@jupyter-widgets/controls",
          "model_module_version": "1.5.0",
          "model_name": "FloatProgressModel",
          "state": {
            "_dom_classes": [],
            "_model_module": "@jupyter-widgets/controls",
            "_model_module_version": "1.5.0",
            "_model_name": "FloatProgressModel",
            "_view_count": null,
            "_view_module": "@jupyter-widgets/controls",
            "_view_module_version": "1.5.0",
            "_view_name": "ProgressView",
            "bar_style": "success",
            "description": "",
            "description_tooltip": null,
            "layout": "IPY_MODEL_0ef23e230a4040f1ac0b66409098b813",
            "max": 570,
            "min": 0,
            "orientation": "horizontal",
            "style": "IPY_MODEL_febb1bad2b964ce5a4f1dcd29bdd8cb0",
            "value": 570
          }
        },
        "606ad19b93bc45b0a3dc108cc1f85ed3": {
          "model_module": "@jupyter-widgets/base",
          "model_module_version": "1.2.0",
          "model_name": "LayoutModel",
          "state": {
            "_model_module": "@jupyter-widgets/base",
            "_model_module_version": "1.2.0",
            "_model_name": "LayoutModel",
            "_view_count": null,
            "_view_module": "@jupyter-widgets/base",
            "_view_module_version": "1.2.0",
            "_view_name": "LayoutView",
            "align_content": null,
            "align_items": null,
            "align_self": null,
            "border": null,
            "bottom": null,
            "display": null,
            "flex": null,
            "flex_flow": null,
            "grid_area": null,
            "grid_auto_columns": null,
            "grid_auto_flow": null,
            "grid_auto_rows": null,
            "grid_column": null,
            "grid_gap": null,
            "grid_row": null,
            "grid_template_areas": null,
            "grid_template_columns": null,
            "grid_template_rows": null,
            "height": null,
            "justify_content": null,
            "justify_items": null,
            "left": null,
            "margin": null,
            "max_height": null,
            "max_width": null,
            "min_height": null,
            "min_width": null,
            "object_fit": null,
            "object_position": null,
            "order": null,
            "overflow": null,
            "overflow_x": null,
            "overflow_y": null,
            "padding": null,
            "right": null,
            "top": null,
            "visibility": null,
            "width": null
          }
        },
        "6100e705c70d4ba8afc263f8897214ec": {
          "model_module": "@jupyter-widgets/controls",
          "model_module_version": "1.5.0",
          "model_name": "ProgressStyleModel",
          "state": {
            "_model_module": "@jupyter-widgets/controls",
            "_model_module_version": "1.5.0",
            "_model_name": "ProgressStyleModel",
            "_view_count": null,
            "_view_module": "@jupyter-widgets/base",
            "_view_module_version": "1.2.0",
            "_view_name": "StyleView",
            "bar_color": null,
            "description_width": ""
          }
        },
        "689cd7ccdda345fbafb662d416d0dc69": {
          "model_module": "@jupyter-widgets/controls",
          "model_module_version": "1.5.0",
          "model_name": "DescriptionStyleModel",
          "state": {
            "_model_module": "@jupyter-widgets/controls",
            "_model_module_version": "1.5.0",
            "_model_name": "DescriptionStyleModel",
            "_view_count": null,
            "_view_module": "@jupyter-widgets/base",
            "_view_module_version": "1.2.0",
            "_view_name": "StyleView",
            "description_width": ""
          }
        },
        "6b38744debf449879e032c3e87e03337": {
          "model_module": "@jupyter-widgets/controls",
          "model_module_version": "1.5.0",
          "model_name": "FloatProgressModel",
          "state": {
            "_dom_classes": [],
            "_model_module": "@jupyter-widgets/controls",
            "_model_module_version": "1.5.0",
            "_model_name": "FloatProgressModel",
            "_view_count": null,
            "_view_module": "@jupyter-widgets/controls",
            "_view_module_version": "1.5.0",
            "_view_name": "ProgressView",
            "bar_style": "success",
            "description": "",
            "description_tooltip": null,
            "layout": "IPY_MODEL_e920d0c1e9be4cf1a4d2d182bc79e5cc",
            "max": 466062,
            "min": 0,
            "orientation": "horizontal",
            "style": "IPY_MODEL_761090ff02c247fe977bda584899c239",
            "value": 466062
          }
        },
        "7302021a85d143a8ac5ccad4014c1920": {
          "model_module": "@jupyter-widgets/controls",
          "model_module_version": "1.5.0",
          "model_name": "DescriptionStyleModel",
          "state": {
            "_model_module": "@jupyter-widgets/controls",
            "_model_module_version": "1.5.0",
            "_model_name": "DescriptionStyleModel",
            "_view_count": null,
            "_view_module": "@jupyter-widgets/base",
            "_view_module_version": "1.2.0",
            "_view_name": "StyleView",
            "description_width": ""
          }
        },
        "75b2e3d721f74130b88bb251b4fa5f4a": {
          "model_module": "@jupyter-widgets/base",
          "model_module_version": "1.2.0",
          "model_name": "LayoutModel",
          "state": {
            "_model_module": "@jupyter-widgets/base",
            "_model_module_version": "1.2.0",
            "_model_name": "LayoutModel",
            "_view_count": null,
            "_view_module": "@jupyter-widgets/base",
            "_view_module_version": "1.2.0",
            "_view_name": "LayoutView",
            "align_content": null,
            "align_items": null,
            "align_self": null,
            "border": null,
            "bottom": null,
            "display": null,
            "flex": null,
            "flex_flow": null,
            "grid_area": null,
            "grid_auto_columns": null,
            "grid_auto_flow": null,
            "grid_auto_rows": null,
            "grid_column": null,
            "grid_gap": null,
            "grid_row": null,
            "grid_template_areas": null,
            "grid_template_columns": null,
            "grid_template_rows": null,
            "height": null,
            "justify_content": null,
            "justify_items": null,
            "left": null,
            "margin": null,
            "max_height": null,
            "max_width": null,
            "min_height": null,
            "min_width": null,
            "object_fit": null,
            "object_position": null,
            "order": null,
            "overflow": null,
            "overflow_x": null,
            "overflow_y": null,
            "padding": null,
            "right": null,
            "top": null,
            "visibility": null,
            "width": null
          }
        },
        "761090ff02c247fe977bda584899c239": {
          "model_module": "@jupyter-widgets/controls",
          "model_module_version": "1.5.0",
          "model_name": "ProgressStyleModel",
          "state": {
            "_model_module": "@jupyter-widgets/controls",
            "_model_module_version": "1.5.0",
            "_model_name": "ProgressStyleModel",
            "_view_count": null,
            "_view_module": "@jupyter-widgets/base",
            "_view_module_version": "1.2.0",
            "_view_name": "StyleView",
            "bar_color": null,
            "description_width": ""
          }
        },
        "773e7e611352412cb1d6fc2e2f92ed25": {
          "model_module": "@jupyter-widgets/base",
          "model_module_version": "1.2.0",
          "model_name": "LayoutModel",
          "state": {
            "_model_module": "@jupyter-widgets/base",
            "_model_module_version": "1.2.0",
            "_model_name": "LayoutModel",
            "_view_count": null,
            "_view_module": "@jupyter-widgets/base",
            "_view_module_version": "1.2.0",
            "_view_name": "LayoutView",
            "align_content": null,
            "align_items": null,
            "align_self": null,
            "border": null,
            "bottom": null,
            "display": null,
            "flex": null,
            "flex_flow": null,
            "grid_area": null,
            "grid_auto_columns": null,
            "grid_auto_flow": null,
            "grid_auto_rows": null,
            "grid_column": null,
            "grid_gap": null,
            "grid_row": null,
            "grid_template_areas": null,
            "grid_template_columns": null,
            "grid_template_rows": null,
            "height": null,
            "justify_content": null,
            "justify_items": null,
            "left": null,
            "margin": null,
            "max_height": null,
            "max_width": null,
            "min_height": null,
            "min_width": null,
            "object_fit": null,
            "object_position": null,
            "order": null,
            "overflow": null,
            "overflow_x": null,
            "overflow_y": null,
            "padding": null,
            "right": null,
            "top": null,
            "visibility": null,
            "width": null
          }
        },
        "8d462b6616934e2f8a94934b2739ad10": {
          "model_module": "@jupyter-widgets/base",
          "model_module_version": "1.2.0",
          "model_name": "LayoutModel",
          "state": {
            "_model_module": "@jupyter-widgets/base",
            "_model_module_version": "1.2.0",
            "_model_name": "LayoutModel",
            "_view_count": null,
            "_view_module": "@jupyter-widgets/base",
            "_view_module_version": "1.2.0",
            "_view_name": "LayoutView",
            "align_content": null,
            "align_items": null,
            "align_self": null,
            "border": null,
            "bottom": null,
            "display": null,
            "flex": null,
            "flex_flow": null,
            "grid_area": null,
            "grid_auto_columns": null,
            "grid_auto_flow": null,
            "grid_auto_rows": null,
            "grid_column": null,
            "grid_gap": null,
            "grid_row": null,
            "grid_template_areas": null,
            "grid_template_columns": null,
            "grid_template_rows": null,
            "height": null,
            "justify_content": null,
            "justify_items": null,
            "left": null,
            "margin": null,
            "max_height": null,
            "max_width": null,
            "min_height": null,
            "min_width": null,
            "object_fit": null,
            "object_position": null,
            "order": null,
            "overflow": null,
            "overflow_x": null,
            "overflow_y": null,
            "padding": null,
            "right": null,
            "top": null,
            "visibility": null,
            "width": null
          }
        },
        "8f19e30369ca4773998ba766d0550e44": {
          "model_module": "@jupyter-widgets/controls",
          "model_module_version": "1.5.0",
          "model_name": "ProgressStyleModel",
          "state": {
            "_model_module": "@jupyter-widgets/controls",
            "_model_module_version": "1.5.0",
            "_model_name": "ProgressStyleModel",
            "_view_count": null,
            "_view_module": "@jupyter-widgets/base",
            "_view_module_version": "1.2.0",
            "_view_name": "StyleView",
            "bar_color": null,
            "description_width": ""
          }
        },
        "96557eadd3a5495ebd07a4c39086ef7b": {
          "model_module": "@jupyter-widgets/controls",
          "model_module_version": "1.5.0",
          "model_name": "DescriptionStyleModel",
          "state": {
            "_model_module": "@jupyter-widgets/controls",
            "_model_module_version": "1.5.0",
            "_model_name": "DescriptionStyleModel",
            "_view_count": null,
            "_view_module": "@jupyter-widgets/base",
            "_view_module_version": "1.2.0",
            "_view_name": "StyleView",
            "description_width": ""
          }
        },
        "b879027e8a0941709b567656a343d844": {
          "model_module": "@jupyter-widgets/controls",
          "model_module_version": "1.5.0",
          "model_name": "HTMLModel",
          "state": {
            "_dom_classes": [],
            "_model_module": "@jupyter-widgets/controls",
            "_model_module_version": "1.5.0",
            "_model_name": "HTMLModel",
            "_view_count": null,
            "_view_module": "@jupyter-widgets/controls",
            "_view_module_version": "1.5.0",
            "_view_name": "HTMLView",
            "description": "",
            "description_tooltip": null,
            "layout": "IPY_MODEL_30791c5c03b94526914c9d96fb66315d",
            "placeholder": "​",
            "style": "IPY_MODEL_96557eadd3a5495ebd07a4c39086ef7b",
            "value": "tokenizer_config.json: 100%"
          }
        },
        "b9431b457a894882a90ddc5df71f4f2c": {
          "model_module": "@jupyter-widgets/controls",
          "model_module_version": "1.5.0",
          "model_name": "HTMLModel",
          "state": {
            "_dom_classes": [],
            "_model_module": "@jupyter-widgets/controls",
            "_model_module_version": "1.5.0",
            "_model_name": "HTMLModel",
            "_view_count": null,
            "_view_module": "@jupyter-widgets/controls",
            "_view_module_version": "1.5.0",
            "_view_name": "HTMLView",
            "description": "",
            "description_tooltip": null,
            "layout": "IPY_MODEL_75b2e3d721f74130b88bb251b4fa5f4a",
            "placeholder": "​",
            "style": "IPY_MODEL_4c9bbfab2e494fedae325a23d6b527e2",
            "value": " 466k/466k [00:00&lt;00:00, 2.67MB/s]"
          }
        },
        "be75acdc4a1241788ee07051bd020f53": {
          "model_module": "@jupyter-widgets/controls",
          "model_module_version": "1.5.0",
          "model_name": "HBoxModel",
          "state": {
            "_dom_classes": [],
            "_model_module": "@jupyter-widgets/controls",
            "_model_module_version": "1.5.0",
            "_model_name": "HBoxModel",
            "_view_count": null,
            "_view_module": "@jupyter-widgets/controls",
            "_view_module_version": "1.5.0",
            "_view_name": "HBoxView",
            "box_style": "",
            "children": [
              "IPY_MODEL_dd6bf98747f843859aa14d4e9c97347a",
              "IPY_MODEL_eca2e7c14b104d30aacaaac23d27fe82",
              "IPY_MODEL_d3cb2685c0184481bca6c815ac4fc859"
            ],
            "layout": "IPY_MODEL_d3b381c75d0c4394b292f26d90dd4715"
          }
        },
        "c565ce7b7bcb453cbfef7b7277ae21e2": {
          "model_module": "@jupyter-widgets/controls",
          "model_module_version": "1.5.0",
          "model_name": "HBoxModel",
          "state": {
            "_dom_classes": [],
            "_model_module": "@jupyter-widgets/controls",
            "_model_module_version": "1.5.0",
            "_model_name": "HBoxModel",
            "_view_count": null,
            "_view_module": "@jupyter-widgets/controls",
            "_view_module_version": "1.5.0",
            "_view_name": "HBoxView",
            "box_style": "",
            "children": [
              "IPY_MODEL_206a6f7ce9ec4c93835d78c36d6c793b",
              "IPY_MODEL_6b38744debf449879e032c3e87e03337",
              "IPY_MODEL_b9431b457a894882a90ddc5df71f4f2c"
            ],
            "layout": "IPY_MODEL_0abe5d29961245718ea0b8be69d28f32"
          }
        },
        "c7385080feb144dc8ab90dda05d0c74d": {
          "model_module": "@jupyter-widgets/controls",
          "model_module_version": "1.5.0",
          "model_name": "FloatProgressModel",
          "state": {
            "_dom_classes": [],
            "_model_module": "@jupyter-widgets/controls",
            "_model_module_version": "1.5.0",
            "_model_name": "FloatProgressModel",
            "_view_count": null,
            "_view_module": "@jupyter-widgets/controls",
            "_view_module_version": "1.5.0",
            "_view_name": "ProgressView",
            "bar_style": "success",
            "description": "",
            "description_tooltip": null,
            "layout": "IPY_MODEL_5634a1be8fe24a29941820a2dc32913a",
            "max": 48,
            "min": 0,
            "orientation": "horizontal",
            "style": "IPY_MODEL_8f19e30369ca4773998ba766d0550e44",
            "value": 48
          }
        },
        "cdb99beaf9674570bc15056114661953": {
          "model_module": "@jupyter-widgets/base",
          "model_module_version": "1.2.0",
          "model_name": "LayoutModel",
          "state": {
            "_model_module": "@jupyter-widgets/base",
            "_model_module_version": "1.2.0",
            "_model_name": "LayoutModel",
            "_view_count": null,
            "_view_module": "@jupyter-widgets/base",
            "_view_module_version": "1.2.0",
            "_view_name": "LayoutView",
            "align_content": null,
            "align_items": null,
            "align_self": null,
            "border": null,
            "bottom": null,
            "display": null,
            "flex": null,
            "flex_flow": null,
            "grid_area": null,
            "grid_auto_columns": null,
            "grid_auto_flow": null,
            "grid_auto_rows": null,
            "grid_column": null,
            "grid_gap": null,
            "grid_row": null,
            "grid_template_areas": null,
            "grid_template_columns": null,
            "grid_template_rows": null,
            "height": null,
            "justify_content": null,
            "justify_items": null,
            "left": null,
            "margin": null,
            "max_height": null,
            "max_width": null,
            "min_height": null,
            "min_width": null,
            "object_fit": null,
            "object_position": null,
            "order": null,
            "overflow": null,
            "overflow_x": null,
            "overflow_y": null,
            "padding": null,
            "right": null,
            "top": null,
            "visibility": null,
            "width": null
          }
        },
        "d3b381c75d0c4394b292f26d90dd4715": {
          "model_module": "@jupyter-widgets/base",
          "model_module_version": "1.2.0",
          "model_name": "LayoutModel",
          "state": {
            "_model_module": "@jupyter-widgets/base",
            "_model_module_version": "1.2.0",
            "_model_name": "LayoutModel",
            "_view_count": null,
            "_view_module": "@jupyter-widgets/base",
            "_view_module_version": "1.2.0",
            "_view_name": "LayoutView",
            "align_content": null,
            "align_items": null,
            "align_self": null,
            "border": null,
            "bottom": null,
            "display": null,
            "flex": null,
            "flex_flow": null,
            "grid_area": null,
            "grid_auto_columns": null,
            "grid_auto_flow": null,
            "grid_auto_rows": null,
            "grid_column": null,
            "grid_gap": null,
            "grid_row": null,
            "grid_template_areas": null,
            "grid_template_columns": null,
            "grid_template_rows": null,
            "height": null,
            "justify_content": null,
            "justify_items": null,
            "left": null,
            "margin": null,
            "max_height": null,
            "max_width": null,
            "min_height": null,
            "min_width": null,
            "object_fit": null,
            "object_position": null,
            "order": null,
            "overflow": null,
            "overflow_x": null,
            "overflow_y": null,
            "padding": null,
            "right": null,
            "top": null,
            "visibility": null,
            "width": null
          }
        },
        "d3cb2685c0184481bca6c815ac4fc859": {
          "model_module": "@jupyter-widgets/controls",
          "model_module_version": "1.5.0",
          "model_name": "HTMLModel",
          "state": {
            "_dom_classes": [],
            "_model_module": "@jupyter-widgets/controls",
            "_model_module_version": "1.5.0",
            "_model_name": "HTMLModel",
            "_view_count": null,
            "_view_module": "@jupyter-widgets/controls",
            "_view_module_version": "1.5.0",
            "_view_name": "HTMLView",
            "description": "",
            "description_tooltip": null,
            "layout": "IPY_MODEL_22098ad11168452caf5b1bd8280bbe60",
            "placeholder": "​",
            "style": "IPY_MODEL_7302021a85d143a8ac5ccad4014c1920",
            "value": " 232k/232k [00:00&lt;00:00, 1.94MB/s]"
          }
        },
        "dd6bf98747f843859aa14d4e9c97347a": {
          "model_module": "@jupyter-widgets/controls",
          "model_module_version": "1.5.0",
          "model_name": "HTMLModel",
          "state": {
            "_dom_classes": [],
            "_model_module": "@jupyter-widgets/controls",
            "_model_module_version": "1.5.0",
            "_model_name": "HTMLModel",
            "_view_count": null,
            "_view_module": "@jupyter-widgets/controls",
            "_view_module_version": "1.5.0",
            "_view_name": "HTMLView",
            "description": "",
            "description_tooltip": null,
            "layout": "IPY_MODEL_cdb99beaf9674570bc15056114661953",
            "placeholder": "​",
            "style": "IPY_MODEL_3f6876ad1b2044ae94f9ceea49e55c15",
            "value": "vocab.txt: 100%"
          }
        },
        "e8793154f214479dbe2059cc917f0d2f": {
          "model_module": "@jupyter-widgets/controls",
          "model_module_version": "1.5.0",
          "model_name": "HTMLModel",
          "state": {
            "_dom_classes": [],
            "_model_module": "@jupyter-widgets/controls",
            "_model_module_version": "1.5.0",
            "_model_name": "HTMLModel",
            "_view_count": null,
            "_view_module": "@jupyter-widgets/controls",
            "_view_module_version": "1.5.0",
            "_view_name": "HTMLView",
            "description": "",
            "description_tooltip": null,
            "layout": "IPY_MODEL_2a931403b79d41769fefe36222eddf9d",
            "placeholder": "​",
            "style": "IPY_MODEL_0afc44562e8b4e21806f718bb72506d2",
            "value": " 48.0/48.0 [00:00&lt;00:00, 4.20kB/s]"
          }
        },
        "e920d0c1e9be4cf1a4d2d182bc79e5cc": {
          "model_module": "@jupyter-widgets/base",
          "model_module_version": "1.2.0",
          "model_name": "LayoutModel",
          "state": {
            "_model_module": "@jupyter-widgets/base",
            "_model_module_version": "1.2.0",
            "_model_name": "LayoutModel",
            "_view_count": null,
            "_view_module": "@jupyter-widgets/base",
            "_view_module_version": "1.2.0",
            "_view_name": "LayoutView",
            "align_content": null,
            "align_items": null,
            "align_self": null,
            "border": null,
            "bottom": null,
            "display": null,
            "flex": null,
            "flex_flow": null,
            "grid_area": null,
            "grid_auto_columns": null,
            "grid_auto_flow": null,
            "grid_auto_rows": null,
            "grid_column": null,
            "grid_gap": null,
            "grid_row": null,
            "grid_template_areas": null,
            "grid_template_columns": null,
            "grid_template_rows": null,
            "height": null,
            "justify_content": null,
            "justify_items": null,
            "left": null,
            "margin": null,
            "max_height": null,
            "max_width": null,
            "min_height": null,
            "min_width": null,
            "object_fit": null,
            "object_position": null,
            "order": null,
            "overflow": null,
            "overflow_x": null,
            "overflow_y": null,
            "padding": null,
            "right": null,
            "top": null,
            "visibility": null,
            "width": null
          }
        },
        "eca2e7c14b104d30aacaaac23d27fe82": {
          "model_module": "@jupyter-widgets/controls",
          "model_module_version": "1.5.0",
          "model_name": "FloatProgressModel",
          "state": {
            "_dom_classes": [],
            "_model_module": "@jupyter-widgets/controls",
            "_model_module_version": "1.5.0",
            "_model_name": "FloatProgressModel",
            "_view_count": null,
            "_view_module": "@jupyter-widgets/controls",
            "_view_module_version": "1.5.0",
            "_view_name": "ProgressView",
            "bar_style": "success",
            "description": "",
            "description_tooltip": null,
            "layout": "IPY_MODEL_8d462b6616934e2f8a94934b2739ad10",
            "max": 231508,
            "min": 0,
            "orientation": "horizontal",
            "style": "IPY_MODEL_6100e705c70d4ba8afc263f8897214ec",
            "value": 231508
          }
        },
        "f7e7f76633c04b72969eb1719e259e13": {
          "model_module": "@jupyter-widgets/controls",
          "model_module_version": "1.5.0",
          "model_name": "DescriptionStyleModel",
          "state": {
            "_model_module": "@jupyter-widgets/controls",
            "_model_module_version": "1.5.0",
            "_model_name": "DescriptionStyleModel",
            "_view_count": null,
            "_view_module": "@jupyter-widgets/base",
            "_view_module_version": "1.2.0",
            "_view_name": "StyleView",
            "description_width": ""
          }
        },
        "febb1bad2b964ce5a4f1dcd29bdd8cb0": {
          "model_module": "@jupyter-widgets/controls",
          "model_module_version": "1.5.0",
          "model_name": "ProgressStyleModel",
          "state": {
            "_model_module": "@jupyter-widgets/controls",
            "_model_module_version": "1.5.0",
            "_model_name": "ProgressStyleModel",
            "_view_count": null,
            "_view_module": "@jupyter-widgets/base",
            "_view_module_version": "1.2.0",
            "_view_name": "StyleView",
            "bar_color": null,
            "description_width": ""
          }
        }
      }
    }
  },
  "nbformat": 4,
  "nbformat_minor": 0
}
